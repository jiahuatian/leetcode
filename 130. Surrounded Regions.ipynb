{
 "cells": [
  {
   "cell_type": "code",
   "execution_count": 44,
   "metadata": {},
   "outputs": [],
   "source": [
    "class Solution:\n",
    "    def solve(self, board) -> None:\n",
    "        \"\"\"\n",
    "        Do not return anything, modify board in-place instead.\n",
    "        \"\"\"\n",
    "        from collections import deque\n",
    "        \n",
    "        m,n = len(board),len(board[0])\n",
    "        seen = set()\n",
    "        ds = [(1,0),(-1,0),(0,1),(0,-1)]\n",
    "        for x in range(m):\n",
    "            for y in range(n):\n",
    "                if board[x][y] == 'O' and (x,y) not in seen:\n",
    "                    q = deque()\n",
    "                    q.append((x,y))\n",
    "                    thisland,xset,yset = set(),set(),set()\n",
    "                    while q:\n",
    "                        xt,yt = q.popleft()\n",
    "                        seen.add((xt,yt))\n",
    "                        thisland.add((xt,yt))\n",
    "                        xset.add(xt)\n",
    "                        yset.add(yt)\n",
    "                        for xi,yi in ds:\n",
    "                            if 0<=xt+xi<m and 0<=yt+yi<n and board[xt+xi][yt+yi] == 'O' and (xt+xi,yt+yi) not in seen:\n",
    "                                q.append((xt+xi,yt+yi))\n",
    "                    if 0 not in xset and 0 not in yset and m-1 not in xset and n-1 not in yset:\n",
    "                        for (xc,yc) in thisland:\n",
    "                            board[xc][yc] = 'X'\n",
    "        return board"
   ]
  },
  {
   "cell_type": "code",
   "execution_count": 45,
   "metadata": {},
   "outputs": [],
   "source": [
    "board = [[\"O\",\"O\",\"O\",\"O\",\"X\",\"X\"],[\"O\",\"O\",\"O\",\"O\",\"O\",\"O\"],[\"O\",\"X\",\"O\",\"X\",\"O\",\"O\"],[\"O\",\"X\",\"O\",\"O\",\"X\",\"O\"],[\"O\",\"X\",\"O\",\"X\",\"O\",\"O\"],[\"O\",\"X\",\"O\",\"O\",\"O\",\"O\"]]\n",
    "\n",
    "obj = Solution()\n",
    "myans = obj.solve(board)"
   ]
  },
  {
   "cell_type": "code",
   "execution_count": 46,
   "metadata": {},
   "outputs": [],
   "source": [
    "ans = [[\"O\",\"O\",\"O\",\"O\",\"X\",\"X\"],[\"O\",\"O\",\"O\",\"O\",\"O\",\"O\"],[\"O\",\"X\",\"O\",\"X\",\"O\",\"O\"],[\"O\",\"X\",\"O\",\"O\",\"X\",\"O\"],[\"O\",\"X\",\"O\",\"X\",\"O\",\"O\"],[\"O\",\"X\",\"O\",\"O\",\"O\",\"O\"]]"
   ]
  },
  {
   "cell_type": "code",
   "execution_count": 47,
   "metadata": {},
   "outputs": [
    {
     "data": {
      "text/plain": [
       "True"
      ]
     },
     "execution_count": 47,
     "metadata": {},
     "output_type": "execute_result"
    }
   ],
   "source": [
    "myans == ans"
   ]
  },
  {
   "cell_type": "code",
   "execution_count": 48,
   "metadata": {},
   "outputs": [],
   "source": [
    "board = [[\"O\",\"X\",\"X\",\"O\",\"X\"],[\"X\",\"O\",\"O\",\"X\",\"O\"],[\"X\",\"O\",\"X\",\"O\",\"X\"],[\"O\",\"X\",\"O\",\"O\",\"O\"],[\"X\",\"X\",\"O\",\"X\",\"O\"]]\n",
    "\n",
    "obj = Solution()\n",
    "myans = obj.solve(board)"
   ]
  },
  {
   "cell_type": "code",
   "execution_count": 49,
   "metadata": {},
   "outputs": [
    {
     "data": {
      "text/plain": [
       "True"
      ]
     },
     "execution_count": 49,
     "metadata": {},
     "output_type": "execute_result"
    }
   ],
   "source": [
    "ans = [[\"O\",\"X\",\"X\",\"O\",\"X\"],[\"X\",\"X\",\"X\",\"X\",\"O\"],[\"X\",\"X\",\"X\",\"O\",\"X\"],[\"O\",\"X\",\"O\",\"O\",\"O\"],[\"X\",\"X\",\"O\",\"X\",\"O\"]]\n",
    "\n",
    "myans == ans"
   ]
  },
  {
   "cell_type": "code",
   "execution_count": 50,
   "metadata": {},
   "outputs": [
    {
     "data": {
      "text/plain": [
       "[['O', 'X', 'O', 'O', 'O', 'O', 'O', 'O', 'O'],\n",
       " ['O', 'O', 'O', 'X', 'O', 'O', 'O', 'O', 'X'],\n",
       " ['O', 'X', 'O', 'X', 'O', 'O', 'O', 'O', 'X'],\n",
       " ['O', 'O', 'O', 'O', 'X', 'O', 'O', 'O', 'O'],\n",
       " ['X', 'O', 'O', 'O', 'O', 'O', 'O', 'O', 'X'],\n",
       " ['X', 'X', 'O', 'O', 'X', 'O', 'X', 'O', 'X'],\n",
       " ['O', 'O', 'O', 'X', 'O', 'O', 'O', 'O', 'O'],\n",
       " ['O', 'O', 'O', 'X', 'O', 'O', 'O', 'O', 'O'],\n",
       " ['O', 'O', 'O', 'O', 'O', 'X', 'X', 'O', 'O']]"
      ]
     },
     "execution_count": 50,
     "metadata": {},
     "output_type": "execute_result"
    }
   ],
   "source": [
    "board = [[\"O\",\"X\",\"O\",\"O\",\"O\",\"O\",\"O\",\"O\",\"O\"],[\"O\",\"O\",\"O\",\"X\",\"O\",\"O\",\"O\",\"O\",\"X\"],[\"O\",\"X\",\"O\",\"X\",\"O\",\"O\",\"O\",\"O\",\"X\"],[\"O\",\"O\",\"O\",\"O\",\"X\",\"O\",\"O\",\"O\",\"O\"],[\"X\",\"O\",\"O\",\"O\",\"O\",\"O\",\"O\",\"O\",\"X\"],[\"X\",\"X\",\"O\",\"O\",\"X\",\"O\",\"X\",\"O\",\"X\"],[\"O\",\"O\",\"O\",\"X\",\"O\",\"O\",\"O\",\"O\",\"O\"],[\"O\",\"O\",\"O\",\"X\",\"O\",\"O\",\"O\",\"O\",\"O\"],[\"O\",\"O\",\"O\",\"O\",\"O\",\"X\",\"X\",\"O\",\"O\"]]\n",
    "obj = Solution()\n",
    "obj.solve(board)"
   ]
  },
  {
   "cell_type": "code",
   "execution_count": 51,
   "metadata": {},
   "outputs": [
    {
     "data": {
      "text/plain": [
       "[['O', 'X', 'O', 'O', 'O', 'O', 'O', 'O', 'O'],\n",
       " ['O', 'O', 'O', 'X', 'O', 'O', 'O', 'O', 'X'],\n",
       " ['O', 'X', 'O', 'X', 'O', 'O', 'O', 'O', 'X'],\n",
       " ['O', 'O', 'O', 'O', 'X', 'O', 'O', 'O', 'O'],\n",
       " ['X', 'O', 'O', 'O', 'O', 'O', 'O', 'O', 'X'],\n",
       " ['X', 'X', 'O', 'O', 'X', 'O', 'X', 'O', 'X'],\n",
       " ['O', 'O', 'O', 'X', 'O', 'O', 'O', 'O', 'O'],\n",
       " ['O', 'O', 'O', 'X', 'O', 'O', 'O', 'O', 'O'],\n",
       " ['O', 'O', 'O', 'O', 'O', 'X', 'X', 'O', 'O']]"
      ]
     },
     "execution_count": 51,
     "metadata": {},
     "output_type": "execute_result"
    }
   ],
   "source": [
    "board"
   ]
  },
  {
   "cell_type": "code",
   "execution_count": 52,
   "metadata": {},
   "outputs": [
    {
     "data": {
      "text/plain": [
       "[['O', 'X', 'O', 'O', 'O', 'O', 'O', 'O', 'O'],\n",
       " ['O', 'O', 'O', 'X', 'O', 'O', 'O', 'O', 'X'],\n",
       " ['O', 'X', 'O', 'X', 'O', 'O', 'O', 'O', 'X'],\n",
       " ['O', 'O', 'O', 'O', 'X', 'O', 'O', 'O', 'O'],\n",
       " ['X', 'O', 'O', 'O', 'O', 'O', 'O', 'O', 'X'],\n",
       " ['X', 'X', 'O', 'O', 'X', 'O', 'X', 'O', 'X'],\n",
       " ['O', 'O', 'O', 'X', 'O', 'O', 'O', 'O', 'O'],\n",
       " ['O', 'O', 'O', 'X', 'O', 'O', 'O', 'O', 'O'],\n",
       " ['O', 'O', 'O', 'O', 'O', 'X', 'X', 'O', 'O']]"
      ]
     },
     "execution_count": 52,
     "metadata": {},
     "output_type": "execute_result"
    }
   ],
   "source": [
    "ans = [[\"O\",\"X\",\"O\",\"O\",\"O\",\"O\",\"O\",\"O\",\"O\"],[\"O\",\"O\",\"O\",\"X\",\"O\",\"O\",\"O\",\"O\",\"X\"],[\"O\",\"X\",\"O\",\"X\",\"O\",\"O\",\"O\",\"O\",\"X\"],[\"O\",\"O\",\"O\",\"O\",\"X\",\"O\",\"O\",\"O\",\"O\"],[\"X\",\"O\",\"O\",\"O\",\"O\",\"O\",\"O\",\"O\",\"X\"],[\"X\",\"X\",\"O\",\"O\",\"X\",\"O\",\"X\",\"O\",\"X\"],[\"O\",\"O\",\"O\",\"X\",\"O\",\"O\",\"O\",\"O\",\"O\"],[\"O\",\"O\",\"O\",\"X\",\"O\",\"O\",\"O\",\"O\",\"O\"],[\"O\",\"O\",\"O\",\"O\",\"O\",\"X\",\"X\",\"O\",\"O\"]]\n",
    "\n",
    "myans = obj.solve(board)\n",
    "ans"
   ]
  },
  {
   "cell_type": "code",
   "execution_count": 53,
   "metadata": {},
   "outputs": [],
   "source": [
    "board = [[\"O\",\"X\",\"O\",\"O\",\"O\",\"O\",\"O\",\"O\",\"O\"],[\"O\",\"O\",\"O\",\"X\",\"O\",\"O\",\"O\",\"O\",\"X\"],[\"O\",\"X\",\"O\",\"X\",\"O\",\"O\",\"O\",\"O\",\"X\"],[\"O\",\"O\",\"O\",\"O\",\"X\",\"O\",\"O\",\"O\",\"O\"],[\"X\",\"O\",\"O\",\"O\",\"O\",\"O\",\"O\",\"O\",\"X\"],[\"X\",\"X\",\"O\",\"O\",\"X\",\"O\",\"X\",\"O\",\"X\"],[\"O\",\"O\",\"O\",\"X\",\"O\",\"O\",\"O\",\"O\",\"O\"],[\"O\",\"O\",\"O\",\"X\",\"O\",\"O\",\"O\",\"O\",\"O\"],[\"O\",\"O\",\"O\",\"O\",\"O\",\"X\",\"X\",\"O\",\"O\"]]\n",
    "ans = [[\"O\",\"X\",\"O\",\"O\",\"O\",\"O\",\"O\",\"O\",\"O\"],[\"O\",\"O\",\"O\",\"X\",\"O\",\"O\",\"O\",\"O\",\"X\"],[\"O\",\"X\",\"O\",\"X\",\"O\",\"O\",\"O\",\"O\",\"X\"],[\"O\",\"O\",\"O\",\"O\",\"X\",\"O\",\"O\",\"O\",\"O\"],[\"X\",\"O\",\"O\",\"O\",\"O\",\"O\",\"O\",\"O\",\"X\"],[\"X\",\"X\",\"O\",\"O\",\"X\",\"O\",\"X\",\"O\",\"X\"],[\"O\",\"O\",\"O\",\"X\",\"O\",\"O\",\"O\",\"O\",\"O\"],[\"O\",\"O\",\"O\",\"X\",\"O\",\"O\",\"O\",\"O\",\"O\"],[\"O\",\"O\",\"O\",\"O\",\"O\",\"X\",\"X\",\"O\",\"O\"]]"
   ]
  },
  {
   "cell_type": "code",
   "execution_count": 54,
   "metadata": {},
   "outputs": [
    {
     "data": {
      "text/plain": [
       "True"
      ]
     },
     "execution_count": 54,
     "metadata": {},
     "output_type": "execute_result"
    }
   ],
   "source": [
    "board == ans"
   ]
  },
  {
   "cell_type": "code",
   "execution_count": 55,
   "metadata": {},
   "outputs": [
    {
     "data": {
      "text/plain": [
       "[['O', 'X', 'O', 'O', 'O', 'O', 'O', 'O', 'O'],\n",
       " ['O', 'O', 'O', 'X', 'O', 'O', 'O', 'O', 'X'],\n",
       " ['O', 'X', 'O', 'X', 'O', 'O', 'O', 'O', 'X'],\n",
       " ['O', 'O', 'O', 'O', 'X', 'O', 'O', 'O', 'O'],\n",
       " ['X', 'O', 'O', 'O', 'O', 'O', 'O', 'O', 'X'],\n",
       " ['X', 'X', 'O', 'O', 'X', 'O', 'X', 'O', 'X'],\n",
       " ['O', 'O', 'O', 'X', 'O', 'O', 'O', 'O', 'O'],\n",
       " ['O', 'O', 'O', 'X', 'O', 'O', 'O', 'O', 'O'],\n",
       " ['O', 'O', 'O', 'O', 'O', 'X', 'X', 'O', 'O']]"
      ]
     },
     "execution_count": 55,
     "metadata": {},
     "output_type": "execute_result"
    }
   ],
   "source": [
    "myans"
   ]
  },
  {
   "cell_type": "code",
   "execution_count": 56,
   "metadata": {},
   "outputs": [
    {
     "data": {
      "text/plain": [
       "True"
      ]
     },
     "execution_count": 56,
     "metadata": {},
     "output_type": "execute_result"
    }
   ],
   "source": [
    "myans == ans"
   ]
  },
  {
   "cell_type": "code",
   "execution_count": null,
   "metadata": {},
   "outputs": [],
   "source": []
  }
 ],
 "metadata": {
  "kernelspec": {
   "display_name": "Python 3",
   "language": "python",
   "name": "python3"
  },
  "language_info": {
   "codemirror_mode": {
    "name": "ipython",
    "version": 3
   },
   "file_extension": ".py",
   "mimetype": "text/x-python",
   "name": "python",
   "nbconvert_exporter": "python",
   "pygments_lexer": "ipython3",
   "version": "3.7.3"
  }
 },
 "nbformat": 4,
 "nbformat_minor": 2
}
