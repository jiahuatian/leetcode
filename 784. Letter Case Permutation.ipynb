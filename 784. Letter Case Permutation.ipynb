{
 "cells": [
  {
   "cell_type": "code",
   "execution_count": 7,
   "metadata": {},
   "outputs": [],
   "source": [
    "class Solution:\n",
    "    def letterCasePermutation(self, s: str):\n",
    "        res = []\n",
    "        if s[0].lower() != s[0].upper():\n",
    "            stack = [s[0].lower(),s[0].upper()]\n",
    "        else:\n",
    "            stack = [s[0].lower()]\n",
    "        while stack:\n",
    "            thiss = stack.pop()\n",
    "            if len(thiss) == len(s):\n",
    "                res.append(thiss)\n",
    "            j = len(thiss)\n",
    "            if len(thiss) < len(s) and len(thiss+s[j]) <= len(s):\n",
    "                if thiss+s[j].lower() != thiss+s[j].upper():\n",
    "                    stack.append(thiss+s[j].lower())\n",
    "                    stack.append(thiss+s[j].upper())\n",
    "                else:\n",
    "                    stack.append(thiss+s[j].lower())\n",
    "                        \n",
    "        return res"
   ]
  },
  {
   "cell_type": "code",
   "execution_count": 8,
   "metadata": {},
   "outputs": [
    {
     "name": "stdout",
     "output_type": "stream",
     "text": [
      "['a', 'A']\n",
      "['a', 'A1']\n",
      "['a', 'A1b', 'A1B']\n",
      "['a', 'A1b', 'A1B2']\n",
      "['a', 'A1b']\n",
      "['a', 'A1b2']\n",
      "['a']\n",
      "['a1']\n",
      "['a1b', 'a1B']\n",
      "['a1b', 'a1B2']\n",
      "['a1b']\n",
      "['a1b2']\n"
     ]
    },
    {
     "data": {
      "text/plain": [
       "['A1B2', 'A1b2', 'a1B2', 'a1b2']"
      ]
     },
     "execution_count": 8,
     "metadata": {},
     "output_type": "execute_result"
    }
   ],
   "source": [
    "s = \"a1b2\"\n",
    "\n",
    "obj = Solution()\n",
    "obj.letterCasePermutation(s)"
   ]
  },
  {
   "cell_type": "code",
   "execution_count": null,
   "metadata": {},
   "outputs": [],
   "source": []
  }
 ],
 "metadata": {
  "kernelspec": {
   "display_name": "Python 3",
   "language": "python",
   "name": "python3"
  },
  "language_info": {
   "codemirror_mode": {
    "name": "ipython",
    "version": 3
   },
   "file_extension": ".py",
   "mimetype": "text/x-python",
   "name": "python",
   "nbconvert_exporter": "python",
   "pygments_lexer": "ipython3",
   "version": "3.7.3"
  }
 },
 "nbformat": 4,
 "nbformat_minor": 2
}
