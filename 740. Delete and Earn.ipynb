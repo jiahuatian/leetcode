{
 "cells": [
  {
   "cell_type": "code",
   "execution_count": 62,
   "metadata": {},
   "outputs": [],
   "source": [
    "nums = [1,1,1,2,4,5,5,5,6]\n",
    "\n",
    "n = len(nums)\n",
    "        \n",
    "scores = {i:nums[i] for i in range(n)}"
   ]
  },
  {
   "cell_type": "code",
   "execution_count": 63,
   "metadata": {},
   "outputs": [
    {
     "data": {
      "text/plain": [
       "{0: 1, 1: 1, 2: 1, 3: 2, 4: 4, 5: 5, 6: 5, 7: 5, 8: 6}"
      ]
     },
     "execution_count": 63,
     "metadata": {},
     "output_type": "execute_result"
    }
   ],
   "source": [
    "scores"
   ]
  },
  {
   "cell_type": "code",
   "execution_count": 64,
   "metadata": {},
   "outputs": [
    {
     "name": "stdout",
     "output_type": "stream",
     "text": [
      "[1, 1, 1, 4, 5, 5, 5, 6]\n",
      "[1, 1, 1, 2, 4, 5, 5, 5, 6]\n"
     ]
    }
   ],
   "source": [
    "mylist = [x for x in nums]\n",
    "mylist.remove(2)\n",
    "print(mylist)\n",
    "print(nums)"
   ]
  },
  {
   "cell_type": "code",
   "execution_count": 65,
   "metadata": {},
   "outputs": [
    {
     "data": {
      "text/plain": [
       "[1, 1, 1, 2, 4, 5, 5, 5, 6]"
      ]
     },
     "execution_count": 65,
     "metadata": {},
     "output_type": "execute_result"
    }
   ],
   "source": [
    "nums"
   ]
  },
  {
   "cell_type": "code",
   "execution_count": 77,
   "metadata": {},
   "outputs": [],
   "source": [
    "class Solution(object):\n",
    "    def deleteAndEarn(self, nums):\n",
    "        \"\"\"\n",
    "        :type nums: List[int]\n",
    "        :rtype: int\n",
    "        \"\"\"\n",
    "        n = len(nums)\n",
    "        \n",
    "        scores = [[nums[i]] for i in range(n)]\n",
    "        \n",
    "        for i in range(n):\n",
    "            mylist = [x for x in nums]\n",
    "            toremove = nums[i]\n",
    "            mylist.remove(toremove)\n",
    "            print(toremove)\n",
    "            print(mylist)\n",
    "            while mylist != []:\n",
    "                mylist = [x for x in mylist if x != toremove - 1 and x != toremove + 1]\n",
    "                print(mylist)\n",
    "                if mylist != []:\n",
    "                    toremove = max(mylist)\n",
    "                    scores[i].append(max(mylist))\n",
    "                    mylist.remove(toremove)\n",
    "            print(scores)\n",
    "                \n",
    "        return scores"
   ]
  },
  {
   "cell_type": "code",
   "execution_count": 78,
   "metadata": {},
   "outputs": [
    {
     "name": "stdout",
     "output_type": "stream",
     "text": [
      "1\n",
      "[1, 1, 2, 4, 5, 5, 5, 6]\n",
      "[1, 1, 4, 5, 5, 5, 6]\n",
      "[1, 1, 4]\n",
      "[1, 1]\n",
      "[1]\n",
      "[[1, 6, 4, 1, 1], [1], [1], [2], [4], [5], [5], [5], [6]]\n",
      "1\n",
      "[1, 1, 2, 4, 5, 5, 5, 6]\n",
      "[1, 1, 4, 5, 5, 5, 6]\n",
      "[1, 1, 4]\n",
      "[1, 1]\n",
      "[1]\n",
      "[[1, 6, 4, 1, 1], [1, 6, 4, 1, 1], [1], [2], [4], [5], [5], [5], [6]]\n",
      "1\n",
      "[1, 1, 2, 4, 5, 5, 5, 6]\n",
      "[1, 1, 4, 5, 5, 5, 6]\n",
      "[1, 1, 4]\n",
      "[1, 1]\n",
      "[1]\n",
      "[[1, 6, 4, 1, 1], [1, 6, 4, 1, 1], [1, 6, 4, 1, 1], [2], [4], [5], [5], [5], [6]]\n",
      "2\n",
      "[1, 1, 1, 4, 5, 5, 5, 6]\n",
      "[4, 5, 5, 5, 6]\n",
      "[4]\n",
      "[[1, 6, 4, 1, 1], [1, 6, 4, 1, 1], [1, 6, 4, 1, 1], [2, 6, 4], [4], [5], [5], [5], [6]]\n",
      "4\n",
      "[1, 1, 1, 2, 5, 5, 5, 6]\n",
      "[1, 1, 1, 2, 6]\n",
      "[1, 1, 1, 2]\n",
      "[]\n",
      "[[1, 6, 4, 1, 1], [1, 6, 4, 1, 1], [1, 6, 4, 1, 1], [2, 6, 4], [4, 6, 2], [5], [5], [5], [6]]\n",
      "5\n",
      "[1, 1, 1, 2, 4, 5, 5, 6]\n",
      "[1, 1, 1, 2, 5, 5]\n",
      "[1, 1, 1, 2, 5]\n",
      "[1, 1, 1, 2]\n",
      "[]\n",
      "[[1, 6, 4, 1, 1], [1, 6, 4, 1, 1], [1, 6, 4, 1, 1], [2, 6, 4], [4, 6, 2], [5, 5, 5, 2], [5], [5], [6]]\n",
      "5\n",
      "[1, 1, 1, 2, 4, 5, 5, 6]\n",
      "[1, 1, 1, 2, 5, 5]\n",
      "[1, 1, 1, 2, 5]\n",
      "[1, 1, 1, 2]\n",
      "[]\n",
      "[[1, 6, 4, 1, 1], [1, 6, 4, 1, 1], [1, 6, 4, 1, 1], [2, 6, 4], [4, 6, 2], [5, 5, 5, 2], [5, 5, 5, 2], [5], [6]]\n",
      "5\n",
      "[1, 1, 1, 2, 4, 5, 5, 6]\n",
      "[1, 1, 1, 2, 5, 5]\n",
      "[1, 1, 1, 2, 5]\n",
      "[1, 1, 1, 2]\n",
      "[]\n",
      "[[1, 6, 4, 1, 1], [1, 6, 4, 1, 1], [1, 6, 4, 1, 1], [2, 6, 4], [4, 6, 2], [5, 5, 5, 2], [5, 5, 5, 2], [5, 5, 5, 2], [6]]\n",
      "6\n",
      "[1, 1, 1, 2, 4, 5, 5, 5]\n",
      "[1, 1, 1, 2, 4]\n",
      "[1, 1, 1, 2]\n",
      "[]\n",
      "[[1, 6, 4, 1, 1], [1, 6, 4, 1, 1], [1, 6, 4, 1, 1], [2, 6, 4], [4, 6, 2], [5, 5, 5, 2], [5, 5, 5, 2], [5, 5, 5, 2], [6, 4, 2]]\n"
     ]
    },
    {
     "data": {
      "text/plain": [
       "[[1, 6, 4, 1, 1],\n",
       " [1, 6, 4, 1, 1],\n",
       " [1, 6, 4, 1, 1],\n",
       " [2, 6, 4],\n",
       " [4, 6, 2],\n",
       " [5, 5, 5, 2],\n",
       " [5, 5, 5, 2],\n",
       " [5, 5, 5, 2],\n",
       " [6, 4, 2]]"
      ]
     },
     "execution_count": 78,
     "metadata": {},
     "output_type": "execute_result"
    }
   ],
   "source": [
    "nums = [1,1,1,2,4,5,5,5,6]\n",
    "\n",
    "obj = Solution()\n",
    "obj.deleteAndEarn(nums)"
   ]
  },
  {
   "cell_type": "code",
   "execution_count": 15,
   "metadata": {},
   "outputs": [],
   "source": [
    "class Solution:\n",
    "    def deleteAndEarn(self, nums) -> int:\n",
    "        from collections import defaultdict\n",
    "        countdict = defaultdict(int)\n",
    "        ma = -float('inf')\n",
    "        mi = float('inf')\n",
    "        for i in range(len(nums)):\n",
    "            countdict[nums[i]] += 1\n",
    "            ma = max(ma, nums[i])\n",
    "            mi = min(mi, nums[i])\n",
    "        \n",
    "        print(countdict, mi, ma)\n",
    "            \n",
    "        dp = defaultdict(int)\n",
    "            \n",
    "        for i in range(mi, ma+1):\n",
    "            dp[i] = max(dp[i-1], dp[i-2]+countdict[i]*i)\n",
    "            \n",
    "        print(dp)\n",
    "            \n",
    "        return dp[ma]"
   ]
  },
  {
   "cell_type": "code",
   "execution_count": null,
   "metadata": {},
   "outputs": [],
   "source": []
  }
 ],
 "metadata": {
  "kernelspec": {
   "display_name": "Python 3",
   "language": "python",
   "name": "python3"
  },
  "language_info": {
   "codemirror_mode": {
    "name": "ipython",
    "version": 3
   },
   "file_extension": ".py",
   "mimetype": "text/x-python",
   "name": "python",
   "nbconvert_exporter": "python",
   "pygments_lexer": "ipython3",
   "version": "3.7.3"
  }
 },
 "nbformat": 4,
 "nbformat_minor": 2
}
