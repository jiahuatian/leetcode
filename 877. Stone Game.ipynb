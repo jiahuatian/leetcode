{
 "cells": [
  {
   "cell_type": "code",
   "execution_count": null,
   "metadata": {},
   "outputs": [],
   "source": [
    "piles = [5,12,4,5,7,1]\n",
    "\n",
    "a takes 5 [12,4,5,7,1]\n",
    "b takes 12 [4,5,7,1]\n",
    "a takes 4 [5,7,1]\n",
    "b takes 5 [7,1]\n",
    "a takes 7\n",
    "b takes 1\n",
    "\n",
    "b wins\n",
    "\n",
    "a takes 1 [5,12,4,5,7]\n",
    "b takes 7 [5,12,4,5]\n",
    "a takes 5 [5,12,4]\n",
    "b takes 5 [12,4]\n",
    "a takes 12\n",
    "b takes 4"
   ]
  },
  {
   "cell_type": "code",
   "execution_count": 46,
   "metadata": {},
   "outputs": [],
   "source": [
    "class Solution:\n",
    "    def stoneGame(self, piles) -> bool:\n",
    "        p1 = piles.copy()\n",
    "        p2 = piles.copy()\n",
    "        nround = len(piles)//2\n",
    "        \n",
    "        score_a1, score_b1 = 0, 0\n",
    "        score_a2, score_b2 = 0, 0\n",
    "        \n",
    "        n = 0\n",
    "        while n < nround:\n",
    "            if len(p1) == 2:\n",
    "                score_a1 += max(p1)\n",
    "                score_b1 += min(p1)\n",
    "                break\n",
    "                \n",
    "            op_a1 = p1[0] - max(p1[1],p1[-1])\n",
    "            op_a2 = p1[-1] - max(p1[0],p1[-2])\n",
    "\n",
    "            if op_a1 <= op_a2:\n",
    "                atake = p1.pop()\n",
    "                score_a1 += atake\n",
    "            else:\n",
    "                atake = p1.pop(0)\n",
    "                score_a1 += atake\n",
    "            \n",
    "            op_b1 = p1[0] - max(p1[1],p1[-1])\n",
    "            op_b2 = p1[-1] - max(p1[0],p1[-2])\n",
    "            if op_b1 <= op_b2:\n",
    "                btake = p1.pop()                \n",
    "                score_b1 += btake\n",
    "            else:\n",
    "                btake = p1.pop(0)\n",
    "                score_b1 += btake   \n",
    "            n += 1\n",
    "        \n",
    "        n = 0\n",
    "        while n < nround:\n",
    "            if len(p2) == 2:\n",
    "                score_a2 += max(p2)\n",
    "                score_b2 += min(p2)\n",
    "                break\n",
    "                \n",
    "            op_a1 = p2[0] - max(p2[1],p2[-1])\n",
    "            op_a2 = p2[-1] - max(p2[0],p2[-2])\n",
    "            \n",
    "            if op_a1 < op_a2:\n",
    "                atake = p2.pop()\n",
    "                score_a2 += atake\n",
    "            else:\n",
    "                atake = p2.pop(0)\n",
    "                score_a2 += atake\n",
    "            \n",
    "            op_b1 = p2[0] - max(p2[1],p2[-1])\n",
    "            op_b2 = p2[-1] - max(p2[0],p2[-2])\n",
    "            if op_b1 < op_b2:\n",
    "                btake = p2.pop()                \n",
    "                score_b2 += btake\n",
    "            else:\n",
    "                btake = p2.pop(0)\n",
    "                score_b2 += btake   \n",
    "            n += 1\n",
    "            \n",
    "        return (score_a1 > score_b1) or (score_a2 > score_b2)"
   ]
  },
  {
   "cell_type": "code",
   "execution_count": 49,
   "metadata": {},
   "outputs": [
    {
     "data": {
      "text/plain": [
       "False"
      ]
     },
     "execution_count": 49,
     "metadata": {},
     "output_type": "execute_result"
    }
   ],
   "source": [
    "piles = [5,3,4,5]\n",
    "piles = [3,7,2,3]\n",
    "piles = [5,12,4,5,7,1]\n",
    "piles = [1,4,10,8,3,2,4,1]\n",
    "#piles = [6,9,4,3,9,8]\n",
    "piles = [3,7,3,2,5,1,6,3,10,7]\n",
    "\n",
    "obj = Solution()\n",
    "obj.stoneGame(piles)"
   ]
  },
  {
   "cell_type": "code",
   "execution_count": 62,
   "metadata": {},
   "outputs": [],
   "source": [
    "class Solution:\n",
    "    def stoneGame(self, piles) -> bool:\n",
    "        p1 = piles.copy()\n",
    "        p2 = piles.copy()\n",
    "        nround = len(piles)//2\n",
    "        \n",
    "        score_a1, score_b1 = 0, 0\n",
    "        score_a2, score_b2 = 0, 0\n",
    "        \n",
    "        alist, blist = [], []\n",
    "        \n",
    "        n = 0\n",
    "        while n < nround:\n",
    "            if len(p1) == 2:\n",
    "                score_a1 += max(p1)\n",
    "                score_b1 += min(p1)\n",
    "                alist.append(max(p1))\n",
    "                blist.append(min(p1))\n",
    "                break\n",
    "                \n",
    "            op_a1 = p1[0] - max(p1[1],p1[-1])\n",
    "            op_a2 = p1[-1] - max(p1[0],p1[-2])\n",
    "\n",
    "            if op_a1 <= op_a2:\n",
    "                atake = p1.pop()\n",
    "                score_a1 += atake\n",
    "            else:\n",
    "                atake = p1.pop(0)\n",
    "                score_a1 += atake\n",
    "            alist.append(atake)\n",
    "            \n",
    "            op_b1 = p1[0] - max(p1[1],p1[-1])\n",
    "            op_b2 = p1[-1] - max(p1[0],p1[-2])\n",
    "            if op_b1 <= op_b2:\n",
    "                btake = p1.pop()                \n",
    "                score_b1 += btake\n",
    "            else:\n",
    "                btake = p1.pop(0)\n",
    "                score_b1 += btake   \n",
    "            blist.append(btake)    \n",
    "            \n",
    "            n += 1\n",
    "            \n",
    "        print(alist,blist)\n",
    "            \n",
    "        return score_a1 > score_b1"
   ]
  },
  {
   "cell_type": "code",
   "execution_count": 63,
   "metadata": {},
   "outputs": [
    {
     "name": "stdout",
     "output_type": "stream",
     "text": [
      "[7, 3, 1, 2, 7] [10, 6, 5, 3, 3]\n"
     ]
    },
    {
     "data": {
      "text/plain": [
       "False"
      ]
     },
     "execution_count": 63,
     "metadata": {},
     "output_type": "execute_result"
    }
   ],
   "source": [
    "piles = [3,7,3,2,5,1,6,3,10,7]\n",
    "\n",
    "obj = Solution()\n",
    "obj.stoneGame(piles)"
   ]
  },
  {
   "cell_type": "code",
   "execution_count": 71,
   "metadata": {},
   "outputs": [],
   "source": [
    "class Solution:\n",
    "    def stoneGame(self, piles) -> bool:\n",
    "        from collections import defaultdict\n",
    "        dp = defaultdict(int)\n",
    "        n = len(piles)\n",
    "        for i in range(n,0,-1):\n",
    "            if i%2 == 0:\n",
    "                dp[i] = max(dp[i+1]+piles[0],dp[i+1]+piles[-1])\n",
    "                if piles[0] >= piles[-1]:\n",
    "                    piles.pop(0)\n",
    "                else:\n",
    "                    piles.pop()\n",
    "            else:\n",
    "                dp[i] = min(dp[i+1]-piles[0],dp[i+1]-piles[-1])\n",
    "                if piles[0] >= piles[-1]:\n",
    "                    piles.pop(0)\n",
    "                else:\n",
    "                    piles.pop()\n",
    "    \n",
    "        return dp[1] > 0"
   ]
  },
  {
   "cell_type": "code",
   "execution_count": 74,
   "metadata": {},
   "outputs": [
    {
     "name": "stdout",
     "output_type": "stream",
     "text": [
      "defaultdict(<class 'int'>, {5: 0, 4: 3, 3: -4, 2: -1, 1: -3})\n"
     ]
    },
    {
     "data": {
      "text/plain": [
       "False"
      ]
     },
     "execution_count": 74,
     "metadata": {},
     "output_type": "execute_result"
    }
   ],
   "source": [
    "piles = [3,7,3,2,5,1,6,3,10,7]\n",
    "#piles = [5,3,4,5]\n",
    "piles = [3,7,2,3]\n",
    "\n",
    "obj = Solution()\n",
    "obj.stoneGame(piles)"
   ]
  },
  {
   "cell_type": "code",
   "execution_count": 3,
   "metadata": {},
   "outputs": [
    {
     "data": {
      "text/plain": [
       "[[0, 0, 0], [0, 0, 0], [0, 0, 0]]"
      ]
     },
     "execution_count": 3,
     "metadata": {},
     "output_type": "execute_result"
    }
   ],
   "source": [
    "dp = [[0]*3 for i in range(3)]\n",
    "dp"
   ]
  },
  {
   "cell_type": "code",
   "execution_count": 18,
   "metadata": {},
   "outputs": [],
   "source": [
    "class Solution:\n",
    "    def stoneGame(self, piles):\n",
    "        n = len(piles)\n",
    "        dp = [[0]*n for i in range(n)]\n",
    "        for j in range(n):\n",
    "            for i in range(n-j):\n",
    "                if j%2 == 1:\n",
    "                    dp[i][i+j] = max(piles[i]+dp[i+1][i+j], dp[i][i+j-1]+piles[i+j]) if i+1 < n else dp[i][i+j-1]+piles[i+j]\n",
    "                else:\n",
    "                    dp[i][i+j] = min(-piles[i]+dp[i+1][i+j], dp[i][i+j-1]-piles[i+j]) if i+1 < n else dp[i][i+j-1]-piles[i+j]\n",
    "                \n",
    "        return dp[0][n-1]"
   ]
  },
  {
   "cell_type": "code",
   "execution_count": 20,
   "metadata": {},
   "outputs": [
    {
     "data": {
      "text/plain": [
       "1"
      ]
     },
     "execution_count": 20,
     "metadata": {},
     "output_type": "execute_result"
    }
   ],
   "source": [
    "piles = [3,7,2,3]\n",
    "piles = [8,9,7,6,7,6]\n",
    "\n",
    "obj = Solution()\n",
    "obj.stoneGame(piles)"
   ]
  },
  {
   "cell_type": "code",
   "execution_count": null,
   "metadata": {},
   "outputs": [],
   "source": []
  }
 ],
 "metadata": {
  "kernelspec": {
   "display_name": "Python 3",
   "language": "python",
   "name": "python3"
  },
  "language_info": {
   "codemirror_mode": {
    "name": "ipython",
    "version": 3
   },
   "file_extension": ".py",
   "mimetype": "text/x-python",
   "name": "python",
   "nbconvert_exporter": "python",
   "pygments_lexer": "ipython3",
   "version": "3.7.3"
  }
 },
 "nbformat": 4,
 "nbformat_minor": 2
}
