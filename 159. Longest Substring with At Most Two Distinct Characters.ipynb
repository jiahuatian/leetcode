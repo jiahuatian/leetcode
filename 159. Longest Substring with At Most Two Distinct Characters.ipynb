{
 "cells": [
  {
   "cell_type": "code",
   "execution_count": 13,
   "metadata": {},
   "outputs": [],
   "source": [
    "class Solution:\n",
    "    def lengthOfLongestSubstringTwoDistinct(self, s: str) -> int:\n",
    "        maxlen = 1\n",
    "        from collections import defaultdict\n",
    "        cdict = defaultdict(int)\n",
    "        start = 0\n",
    "        for i in range(len(s)):\n",
    "            cdict[s[i]] = i\n",
    "            if len(cdict) > 2:\n",
    "                cdict = {k: v for k, v in sorted(cdict.items(), key=lambda item: item[1])}\n",
    "                key0,key1 = list(cdict.keys())[0],list(cdict.keys())[1]\n",
    "                start = cdict[key0]+1\n",
    "                del cdict[key0]\n",
    "            maxlen = max(maxlen,i+1-start)\n",
    "        return maxlen"
   ]
  },
  {
   "cell_type": "code",
   "execution_count": 14,
   "metadata": {},
   "outputs": [
    {
     "data": {
      "text/plain": [
       "5"
      ]
     },
     "execution_count": 14,
     "metadata": {},
     "output_type": "execute_result"
    }
   ],
   "source": [
    "s = \"ccaabbb\"\n",
    "\n",
    "obj = Solution()\n",
    "obj.lengthOfLongestSubstringTwoDistinct(s)"
   ]
  },
  {
   "cell_type": "code",
   "execution_count": null,
   "metadata": {},
   "outputs": [],
   "source": []
  }
 ],
 "metadata": {
  "kernelspec": {
   "display_name": "Python 3",
   "language": "python",
   "name": "python3"
  },
  "language_info": {
   "codemirror_mode": {
    "name": "ipython",
    "version": 3
   },
   "file_extension": ".py",
   "mimetype": "text/x-python",
   "name": "python",
   "nbconvert_exporter": "python",
   "pygments_lexer": "ipython3",
   "version": "3.7.3"
  }
 },
 "nbformat": 4,
 "nbformat_minor": 2
}
