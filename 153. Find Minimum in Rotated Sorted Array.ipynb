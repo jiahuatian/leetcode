{
 "cells": [
  {
   "cell_type": "code",
   "execution_count": 37,
   "metadata": {},
   "outputs": [],
   "source": [
    "class Solution:\n",
    "    def findMin(self, nums) -> int:\n",
    "        if len(nums) == 1:\n",
    "            return nums[0]\n",
    "        left = 0\n",
    "        right = len(nums)-1\n",
    "        if nums[right] > nums[0]:\n",
    "            return nums[0]\n",
    "        \n",
    "        while left <= right:\n",
    "            pivot = (left+right)//2\n",
    "            if nums[pivot] > nums[pivot+1]:\n",
    "                return nums[pivot+1]\n",
    "            if pivot-1 >= 0 and nums[pivot] < nums[pivot-1]:\n",
    "                return nums[pivot]\n",
    "            if nums[pivot] > nums[0]:\n",
    "                left = pivot + 1\n",
    "            else:\n",
    "                right = pivot -1\n",
    "        return nums[right+1]"
   ]
  },
  {
   "cell_type": "code",
   "execution_count": 38,
   "metadata": {},
   "outputs": [
    {
     "data": {
      "text/plain": [
       "11"
      ]
     },
     "execution_count": 38,
     "metadata": {},
     "output_type": "execute_result"
    }
   ],
   "source": [
    "nums = [11,13,15,17]\n",
    "#nums = [5,1,2,3,4]\n",
    "\n",
    "obj = Solution()\n",
    "obj.findMin(nums)"
   ]
  },
  {
   "cell_type": "code",
   "execution_count": null,
   "metadata": {},
   "outputs": [],
   "source": []
  },
  {
   "cell_type": "code",
   "execution_count": null,
   "metadata": {},
   "outputs": [],
   "source": []
  }
 ],
 "metadata": {
  "kernelspec": {
   "display_name": "Python 3",
   "language": "python",
   "name": "python3"
  },
  "language_info": {
   "codemirror_mode": {
    "name": "ipython",
    "version": 3
   },
   "file_extension": ".py",
   "mimetype": "text/x-python",
   "name": "python",
   "nbconvert_exporter": "python",
   "pygments_lexer": "ipython3",
   "version": "3.7.3"
  }
 },
 "nbformat": 4,
 "nbformat_minor": 2
}
