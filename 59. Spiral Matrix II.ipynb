{
 "cells": [
  {
   "cell_type": "code",
   "execution_count": 56,
   "metadata": {},
   "outputs": [],
   "source": [
    "class Solution:\n",
    "    def generateMatrix(self, n: int):\n",
    "        mat = [[0 for _ in range(n)]for _ in range(n)]\n",
    "        thisnum = 1\n",
    "        x,y = 0,0\n",
    "        d = 1\n",
    "        while thisnum <= n**2:\n",
    "            mat[x][y] = thisnum\n",
    "            thisnum += 1\n",
    "            if d == 1:\n",
    "                if y+1 < n and mat[x][y+1] == 0:\n",
    "                    y += 1\n",
    "                else:\n",
    "                    d = 2\n",
    "            if d == 2:\n",
    "                if x+1 < n and mat[x+1][y] == 0:\n",
    "                    x += 1\n",
    "                else:\n",
    "                    d = 3\n",
    "            if d == 3:\n",
    "                if y-1 >= 0 and mat[x][y-1] == 0:\n",
    "                    y -= 1\n",
    "                else:\n",
    "                    d = 4\n",
    "            if d == 4:\n",
    "                if x-1 >= 0 and mat[x-1][y] == 0:\n",
    "                    x -= 1\n",
    "                else:\n",
    "                    d = 1\n",
    "                    y += 1\n",
    "        return mat"
   ]
  },
  {
   "cell_type": "code",
   "execution_count": 57,
   "metadata": {},
   "outputs": [
    {
     "data": {
      "text/plain": [
       "[[1, 2, 3], [8, 9, 4], [7, 6, 5]]"
      ]
     },
     "execution_count": 57,
     "metadata": {},
     "output_type": "execute_result"
    }
   ],
   "source": [
    "n = 3\n",
    "\n",
    "obj = Solution()\n",
    "obj.generateMatrix(n)"
   ]
  },
  {
   "cell_type": "code",
   "execution_count": null,
   "metadata": {},
   "outputs": [],
   "source": []
  }
 ],
 "metadata": {
  "kernelspec": {
   "display_name": "Python 3",
   "language": "python",
   "name": "python3"
  },
  "language_info": {
   "codemirror_mode": {
    "name": "ipython",
    "version": 3
   },
   "file_extension": ".py",
   "mimetype": "text/x-python",
   "name": "python",
   "nbconvert_exporter": "python",
   "pygments_lexer": "ipython3",
   "version": "3.7.9"
  }
 },
 "nbformat": 4,
 "nbformat_minor": 4
}
