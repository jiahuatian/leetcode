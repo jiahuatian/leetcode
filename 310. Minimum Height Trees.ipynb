{
 "cells": [
  {
   "cell_type": "code",
   "execution_count": 18,
   "metadata": {},
   "outputs": [],
   "source": [
    "class Solution:\n",
    "    def findMinHeightTrees(self, n: int, edges):\n",
    "        from collections import deque\n",
    "        g = [[0 for _ in range(n)] for _ in range(n)]\n",
    "        for a,b in edges:\n",
    "            g[a][b] = 1\n",
    "            g[b][a] = 1\n",
    "        print(g)\n",
    "        def bfs(i):\n",
    "            ans = 0\n",
    "            seen = set()\n",
    "            q = deque([i,])\n",
    "            while q:\n",
    "                n = len(q)\n",
    "                for i in range(n):\n",
    "                    node = q.popleft()\n",
    "                    seen.add(node)\n",
    "                    for k in range(len(g[node])):\n",
    "                        if k not in seen and g[node][k] == 1:\n",
    "                            q.append(k)\n",
    "                if len(q) != 0:\n",
    "                    ans += 1\n",
    "            return ans\n",
    "        mh = []\n",
    "        for i in range(n):\n",
    "            mh.append([i,bfs(i)])\n",
    "        return mh"
   ]
  },
  {
   "cell_type": "code",
   "execution_count": 19,
   "metadata": {},
   "outputs": [
    {
     "name": "stdout",
     "output_type": "stream",
     "text": [
      "[[0, 1, 0, 0], [1, 0, 1, 1], [0, 1, 0, 0], [0, 1, 0, 0]]\n"
     ]
    },
    {
     "data": {
      "text/plain": [
       "[[0, 2], [1, 1], [2, 2], [3, 2]]"
      ]
     },
     "execution_count": 19,
     "metadata": {},
     "output_type": "execute_result"
    }
   ],
   "source": [
    "n = 4\n",
    "edges = [[1,0],[1,2],[1,3]]\n",
    "\n",
    "obj = Solution()\n",
    "obj.findMinHeightTrees(n,edges)"
   ]
  },
  {
   "cell_type": "code",
   "execution_count": null,
   "metadata": {},
   "outputs": [],
   "source": []
  }
 ],
 "metadata": {
  "kernelspec": {
   "display_name": "Python 3",
   "language": "python",
   "name": "python3"
  },
  "language_info": {
   "codemirror_mode": {
    "name": "ipython",
    "version": 3
   },
   "file_extension": ".py",
   "mimetype": "text/x-python",
   "name": "python",
   "nbconvert_exporter": "python",
   "pygments_lexer": "ipython3",
   "version": "3.7.3"
  }
 },
 "nbformat": 4,
 "nbformat_minor": 2
}
