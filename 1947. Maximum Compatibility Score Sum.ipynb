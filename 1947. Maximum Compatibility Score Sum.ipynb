{
 "cells": [
  {
   "cell_type": "code",
   "execution_count": null,
   "metadata": {},
   "outputs": [],
   "source": [
    "class Solution:\n",
    "    def maxCompatibilitySum(self, students: List[List[int]], mentors: List[List[int]]) -> int:\n",
    "        @lru_cache(None)\n",
    "        def gen(n):\n",
    "            if n == 1:\n",
    "                return [[0]]\n",
    "            ans = []\n",
    "            for p in gen(n-1):\n",
    "                for j in range(len(p)):\n",
    "                    ans.append(p[:j]+[n-1]+p[j:])\n",
    "            return ans\n",
    "        "
   ]
  },
  {
   "cell_type": "code",
   "execution_count": 9,
   "metadata": {},
   "outputs": [],
   "source": [
    "def gen(n):\n",
    "    ans = []\n",
    "    if n == 1:\n",
    "        return [[0]]\n",
    "    ans = []\n",
    "    for p in gen(n-1):\n",
    "        for j in range(len(p)+1):\n",
    "            ans.append(p[:j]+[n-1]+p[j:])\n",
    "    return ans"
   ]
  },
  {
   "cell_type": "code",
   "execution_count": 11,
   "metadata": {},
   "outputs": [
    {
     "data": {
      "text/plain": [
       "[[2, 1, 0], [1, 2, 0], [1, 0, 2], [2, 0, 1], [0, 2, 1], [0, 1, 2]]"
      ]
     },
     "execution_count": 11,
     "metadata": {},
     "output_type": "execute_result"
    }
   ],
   "source": [
    "gen(3)"
   ]
  },
  {
   "cell_type": "code",
   "execution_count": null,
   "metadata": {},
   "outputs": [],
   "source": []
  }
 ],
 "metadata": {
  "kernelspec": {
   "display_name": "Python 3",
   "language": "python",
   "name": "python3"
  },
  "language_info": {
   "codemirror_mode": {
    "name": "ipython",
    "version": 3
   },
   "file_extension": ".py",
   "mimetype": "text/x-python",
   "name": "python",
   "nbconvert_exporter": "python",
   "pygments_lexer": "ipython3",
   "version": "3.7.9"
  }
 },
 "nbformat": 4,
 "nbformat_minor": 4
}
