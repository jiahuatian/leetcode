{
 "cells": [
  {
   "cell_type": "code",
   "execution_count": 9,
   "metadata": {},
   "outputs": [],
   "source": [
    "class Solution:\n",
    "    def findAnagrams(self, s: str, p: str):\n",
    "        from collections import defaultdict\n",
    "        \n",
    "        dictp = defaultdict(int)\n",
    "        for l in p:\n",
    "            dictp[l] += 1\n",
    "            \n",
    "        thiss = s[:len(p)]\n",
    "        dicts = defaultdict(int)\n",
    "        for l in thiss:\n",
    "            dicts[l] += 1\n",
    "        \n",
    "        res = []\n",
    "        i = 0\n",
    "        while i < len(s)-len(p)+1:\n",
    "            if dicts == dictp:\n",
    "                res.append(i)\n",
    "            dicts[s[i]] -= 1\n",
    "            if dicts[s[i]] == 0:\n",
    "                dicts.pop(s[i])\n",
    "            if i+len(p) < len(s):\n",
    "                dicts[s[i+len(p)]] += 1\n",
    "            else:\n",
    "                break\n",
    "            i += 1\n",
    "                \n",
    "        return res"
   ]
  },
  {
   "cell_type": "code",
   "execution_count": 11,
   "metadata": {},
   "outputs": [
    {
     "data": {
      "text/plain": [
       "[0, 1, 2]"
      ]
     },
     "execution_count": 11,
     "metadata": {},
     "output_type": "execute_result"
    }
   ],
   "source": [
    "s = \"cbaebabacd\"\n",
    "p = \"abc\"\n",
    "\n",
    "s = \"abab\" \n",
    "p = \"ab\"\n",
    "\n",
    "obj = Solution()\n",
    "obj.findAnagrams(s,p)"
   ]
  },
  {
   "cell_type": "code",
   "execution_count": 12,
   "metadata": {},
   "outputs": [
    {
     "name": "stdout",
     "output_type": "stream",
     "text": [
      "10\n",
      "9\n",
      "8\n",
      "7\n",
      "6\n",
      "5\n",
      "4\n",
      "3\n",
      "2\n",
      "1\n",
      "0\n"
     ]
    }
   ],
   "source": [
    "for i in range(10,-1,-1):\n",
    "    print(i)"
   ]
  },
  {
   "cell_type": "code",
   "execution_count": 12,
   "metadata": {},
   "outputs": [],
   "source": [
    "class Solution:\n",
    "    def findAnagrams(self, s: str, p: str):\n",
    "        res = []\n",
    "        if len(s) < len(p):\n",
    "            return res\n",
    "        from collections import defaultdict\n",
    "        worddictp = defaultdict(int)\n",
    "        worddicts = defaultdict(int)\n",
    "        for i in range(len(p)):\n",
    "            worddictp[p[i]] += 1\n",
    "            worddicts[s[i]] += 1\n",
    "        for i in range(len(s)-len(p)+1):\n",
    "            print(i)\n",
    "            print(worddicts)\n",
    "            if worddicts == worddictp:\n",
    "                res.append(i)\n",
    "            worddicts[s[i]] -= 1\n",
    "            if worddicts[s[i]] == 0:\n",
    "                worddicts.pop(s[i])\n",
    "            if i+len(p) < len(s):\n",
    "                worddicts[s[i+len(p)]] += 1\n",
    "        return res"
   ]
  },
  {
   "cell_type": "code",
   "execution_count": 14,
   "metadata": {},
   "outputs": [
    {
     "name": "stdout",
     "output_type": "stream",
     "text": [
      "0\n",
      "defaultdict(<class 'int'>, {'c': 1, 'b': 1, 'a': 1})\n",
      "1\n",
      "defaultdict(<class 'int'>, {'b': 1, 'a': 1, 'e': 1})\n",
      "2\n",
      "defaultdict(<class 'int'>, {'a': 1, 'e': 1, 'b': 1})\n",
      "3\n",
      "defaultdict(<class 'int'>, {'e': 1, 'b': 1, 'a': 1})\n",
      "4\n",
      "defaultdict(<class 'int'>, {'b': 2, 'a': 1})\n",
      "5\n",
      "defaultdict(<class 'int'>, {'b': 1, 'a': 2})\n",
      "6\n",
      "defaultdict(<class 'int'>, {'b': 1, 'a': 1, 'c': 1})\n",
      "7\n",
      "defaultdict(<class 'int'>, {'a': 1, 'c': 1, 'd': 1})\n"
     ]
    },
    {
     "data": {
      "text/plain": [
       "[0, 6]"
      ]
     },
     "execution_count": 14,
     "metadata": {},
     "output_type": "execute_result"
    }
   ],
   "source": [
    "s = \"cbaebabacd\"\n",
    "p = \"abc\"\n",
    "\n",
    "#s = \"abab\" \n",
    "#p = \"ab\"\n",
    "\n",
    "obj = Solution()\n",
    "obj.findAnagrams(s,p)"
   ]
  },
  {
   "cell_type": "code",
   "execution_count": null,
   "metadata": {},
   "outputs": [],
   "source": []
  },
  {
   "cell_type": "code",
   "execution_count": null,
   "metadata": {},
   "outputs": [],
   "source": []
  }
 ],
 "metadata": {
  "kernelspec": {
   "display_name": "Python 3",
   "language": "python",
   "name": "python3"
  },
  "language_info": {
   "codemirror_mode": {
    "name": "ipython",
    "version": 3
   },
   "file_extension": ".py",
   "mimetype": "text/x-python",
   "name": "python",
   "nbconvert_exporter": "python",
   "pygments_lexer": "ipython3",
   "version": "3.7.3"
  }
 },
 "nbformat": 4,
 "nbformat_minor": 2
}
