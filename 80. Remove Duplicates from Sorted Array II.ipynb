{
 "cells": [
  {
   "cell_type": "code",
   "execution_count": 46,
   "metadata": {},
   "outputs": [],
   "source": [
    "class Solution:\n",
    "    def removeDuplicates(self, nums) -> int:\n",
    "        i = 1\n",
    "        count = 0\n",
    "        while i < len(nums):\n",
    "            print(count)\n",
    "            if nums[i] == nums[i-1]:\n",
    "                count += 1\n",
    "            else:\n",
    "                count = 0\n",
    "            if count >= 2:\n",
    "                nums.pop(i)\n",
    "            else:\n",
    "                i += 1\n",
    "            print(nums)\n",
    "            \n",
    "        return nums          "
   ]
  },
  {
   "cell_type": "code",
   "execution_count": 48,
   "metadata": {},
   "outputs": [
    {
     "name": "stdout",
     "output_type": "stream",
     "text": [
      "0\n",
      "[1, 1, 1, 2, 2, 3]\n",
      "1\n",
      "[1, 1, 2, 2, 3]\n",
      "2\n",
      "[1, 1, 2, 2, 3]\n",
      "0\n",
      "[1, 1, 2, 2, 3]\n",
      "1\n",
      "[1, 1, 2, 2, 3]\n"
     ]
    },
    {
     "data": {
      "text/plain": [
       "[1, 1, 2, 2, 3]"
      ]
     },
     "execution_count": 48,
     "metadata": {},
     "output_type": "execute_result"
    }
   ],
   "source": [
    "nums = [1,1,1,2,2,3]\n",
    "#nums = [0,0,1,1,1,1,2,3,3]\n",
    "\n",
    "obj = Solution()\n",
    "obj.removeDuplicates(nums)"
   ]
  },
  {
   "cell_type": "code",
   "execution_count": null,
   "metadata": {},
   "outputs": [],
   "source": []
  },
  {
   "cell_type": "code",
   "execution_count": null,
   "metadata": {},
   "outputs": [],
   "source": []
  }
 ],
 "metadata": {
  "kernelspec": {
   "display_name": "Python 3",
   "language": "python",
   "name": "python3"
  },
  "language_info": {
   "codemirror_mode": {
    "name": "ipython",
    "version": 3
   },
   "file_extension": ".py",
   "mimetype": "text/x-python",
   "name": "python",
   "nbconvert_exporter": "python",
   "pygments_lexer": "ipython3",
   "version": "3.7.3"
  }
 },
 "nbformat": 4,
 "nbformat_minor": 2
}
