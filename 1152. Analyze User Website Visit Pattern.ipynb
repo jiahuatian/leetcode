{
 "cells": [
  {
   "cell_type": "code",
   "execution_count": 35,
   "metadata": {},
   "outputs": [],
   "source": [
    "from collections import defaultdict,Counter\n",
    "import itertools\n",
    "class Solution:\n",
    "    def mostVisitedPattern(self, username, timestamp, website):\n",
    "        d = defaultdict(list)\n",
    "        for t,w,n in sorted(zip(timestamp,website,username)):\n",
    "            d[n].append(w)\n",
    "        cs = [Counter(set(itertools.combinations(d[u], 3))) for u in d]\n",
    "        print(sum(cs,Counter()))\n",
    "        count = sum([Counter(set(itertools.combinations(d[u], 3))) for u in d], Counter())\n",
    "        return sorted([[w,c] for w,c in count.items()],key=lambda a:(-a[1],a[0]))[0][0]"
   ]
  },
  {
   "cell_type": "code",
   "execution_count": 36,
   "metadata": {},
   "outputs": [
    {
     "name": "stdout",
     "output_type": "stream",
     "text": [
      "Counter({('home', 'about', 'career'): 2, ('cart', 'maps', 'home'): 1, ('home', 'maps', 'home'): 1, ('home', 'cart', 'maps'): 1, ('home', 'cart', 'home'): 1})\n"
     ]
    },
    {
     "data": {
      "text/plain": [
       "('home', 'about', 'career')"
      ]
     },
     "execution_count": 36,
     "metadata": {},
     "output_type": "execute_result"
    }
   ],
   "source": [
    "username = [\"joe\",\"joe\",\"joe\",\"james\",\"james\",\"james\",\"james\",\"mary\",\"mary\",\"mary\"]\n",
    "timestamp = [1,2,3,4,5,6,7,8,9,10]\n",
    "website = [\"home\",\"about\",\"career\",\"home\",\"cart\",\"maps\",\"home\",\"home\",\"about\",\"career\"]\n",
    "\n",
    "obj = Solution()\n",
    "obj.mostVisitedPattern(username, timestamp, website)"
   ]
  },
  {
   "cell_type": "code",
   "execution_count": null,
   "metadata": {},
   "outputs": [],
   "source": []
  }
 ],
 "metadata": {
  "kernelspec": {
   "display_name": "Python 3",
   "language": "python",
   "name": "python3"
  },
  "language_info": {
   "codemirror_mode": {
    "name": "ipython",
    "version": 3
   },
   "file_extension": ".py",
   "mimetype": "text/x-python",
   "name": "python",
   "nbconvert_exporter": "python",
   "pygments_lexer": "ipython3",
   "version": "3.7.9"
  }
 },
 "nbformat": 4,
 "nbformat_minor": 4
}
