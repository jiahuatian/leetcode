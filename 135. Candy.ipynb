{
 "cells": [
  {
   "cell_type": "code",
   "execution_count": 7,
   "metadata": {},
   "outputs": [],
   "source": [
    "class Solution:\n",
    "    def candy(self, ratings) -> int:\n",
    "        i = 0\n",
    "        s = []\n",
    "        ans = 0\n",
    "        while i<len(ratings):\n",
    "            if not s:\n",
    "                s.append(i)\n",
    "                curr = 1\n",
    "                i += 1\n",
    "            else:\n",
    "                if ratings[i] < ratings[s[-1]]:\n",
    "                    s.append(i)\n",
    "                    curr = 1\n",
    "                    i += 1\n",
    "                else:\n",
    "                    if s:\n",
    "                        ans += (1+len(s))*len(s)//2\n",
    "                        curr = 1\n",
    "                        temp = s[-1]\n",
    "                        s = []\n",
    "                    if ratings[i] > ratings[temp]:\n",
    "                        curr += 1\n",
    "                        ans += curr\n",
    "                    else:\n",
    "                        ans += 1\n",
    "                        curr = 1\n",
    "                    i += 1\n",
    "            print(ans)\n",
    "        if s:\n",
    "            ans += (1+len(s))*len(s)//2\n",
    "        return ans"
   ]
  },
  {
   "cell_type": "code",
   "execution_count": 8,
   "metadata": {},
   "outputs": [
    {
     "name": "stdout",
     "output_type": "stream",
     "text": [
      "0\n",
      "3\n",
      "3\n",
      "5\n",
      "5\n",
      "7\n",
      "7\n",
      "9\n",
      "9\n",
      "12\n",
      "12\n",
      "15\n",
      "15\n",
      "18\n",
      "18\n",
      "21\n",
      "21\n"
     ]
    },
    {
     "data": {
      "text/plain": [
       "22"
      ]
     },
     "execution_count": 8,
     "metadata": {},
     "output_type": "execute_result"
    }
   ],
   "source": [
    "ratings = [1,2,2,2,2,2,2,2,2,6,8,9,0,2,3,4,0]\n",
    "obj = Solution()\n",
    "obj.candy(ratings)"
   ]
  },
  {
   "cell_type": "code",
   "execution_count": null,
   "metadata": {},
   "outputs": [],
   "source": [
    "[1,2,2,2,2,2,2,2,2,6,8,9,0,2,3,4,0]\n",
    "[2,1,1,1,1,1,1,1,1,2,3,4,1,2,3,4,1]"
   ]
  }
 ],
 "metadata": {
  "kernelspec": {
   "display_name": "Python 3",
   "language": "python",
   "name": "python3"
  },
  "language_info": {
   "codemirror_mode": {
    "name": "ipython",
    "version": 3
   },
   "file_extension": ".py",
   "mimetype": "text/x-python",
   "name": "python",
   "nbconvert_exporter": "python",
   "pygments_lexer": "ipython3",
   "version": "3.7.9"
  }
 },
 "nbformat": 4,
 "nbformat_minor": 4
}
