{
 "cells": [
  {
   "cell_type": "code",
   "execution_count": 3,
   "metadata": {},
   "outputs": [],
   "source": [
    "class Solution:\n",
    "    def longestLine(self, mat) -> int:\n",
    "        m,n = len(mat),len(mat[0])\n",
    "        dp = [[[0,0,0,0] for _ in range(n)]for _ in range(m)]\n",
    "        maxlen = 0\n",
    "        for i in range(m):\n",
    "            for j in range(n):\n",
    "                if i == 0:\n",
    "                    if mat[0][j] != 0:\n",
    "                        if j != 0:\n",
    "                            dp[0][j] = [dp[0][j-1][0]+1,1,1,1]\n",
    "                        else:\n",
    "                            dp[0][0] = [1,1,1,1]\n",
    "                    maxlen = max(maxlen,max(dp[0][j]))\n",
    "                else:\n",
    "                    if mat[i][j] != 0 and j != 0:\n",
    "                        if 0 <= j-1:\n",
    "                            dp[i][j][0] = dp[i][j-1][0] + 1\n",
    "                        if 0 <= i-1:\n",
    "                            dp[i][j][1] = dp[i-1][j][1] + 1\n",
    "                        if 0 <= i-1 and 0 <= j-1:\n",
    "                            dp[i][j][2] = dp[i-1][j-1][2] + 1\n",
    "                        if 0 <= i-1 and j+1 < n:\n",
    "                            dp[i][j][3] = dp[i-1][j+1][3] + 1\n",
    "                    elif mat[i][j] != 0 and j == 0:\n",
    "                        dp[i][0] = [1,dp[i-1][0][1]+1,0,dp[i-1][j+1][3]+1]\n",
    "                    maxlen = max(maxlen,max(dp[i][j]))\n",
    "        return maxlen"
   ]
  },
  {
   "cell_type": "code",
   "execution_count": 4,
   "metadata": {},
   "outputs": [
    {
     "data": {
      "text/plain": [
       "2"
      ]
     },
     "execution_count": 4,
     "metadata": {},
     "output_type": "execute_result"
    }
   ],
   "source": [
    "mat = [[0,0],[1,1]]\n",
    "\n",
    "obj = Solution()\n",
    "obj.longestLine(mat)"
   ]
  },
  {
   "cell_type": "code",
   "execution_count": null,
   "metadata": {},
   "outputs": [],
   "source": []
  }
 ],
 "metadata": {
  "kernelspec": {
   "display_name": "Python 3",
   "language": "python",
   "name": "python3"
  },
  "language_info": {
   "codemirror_mode": {
    "name": "ipython",
    "version": 3
   },
   "file_extension": ".py",
   "mimetype": "text/x-python",
   "name": "python",
   "nbconvert_exporter": "python",
   "pygments_lexer": "ipython3",
   "version": "3.7.3"
  }
 },
 "nbformat": 4,
 "nbformat_minor": 2
}
