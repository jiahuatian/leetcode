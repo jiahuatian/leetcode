{
 "cells": [
  {
   "cell_type": "code",
   "execution_count": 5,
   "metadata": {},
   "outputs": [
    {
     "data": {
      "text/plain": [
       "4"
      ]
     },
     "execution_count": 5,
     "metadata": {},
     "output_type": "execute_result"
    }
   ],
   "source": [
    "import math\n",
    "\n",
    "math.ceil(3.5)"
   ]
  },
  {
   "cell_type": "code",
   "execution_count": null,
   "metadata": {},
   "outputs": [],
   "source": [
    "1,2,3,4,5,6,7,8,9,10\n",
    "\n",
    "6 >= 5\n",
    "mid = 5 -> left = 6\n",
    "6 < 8\n",
    "mid = 8 -> right = 7\n",
    "6 >= 6\n",
    "mid = 6 -> left = 7\n",
    "6 < 7\n",
    "mid = 7 -> right = 6\n",
    "\n",
    "\n",
    "1,2,3,4,5,6,7,8,9,10\n",
    "\n",
    "10 >= 5\n",
    "mid = 5 -> left = 6\n",
    "10 >= 8\n",
    "mid = 8 -> left = 9\n",
    "10 >= 9\n",
    "mid = 9 -> left = 10\n",
    "10 >= 10\n",
    "mid = 10 -> left = 11"
   ]
  },
  {
   "cell_type": "code",
   "execution_count": 22,
   "metadata": {},
   "outputs": [],
   "source": [
    "def binarySearch(numlist, num):\n",
    "    \n",
    "        start = 0\n",
    "        end = len(numlist)\n",
    "        \n",
    "        while start <= end:\n",
    "            mid = (start + end)//2\n",
    "            if num >= mid:\n",
    "                start = mid + 1\n",
    "            elif num < mid:\n",
    "                end = mid - 1              \n",
    "                \n",
    "        return num == end"
   ]
  },
  {
   "cell_type": "code",
   "execution_count": 27,
   "metadata": {},
   "outputs": [
    {
     "data": {
      "text/plain": [
       "True"
      ]
     },
     "execution_count": 27,
     "metadata": {},
     "output_type": "execute_result"
    }
   ],
   "source": [
    "aa = [1,2,3,4,5,6,7,8,9,10]\n",
    "binarySearch(aa, 10)"
   ]
  },
  {
   "cell_type": "code",
   "execution_count": 36,
   "metadata": {},
   "outputs": [],
   "source": [
    "class Solution:\n",
    "    def isPerfectSquare(self, num: int) -> bool:\n",
    "        digits = math.ceil(len(str(num))/2.)\n",
    "        \n",
    "        start = 10**(digits-1)\n",
    "        end = 10**digits\n",
    "        \n",
    "        while start <= end:\n",
    "            mid = (start + end)//2\n",
    "            if num >= mid*mid:\n",
    "                start = mid + 1\n",
    "            elif num < mid*mid:\n",
    "                end = mid - 1\n",
    "                \n",
    "        print(end)\n",
    "        \n",
    "        if end*end == num:\n",
    "            return True\n",
    "        \n",
    "        return False"
   ]
  },
  {
   "cell_type": "code",
   "execution_count": 38,
   "metadata": {},
   "outputs": [
    {
     "name": "stdout",
     "output_type": "stream",
     "text": [
      "3\n"
     ]
    },
    {
     "data": {
      "text/plain": [
       "False"
      ]
     },
     "execution_count": 38,
     "metadata": {},
     "output_type": "execute_result"
    }
   ],
   "source": [
    "num = 14\n",
    "\n",
    "obj = Solution()\n",
    "obj.isPerfectSquare(num)"
   ]
  },
  {
   "cell_type": "code",
   "execution_count": null,
   "metadata": {},
   "outputs": [],
   "source": []
  }
 ],
 "metadata": {
  "kernelspec": {
   "display_name": "Python 3",
   "language": "python",
   "name": "python3"
  },
  "language_info": {
   "codemirror_mode": {
    "name": "ipython",
    "version": 3
   },
   "file_extension": ".py",
   "mimetype": "text/x-python",
   "name": "python",
   "nbconvert_exporter": "python",
   "pygments_lexer": "ipython3",
   "version": "3.7.3"
  }
 },
 "nbformat": 4,
 "nbformat_minor": 2
}
