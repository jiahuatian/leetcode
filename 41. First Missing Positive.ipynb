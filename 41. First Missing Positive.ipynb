{
 "cells": [
  {
   "cell_type": "code",
   "execution_count": 1,
   "metadata": {},
   "outputs": [],
   "source": [
    "class Solution(object):\n",
    "    def firstMissingPositive(self, nums):\n",
    "        \"\"\"\n",
    "        :type nums: List[int]\n",
    "        :rtype: int\n",
    "        \"\"\"\n",
    "        mylist = [nums[0]]\n",
    "        \n",
    "        for i in range(1,len(nums)):\n",
    "            if nums[i] >= 0:\n",
    "                if nums[i] == mylist[-1] + 1:\n",
    "                    mylist.append(nums[i])\n",
    "                elif nums[i] == mylist[0] - 1:\n",
    "                    mylist.insert(0,nums[i])\n",
    "                elif nums[i] < mylist[-1] - 1:\n",
    "                    mylist = [nums[i]]\n",
    "               \n",
    "        if mylist[0] <= 1:    \n",
    "            return mylist[-1] + 1\n",
    "        else:\n",
    "            return mylist[0] - 1 "
   ]
  },
  {
   "cell_type": "code",
   "execution_count": 2,
   "metadata": {},
   "outputs": [
    {
     "data": {
      "text/plain": [
       "6"
      ]
     },
     "execution_count": 2,
     "metadata": {},
     "output_type": "execute_result"
    }
   ],
   "source": [
    "mylist = [7,8,9,11,12]\n",
    "obj = Solution()\n",
    "obj.firstMissingPositive(mylist)"
   ]
  },
  {
   "cell_type": "code",
   "execution_count": 5,
   "metadata": {},
   "outputs": [
    {
     "data": {
      "text/plain": [
       "[3, 5, 6, 8, 10]"
      ]
     },
     "execution_count": 5,
     "metadata": {},
     "output_type": "execute_result"
    }
   ],
   "source": [
    "mylist = [10,3,5,6,8]\n",
    "mylist.sort()\n",
    "mylist"
   ]
  },
  {
   "cell_type": "code",
   "execution_count": 6,
   "metadata": {},
   "outputs": [
    {
     "data": {
      "text/plain": [
       "[1, 2]"
      ]
     },
     "execution_count": 6,
     "metadata": {},
     "output_type": "execute_result"
    }
   ],
   "source": [
    "nums = [1,2,0]\n",
    "nums.sort()\n",
    "mylist = [x for x in nums if x > 0]\n",
    "mylist"
   ]
  },
  {
   "cell_type": "code",
   "execution_count": 4,
   "metadata": {},
   "outputs": [
    {
     "data": {
      "text/plain": [
       "[1, [1, 2]]"
      ]
     },
     "execution_count": 4,
     "metadata": {},
     "output_type": "execute_result"
    }
   ],
   "source": [
    "list1 = [1]\n",
    "\n",
    "list1.append([1,2])\n",
    "\n",
    "list1"
   ]
  },
  {
   "cell_type": "code",
   "execution_count": 5,
   "metadata": {},
   "outputs": [
    {
     "data": {
      "text/plain": [
       "[1, 1, 2]"
      ]
     },
     "execution_count": 5,
     "metadata": {},
     "output_type": "execute_result"
    }
   ],
   "source": [
    "[1] + [1,2]"
   ]
  },
  {
   "cell_type": "code",
   "execution_count": 8,
   "metadata": {},
   "outputs": [
    {
     "data": {
      "text/plain": [
       "{10: 1, 3: 1, 5: 1, 6: 1, 8: 1}"
      ]
     },
     "execution_count": 8,
     "metadata": {},
     "output_type": "execute_result"
    }
   ],
   "source": [
    "nums = [10,3,5,6,8]\n",
    "\n",
    "mydict = {}\n",
    "\n",
    "for x in nums:\n",
    "    if x > 0:\n",
    "        mydict[x] = 1\n",
    "        \n",
    "mydict"
   ]
  },
  {
   "cell_type": "code",
   "execution_count": 17,
   "metadata": {},
   "outputs": [],
   "source": [
    "mydict = dict.fromkeys([i for i in range(1, len(nums) + 2)])"
   ]
  },
  {
   "cell_type": "code",
   "execution_count": 18,
   "metadata": {},
   "outputs": [
    {
     "data": {
      "text/plain": [
       "{1: None, 2: None, 3: None, 4: None, 5: None, 6: None}"
      ]
     },
     "execution_count": 18,
     "metadata": {},
     "output_type": "execute_result"
    }
   ],
   "source": [
    "mydict"
   ]
  },
  {
   "cell_type": "code",
   "execution_count": 40,
   "metadata": {},
   "outputs": [],
   "source": [
    "class Solution:\n",
    "    def firstMissingPositive(self, nums) -> int:\n",
    "        numsp = [num for num in nums if num > 0]\n",
    "        numsp.sort()\n",
    "\n",
    "        if numsp == []:\n",
    "            return 1\n",
    "        \n",
    "        if min(numsp) > 1:\n",
    "            return 1\n",
    "        \n",
    "        mymin = 1\n",
    "        n = len(numsp)\n",
    "        while len(numsp) > 0:\n",
    "            numsp.pop(0)\n",
    "            if len(numsp) != 0:\n",
    "                myminnew = min(numsp)\n",
    "                if myminnew != mymin+1:\n",
    "                    return mymin+1\n",
    "                else:\n",
    "                    mymin = myminnew\n",
    "                \n",
    "        return n+1"
   ]
  },
  {
   "cell_type": "code",
   "execution_count": 41,
   "metadata": {},
   "outputs": [
    {
     "data": {
      "text/plain": [
       "1"
      ]
     },
     "execution_count": 41,
     "metadata": {},
     "output_type": "execute_result"
    }
   ],
   "source": [
    "nums = [1,2,3,0]\n",
    "nums = [0]\n",
    "\n",
    "obj = Solution()\n",
    "obj.firstMissingPositive(nums)"
   ]
  },
  {
   "cell_type": "code",
   "execution_count": 48,
   "metadata": {},
   "outputs": [],
   "source": [
    "class Solution:\n",
    "    def firstMissingPositive(self, nums) -> int:\n",
    "        nums = list(set([num for num in nums if num > 0]))\n",
    "        nums.sort()\n",
    "            \n",
    "        for i in range(len(nums)):\n",
    "            if nums[i] != i+1:\n",
    "                return i+1\n",
    "            \n",
    "        return len(nums)+1"
   ]
  },
  {
   "cell_type": "code",
   "execution_count": 49,
   "metadata": {},
   "outputs": [
    {
     "data": {
      "text/plain": [
       "2"
      ]
     },
     "execution_count": 49,
     "metadata": {},
     "output_type": "execute_result"
    }
   ],
   "source": [
    "nums = [1,1000]\n",
    "\n",
    "obj = Solution()\n",
    "obj.firstMissingPositive(nums)"
   ]
  },
  {
   "cell_type": "code",
   "execution_count": null,
   "metadata": {},
   "outputs": [],
   "source": []
  }
 ],
 "metadata": {
  "kernelspec": {
   "display_name": "Python 3",
   "language": "python",
   "name": "python3"
  },
  "language_info": {
   "codemirror_mode": {
    "name": "ipython",
    "version": 3
   },
   "file_extension": ".py",
   "mimetype": "text/x-python",
   "name": "python",
   "nbconvert_exporter": "python",
   "pygments_lexer": "ipython3",
   "version": "3.7.3"
  }
 },
 "nbformat": 4,
 "nbformat_minor": 2
}
