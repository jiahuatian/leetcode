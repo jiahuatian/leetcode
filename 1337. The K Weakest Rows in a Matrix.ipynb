{
 "cells": [
  {
   "cell_type": "code",
   "execution_count": 46,
   "metadata": {},
   "outputs": [],
   "source": [
    "class Solution:\n",
    "    def kWeakestRows(self, mat, k: int):\n",
    "        \n",
    "        from collections import defaultdict\n",
    "        mydict = defaultdict(list)\n",
    "        \n",
    "        for i in range(len(mat)):\n",
    "            mydict[sum(mat[i])].append(i)\n",
    "            \n",
    "        soldierlist = sorted(list(mydict.keys()))  \n",
    "        weak = []\n",
    "        print(mydict)\n",
    "            \n",
    "        i = 0\n",
    "        while i < len(soldierlist):\n",
    "            weak += mydict[soldierlist[i]]\n",
    "            i += 1\n",
    "            \n",
    "        return weak[:k]"
   ]
  },
  {
   "cell_type": "code",
   "execution_count": 47,
   "metadata": {},
   "outputs": [
    {
     "name": "stdout",
     "output_type": "stream",
     "text": [
      "defaultdict(<class 'list'>, {1: [0, 1, 2], 2: [3]})\n"
     ]
    },
    {
     "data": {
      "text/plain": [
       "[0, 1, 2, 3]"
      ]
     },
     "execution_count": 47,
     "metadata": {},
     "output_type": "execute_result"
    }
   ],
   "source": [
    "mat = [[1,1,0,0,0],[1,1,1,1,0],[1,0,0,0,0],[1,1,0,0,0],[1,1,1,1,1]]\n",
    "k = 3\n",
    "\n",
    "mat = [[1,0,0,0],\n",
    " [1,1,1,1],\n",
    " [1,0,0,0],\n",
    " [1,0,0,0]]\n",
    "k = 2\n",
    "\n",
    "mat = [[1,0],[1,0],[1,0],[1,1]]\n",
    "k = 4\n",
    "\n",
    "obj = Solution()\n",
    "obj.kWeakestRows(mat, k)"
   ]
  },
  {
   "cell_type": "code",
   "execution_count": 48,
   "metadata": {},
   "outputs": [
    {
     "data": {
      "text/plain": [
       "True"
      ]
     },
     "execution_count": 48,
     "metadata": {},
     "output_type": "execute_result"
    }
   ],
   "source": [
    "'as' in 'associate'"
   ]
  },
  {
   "cell_type": "code",
   "execution_count": null,
   "metadata": {},
   "outputs": [],
   "source": []
  }
 ],
 "metadata": {
  "kernelspec": {
   "display_name": "Python 3",
   "language": "python",
   "name": "python3"
  },
  "language_info": {
   "codemirror_mode": {
    "name": "ipython",
    "version": 3
   },
   "file_extension": ".py",
   "mimetype": "text/x-python",
   "name": "python",
   "nbconvert_exporter": "python",
   "pygments_lexer": "ipython3",
   "version": "3.7.3"
  }
 },
 "nbformat": 4,
 "nbformat_minor": 2
}
