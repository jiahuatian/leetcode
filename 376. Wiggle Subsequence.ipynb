{
 "cells": [
  {
   "cell_type": "code",
   "execution_count": 11,
   "metadata": {},
   "outputs": [],
   "source": [
    "from functools import lru_cache\n",
    "class Solution:\n",
    "    def wiggleMaxLength(self, nums) -> int:\n",
    "        @lru_cache(maxsize=None)\n",
    "        def dp(i):\n",
    "            if i == 0:\n",
    "                return [1,1]\n",
    "            ans_d = max([0]+[dp(k)[1] for k in range(i) if nums[k]>nums[i]])+1\n",
    "            ans_i = max([0]+[dp(k)[0] for k in range(i) if nums[k]<nums[i]])+1\n",
    "            return [ans_d,ans_i]\n",
    "        return max([dp(i)[0] for i in range(len(nums))]+[dp(i)[1] for i in range(len(nums))])"
   ]
  },
  {
   "cell_type": "code",
   "execution_count": 12,
   "metadata": {},
   "outputs": [
    {
     "name": "stdout",
     "output_type": "stream",
     "text": [
      "[1, 1, 1, 1, 1, 1, 1, 1, 1]\n",
      "[1, 2, 2, 2, 2, 2, 2, 2, 2]\n"
     ]
    },
    {
     "data": {
      "text/plain": [
       "2"
      ]
     },
     "execution_count": 12,
     "metadata": {},
     "output_type": "execute_result"
    }
   ],
   "source": [
    "nums = [1,2,3,4,5,6,7,8,9]\n",
    "\n",
    "obj = Solution()\n",
    "obj.wiggleMaxLength(nums)"
   ]
  },
  {
   "cell_type": "code",
   "execution_count": null,
   "metadata": {},
   "outputs": [],
   "source": []
  }
 ],
 "metadata": {
  "kernelspec": {
   "display_name": "Python 3",
   "language": "python",
   "name": "python3"
  },
  "language_info": {
   "codemirror_mode": {
    "name": "ipython",
    "version": 3
   },
   "file_extension": ".py",
   "mimetype": "text/x-python",
   "name": "python",
   "nbconvert_exporter": "python",
   "pygments_lexer": "ipython3",
   "version": "3.7.3"
  }
 },
 "nbformat": 4,
 "nbformat_minor": 2
}
