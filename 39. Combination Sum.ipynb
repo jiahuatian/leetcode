{
 "cells": [
  {
   "cell_type": "code",
   "execution_count": 34,
   "metadata": {},
   "outputs": [],
   "source": [
    "class Solution:\n",
    "    def combinationSum(self, candidates, target: int):\n",
    "        res = []\n",
    "        seen = set()\n",
    "        \n",
    "        for i,elem in enumerate(candidates):\n",
    "            stack = [[[elem],target-sum([elem])],]\n",
    "            while stack:\n",
    "                thislist, thissum = stack.pop()\n",
    "                if thissum == 0 and tuple(sorted(thislist)) not in seen:\n",
    "                    seen.add(tuple(sorted(thislist)))\n",
    "                    res.append(sorted(thislist))\n",
    "                for j in range(i,len(candidates)):\n",
    "                    if thissum - candidates[j] >= 0:\n",
    "                        stack.append([thislist+[candidates[j]],target-sum(thislist+[candidates[j]])])\n",
    "                    \n",
    "        return res"
   ]
  },
  {
   "cell_type": "code",
   "execution_count": 35,
   "metadata": {},
   "outputs": [
    {
     "data": {
      "text/plain": [
       "[[1, 1, 1, 1, 1, 1, 1, 2],\n",
       " [1, 1, 1, 1, 1, 2, 2],\n",
       " [1, 1, 1, 1, 2, 3],\n",
       " [1, 1, 1, 2, 2, 2],\n",
       " [1, 1, 2, 5],\n",
       " [1, 1, 2, 2, 3],\n",
       " [1, 2, 3, 3],\n",
       " [1, 2, 6],\n",
       " [1, 2, 2, 2, 2],\n",
       " [2, 2, 5],\n",
       " [2, 2, 2, 3],\n",
       " [2, 7],\n",
       " [1, 1, 7],\n",
       " [1, 1, 1, 6],\n",
       " [3, 6],\n",
       " [1, 1, 1, 1, 1, 1, 3],\n",
       " [1, 1, 1, 3, 3],\n",
       " [1, 3, 5],\n",
       " [3, 3, 3],\n",
       " [1, 1, 1, 1, 5],\n",
       " [1, 1, 1, 1, 1, 1, 1, 1, 1]]"
      ]
     },
     "execution_count": 35,
     "metadata": {},
     "output_type": "execute_result"
    }
   ],
   "source": [
    "candidates = [2,3,6,7]\n",
    "target = 7\n",
    "\n",
    "#candidates = [2,3,5]\n",
    "#target = 8\n",
    "\n",
    "#candidates = [1]\n",
    "#target = 2\n",
    "\n",
    "candidates = [2,7,6,3,5,1]\n",
    "target = 9\n",
    "\n",
    "obj = Solution()\n",
    "obj.combinationSum(candidates,target)"
   ]
  },
  {
   "cell_type": "code",
   "execution_count": 37,
   "metadata": {},
   "outputs": [],
   "source": [
    "aa = [[1,1,1,1,1,1,1,1,1],[1,1,1,1,1,1,1,2],[1,1,1,1,1,1,3],[1,1,1,1,1,2,2],[1,1,1,1,2,3],[1,1,1,1,5],[1,1,1,2,2,2],[1,1,1,3,3],[1,1,1,6],[1,1,2,2,3],[1,1,2,5],[1,1,7],[1,2,2,2,2],[1,2,3,3],[1,2,6],[1,3,5],[2,2,2,3],[2,2,5],[2,7],[3,3,3],[3,6]]"
   ]
  },
  {
   "cell_type": "code",
   "execution_count": 39,
   "metadata": {},
   "outputs": [
    {
     "data": {
      "text/plain": [
       "21"
      ]
     },
     "execution_count": 39,
     "metadata": {},
     "output_type": "execute_result"
    }
   ],
   "source": [
    "len(obj.combinationSum(candidates,target))"
   ]
  },
  {
   "cell_type": "code",
   "execution_count": 40,
   "metadata": {},
   "outputs": [
    {
     "data": {
      "text/plain": [
       "21"
      ]
     },
     "execution_count": 40,
     "metadata": {},
     "output_type": "execute_result"
    }
   ],
   "source": [
    "len(aa)"
   ]
  },
  {
   "cell_type": "code",
   "execution_count": null,
   "metadata": {},
   "outputs": [],
   "source": []
  }
 ],
 "metadata": {
  "kernelspec": {
   "display_name": "Python 3",
   "language": "python",
   "name": "python3"
  },
  "language_info": {
   "codemirror_mode": {
    "name": "ipython",
    "version": 3
   },
   "file_extension": ".py",
   "mimetype": "text/x-python",
   "name": "python",
   "nbconvert_exporter": "python",
   "pygments_lexer": "ipython3",
   "version": "3.7.3"
  }
 },
 "nbformat": 4,
 "nbformat_minor": 2
}
