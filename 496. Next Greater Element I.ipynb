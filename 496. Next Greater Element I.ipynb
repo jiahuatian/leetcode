{
 "cells": [
  {
   "cell_type": "code",
   "execution_count": 1,
   "metadata": {},
   "outputs": [],
   "source": [
    "class Solution:\n",
    "    def nextGreaterElement(self, nums1, nums2):\n",
    "        mydict = dict()\n",
    "        for i,n in enumerate(nums2):\n",
    "            mydict[n] = i\n",
    "        \n",
    "        res = []\n",
    "        for n in nums1:\n",
    "            i = mydict[n]+1\n",
    "            while i < len(nums2):\n",
    "                if nums2[i] > n:\n",
    "                    res.append(nums2[i])\n",
    "                    break\n",
    "                i += 1\n",
    "            if i == len(nums2):\n",
    "                res.append(-1)\n",
    "                \n",
    "        return res"
   ]
  },
  {
   "cell_type": "code",
   "execution_count": 21,
   "metadata": {},
   "outputs": [
    {
     "name": "stdout",
     "output_type": "stream",
     "text": [
      "1\n",
      "2\n",
      "3\n",
      "4\n",
      "5\n",
      "[6, 5, 4, 3, 2, 1]\n",
      "{6: -1, 5: -1, 4: -1, 3: -1, 2: -1, 1: -1}\n"
     ]
    },
    {
     "data": {
      "text/plain": [
       "[-1, -1, -1, -1, -1]"
      ]
     },
     "execution_count": 21,
     "metadata": {},
     "output_type": "execute_result"
    }
   ],
   "source": [
    "nums1 = [1,3,5,2,4]\n",
    "nums2 = [6,5,4,3,2,1,7]\n",
    "\n",
    "obj = Solution()\n",
    "obj.nextGreaterElement(nums1, nums2)"
   ]
  },
  {
   "cell_type": "code",
   "execution_count": 38,
   "metadata": {},
   "outputs": [],
   "source": [
    "class Solution:\n",
    "    def nextGreaterElement(self, nums1, nums2):\n",
    "        res = []\n",
    "        mydict = dict()\n",
    "        stack = []\n",
    "        i = 1\n",
    "        for i in nums2:\n",
    "            if not stack or i < stack[-1]:\n",
    "                stack.append(i)\n",
    "            else:\n",
    "                while stack and i > stack[-1]:\n",
    "                    mydict[stack[-1]] = i\n",
    "                    stack.pop()\n",
    "                stack.append(i)\n",
    "        \n",
    "        for j in stack:\n",
    "            mydict[j] = -1\n",
    "            \n",
    "        for c in nums1:\n",
    "            res.append(mydict[c])\n",
    "            \n",
    "        return res"
   ]
  },
  {
   "cell_type": "code",
   "execution_count": 39,
   "metadata": {},
   "outputs": [
    {
     "data": {
      "text/plain": [
       "[7, 7, 7, 7, 7]"
      ]
     },
     "execution_count": 39,
     "metadata": {},
     "output_type": "execute_result"
    }
   ],
   "source": [
    "nums1 = [1,3,5,2,4]\n",
    "nums2 = [6,5,4,3,2,1,7]\n",
    "\n",
    "#nums1 = [4,1,2]\n",
    "#nums2 = [1,3,4,2]\n",
    "\n",
    "obj = Solution()\n",
    "obj.nextGreaterElement(nums1, nums2)"
   ]
  },
  {
   "cell_type": "code",
   "execution_count": 47,
   "metadata": {},
   "outputs": [],
   "source": [
    "class Solution:\n",
    "    def nextGreaterElement(self, nums1, nums2):\n",
    "        res = []\n",
    "        mydict = dict()\n",
    "        i = 0\n",
    "        stack = []\n",
    "        while i < len(nums2):\n",
    "            if stack == [] or stack[-1] > nums2[i]:\n",
    "                stack.append(nums2[i])\n",
    "                i += 1\n",
    "            else:\n",
    "                while stack and nums2[i] > stack[-1]:\n",
    "                    elem = stack.pop()\n",
    "                    mydict[elem] = nums2[i]\n",
    "                stack.append(nums2[i])\n",
    "                i += 1\n",
    "                \n",
    "        for j in stack:\n",
    "            mydict[j] = -1\n",
    "            \n",
    "        for c in nums1:\n",
    "            res.append(mydict[c])\n",
    "            \n",
    "        return res"
   ]
  },
  {
   "cell_type": "code",
   "execution_count": 48,
   "metadata": {},
   "outputs": [
    {
     "data": {
      "text/plain": [
       "[7, 7, 7, 7, 7]"
      ]
     },
     "execution_count": 48,
     "metadata": {},
     "output_type": "execute_result"
    }
   ],
   "source": [
    "nums1 = [1,3,5,2,4]\n",
    "nums2 = [6,5,4,3,2,1,7]\n",
    "\n",
    "#nums1 = [4,1,2]\n",
    "#nums2 = [1,3,4,2]\n",
    "\n",
    "obj = Solution()\n",
    "obj.nextGreaterElement(nums1, nums2)"
   ]
  },
  {
   "cell_type": "code",
   "execution_count": null,
   "metadata": {},
   "outputs": [],
   "source": []
  }
 ],
 "metadata": {
  "kernelspec": {
   "display_name": "Python 3",
   "language": "python",
   "name": "python3"
  },
  "language_info": {
   "codemirror_mode": {
    "name": "ipython",
    "version": 3
   },
   "file_extension": ".py",
   "mimetype": "text/x-python",
   "name": "python",
   "nbconvert_exporter": "python",
   "pygments_lexer": "ipython3",
   "version": "3.7.3"
  }
 },
 "nbformat": 4,
 "nbformat_minor": 2
}
