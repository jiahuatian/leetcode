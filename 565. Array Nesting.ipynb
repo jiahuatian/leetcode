{
 "cells": [
  {
   "cell_type": "code",
   "execution_count": 5,
   "metadata": {},
   "outputs": [],
   "source": [
    "class Solution:\n",
    "    def arrayNesting(self, nums) -> int:\n",
    "        longest = 1\n",
    "        seen = set()\n",
    "        for i,num in enumerate(nums):\n",
    "            start = num\n",
    "            if start not in seen:\n",
    "                seen.add(start)\n",
    "                length = 1\n",
    "                while nums[start] != num:\n",
    "                    print(seen)\n",
    "                    start = nums[start]\n",
    "                    seen.add(start)\n",
    "                    length += 1\n",
    "                longest = max(length,longest)\n",
    "        return longest"
   ]
  },
  {
   "cell_type": "code",
   "execution_count": 6,
   "metadata": {},
   "outputs": [
    {
     "name": "stdout",
     "output_type": "stream",
     "text": [
      "{5}\n",
      "{5, 6}\n",
      "{2, 5, 6}\n",
      "{0, 2, 4, 5, 6}\n"
     ]
    },
    {
     "data": {
      "text/plain": [
       "4"
      ]
     },
     "execution_count": 6,
     "metadata": {},
     "output_type": "execute_result"
    }
   ],
   "source": [
    "nums = [5,4,0,3,1,6,2]\n",
    "\n",
    "obj = Solution()\n",
    "obj.arrayNesting(nums)"
   ]
  },
  {
   "cell_type": "code",
   "execution_count": null,
   "metadata": {},
   "outputs": [],
   "source": []
  }
 ],
 "metadata": {
  "kernelspec": {
   "display_name": "Python 3",
   "language": "python",
   "name": "python3"
  },
  "language_info": {
   "codemirror_mode": {
    "name": "ipython",
    "version": 3
   },
   "file_extension": ".py",
   "mimetype": "text/x-python",
   "name": "python",
   "nbconvert_exporter": "python",
   "pygments_lexer": "ipython3",
   "version": "3.7.3"
  }
 },
 "nbformat": 4,
 "nbformat_minor": 2
}
