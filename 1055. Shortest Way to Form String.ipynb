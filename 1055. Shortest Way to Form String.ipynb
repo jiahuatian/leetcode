{
 "cells": [
  {
   "cell_type": "code",
   "execution_count": 30,
   "metadata": {},
   "outputs": [],
   "source": [
    "from functools import lru_cache\n",
    "class Solution:\n",
    "    def shortestWay(self, s: str, t: str) -> int:\n",
    "        def sub(s1,s2):\n",
    "            for c in s2:\n",
    "                if c in s1:\n",
    "                    s1 = s1.replace(c,'')\n",
    "            return s1 == ''\n",
    "        @lru_cache(None)\n",
    "        def dp(i):\n",
    "            if i == -1:\n",
    "                return 0\n",
    "            if i == 0:\n",
    "                if t[i] in s:\n",
    "                    return 1\n",
    "                else:\n",
    "                    return 0\n",
    "            ans = float('inf')\n",
    "            for j in range(i+1):\n",
    "                if len(t[j:i+1]) <= len(s):\n",
    "                    if sub(t[j:i+1],s):\n",
    "                        ans = min(ans,dp(j-1)+1)\n",
    "            return ans\n",
    "        return dp(len(t)-1) if dp(len(t)-1)!=float('inf') else -1"
   ]
  },
  {
   "cell_type": "code",
   "execution_count": 31,
   "metadata": {},
   "outputs": [
    {
     "data": {
      "text/plain": [
       "1"
      ]
     },
     "execution_count": 31,
     "metadata": {},
     "output_type": "execute_result"
    }
   ],
   "source": [
    "s = \"abc\"\n",
    "t = \"abc\"\n",
    "#t = \"acdbc\"\n",
    "\n",
    "obj = Solution()\n",
    "obj.shortestWay(s,t)"
   ]
  },
  {
   "cell_type": "code",
   "execution_count": 27,
   "metadata": {},
   "outputs": [],
   "source": [
    "def sub(s1,s2):\n",
    "    for c in s2:\n",
    "        if c in s1:\n",
    "            s1 = s1.replace(c,'')\n",
    "    return s1 == ''"
   ]
  },
  {
   "cell_type": "code",
   "execution_count": 29,
   "metadata": {},
   "outputs": [
    {
     "data": {
      "text/plain": [
       "True"
      ]
     },
     "execution_count": 29,
     "metadata": {},
     "output_type": "execute_result"
    }
   ],
   "source": [
    "sub(t[0:3],s)"
   ]
  },
  {
   "cell_type": "code",
   "execution_count": 32,
   "metadata": {},
   "outputs": [
    {
     "data": {
      "text/plain": [
       "True"
      ]
     },
     "execution_count": 32,
     "metadata": {},
     "output_type": "execute_result"
    }
   ],
   "source": [
    "{1:2,3:4} == {3:4,1:2}"
   ]
  },
  {
   "cell_type": "code",
   "execution_count": null,
   "metadata": {},
   "outputs": [],
   "source": []
  }
 ],
 "metadata": {
  "kernelspec": {
   "display_name": "Python 3",
   "language": "python",
   "name": "python3"
  },
  "language_info": {
   "codemirror_mode": {
    "name": "ipython",
    "version": 3
   },
   "file_extension": ".py",
   "mimetype": "text/x-python",
   "name": "python",
   "nbconvert_exporter": "python",
   "pygments_lexer": "ipython3",
   "version": "3.7.9"
  }
 },
 "nbformat": 4,
 "nbformat_minor": 4
}
