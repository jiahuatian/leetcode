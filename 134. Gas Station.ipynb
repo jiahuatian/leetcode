{
 "cells": [
  {
   "cell_type": "code",
   "execution_count": 3,
   "metadata": {},
   "outputs": [],
   "source": [
    "class Solution:\n",
    "    def canCompleteCircuit(self, gas, cost) -> int:\n",
    "        if sum(gas) < sum(cost):\n",
    "            return -1\n",
    "        net = []\n",
    "        for i in range(len(gas)):\n",
    "            net.append(gas[i]-cost[i])\n",
    "        \n",
    "        net = net+net[:-1]\n",
    "        \n",
    "        return net"
   ]
  },
  {
   "cell_type": "code",
   "execution_count": 4,
   "metadata": {},
   "outputs": [
    {
     "data": {
      "text/plain": [
       "[-2, -2, -2, 3, 3, -2, -2, -2, 3]"
      ]
     },
     "execution_count": 4,
     "metadata": {},
     "output_type": "execute_result"
    }
   ],
   "source": [
    "gas = [1,2,3,4,5]\n",
    "cost = [3,4,5,1,2]\n",
    "\n",
    "obj = Solution()\n",
    "obj.canCompleteCircuit(gas,cost)"
   ]
  },
  {
   "cell_type": "code",
   "execution_count": 90,
   "metadata": {},
   "outputs": [],
   "source": [
    "class Solution:\n",
    "    def canCompleteCircuit(self, gas, cost) -> int:\n",
    "        if sum(gas) < sum(cost):\n",
    "            return -1\n",
    "        net = []\n",
    "        for i in range(len(gas)):\n",
    "            net.append(gas[i]-cost[i])\n",
    "        ngas = len(gas)\n",
    "        net = net+net[:-1] \n",
    "        print(net)\n",
    "        \n",
    "        nnet = len(net)\n",
    "        i, j, thissum = 0, 0, 0\n",
    "        while i < nnet:\n",
    "            print(i,thissum)\n",
    "            thissum += net[i]\n",
    "            j += 1\n",
    "            if thissum < 0:\n",
    "                j = 0\n",
    "                thissum = 0\n",
    "            i += 1\n",
    "            if j == ngas:\n",
    "                return i-j\n",
    "            \n",
    "        return -1"
   ]
  },
  {
   "cell_type": "code",
   "execution_count": 91,
   "metadata": {},
   "outputs": [
    {
     "name": "stdout",
     "output_type": "stream",
     "text": [
      "[-1, -1, -1, 1, -4, -1, 68, -1, -1, -1, 1, -4, -1]\n",
      "0 0\n",
      "1 0\n",
      "2 0\n",
      "3 0\n",
      "4 1\n",
      "5 0\n",
      "6 0\n",
      "7 68\n",
      "8 67\n",
      "9 66\n",
      "10 65\n",
      "11 66\n",
      "12 62\n"
     ]
    },
    {
     "data": {
      "text/plain": [
       "6"
      ]
     },
     "execution_count": 91,
     "metadata": {},
     "output_type": "execute_result"
    }
   ],
   "source": [
    "#gas = [1,2,3,4,5]\n",
    "#cost = [3,4,5,1,2]\n",
    "\n",
    "#gas = [2]\n",
    "#cost = [2]\n",
    "\n",
    "gas = [1,2,3,4,5,5,70]\n",
    "cost = [2,3,4,3,9,6,2]\n",
    "\n",
    "#gas = [5,1,2,3,4]\n",
    "#cost = [4,4,1,5,1]\n",
    "\n",
    "#gas = [5,8,2,8]\n",
    "#cost = [6,5,6,6]\n",
    "\n",
    "obj = Solution()\n",
    "obj.canCompleteCircuit(gas,cost)"
   ]
  },
  {
   "cell_type": "code",
   "execution_count": null,
   "metadata": {},
   "outputs": [],
   "source": []
  }
 ],
 "metadata": {
  "kernelspec": {
   "display_name": "Python 3",
   "language": "python",
   "name": "python3"
  },
  "language_info": {
   "codemirror_mode": {
    "name": "ipython",
    "version": 3
   },
   "file_extension": ".py",
   "mimetype": "text/x-python",
   "name": "python",
   "nbconvert_exporter": "python",
   "pygments_lexer": "ipython3",
   "version": "3.7.3"
  }
 },
 "nbformat": 4,
 "nbformat_minor": 2
}
