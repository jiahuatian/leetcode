{
 "cells": [
  {
   "cell_type": "code",
   "execution_count": 72,
   "metadata": {},
   "outputs": [],
   "source": [
    "class Solution:\n",
    "    def divide(self, dividend, divisor):\n",
    "        \n",
    "        n = 0\n",
    "        dd = abs(dividend)\n",
    "        dv = abs(divisor)\n",
    "        \n",
    "        if dd < dv:\n",
    "            return 0\n",
    "        \n",
    "        while dv*2**n <= dd:\n",
    "            n += 1\n",
    "            \n",
    "        start = 2**(n - 1)\n",
    "        end = 2**n\n",
    "        \n",
    "        rem = dd - dv*start\n",
    "        \n",
    "        while rem >= dv:\n",
    "            mid = (start+end)//2\n",
    "            if dd - dv*mid >= 0:\n",
    "                start = mid\n",
    "            else:\n",
    "                end = mid\n",
    "            rem = dd - dv*start\n",
    "            print(rem, start, end)\n",
    "        \n",
    "        if dividend*divisor >= 0:\n",
    "            return start\n",
    "        else:\n",
    "            return -start"
   ]
  },
  {
   "cell_type": "code",
   "execution_count": 74,
   "metadata": {},
   "outputs": [
    {
     "name": "stdout",
     "output_type": "stream",
     "text": [
      "2 8 12\n",
      "0 10 12\n"
     ]
    },
    {
     "data": {
      "text/plain": [
       "10"
      ]
     },
     "execution_count": 74,
     "metadata": {},
     "output_type": "execute_result"
    }
   ],
   "source": [
    "dividend = 10\n",
    "divisor = 1\n",
    "\n",
    "#dividend = 7\n",
    "#divisor = -3\n",
    "\n",
    "#divisor = -2147483648\n",
    "#dividend = -1\n",
    "\n",
    "#dividend = 2147483647\n",
    "#divisor = 1\n",
    "\n",
    "#dividend = -231\n",
    "#divisor = 3\n",
    "\n",
    "#dividend = 1036963541\n",
    "#divisor = -24409858\n",
    "\n",
    "obj = Solution()\n",
    "obj.divide(dividend,divisor)"
   ]
  },
  {
   "cell_type": "code",
   "execution_count": null,
   "metadata": {},
   "outputs": [],
   "source": []
  }
 ],
 "metadata": {
  "kernelspec": {
   "display_name": "Python 3",
   "language": "python",
   "name": "python3"
  },
  "language_info": {
   "codemirror_mode": {
    "name": "ipython",
    "version": 3
   },
   "file_extension": ".py",
   "mimetype": "text/x-python",
   "name": "python",
   "nbconvert_exporter": "python",
   "pygments_lexer": "ipython3",
   "version": "3.7.3"
  }
 },
 "nbformat": 4,
 "nbformat_minor": 2
}
