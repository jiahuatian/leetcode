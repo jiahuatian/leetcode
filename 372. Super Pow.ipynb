{
 "cells": [
  {
   "cell_type": "code",
   "execution_count": null,
   "metadata": {},
   "outputs": [],
   "source": [
    "a = p*a1 + ar1\n",
    "a = q*a2 + ar2\n",
    "\n",
    "p*a1 + ar1 = q*a2 + ar2\n",
    "\n"
   ]
  },
  {
   "cell_type": "code",
   "execution_count": 31,
   "metadata": {},
   "outputs": [],
   "source": [
    "class Solution(object):\n",
    "    def superPow(self, a, b):\n",
    "        \"\"\"\n",
    "        :type a: int\n",
    "        :type b: List[int]\n",
    "        :rtype: int\n",
    "        \"\"\"\n",
    "        \"\"\"\n",
    "        Easy Chinese Remainder Theorem\n",
    "        \n",
    "        x % p = j and x % q = k\n",
    "        \n",
    "        x % p*q = j + p*((k - j)/p % q)\n",
    "        \n",
    "        \"\"\"\n",
    "        b = [str(x) for x in b]\n",
    "        b = int(''.join(b))\n",
    "        \n",
    "        if a**b < 1337:\n",
    "            return a**b\n",
    "        \n",
    "        temp = 0\n",
    "        p7 = 1\n",
    "        \n",
    "        while temp != a%7:\n",
    "            p7 += 1\n",
    "            temp = (a**(p7+1))%7\n",
    "            \n",
    "        p7 -= 1\n",
    "            \n",
    "        temp = 0\n",
    "        p191 = 1\n",
    "        \n",
    "        while temp != a%191:\n",
    "            p191 += 1\n",
    "            temp = (a**(p191+1))%191\n",
    "            \n",
    "        p191 -= 1\n",
    "            \n",
    "        if p7 != 0:\n",
    "            b7 = b%p7\n",
    "            j = (a**b7)%7\n",
    "        else:\n",
    "            j = 0\n",
    "        if p191 != 0:\n",
    "            b191 = b%p191\n",
    "            k = (a**b191)%191\n",
    "        else:\n",
    "            k = 0\n",
    "        \n",
    "        print(p7, p191)\n",
    "        \n",
    "        print(j, k)\n",
    "        \n",
    "        return j + 7*(((k-j)/7)%191)"
   ]
  },
  {
   "cell_type": "code",
   "execution_count": 32,
   "metadata": {},
   "outputs": [
    {
     "name": "stdout",
     "output_type": "stream",
     "text": [
      "0 9\n",
      "0 7\n"
     ]
    },
    {
     "data": {
      "text/plain": [
       "7.0"
      ]
     },
     "execution_count": 32,
     "metadata": {},
     "output_type": "execute_result"
    }
   ],
   "source": [
    "a = 7\n",
    "b = [1,0]\n",
    "\n",
    "obj = Solution()\n",
    "obj.superPow(a, b)"
   ]
  },
  {
   "cell_type": "code",
   "execution_count": null,
   "metadata": {},
   "outputs": [],
   "source": [
    "a**ap = 1 mod p\n",
    "a**aq = 1 mod q\n",
    "\n",
    "a**ap = p*Ap + 1\n",
    "a**aq = q*Aq + 1\n",
    "\n",
    "a**(ap+aq) = p*q*Ap*Aq + p*Ap + q*Aq + 1"
   ]
  }
 ],
 "metadata": {
  "kernelspec": {
   "display_name": "Python 3",
   "language": "python",
   "name": "python3"
  },
  "language_info": {
   "codemirror_mode": {
    "name": "ipython",
    "version": 3
   },
   "file_extension": ".py",
   "mimetype": "text/x-python",
   "name": "python",
   "nbconvert_exporter": "python",
   "pygments_lexer": "ipython3",
   "version": "3.7.3"
  }
 },
 "nbformat": 4,
 "nbformat_minor": 2
}
