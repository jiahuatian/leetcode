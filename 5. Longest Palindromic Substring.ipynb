{
 "cells": [
  {
   "cell_type": "code",
   "execution_count": 32,
   "metadata": {},
   "outputs": [
    {
     "data": {
      "text/plain": [
       "'1'"
      ]
     },
     "execution_count": 32,
     "metadata": {},
     "output_type": "execute_result"
    }
   ],
   "source": [
    "s = '12345654321888'\n",
    "s[0:1]"
   ]
  },
  {
   "cell_type": "code",
   "execution_count": 52,
   "metadata": {},
   "outputs": [],
   "source": [
    "class Solution:\n",
    "    def longestPalindrome(self, string):\n",
    "        \"\"\" Dynamic programming algorithm. Based on idea that current\n",
    "        substring(i, j) is a palindrome if substring(i + 1, j - 1) is\n",
    "        a palindrome and Si == Sj, i.e. In other words, if we already know that\n",
    "        current substring is a palindrome we need to add equal characters on both\n",
    "        sides to make a longer palindrome.\n",
    "\n",
    "        Time complexity: O(n ^ 2). Space complexity: O(n ^ 2), where\n",
    "        n is the length of the string.\n",
    "        \"\"\"\n",
    "        # initialize 2-D table for storing results\n",
    "        n = len(string)\n",
    "        results = [[False] * n for i in range(n)]\n",
    "        x, y = 0, 0  # start, end of longest palindromic substring so far\n",
    "\n",
    "        # every 1-letter substring is a palindrome\n",
    "        for i in range(n):\n",
    "            results[i][i] = True\n",
    "\n",
    "        # 2-letter substring(i, j) is a palindrome if string[i] == string[j]\n",
    "        for i in range(n - 1):\n",
    "            if string[i] == string[i + 1]:\n",
    "                results[i][i + 1] = True\n",
    "                # change longest palindrome to the 1st 2-letter palindrome\n",
    "                if not x and not y:\n",
    "                    x, y = i, i + 1\n",
    "\n",
    "        # results[i][j] = True if results[i + 1][j - 1] == True\n",
    "        # and string[i] == string[j]\n",
    "        for k in range(2, n):\n",
    "            for i in range(n - 2):\n",
    "                j = i + k\n",
    "                # break the loop if it exceeds the boundaries of the matrix\n",
    "                if j == n:\n",
    "                    break\n",
    "                # check if current substring is a palindrome\n",
    "                if results[i + 1][j - 1] and string[i] == string[j]:\n",
    "                    results[i][j] = True\n",
    "                    # len(substring(i, j)) > len(substring(x, y))\n",
    "                    # this way we always choose 1st longest palindrome\n",
    "                    if j - i > y - x:\n",
    "                        x, y = i, j\n",
    "\n",
    "        return string[x:y + 1]"
   ]
  },
  {
   "cell_type": "code",
   "execution_count": 54,
   "metadata": {},
   "outputs": [
    {
     "data": {
      "text/plain": [
       "'12345654321'"
      ]
     },
     "execution_count": 54,
     "metadata": {},
     "output_type": "execute_result"
    }
   ],
   "source": [
    "s = \"bb\"\n",
    "s = '12345654321888'\n",
    "\n",
    "obj = Solution()\n",
    "obj.longestPalindrome(s)"
   ]
  },
  {
   "cell_type": "markdown",
   "metadata": {},
   "source": [
    "03 -> 12\n",
    "02"
   ]
  },
  {
   "cell_type": "code",
   "execution_count": 79,
   "metadata": {},
   "outputs": [],
   "source": [
    "class Solution(object):\n",
    "    def longestPalindrome(self, s):\n",
    "        \"\"\"\n",
    "        :type s: str\n",
    "        :rtype: str\n",
    "        \"\"\"\n",
    "        n = len(s)\n",
    "        mat = [[False for i in range(n)] for j in range(n)]\n",
    "        \n",
    "        x, y = 0, 0\n",
    "        \n",
    "        for i in range(n):\n",
    "            mat[i][i] = True\n",
    "            \n",
    "        for i in range(n-1):\n",
    "            if s[i] == s[i+1]:\n",
    "                mat[i][i+1] = True\n",
    "                if x == 0 and y == 0:\n",
    "                    x = i\n",
    "                    y = i+1\n",
    "                \n",
    "        print(x,y)\n",
    "                \n",
    "        for j in range(2,n):\n",
    "            for i in range(n-j):\n",
    "                if mat[i+1][i+j-1] and s[i] == s[i+j]:\n",
    "                    print(i,i+j)\n",
    "                    mat[i][i+j] = True\n",
    "                    if j > y - x:\n",
    "                        x = i\n",
    "                        y = i+j\n",
    "                        \n",
    "        print(mat)\n",
    "                        \n",
    "        return s[x:y+1]\n",
    "            "
   ]
  },
  {
   "cell_type": "code",
   "execution_count": 80,
   "metadata": {
    "scrolled": true
   },
   "outputs": [
    {
     "name": "stdout",
     "output_type": "stream",
     "text": [
      "1 2\n",
      "[[True, False, False, False], [False, True, True, False], [False, False, True, False], [False, False, False, True]]\n"
     ]
    },
    {
     "data": {
      "text/plain": [
       "'bb'"
      ]
     },
     "execution_count": 80,
     "metadata": {},
     "output_type": "execute_result"
    }
   ],
   "source": [
    "s = \"cbbd\"\n",
    "\n",
    "obj = Solution()\n",
    "obj.longestPalindrome(s)"
   ]
  },
  {
   "cell_type": "code",
   "execution_count": 3,
   "metadata": {},
   "outputs": [],
   "source": [
    "class Solution:\n",
    "    def longestPalindrome(self, s: str) -> str:\n",
    "        n = len(s)\n",
    "        dp = [[True for _ in range(n)] for _ in range(n)]\n",
    "        for i in range(n-1):\n",
    "            if s[i] == s[i+1]:\n",
    "                dp[i][i+1] = True\n",
    "            else:\n",
    "                dp[i][i+1] = False\n",
    "        for j in range(2,n):\n",
    "            for i in range(n-j):\n",
    "                if dp[i+1][i+j-1] and s[i] == s[i+j]:\n",
    "                    dp[i][i+j] = True\n",
    "                else:\n",
    "                    dp[i][i+j] = False\n",
    "        return dp"
   ]
  },
  {
   "cell_type": "code",
   "execution_count": 4,
   "metadata": {},
   "outputs": [
    {
     "data": {
      "text/plain": [
       "[[True, False, True, False, False],\n",
       " [True, True, False, True, False],\n",
       " [True, True, True, False, False],\n",
       " [True, True, True, True, False],\n",
       " [True, True, True, True, True]]"
      ]
     },
     "execution_count": 4,
     "metadata": {},
     "output_type": "execute_result"
    }
   ],
   "source": [
    "s = \"babad\"\n",
    "\n",
    "obj = Solution()\n",
    "obj.longestPalindrome(s)"
   ]
  },
  {
   "cell_type": "code",
   "execution_count": null,
   "metadata": {},
   "outputs": [],
   "source": []
  }
 ],
 "metadata": {
  "kernelspec": {
   "display_name": "Python 3",
   "language": "python",
   "name": "python3"
  },
  "language_info": {
   "codemirror_mode": {
    "name": "ipython",
    "version": 3
   },
   "file_extension": ".py",
   "mimetype": "text/x-python",
   "name": "python",
   "nbconvert_exporter": "python",
   "pygments_lexer": "ipython3",
   "version": "3.7.3"
  }
 },
 "nbformat": 4,
 "nbformat_minor": 2
}
