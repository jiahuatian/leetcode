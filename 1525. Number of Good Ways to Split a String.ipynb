{
 "cells": [
  {
   "cell_type": "code",
   "execution_count": 7,
   "metadata": {},
   "outputs": [],
   "source": [
    "class Solution:\n",
    "    def numSplits(self, s: str) -> int:\n",
    "        if len(s) == 1:\n",
    "            return 0\n",
    "        from collections import defaultdict\n",
    "        d1,d2 = defaultdict(int),defaultdict(int)\n",
    "        d1[s[0]] = 1\n",
    "        for i in range(1,len(s)):\n",
    "            d2[s[i]] += 1\n",
    "        ans = 1 if d1 == d2 else 0\n",
    "        for i in range(1,len(s)-1):\n",
    "            d1[s[i]] += 1\n",
    "            d2[s[i]] -= 1\n",
    "            if d2[s[i]] == 0:\n",
    "                del d2[s[i]]\n",
    "            print(d1,d2)\n",
    "            if d1 == d2:\n",
    "                ans += 1\n",
    "        return ans"
   ]
  },
  {
   "cell_type": "code",
   "execution_count": 8,
   "metadata": {},
   "outputs": [
    {
     "name": "stdout",
     "output_type": "stream",
     "text": [
      "defaultdict(<class 'int'>, {'a': 2}) defaultdict(<class 'int'>, {'a': 2, 'c': 1, 'b': 1})\n",
      "defaultdict(<class 'int'>, {'a': 2, 'c': 1}) defaultdict(<class 'int'>, {'a': 2, 'b': 1})\n",
      "defaultdict(<class 'int'>, {'a': 3, 'c': 1}) defaultdict(<class 'int'>, {'a': 1, 'b': 1})\n",
      "defaultdict(<class 'int'>, {'a': 3, 'c': 1, 'b': 1}) defaultdict(<class 'int'>, {'a': 1})\n"
     ]
    },
    {
     "data": {
      "text/plain": [
       "0"
      ]
     },
     "execution_count": 8,
     "metadata": {},
     "output_type": "execute_result"
    }
   ],
   "source": [
    "s = \"aacaba\"\n",
    "\n",
    "obj = Solution()\n",
    "obj.numSplits(s)"
   ]
  },
  {
   "cell_type": "code",
   "execution_count": null,
   "metadata": {},
   "outputs": [],
   "source": []
  }
 ],
 "metadata": {
  "kernelspec": {
   "display_name": "Python 3",
   "language": "python",
   "name": "python3"
  },
  "language_info": {
   "codemirror_mode": {
    "name": "ipython",
    "version": 3
   },
   "file_extension": ".py",
   "mimetype": "text/x-python",
   "name": "python",
   "nbconvert_exporter": "python",
   "pygments_lexer": "ipython3",
   "version": "3.7.9"
  }
 },
 "nbformat": 4,
 "nbformat_minor": 4
}
