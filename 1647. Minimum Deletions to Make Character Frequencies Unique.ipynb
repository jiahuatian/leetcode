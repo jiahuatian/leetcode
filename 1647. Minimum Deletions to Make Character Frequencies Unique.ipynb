{
 "cells": [
  {
   "cell_type": "code",
   "execution_count": 20,
   "metadata": {},
   "outputs": [],
   "source": [
    "class Solution:\n",
    "    def minDeletions(self, s: str) -> int:\n",
    "        import collections\n",
    "        ls = list(s)\n",
    "        counter = collections.Counter(ls)\n",
    "        ls_sort = counter.most_common()\n",
    "        n = len(ls_sort)\n",
    "        for i in range(n):\n",
    "            if sum([t[1] for t in ls_sort[i:]]) >= (n-i)*(n-i+1)//2 and ls_sort[i][1] >= n-i:\n",
    "                continue\n",
    "            else:\n",
    "                if sum([t[1] for t in ls_sort[i:]]) < (n-i)*(n-i+1)//2 and ls_sort[i][1] < n-i:\n",
    "                    \n",
    "        return sum([t[1] for t in ls_sort[]]) - n*(n+1)//2"
   ]
  },
  {
   "cell_type": "code",
   "execution_count": 22,
   "metadata": {},
   "outputs": [
    {
     "name": "stdout",
     "output_type": "stream",
     "text": [
      "[('a', 3), ('c', 2), ('b', 2), ('e', 1)]\n",
      "[3, 2, 2, 1]\n",
      "8\n",
      "4\n"
     ]
    },
    {
     "data": {
      "text/plain": [
       "-2"
      ]
     },
     "execution_count": 22,
     "metadata": {},
     "output_type": "execute_result"
    }
   ],
   "source": [
    "s = \"aab\"\n",
    "s = \"aaabbbcc\"\n",
    "s = \"ceabaacb\"\n",
    "\n",
    "obj = Solution()\n",
    "obj.minDeletions(s)"
   ]
  },
  {
   "cell_type": "code",
   "execution_count": 29,
   "metadata": {},
   "outputs": [],
   "source": [
    "import collections\n",
    "s = \"ceabaacb\"\n",
    "ls = list(s)\n",
    "ls = collections.Counter(ls).items()"
   ]
  },
  {
   "cell_type": "code",
   "execution_count": 30,
   "metadata": {},
   "outputs": [
    {
     "data": {
      "text/plain": [
       "dict_items([('c', 2), ('e', 1), ('a', 3), ('b', 2)])"
      ]
     },
     "execution_count": 30,
     "metadata": {},
     "output_type": "execute_result"
    }
   ],
   "source": [
    "ls"
   ]
  },
  {
   "cell_type": "code",
   "execution_count": 31,
   "metadata": {},
   "outputs": [
    {
     "data": {
      "text/plain": [
       "[1, 2, 3, 4, 5]"
      ]
     },
     "execution_count": 31,
     "metadata": {},
     "output_type": "execute_result"
    }
   ],
   "source": [
    "nums = [1,2,3,4,5]\n",
    "nums[:8]"
   ]
  },
  {
   "cell_type": "code",
   "execution_count": null,
   "metadata": {},
   "outputs": [],
   "source": []
  }
 ],
 "metadata": {
  "kernelspec": {
   "display_name": "Python 3",
   "language": "python",
   "name": "python3"
  },
  "language_info": {
   "codemirror_mode": {
    "name": "ipython",
    "version": 3
   },
   "file_extension": ".py",
   "mimetype": "text/x-python",
   "name": "python",
   "nbconvert_exporter": "python",
   "pygments_lexer": "ipython3",
   "version": "3.7.3"
  }
 },
 "nbformat": 4,
 "nbformat_minor": 2
}
