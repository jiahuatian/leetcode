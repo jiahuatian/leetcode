{
 "cells": [
  {
   "cell_type": "code",
   "execution_count": 1,
   "metadata": {},
   "outputs": [],
   "source": [
    "class Solution:\n",
    "    def findPeakGrid(self, mat):\n",
    "        def oneDPeak(l):\n",
    "            ans = []\n",
    "            for i in range(len(l)):\n",
    "                if i == 0:\n",
    "                    if l[0] > l[1]:\n",
    "                        ans.append(0)\n",
    "                elif i == len(l)-1:\n",
    "                    if l[i] > l[i-1]:\n",
    "                        ans.append(i)\n",
    "                else:\n",
    "                    if l[i] > l[i-1] and l[i] > l[i+1]:\n",
    "                        ans.append(i)\n",
    "            return ans\n",
    "        s_r,s_c = set(),set()\n",
    "        for i in range(len(mat)):\n",
    "            ind = oneDPeak(mat[i])\n",
    "            for k in ind:\n",
    "                s_r.add((i,k))\n",
    "        for j in range(len(mat[0])):\n",
    "            ind = oneDPeak([mat[i][j] for i in range(len(mat))])\n",
    "            for k in ind:\n",
    "                s_c.add((k,j))\n",
    "        return list(s_r.intersection(s_c))[0] if s_r.intersection(s_c) else []"
   ]
  },
  {
   "cell_type": "code",
   "execution_count": 3,
   "metadata": {},
   "outputs": [
    {
     "data": {
      "text/plain": [
       "(0, 1)"
      ]
     },
     "execution_count": 3,
     "metadata": {},
     "output_type": "execute_result"
    }
   ],
   "source": [
    "mat = [[10,20,15],[21,30,14],[7,16,32]]\n",
    "mat = [[1,4],[3,2]]\n",
    "\n",
    "obj = Solution()\n",
    "obj.findPeakGrid(mat)"
   ]
  },
  {
   "cell_type": "code",
   "execution_count": null,
   "metadata": {},
   "outputs": [],
   "source": []
  }
 ],
 "metadata": {
  "kernelspec": {
   "display_name": "Python 3",
   "language": "python",
   "name": "python3"
  },
  "language_info": {
   "codemirror_mode": {
    "name": "ipython",
    "version": 3
   },
   "file_extension": ".py",
   "mimetype": "text/x-python",
   "name": "python",
   "nbconvert_exporter": "python",
   "pygments_lexer": "ipython3",
   "version": "3.7.3"
  }
 },
 "nbformat": 4,
 "nbformat_minor": 2
}
