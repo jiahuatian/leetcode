{
 "cells": [
  {
   "cell_type": "code",
   "execution_count": 58,
   "metadata": {},
   "outputs": [],
   "source": [
    "class Solution:\n",
    "    def numDecodings(self, s: str) -> int:\n",
    "        from collections import defaultdict\n",
    "        dp = defaultdict(int)\n",
    "        if s[0] == '0':\n",
    "            return 0\n",
    "        else:\n",
    "            dp[0] = 1\n",
    "            dp[-1] = 1\n",
    "            \n",
    "        for i in range(1,len(s)):\n",
    "            recent = int(s[i-1:i+1])\n",
    "            if recent == 0:\n",
    "                return 0\n",
    "            elif recent < 10:\n",
    "                dp[i] = dp[i-1]\n",
    "            elif recent == 10 or recent == 20:\n",
    "                if i-2 >= 0:\n",
    "                    dp[i] = dp[i-2]\n",
    "                else:\n",
    "                    dp[i] = 1\n",
    "            elif s[i] == \"0\" and int(s[i-1]) > 2:\n",
    "                return 0\n",
    "            elif recent > 10 and recent <=26:\n",
    "                dp[i] = dp[i-1] + dp[i-2]\n",
    "            elif recent > 26:\n",
    "                dp[i] = dp[i-1]\n",
    "                \n",
    "        print(dp)\n",
    "                \n",
    "        return dp[len(s)-1]"
   ]
  },
  {
   "cell_type": "code",
   "execution_count": 60,
   "metadata": {},
   "outputs": [
    {
     "data": {
      "text/plain": [
       "0"
      ]
     },
     "execution_count": 60,
     "metadata": {},
     "output_type": "execute_result"
    }
   ],
   "source": [
    "s = \"06\"\n",
    "#s = \"12\"\n",
    "#s = \"0\"\n",
    "#s = \"11106\"\n",
    "#s = \"226\"\n",
    "#s = \"10\"\n",
    "#s = \"1123\"\n",
    "s = \"34092230\"\n",
    "\n",
    "obj = Solution()\n",
    "obj.numDecodings(s)"
   ]
  },
  {
   "cell_type": "code",
   "execution_count": 5,
   "metadata": {},
   "outputs": [],
   "source": [
    "class Solution:\n",
    "    def numDecodings(self, s: str) -> int:\n",
    "        from collections import defaultdict\n",
    "        dp = defaultdict(int)\n",
    "        if s[0] == '0':\n",
    "            return 0\n",
    "        else:\n",
    "            dp[0] = 1\n",
    "            dp[-1] = 1\n",
    "        for i in range(1,len(s)):\n",
    "            if s[i] != '0' and (0 < int(s[i-1:i+1]) < 10 or int(s[i-1:i+1]) > 26):\n",
    "                dp[i] = dp[i-1]\n",
    "            elif s[i] == '0' and int(s[i-1:i+1]) >= 30:\n",
    "                return 0\n",
    "            elif s[i-1:i+1] == '10' or s[i-1:i+1] == '20':\n",
    "                dp[i] = dp[i-2]\n",
    "            elif s[i-1:i+1] == '00':\n",
    "                return 0\n",
    "            elif 11 <= int(s[i-1:i+1]) <= 26:\n",
    "                dp[i] = dp[i-1] + dp[i-2]\n",
    "        return dp[len(s)-1]"
   ]
  },
  {
   "cell_type": "code",
   "execution_count": 6,
   "metadata": {},
   "outputs": [
    {
     "data": {
      "text/plain": [
       "0"
      ]
     },
     "execution_count": 6,
     "metadata": {},
     "output_type": "execute_result"
    }
   ],
   "source": [
    "s = \"230\"\n",
    "\n",
    "obj = Solution()\n",
    "obj.numDecodings(s)"
   ]
  },
  {
   "cell_type": "code",
   "execution_count": null,
   "metadata": {},
   "outputs": [],
   "source": []
  }
 ],
 "metadata": {
  "kernelspec": {
   "display_name": "Python 3",
   "language": "python",
   "name": "python3"
  },
  "language_info": {
   "codemirror_mode": {
    "name": "ipython",
    "version": 3
   },
   "file_extension": ".py",
   "mimetype": "text/x-python",
   "name": "python",
   "nbconvert_exporter": "python",
   "pygments_lexer": "ipython3",
   "version": "3.7.3"
  }
 },
 "nbformat": 4,
 "nbformat_minor": 2
}
