{
 "cells": [
  {
   "cell_type": "code",
   "execution_count": 8,
   "metadata": {},
   "outputs": [],
   "source": [
    "class Solution:\n",
    "    def carPooling(self, trips, capacity: int) -> bool:\n",
    "        trips.sort(key=lambda a:a[1])\n",
    "        ans = []\n",
    "        for p,f,t in trips:\n",
    "            if not ans:\n",
    "                ans.append([p,f,t])\n",
    "                if p > capacity:\n",
    "                    return False\n",
    "            else:\n",
    "                n = len(ans)\n",
    "                ans = [a for a in ans if a[2] > f]\n",
    "                ans.append([p,f,t])\n",
    "                print(ans)\n",
    "                if sum([a[0] for a in ans]) > capacity:\n",
    "                    return False\n",
    "        return True"
   ]
  },
  {
   "cell_type": "code",
   "execution_count": 9,
   "metadata": {},
   "outputs": [
    {
     "name": "stdout",
     "output_type": "stream",
     "text": [
      "[[3, 2, 7], [8, 3, 9]]\n",
      "[[8, 3, 9], [3, 7, 9]]\n"
     ]
    },
    {
     "data": {
      "text/plain": [
       "True"
      ]
     },
     "execution_count": 9,
     "metadata": {},
     "output_type": "execute_result"
    }
   ],
   "source": [
    "trips = [[3,2,7],[3,7,9],[8,3,9]]\n",
    "capacity = 11\n",
    "\n",
    "obj = Solution()\n",
    "obj.carPooling(trips,capacity)"
   ]
  },
  {
   "cell_type": "code",
   "execution_count": null,
   "metadata": {},
   "outputs": [],
   "source": []
  }
 ],
 "metadata": {
  "kernelspec": {
   "display_name": "Python 3",
   "language": "python",
   "name": "python3"
  },
  "language_info": {
   "codemirror_mode": {
    "name": "ipython",
    "version": 3
   },
   "file_extension": ".py",
   "mimetype": "text/x-python",
   "name": "python",
   "nbconvert_exporter": "python",
   "pygments_lexer": "ipython3",
   "version": "3.7.9"
  }
 },
 "nbformat": 4,
 "nbformat_minor": 4
}
