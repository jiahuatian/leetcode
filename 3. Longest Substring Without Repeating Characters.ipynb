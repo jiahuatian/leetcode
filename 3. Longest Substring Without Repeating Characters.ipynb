{
 "cells": [
  {
   "cell_type": "code",
   "execution_count": 1,
   "metadata": {},
   "outputs": [
    {
     "data": {
      "text/plain": [
       "True"
      ]
     },
     "execution_count": 1,
     "metadata": {},
     "output_type": "execute_result"
    }
   ],
   "source": [
    "s = \"abcabcbb\"\n",
    "\n",
    "'a' in s\n"
   ]
  },
  {
   "cell_type": "code",
   "execution_count": 2,
   "metadata": {},
   "outputs": [],
   "source": [
    "class Solution(object):\n",
    "    def lengthOfLongestSubstring(self, s):\n",
    "        \"\"\"\n",
    "        :type s: str\n",
    "        :rtype: int\n",
    "        \"\"\"\n",
    "        if s == '':\n",
    "            return 0\n",
    "        if len(s) == 1:\n",
    "            return 1\n",
    "        \n",
    "        n = len(s)\n",
    "        \n",
    "        mymat = [[False for i in range(n)] for j in range(n)]\n",
    "        \n",
    "        for i in range(n):\n",
    "            mymat[i][i] = True    \n",
    "            \n",
    "        res = 1\n",
    "        \n",
    "        for j in range(1,n):\n",
    "            for i in range(0,n):\n",
    "                if i+j < n:\n",
    "                    if mymat[i][i+j-1] == True and s[i+j] not in s[i:i+j]:\n",
    "                        mymat[i][i+j] = True\n",
    "                        if j + 1 > res:\n",
    "                            res = j + 1\n",
    "                            \n",
    "        return res"
   ]
  },
  {
   "cell_type": "code",
   "execution_count": 9,
   "metadata": {},
   "outputs": [
    {
     "data": {
      "text/plain": [
       "95"
      ]
     },
     "execution_count": 9,
     "metadata": {},
     "output_type": "execute_result"
    }
   ],
   "source": [
    "s = \"pwwkew\"\n",
    "s = \"\"\n",
    "s = \"bbbbb\"\n",
    "s = \"abcabcbb\"\n",
    "s = \"abcdefghijklmnopqrstuvwxyzABCDEFGHIJKLMNOPQRSTUVWXYZ0123456789!\\\"#$%&'()*+,-./:;<=>?@[\\\\]^_`{|}~ abc\"\n",
    "\n",
    "obj = Solution()\n",
    "obj.lengthOfLongestSubstring(s)"
   ]
  },
  {
   "cell_type": "code",
   "execution_count": 10,
   "metadata": {},
   "outputs": [
    {
     "data": {
      "text/plain": [
       "98"
      ]
     },
     "execution_count": 10,
     "metadata": {},
     "output_type": "execute_result"
    }
   ],
   "source": [
    "len(s)"
   ]
  },
  {
   "cell_type": "code",
   "execution_count": 14,
   "metadata": {},
   "outputs": [
    {
     "name": "stdout",
     "output_type": "stream",
     "text": [
      "1\n",
      "2\n"
     ]
    }
   ],
   "source": [
    "right = 1\n",
    "\n",
    "\n",
    "while right in range(1,3):\n",
    "    print(right)\n",
    "    right += 1"
   ]
  },
  {
   "cell_type": "code",
   "execution_count": 19,
   "metadata": {},
   "outputs": [],
   "source": [
    "class Solution:\n",
    "    def lengthOfLongestSubstring(self, s):\n",
    "        n = len(s)\n",
    "        ans = 0\n",
    "        # mp stores the current index of a character\n",
    "        mp = {}\n",
    "\n",
    "        i = 0\n",
    "        # try to extend the range [i, j]\n",
    "        for j in range(n):\n",
    "            if s[j] in mp:\n",
    "                i = mp[s[j]] + 1\n",
    "                \n",
    "            print(i)\n",
    "\n",
    "            ans = max(ans, j - i + 1)\n",
    "            mp[s[j]] = j\n",
    "            \n",
    "        print(mp)\n",
    "\n",
    "        return ans"
   ]
  },
  {
   "cell_type": "code",
   "execution_count": 20,
   "metadata": {},
   "outputs": [
    {
     "name": "stdout",
     "output_type": "stream",
     "text": [
      "0\n",
      "0\n",
      "2\n",
      "1\n",
      "{'a': 3, 'b': 2}\n"
     ]
    },
    {
     "data": {
      "text/plain": [
       "3"
      ]
     },
     "execution_count": 20,
     "metadata": {},
     "output_type": "execute_result"
    }
   ],
   "source": [
    "s = \"pwwkew\"\n",
    "s = \"\"\n",
    "s = \"bbbbb\"\n",
    "s = \"abcabcbb\"\n",
    "s = \"abcdefghijklmnopqrstuvwxyzABCDEFGHIJKLMNOPQRSTUVWXYZ0123456789!\\\"#$%&'()*+,-./:;<=>?@[\\\\]^_`{|}~ abc\"\n",
    "s = \"abba\"\n",
    "\n",
    "obj = Solution()\n",
    "obj.lengthOfLongestSubstring(s)"
   ]
  },
  {
   "cell_type": "code",
   "execution_count": 21,
   "metadata": {},
   "outputs": [],
   "source": [
    "class Solution:\n",
    "    def lengthOfLongestSubstring(self, s: str) -> int:\n",
    "        mymax = 0\n",
    "        i = 0\n",
    "        while i < len(s):\n",
    "            j = i\n",
    "            while j < len(s):\n",
    "                if s[j] not in s[i:j]:\n",
    "                    mymax = max(mymax,j-i+1)\n",
    "                    j += 1\n",
    "                else:\n",
    "                    i += 1\n",
    "                    break\n",
    "            if j == len(s):\n",
    "                break\n",
    "                    \n",
    "        return mymax"
   ]
  },
  {
   "cell_type": "code",
   "execution_count": 24,
   "metadata": {},
   "outputs": [
    {
     "name": "stdout",
     "output_type": "stream",
     "text": [
      "0\n",
      "1\n",
      "2\n",
      "3\n",
      "4\n"
     ]
    },
    {
     "data": {
      "text/plain": [
       "1"
      ]
     },
     "execution_count": 24,
     "metadata": {},
     "output_type": "execute_result"
    }
   ],
   "source": [
    "s = \"bbbbb\"\n",
    "#s = \"pwwkew\"\n",
    "#s = \" \"\n",
    "\n",
    "obj = Solution()\n",
    "obj.lengthOfLongestSubstring(s)"
   ]
  },
  {
   "cell_type": "code",
   "execution_count": 26,
   "metadata": {},
   "outputs": [
    {
     "data": {
      "text/plain": [
       "True"
      ]
     },
     "execution_count": 26,
     "metadata": {},
     "output_type": "execute_result"
    }
   ],
   "source": [
    "set('ab') == set('ba')"
   ]
  },
  {
   "cell_type": "code",
   "execution_count": 28,
   "metadata": {},
   "outputs": [
    {
     "data": {
      "text/plain": [
       "True"
      ]
     },
     "execution_count": 28,
     "metadata": {},
     "output_type": "execute_result"
    }
   ],
   "source": [
    "dict1 = {1:2, 2:4}\n",
    "dict2 = {2:4, 1:2}\n",
    "dict1 == dict2"
   ]
  },
  {
   "cell_type": "code",
   "execution_count": null,
   "metadata": {},
   "outputs": [],
   "source": []
  }
 ],
 "metadata": {
  "kernelspec": {
   "display_name": "Python 3",
   "language": "python",
   "name": "python3"
  },
  "language_info": {
   "codemirror_mode": {
    "name": "ipython",
    "version": 3
   },
   "file_extension": ".py",
   "mimetype": "text/x-python",
   "name": "python",
   "nbconvert_exporter": "python",
   "pygments_lexer": "ipython3",
   "version": "3.7.3"
  }
 },
 "nbformat": 4,
 "nbformat_minor": 2
}
