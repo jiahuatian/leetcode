{
 "cells": [
  {
   "cell_type": "code",
   "execution_count": 15,
   "metadata": {},
   "outputs": [],
   "source": [
    "class Solution:\n",
    "    def integerBreak(self, n: int) -> int:\n",
    "        dp = [1]*(n+1)\n",
    "        dp[2] = 1\n",
    "        for i in range(3,n+1):\n",
    "            for j in range(i+1):\n",
    "                dp[i] = max(dp[i],dp[i-j]*j)\n",
    "        if n == 3:\n",
    "            return 2\n",
    "        return dp[n]"
   ]
  },
  {
   "cell_type": "code",
   "execution_count": 17,
   "metadata": {},
   "outputs": [
    {
     "data": {
      "text/plain": [
       "9"
      ]
     },
     "execution_count": 17,
     "metadata": {},
     "output_type": "execute_result"
    }
   ],
   "source": [
    "n = 6\n",
    "\n",
    "obj = Solution()\n",
    "obj.integerBreak(n)"
   ]
  },
  {
   "cell_type": "code",
   "execution_count": 18,
   "metadata": {},
   "outputs": [],
   "source": [
    "class Solution:\n",
    "    def integerBreak(self, n: int) -> int:\n",
    "        def dp(i):\n",
    "            if i == 1:\n",
    "                return 0\n",
    "            if i == 2:\n",
    "                return 1\n",
    "            ans = 1\n",
    "            for j in range(1,i):\n",
    "                ans = max(ans,dp(i-j)*j,(i-j)*j)\n",
    "            return ans\n",
    "        return dp(n)"
   ]
  },
  {
   "cell_type": "code",
   "execution_count": 20,
   "metadata": {},
   "outputs": [
    {
     "data": {
      "text/plain": [
       "2"
      ]
     },
     "execution_count": 20,
     "metadata": {},
     "output_type": "execute_result"
    }
   ],
   "source": [
    "n = 3\n",
    "obj = Solution()\n",
    "obj.integerBreak(n)"
   ]
  },
  {
   "cell_type": "code",
   "execution_count": null,
   "metadata": {},
   "outputs": [],
   "source": []
  }
 ],
 "metadata": {
  "kernelspec": {
   "display_name": "Python 3",
   "language": "python",
   "name": "python3"
  },
  "language_info": {
   "codemirror_mode": {
    "name": "ipython",
    "version": 3
   },
   "file_extension": ".py",
   "mimetype": "text/x-python",
   "name": "python",
   "nbconvert_exporter": "python",
   "pygments_lexer": "ipython3",
   "version": "3.7.3"
  }
 },
 "nbformat": 4,
 "nbformat_minor": 2
}
