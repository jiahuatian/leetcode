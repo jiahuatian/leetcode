{
 "cells": [
  {
   "cell_type": "code",
   "execution_count": 8,
   "metadata": {},
   "outputs": [],
   "source": [
    "class Solution:\n",
    "    def maximalSquare(self, matrix) -> int:\n",
    "        import math\n",
    "        m,n = len(matrix),len(matrix[0])\n",
    "        dp = [[0 for _ in range(n)] for _ in range(m)]\n",
    "        dp[0][0] = 1 if matrix[0][0] == '1' else 0\n",
    "        max1 = max(0,dp[0][0])\n",
    "        for i in range(m):\n",
    "            for j in range(n):\n",
    "                if i == 0 and j != 0:\n",
    "                    dp[i][j] = 1 if matrix[i][j] == '1' else 0\n",
    "                if i != 0 and j == 0:\n",
    "                    dp[i][j] = 1 if matrix[i][j] == '1' else 0\n",
    "                if i != 0 and j != 0:\n",
    "                    if matrix[i][j] == '0':\n",
    "                        dp[i][j] == 0\n",
    "                    else:\n",
    "                        dp[i][j] = 1\n",
    "                        for k in range(1,int(math.sqrt(dp[i-1][j-1])+1)):\n",
    "                            if matrix[i-k][j] == matrix[i][j-k] == '1':\n",
    "                                dp[i][j] = (k+1)**2\n",
    "                            else:\n",
    "                                break\n",
    "                max1 = max(max1,dp[i][j])\n",
    "                \n",
    "        print(dp)\n",
    "        return max1"
   ]
  },
  {
   "cell_type": "code",
   "execution_count": 9,
   "metadata": {},
   "outputs": [
    {
     "name": "stdout",
     "output_type": "stream",
     "text": [
      "[[1, 0, 1, 0, 0], [1, 0, 1, 1, 1], [1, 1, 1, 4, 4], [1, 0, 0, 1, 0]]\n"
     ]
    },
    {
     "data": {
      "text/plain": [
       "4"
      ]
     },
     "execution_count": 9,
     "metadata": {},
     "output_type": "execute_result"
    }
   ],
   "source": [
    "matrix = [[\"1\",\"0\",\"1\",\"0\",\"0\"],[\"1\",\"0\",\"1\",\"1\",\"1\"],[\"1\",\"1\",\"1\",\"1\",\"1\"],[\"1\",\"0\",\"0\",\"1\",\"0\"]]\n",
    "\n",
    "obj = Solution()\n",
    "obj.maximalSquare(matrix)"
   ]
  },
  {
   "cell_type": "code",
   "execution_count": null,
   "metadata": {},
   "outputs": [],
   "source": []
  }
 ],
 "metadata": {
  "kernelspec": {
   "display_name": "Python 3",
   "language": "python",
   "name": "python3"
  },
  "language_info": {
   "codemirror_mode": {
    "name": "ipython",
    "version": 3
   },
   "file_extension": ".py",
   "mimetype": "text/x-python",
   "name": "python",
   "nbconvert_exporter": "python",
   "pygments_lexer": "ipython3",
   "version": "3.7.3"
  }
 },
 "nbformat": 4,
 "nbformat_minor": 2
}
