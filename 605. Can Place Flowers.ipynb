{
 "cells": [
  {
   "cell_type": "code",
   "execution_count": 7,
   "metadata": {},
   "outputs": [],
   "source": [
    "class Solution:\n",
    "    def canPlaceFlowers(self, flowerbed, n: int) -> bool:\n",
    "        if len(flowerbed) == 1 and flowerbed[0] == 0:\n",
    "            return n == 1\n",
    "        \n",
    "        planted = 0\n",
    "        for i in range(len(flowerbed)):\n",
    "            if i == 0:\n",
    "                if flowerbed[0] == 0 and flowerbed[1] == 0:\n",
    "                    flowerbed[0] = 1\n",
    "                    planted += 1\n",
    "            elif i == len(flowerbed)-1:\n",
    "                if flowerbed[len(flowerbed)-1] == 0 and flowerbed[len(flowerbed)-2] == 0:\n",
    "                    flowerbed[len(flowerbed)-1] = 1\n",
    "                    planted += 1\n",
    "            else:\n",
    "                if flowerbed[i-1] == 0 and flowerbed[i] == 0 and flowerbed[i+1] == 0:\n",
    "                    flowerbed[i] = 1\n",
    "                    planted += 1\n",
    "        if planted >= n:\n",
    "            return True\n",
    "        return False"
   ]
  },
  {
   "cell_type": "code",
   "execution_count": 8,
   "metadata": {},
   "outputs": [
    {
     "data": {
      "text/plain": [
       "True"
      ]
     },
     "execution_count": 8,
     "metadata": {},
     "output_type": "execute_result"
    }
   ],
   "source": [
    "flowerbed = [1,0,0,0,1]\n",
    "n = 2\n",
    "flowerbed = [0]\n",
    "n = 1\n",
    "\n",
    "obj = Solution()\n",
    "obj.canPlaceFlowers(flowerbed,n)"
   ]
  },
  {
   "cell_type": "code",
   "execution_count": null,
   "metadata": {},
   "outputs": [],
   "source": []
  }
 ],
 "metadata": {
  "kernelspec": {
   "display_name": "Python 3",
   "language": "python",
   "name": "python3"
  },
  "language_info": {
   "codemirror_mode": {
    "name": "ipython",
    "version": 3
   },
   "file_extension": ".py",
   "mimetype": "text/x-python",
   "name": "python",
   "nbconvert_exporter": "python",
   "pygments_lexer": "ipython3",
   "version": "3.7.3"
  }
 },
 "nbformat": 4,
 "nbformat_minor": 2
}
