{
 "cells": [
  {
   "cell_type": "code",
   "execution_count": 1,
   "metadata": {},
   "outputs": [],
   "source": [
    "class Solution:\n",
    "    def findPeakElement(self, nums) -> int:\n",
    "        from collections import defaultdict\n",
    "        heights = defaultdict(int)\n",
    "        heights[-1] = -float('inf')\n",
    "        nums.append(-float('inf'))\n",
    "        \n",
    "        for i in range(len(nums)+1):\n",
    "            heights[i] = nums[i]\n",
    "            if heights[i] < heights[i-1]:\n",
    "                return i-1"
   ]
  },
  {
   "cell_type": "code",
   "execution_count": 2,
   "metadata": {},
   "outputs": [
    {
     "data": {
      "text/plain": [
       "0"
      ]
     },
     "execution_count": 2,
     "metadata": {},
     "output_type": "execute_result"
    }
   ],
   "source": [
    "nums = [1]\n",
    "\n",
    "obj = Solution()\n",
    "obj.findPeakElement(nums)"
   ]
  },
  {
   "cell_type": "code",
   "execution_count": 27,
   "metadata": {},
   "outputs": [],
   "source": [
    "class Solution:\n",
    "    def findPeakElement(self, nums) -> int:\n",
    "        if len(nums) == 1:\n",
    "            return 0\n",
    "        \n",
    "        left = 0\n",
    "        right = len(nums)-1\n",
    "        while left <= right:\n",
    "            mid = (left+right)//2\n",
    "            if mid == 0 and nums[mid] > nums[mid+1]:\n",
    "                return mid\n",
    "            if mid == len(nums)-1 and nums[mid] > nums[mid-1]:\n",
    "                return mid\n",
    "            if nums[mid-1] < nums[mid] and nums[mid] > nums[mid+1]:\n",
    "                return mid\n",
    "            if nums[mid] < nums[left]:\n",
    "                right = mid - 1\n",
    "            elif nums[mid] < nums[right]:\n",
    "                left = mid + 1\n",
    "            else:\n",
    "                right = mid + 1\n",
    "        return left+1"
   ]
  },
  {
   "cell_type": "code",
   "execution_count": 28,
   "metadata": {},
   "outputs": [
    {
     "data": {
      "text/plain": [
       "2"
      ]
     },
     "execution_count": 28,
     "metadata": {},
     "output_type": "execute_result"
    }
   ],
   "source": [
    "nums = [1,2,1,3,5,6,4]\n",
    "nums = [1,2,3,1]\n",
    "#$nums = [1,2,3,4,5,6,1]\n",
    "\n",
    "obj = Solution()\n",
    "obj.findPeakElement(nums)"
   ]
  },
  {
   "cell_type": "code",
   "execution_count": null,
   "metadata": {},
   "outputs": [],
   "source": []
  }
 ],
 "metadata": {
  "kernelspec": {
   "display_name": "Python 3",
   "language": "python",
   "name": "python3"
  },
  "language_info": {
   "codemirror_mode": {
    "name": "ipython",
    "version": 3
   },
   "file_extension": ".py",
   "mimetype": "text/x-python",
   "name": "python",
   "nbconvert_exporter": "python",
   "pygments_lexer": "ipython3",
   "version": "3.7.3"
  }
 },
 "nbformat": 4,
 "nbformat_minor": 2
}
