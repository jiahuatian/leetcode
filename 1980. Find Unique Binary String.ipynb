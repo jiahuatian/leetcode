{
 "cells": [
  {
   "cell_type": "code",
   "execution_count": 1,
   "metadata": {},
   "outputs": [
    {
     "data": {
      "text/plain": [
       "[0, 1, 2, 3, 4, 5, 6, 7, 8, 9]"
      ]
     },
     "execution_count": 1,
     "metadata": {},
     "output_type": "execute_result"
    }
   ],
   "source": [
    "list(range(10))"
   ]
  },
  {
   "cell_type": "code",
   "execution_count": 4,
   "metadata": {},
   "outputs": [
    {
     "data": {
      "text/plain": [
       "3"
      ]
     },
     "execution_count": 4,
     "metadata": {},
     "output_type": "execute_result"
    }
   ],
   "source": [
    "nums = [\"111\",\"011\",\"001\"]\n",
    "len(nums[0])"
   ]
  },
  {
   "cell_type": "code",
   "execution_count": 6,
   "metadata": {},
   "outputs": [
    {
     "name": "stdout",
     "output_type": "stream",
     "text": [
      "1\n",
      "1\n",
      "1\n"
     ]
    }
   ],
   "source": [
    "for elem in nums[0]:\n",
    "    print(elem)"
   ]
  },
  {
   "cell_type": "markdown",
   "metadata": {},
   "source": [
    "0 1 2 3 4 5\n",
    "5 4 3 2 1 0"
   ]
  },
  {
   "cell_type": "code",
   "execution_count": 8,
   "metadata": {},
   "outputs": [
    {
     "data": {
      "text/plain": [
       "'0b10010'"
      ]
     },
     "execution_count": 8,
     "metadata": {},
     "output_type": "execute_result"
    }
   ],
   "source": [
    "bin(18)"
   ]
  },
  {
   "cell_type": "code",
   "execution_count": 12,
   "metadata": {},
   "outputs": [
    {
     "name": "stdout",
     "output_type": "stream",
     "text": [
      "00000\n"
     ]
    }
   ],
   "source": [
    "list1 = [0,0,0,0,0]\n",
    "\n",
    "temp = str()\n",
    "\n",
    "for x in list1:\n",
    "    temp += str(x)\n",
    "    \n",
    "print(temp)"
   ]
  },
  {
   "cell_type": "code",
   "execution_count": 22,
   "metadata": {},
   "outputs": [],
   "source": [
    "class Solution(object):\n",
    "    def findDifferentBinaryString(self, nums):\n",
    "        \"\"\"\n",
    "        :type nums: List[str]\n",
    "        :rtype: str\n",
    "        \"\"\"\n",
    "        n = len(nums[0])\n",
    "        alllist = list(range(2**n))\n",
    "        numlist = []\n",
    "        \n",
    "        print(alllist)\n",
    "        \n",
    "        for x in nums:\n",
    "            sum = 0\n",
    "            print(x)\n",
    "            for i in range(len(x)):\n",
    "                sum += int(x[i])*2**(n - i - 1)\n",
    "            numlist.append(sum)\n",
    "            \n",
    "        print(numlist)\n",
    "            \n",
    "        for elem in alllist:\n",
    "            if elem not in numlist:\n",
    "                preres = bin(elem)[2:]\n",
    "            \n",
    "        if len(preres) == n:\n",
    "            return preres\n",
    "        else:\n",
    "            listtemp = [0 for i in range(n - len(preres))]\n",
    "            temp = str()\n",
    "            for x in listtemp:\n",
    "                temp += str(x)\n",
    "                \n",
    "            return temp + preres"
   ]
  },
  {
   "cell_type": "code",
   "execution_count": 23,
   "metadata": {},
   "outputs": [
    {
     "name": "stdout",
     "output_type": "stream",
     "text": [
      "[0, 1, 2, 3, 4, 5, 6, 7]\n",
      "111\n",
      "011\n",
      "001\n",
      "[7, 3, 1]\n"
     ]
    },
    {
     "data": {
      "text/plain": [
       "'110'"
      ]
     },
     "execution_count": 23,
     "metadata": {},
     "output_type": "execute_result"
    }
   ],
   "source": [
    "mylist = [\"111\",\"011\",\"001\"]\n",
    "\n",
    "obj = Solution()\n",
    "obj.findDifferentBinaryString(mylist)"
   ]
  },
  {
   "cell_type": "code",
   "execution_count": 25,
   "metadata": {},
   "outputs": [
    {
     "data": {
      "text/plain": [
       "'00000'"
      ]
     },
     "execution_count": 25,
     "metadata": {},
     "output_type": "execute_result"
    }
   ],
   "source": [
    "''.join(['0','0','0','0','0'])"
   ]
  },
  {
   "cell_type": "code",
   "execution_count": null,
   "metadata": {},
   "outputs": [],
   "source": []
  }
 ],
 "metadata": {
  "kernelspec": {
   "display_name": "Python 3",
   "language": "python",
   "name": "python3"
  },
  "language_info": {
   "codemirror_mode": {
    "name": "ipython",
    "version": 3
   },
   "file_extension": ".py",
   "mimetype": "text/x-python",
   "name": "python",
   "nbconvert_exporter": "python",
   "pygments_lexer": "ipython3",
   "version": "3.7.3"
  }
 },
 "nbformat": 4,
 "nbformat_minor": 2
}
