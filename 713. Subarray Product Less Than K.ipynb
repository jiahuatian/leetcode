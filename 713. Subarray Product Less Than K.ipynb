{
 "cells": [
  {
   "cell_type": "code",
   "execution_count": 14,
   "metadata": {},
   "outputs": [],
   "source": [
    "class Solution(object):\n",
    "    def numSubarrayProductLessThanK(self, nums, k):\n",
    "        \"\"\"\n",
    "        :type nums: List[int]\n",
    "        :type k: int\n",
    "        :rtype: int\n",
    "        \"\"\"\n",
    "        count = 0\n",
    "        \n",
    "        i, j = 0, 1\n",
    "        \n",
    "        mylist = []\n",
    "        \n",
    "        for i in range(len(nums)):\n",
    "            j = 1\n",
    "            while i+j <= len(nums):\n",
    "                if self.prod(nums[i:i+j]) < k:\n",
    "                    count += 1\n",
    "                    mylist.append(nums[i:i+j])\n",
    "                    j += 1\n",
    "                else:\n",
    "                    break\n",
    "                                \n",
    "        return count\n",
    "    \n",
    "    def prod(self, nums):\n",
    "        Prod = 1\n",
    "        for i in range(len(nums)):\n",
    "            Prod *= nums[i]\n",
    "            \n",
    "        return Prod"
   ]
  },
  {
   "cell_type": "code",
   "execution_count": 15,
   "metadata": {},
   "outputs": [
    {
     "data": {
      "text/plain": [
       "8"
      ]
     },
     "execution_count": 15,
     "metadata": {},
     "output_type": "execute_result"
    }
   ],
   "source": [
    "nums = [10,5,2,6]\n",
    "k = 100\n",
    "\n",
    "obj = Solution()\n",
    "obj.numSubarrayProductLessThanK(nums,k)"
   ]
  },
  {
   "cell_type": "code",
   "execution_count": 18,
   "metadata": {},
   "outputs": [
    {
     "name": "stdout",
     "output_type": "stream",
     "text": [
      "0 10\n",
      "1 5\n",
      "2 2\n",
      "3 6\n"
     ]
    }
   ],
   "source": [
    "for right, val in enumerate(nums):\n",
    "    print(right,val)"
   ]
  },
  {
   "cell_type": "code",
   "execution_count": 31,
   "metadata": {},
   "outputs": [],
   "source": [
    "class Solution(object):\n",
    "    def numSubarrayProductLessThanK(self, nums, k):\n",
    "        \"\"\"\n",
    "        :type nums: List[int]\n",
    "        :type k: int\n",
    "        :rtype: int\n",
    "        \"\"\"\n",
    "        count = 0\n",
    "        \n",
    "        for i in range(len(nums)):\n",
    "            j = 1\n",
    "            while i+j <= len(nums):\n",
    "                if self.prod(nums[i:i+j]) < k:\n",
    "                    count += 1\n",
    "                    j += 1\n",
    "                else:\n",
    "                    break\n",
    "                    \n",
    "        return count\n",
    "    \n",
    "    def prod(self, nums):\n",
    "        Prod = 1\n",
    "        for i in range(len(nums)):\n",
    "            Prod *= nums[i]\n",
    "            \n",
    "        return Prod"
   ]
  },
  {
   "cell_type": "code",
   "execution_count": 33,
   "metadata": {},
   "outputs": [
    {
     "data": {
      "text/plain": [
       "0"
      ]
     },
     "execution_count": 33,
     "metadata": {},
     "output_type": "execute_result"
    }
   ],
   "source": [
    "nums = [10,5,2,6]\n",
    "k = 100\n",
    "\n",
    "nums = [1,2,3]\n",
    "k = 0\n",
    "\n",
    "obj = Solution()\n",
    "obj.numSubarrayProductLessThanK(nums,k)"
   ]
  },
  {
   "cell_type": "code",
   "execution_count": 84,
   "metadata": {},
   "outputs": [],
   "source": [
    "class Solution(object):\n",
    "    def numSubarrayProductLessThanK(self, nums, k):\n",
    "        \"\"\"\n",
    "        :type nums: List[int]\n",
    "        :type k: int\n",
    "        :rtype: int\n",
    "        \"\"\"\n",
    "        \n",
    "        count = 0\n",
    "        \n",
    "        end, start = 0, 0\n",
    "        prod = 1\n",
    "        \n",
    "        while start < len(nums):\n",
    "            while end < len(nums):\n",
    "                prod *= nums[end]\n",
    "                if prod < k:\n",
    "                    count += 1\n",
    "                    end += 1\n",
    "                else:\n",
    "                    break\n",
    "            start += 1\n",
    "            end = start\n",
    "            prod = 1\n",
    "                                  \n",
    "        return count"
   ]
  },
  {
   "cell_type": "code",
   "execution_count": 86,
   "metadata": {},
   "outputs": [
    {
     "data": {
      "text/plain": [
       "0"
      ]
     },
     "execution_count": 86,
     "metadata": {},
     "output_type": "execute_result"
    }
   ],
   "source": [
    "nums = [10,5,2,6]\n",
    "k = 100\n",
    "\n",
    "nums = [1,2,3]\n",
    "k = 0\n",
    "\n",
    "obj = Solution()\n",
    "obj.numSubarrayProductLessThanK(nums,k)"
   ]
  },
  {
   "cell_type": "code",
   "execution_count": 22,
   "metadata": {},
   "outputs": [],
   "source": [
    "class Solution:\n",
    "    def numSubarrayProductLessThanK(self, nums, k: int) -> int:\n",
    "        res = 0\n",
    "        end,start = 0,0\n",
    "        prod = 1\n",
    "        while start < len(nums):\n",
    "            while end < len(nums):\n",
    "                prod *= nums[end]\n",
    "                if prod < k:\n",
    "                    res += 1\n",
    "                    end += 1\n",
    "                else:\n",
    "                    break\n",
    "            start += 1\n",
    "            end = start\n",
    "            prod = 1\n",
    "        return res"
   ]
  },
  {
   "cell_type": "code",
   "execution_count": 23,
   "metadata": {},
   "outputs": [
    {
     "data": {
      "text/plain": [
       "8"
      ]
     },
     "execution_count": 23,
     "metadata": {},
     "output_type": "execute_result"
    }
   ],
   "source": [
    "nums = [1,2,3]\n",
    "k = 0\n",
    "\n",
    "nums = [10,5,2,6]\n",
    "k = 100\n",
    "\n",
    "obj = Solution()\n",
    "obj.numSubarrayProductLessThanK(nums,k)"
   ]
  },
  {
   "cell_type": "code",
   "execution_count": 41,
   "metadata": {},
   "outputs": [],
   "source": [
    "class Solution:\n",
    "    def numSubarrayProductLessThanK(self, nums, k: int) -> int:\n",
    "        ans = 0\n",
    "        left = 0\n",
    "        prod = 1\n",
    "        for i in range(len(nums)):\n",
    "            prod *= nums[i]\n",
    "            while prod >= k and left <= i:\n",
    "                prod /= nums[left]\n",
    "                if prod < k:\n",
    "                    ans += i-left\n",
    "                left += 1\n",
    "        print(left,i)\n",
    "        if left <= len(nums)-1:\n",
    "            ans += (len(nums)-left+1)*(len(nums)-left)//2\n",
    "        return ans"
   ]
  },
  {
   "cell_type": "code",
   "execution_count": 43,
   "metadata": {},
   "outputs": [
    {
     "name": "stdout",
     "output_type": "stream",
     "text": [
      "1 3\n"
     ]
    },
    {
     "data": {
      "text/plain": [
       "8"
      ]
     },
     "execution_count": 43,
     "metadata": {},
     "output_type": "execute_result"
    }
   ],
   "source": [
    "nums = [10,5,2,6]\n",
    "k = 100\n",
    "#nums = [1,1,1]\n",
    "#k = 2\n",
    "\n",
    "obj = Solution()\n",
    "obj.numSubarrayProductLessThanK(nums,k)"
   ]
  },
  {
   "cell_type": "code",
   "execution_count": 44,
   "metadata": {},
   "outputs": [
    {
     "data": {
      "text/plain": [
       "True"
      ]
     },
     "execution_count": 44,
     "metadata": {},
     "output_type": "execute_result"
    }
   ],
   "source": [
    "s = ''\n",
    "t = 'abs'\n",
    "s in t"
   ]
  },
  {
   "cell_type": "code",
   "execution_count": 47,
   "metadata": {},
   "outputs": [
    {
     "data": {
      "text/plain": [
       "[1, 8]"
      ]
     },
     "execution_count": 47,
     "metadata": {},
     "output_type": "execute_result"
    }
   ],
   "source": [
    "ss = [[2,4],[1,8]]\n",
    "min(ss)"
   ]
  },
  {
   "cell_type": "code",
   "execution_count": 48,
   "metadata": {},
   "outputs": [
    {
     "data": {
      "text/plain": [
       "[2, 4, 1, 8]"
      ]
     },
     "execution_count": 48,
     "metadata": {},
     "output_type": "execute_result"
    }
   ],
   "source": [
    "[ss[i][j] for i in range(2) for j in range(2)]"
   ]
  },
  {
   "cell_type": "code",
   "execution_count": null,
   "metadata": {},
   "outputs": [],
   "source": []
  }
 ],
 "metadata": {
  "kernelspec": {
   "display_name": "Python 3",
   "language": "python",
   "name": "python3"
  },
  "language_info": {
   "codemirror_mode": {
    "name": "ipython",
    "version": 3
   },
   "file_extension": ".py",
   "mimetype": "text/x-python",
   "name": "python",
   "nbconvert_exporter": "python",
   "pygments_lexer": "ipython3",
   "version": "3.7.3"
  }
 },
 "nbformat": 4,
 "nbformat_minor": 2
}
