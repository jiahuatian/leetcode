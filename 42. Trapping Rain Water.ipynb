{
 "cells": [
  {
   "cell_type": "code",
   "execution_count": 14,
   "metadata": {},
   "outputs": [],
   "source": [
    "class Solution:\n",
    "    def trap(self, height) -> int:\n",
    "        from collections import defaultdict\n",
    "        maxleft, maxright = defaultdict(int), defaultdict(int)\n",
    "        maxleft[0], maxright[len(height)-1] = -float('inf'), -float('inf')\n",
    "        \n",
    "        for i in range(1,len(height)):\n",
    "            maxleft[i] = max(maxleft[i-1],height[i-1])\n",
    "        for i in range(len(height)-2,-1,-1):\n",
    "            maxright[i] = max(maxright[i+1],height[i+1])\n",
    "            \n",
    "        ans = 0\n",
    "        for i in range(1,len(height)-1):\n",
    "            if min(maxleft[i],maxright[i]) > height[i]:\n",
    "                ans += min(maxleft[i],maxright[i])-height[i]\n",
    "            \n",
    "        return ans"
   ]
  },
  {
   "cell_type": "code",
   "execution_count": 15,
   "metadata": {},
   "outputs": [
    {
     "data": {
      "text/plain": [
       "6"
      ]
     },
     "execution_count": 15,
     "metadata": {},
     "output_type": "execute_result"
    }
   ],
   "source": [
    "height = [0,1,0,2,1,0,1,3,2,1,2,1]\n",
    "\n",
    "obj = Solution()\n",
    "obj.trap(height)"
   ]
  },
  {
   "cell_type": "code",
   "execution_count": null,
   "metadata": {},
   "outputs": [],
   "source": []
  }
 ],
 "metadata": {
  "kernelspec": {
   "display_name": "Python 3",
   "language": "python",
   "name": "python3"
  },
  "language_info": {
   "codemirror_mode": {
    "name": "ipython",
    "version": 3
   },
   "file_extension": ".py",
   "mimetype": "text/x-python",
   "name": "python",
   "nbconvert_exporter": "python",
   "pygments_lexer": "ipython3",
   "version": "3.7.3"
  }
 },
 "nbformat": 4,
 "nbformat_minor": 2
}
