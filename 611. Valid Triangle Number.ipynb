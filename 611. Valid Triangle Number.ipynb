{
 "cells": [
  {
   "cell_type": "code",
   "execution_count": 32,
   "metadata": {},
   "outputs": [],
   "source": [
    "class Solution(object):\n",
    "    def triangleNumber(self, nums):\n",
    "        \"\"\"\n",
    "        :type nums: List[int]\n",
    "        :rtype: int\n",
    "        \"\"\"\n",
    "        \n",
    "        nums.sort()\n",
    "        print(nums)\n",
    "        \n",
    "        count = 0\n",
    "        \n",
    "        right = len(nums) - 1\n",
    "        \n",
    "        for i in range(len(nums)-2):\n",
    "            for j in range(i+1,len(nums)-1):\n",
    "                \n",
    "                ending, starting = 1, 0\n",
    "                \n",
    "                K = len(nums)-1\n",
    "                while K > j:\n",
    "                    if nums[K] >= nums[j] + nums[i]:\n",
    "                        K -= 1\n",
    "                    else:\n",
    "                        break\n",
    "                ending = K\n",
    "                \n",
    "                k = j+1\n",
    "                while k < ending:\n",
    "                    if nums[k] <= nums[j] - nums[i]:\n",
    "                        k += 1\n",
    "                    else:\n",
    "                        break                        \n",
    "                starting = k\n",
    "                \n",
    "                             \n",
    "                print(ending, starting)\n",
    "                count += ending - starting + 1\n",
    "                \n",
    "                \n",
    "        return count"
   ]
  },
  {
   "cell_type": "code",
   "execution_count": 34,
   "metadata": {},
   "outputs": [
    {
     "name": "stdout",
     "output_type": "stream",
     "text": [
      "[2, 2, 3, 4]\n",
      "2 2\n",
      "3 3\n",
      "3 3\n"
     ]
    },
    {
     "data": {
      "text/plain": [
       "3"
      ]
     },
     "execution_count": 34,
     "metadata": {},
     "output_type": "execute_result"
    }
   ],
   "source": [
    "nums = [2,2,3,4]\n",
    "#nums = [0,0,0]\n",
    "\n",
    "obj = Solution()\n",
    "obj.triangleNumber(nums)"
   ]
  },
  {
   "cell_type": "code",
   "execution_count": 56,
   "metadata": {},
   "outputs": [],
   "source": [
    "class Solution(object):\n",
    "    def triangleNumber(self, nums):\n",
    "        \"\"\"\n",
    "        :type nums: List[int]\n",
    "        :rtype: int\n",
    "        \"\"\"\n",
    "        \n",
    "        nums.sort()\n",
    "        \n",
    "        count = 0\n",
    "        \n",
    "        for i in range(len(nums)-2):\n",
    "            for j in range(i+1,len(nums)-1):\n",
    "                k = 1\n",
    "                while j+k < len(nums):\n",
    "                    if nums[j+k] < nums[j] + nums[i]:\n",
    "                        k += 1\n",
    "                    else:\n",
    "                        break\n",
    "                count += k - 1\n",
    "                \n",
    "        return count"
   ]
  },
  {
   "cell_type": "code",
   "execution_count": 58,
   "metadata": {},
   "outputs": [
    {
     "data": {
      "text/plain": [
       "0"
      ]
     },
     "execution_count": 58,
     "metadata": {},
     "output_type": "execute_result"
    }
   ],
   "source": [
    "nums = [2,2,3,4]\n",
    "nums = [0,0,0]\n",
    "\n",
    "obj = Solution()\n",
    "obj.triangleNumber(nums)"
   ]
  },
  {
   "cell_type": "code",
   "execution_count": 93,
   "metadata": {},
   "outputs": [
    {
     "name": "stdout",
     "output_type": "stream",
     "text": [
      "7\n",
      "6\n",
      "5\n",
      "4\n",
      "3\n",
      "2\n"
     ]
    }
   ],
   "source": [
    "for i in range(8-1, 1, -1):\n",
    "    print(i)"
   ]
  },
  {
   "cell_type": "code",
   "execution_count": 88,
   "metadata": {},
   "outputs": [],
   "source": [
    "class Solution(object):\n",
    "    def triangleNumber(self, nums):\n",
    "        \"\"\"\n",
    "        :type nums: List[int]\n",
    "        :rtype: int\n",
    "        \"\"\"\n",
    "        \n",
    "        nums.sort()\n",
    "        \n",
    "        count = 0\n",
    "        \n",
    "        for i in range(len(nums) - 1, -1, -1):\n",
    "            print(nums[i])\n",
    "            count += self.twoSumBigger(nums[:i], nums[i])\n",
    "            \n",
    "        return count\n",
    "    \n",
    "    def twoSumBigger(self, nums, target):\n",
    "        i = 0\n",
    "        j = len(nums) - 1\n",
    "        \n",
    "        count = 0\n",
    "        \n",
    "        while i < j:\n",
    "            if nums[i] + nums[j] > target:\n",
    "                count += 1\n",
    "                j -= 1                \n",
    "            else:\n",
    "                i += 1\n",
    "                j = len(nums) - 1\n",
    "        \n",
    "        return count"
   ]
  },
  {
   "cell_type": "code",
   "execution_count": 89,
   "metadata": {},
   "outputs": [
    {
     "name": "stdout",
     "output_type": "stream",
     "text": [
      "4\n",
      "4\n",
      "3\n",
      "2\n"
     ]
    },
    {
     "data": {
      "text/plain": [
       "3"
      ]
     },
     "execution_count": 89,
     "metadata": {},
     "output_type": "execute_result"
    }
   ],
   "source": [
    "nums = [2,2,3,4]\n",
    "#nums = [0,0,0]\n",
    "nums = [4,2,3,4]\n",
    "\n",
    "obj = Solution()\n",
    "obj.triangleNumber(nums)"
   ]
  },
  {
   "cell_type": "code",
   "execution_count": 87,
   "metadata": {},
   "outputs": [
    {
     "data": {
      "text/plain": [
       "2"
      ]
     },
     "execution_count": 87,
     "metadata": {},
     "output_type": "execute_result"
    }
   ],
   "source": [
    "obj.twoSumBigger([2,2,3],4)"
   ]
  },
  {
   "cell_type": "code",
   "execution_count": 104,
   "metadata": {},
   "outputs": [],
   "source": [
    "class Solution(object):\n",
    "    def triangleNumber(self, nums):\n",
    "        \"\"\"\n",
    "        :type nums: List[int]\n",
    "        :rtype: int\n",
    "        \"\"\"\n",
    "        \n",
    "        nums.sort()\n",
    "        \n",
    "        count = 0\n",
    "        \n",
    "        for i in range(len(nums) - 1, 1, -1):\n",
    "            start = 0\n",
    "            end = i - 1\n",
    "            while start < end:\n",
    "                if nums[start] + nums[end] <= nums[i]:\n",
    "                    start += 1\n",
    "                else:\n",
    "                    count += end - start\n",
    "                    end -= 1\n",
    "                    \n",
    "        return count"
   ]
  },
  {
   "cell_type": "code",
   "execution_count": 106,
   "metadata": {},
   "outputs": [
    {
     "name": "stdout",
     "output_type": "stream",
     "text": [
      "2 0 2\n",
      "1 0 1\n",
      "1 0 1\n"
     ]
    },
    {
     "data": {
      "text/plain": [
       "4"
      ]
     },
     "execution_count": 106,
     "metadata": {},
     "output_type": "execute_result"
    }
   ],
   "source": [
    "nums = [2,2,3,4]\n",
    "#nums = [0,0,0]\n",
    "nums = [4,2,3,4]\n",
    "\n",
    "obj = Solution()\n",
    "obj.triangleNumber(nums)"
   ]
  },
  {
   "cell_type": "code",
   "execution_count": 108,
   "metadata": {},
   "outputs": [
    {
     "data": {
      "text/plain": [
       "[0, 1, 2, 3]"
      ]
     },
     "execution_count": 108,
     "metadata": {},
     "output_type": "execute_result"
    }
   ],
   "source": [
    "mylist = [1,2,3]\n",
    "mylist.insert(0,0)\n",
    "mylist"
   ]
  },
  {
   "cell_type": "code",
   "execution_count": 121,
   "metadata": {},
   "outputs": [],
   "source": [
    "class Solution:\n",
    "    def triangleNumber(self, nums) -> int:\n",
    "        count = 0\n",
    "        \n",
    "        for i in range(len(nums)-2):\n",
    "            for j in range(i+1,len(nums)-1):\n",
    "                for k in range(j+1,len(nums)):\n",
    "                    print(nums[i],nums[j],nums[k])\n",
    "                    if nums[k] < nums[i]+nums[j] and nums[k] > nums[j]-nums[i]:\n",
    "                        count += 1\n",
    "        return count"
   ]
  },
  {
   "cell_type": "code",
   "execution_count": 122,
   "metadata": {},
   "outputs": [
    {
     "name": "stdout",
     "output_type": "stream",
     "text": [
      "2 2 3\n",
      "2 2 4\n",
      "2 3 4\n",
      "2 3 4\n"
     ]
    },
    {
     "data": {
      "text/plain": [
       "3"
      ]
     },
     "execution_count": 122,
     "metadata": {},
     "output_type": "execute_result"
    }
   ],
   "source": [
    "nums = [2,2,3,4]\n",
    "\n",
    "obj = Solution()\n",
    "obj.triangleNumber(nums)"
   ]
  },
  {
   "cell_type": "code",
   "execution_count": 140,
   "metadata": {},
   "outputs": [],
   "source": [
    "class Solution:\n",
    "    def triangleNumber(self, nums) -> int:\n",
    "        count = 0\n",
    "        nums.sort()\n",
    "        print(nums)\n",
    "        \n",
    "        for i in range(len(nums)):\n",
    "            j = i+1\n",
    "            k = j+1\n",
    "            while j < len(nums)-1:\n",
    "                while k < len(nums):\n",
    "                    if nums[k] < nums[i] + nums[j]:\n",
    "                        k += 1\n",
    "                        count += 1\n",
    "                    else:\n",
    "                        break\n",
    "                j += 1\n",
    "                k = j+1\n",
    "                    \n",
    "        return count"
   ]
  },
  {
   "cell_type": "code",
   "execution_count": 142,
   "metadata": {},
   "outputs": [
    {
     "name": "stdout",
     "output_type": "stream",
     "text": [
      "[2, 2, 3, 4]\n"
     ]
    },
    {
     "data": {
      "text/plain": [
       "3"
      ]
     },
     "execution_count": 142,
     "metadata": {},
     "output_type": "execute_result"
    }
   ],
   "source": [
    "nums = [4,2,3,4]\n",
    "nums = [2,2,3,4]\n",
    "\n",
    "obj = Solution()\n",
    "obj.triangleNumber(nums)"
   ]
  },
  {
   "cell_type": "code",
   "execution_count": null,
   "metadata": {},
   "outputs": [],
   "source": []
  }
 ],
 "metadata": {
  "kernelspec": {
   "display_name": "Python 3",
   "language": "python",
   "name": "python3"
  },
  "language_info": {
   "codemirror_mode": {
    "name": "ipython",
    "version": 3
   },
   "file_extension": ".py",
   "mimetype": "text/x-python",
   "name": "python",
   "nbconvert_exporter": "python",
   "pygments_lexer": "ipython3",
   "version": "3.7.3"
  }
 },
 "nbformat": 4,
 "nbformat_minor": 2
}
