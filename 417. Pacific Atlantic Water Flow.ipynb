{
 "cells": [
  {
   "cell_type": "code",
   "execution_count": 15,
   "metadata": {},
   "outputs": [],
   "source": [
    "class Solution:\n",
    "    def pacificAtlantic(self, heights):\n",
    "        m,n = len(heights),len(heights[0])\n",
    "        def dfs_P(i,j):\n",
    "            stack = [(i,j),]\n",
    "            seen = set()\n",
    "            seen.add((i,j))\n",
    "            while stack:\n",
    "                x,y = stack.pop()\n",
    "                if x == 0 or y == 0:\n",
    "                    return True\n",
    "                for (xi,yi) in [(-1,0),(0,-1),(1,0),(0,1)]:\n",
    "                    if 0 <= x+xi < m and 0 <= y+yi < n and heights[x+xi][y+yi] <= heights[x][y] and (x+xi,y+yi) not in seen:\n",
    "                        stack.append((x+xi,y+yi))\n",
    "                        seen.add((x+xi,y+yi))\n",
    "            return False             \n",
    "        def dfs_A(i,j):\n",
    "            stack = [(i,j),]\n",
    "            seen = set()\n",
    "            seen.add((i,j))\n",
    "            while stack:\n",
    "                x,y = stack.pop()\n",
    "                if x == m-1 or y == n-1:\n",
    "                    return True\n",
    "                for (xi,yi) in [(-1,0),(0,-1),(1,0),(0,1)]:\n",
    "                    if 0 <= x+xi < m and 0 <= y+yi < n and heights[x+xi][y+yi] <= heights[x][y] and (x+xi,y+yi) not in seen:\n",
    "                        stack.append((x+xi,y+yi))\n",
    "                        seen.add((x+xi,y+yi))\n",
    "            return False             \n",
    "        res = []\n",
    "        for i in range(m):\n",
    "            for j in range(n):\n",
    "                if dfs_P(i,j) and dfs_A(i,j):\n",
    "                    res.append([i,j])\n",
    "        return res"
   ]
  },
  {
   "cell_type": "code",
   "execution_count": 16,
   "metadata": {},
   "outputs": [
    {
     "data": {
      "text/plain": [
       "[[0, 2], [1, 0], [1, 1], [1, 2], [2, 0], [2, 1], [2, 2]]"
      ]
     },
     "execution_count": 16,
     "metadata": {},
     "output_type": "execute_result"
    }
   ],
   "source": [
    "heights = [[1,2,3],[8,9,4],[7,6,5]]\n",
    "\n",
    "obj = Solution()\n",
    "obj.pacificAtlantic(heights)"
   ]
  },
  {
   "cell_type": "code",
   "execution_count": null,
   "metadata": {},
   "outputs": [],
   "source": []
  }
 ],
 "metadata": {
  "kernelspec": {
   "display_name": "Python 3",
   "language": "python",
   "name": "python3"
  },
  "language_info": {
   "codemirror_mode": {
    "name": "ipython",
    "version": 3
   },
   "file_extension": ".py",
   "mimetype": "text/x-python",
   "name": "python",
   "nbconvert_exporter": "python",
   "pygments_lexer": "ipython3",
   "version": "3.7.3"
  }
 },
 "nbformat": 4,
 "nbformat_minor": 2
}
