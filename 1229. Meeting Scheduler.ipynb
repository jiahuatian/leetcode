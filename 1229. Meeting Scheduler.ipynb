{
 "cells": [
  {
   "cell_type": "code",
   "execution_count": 5,
   "metadata": {},
   "outputs": [],
   "source": [
    "class Solution:\n",
    "    def minAvailableDuration(self, slots1, slots2, duration: int):\n",
    "        slots1.sort(key=lambda a:a[0])\n",
    "        slots2.sort(key=lambda a:a[0])\n",
    "        i,j = 0,0\n",
    "        while i < len(slots1) and j < len(slots2):\n",
    "            if slots1[i][1] <= slots2[j][0]:\n",
    "                i += 1\n",
    "            elif slots1[i][0] >= slots2[j][1]:\n",
    "                j += 1\n",
    "            elif slots2[j][0] <= slots1[i][0] < slots2[j][1]:\n",
    "                if min(slots1[i][1],slots2[j][1]) - slots1[i][0] < duration:\n",
    "                    if slots1[i][1] >= slots2[j][1]:\n",
    "                        j += 1\n",
    "                    else:\n",
    "                        i += 1\n",
    "                else:\n",
    "                    return [slots1[i][0],slots1[i][0]+duration]\n",
    "            elif slots1[i][0] <= slots2[j][0] < slots1[i][1]:\n",
    "                if min(slots2[j][1],slots1[i][1]) - slots2[j][0] < duration:\n",
    "                    if slots2[j][1] >= slots1[i][1]:\n",
    "                        i += 1\n",
    "                    else:\n",
    "                        j += 1\n",
    "                else:\n",
    "                    return [slots2[j][0],slots2[j][0]+duration]\n",
    "        return []"
   ]
  },
  {
   "cell_type": "code",
   "execution_count": 7,
   "metadata": {},
   "outputs": [
    {
     "data": {
      "text/plain": [
       "[98730764, 99186849]"
      ]
     },
     "execution_count": 7,
     "metadata": {},
     "output_type": "execute_result"
    }
   ],
   "source": [
    "slots1 = [[10,12],[15, 25]]\n",
    "slots2 = [[0,100]]\n",
    "duration = 8\n",
    "\n",
    "slots1 = [[216397070,363167701],[98730764,158208909],[441003187,466254040],[558239978,678368334],[683942980,717766451]]\n",
    "slots2 = [[50490609,222653186],[512711631,670791418],[730229023,802410205],[812553104,891266775],[230032010,399152578]]\n",
    "duration = 456085\n",
    "\n",
    "obj = Solution()\n",
    "obj.minAvailableDuration(slots1,slots2,duration)"
   ]
  },
  {
   "cell_type": "code",
   "execution_count": null,
   "metadata": {},
   "outputs": [],
   "source": []
  }
 ],
 "metadata": {
  "kernelspec": {
   "display_name": "Python 3",
   "language": "python",
   "name": "python3"
  },
  "language_info": {
   "codemirror_mode": {
    "name": "ipython",
    "version": 3
   },
   "file_extension": ".py",
   "mimetype": "text/x-python",
   "name": "python",
   "nbconvert_exporter": "python",
   "pygments_lexer": "ipython3",
   "version": "3.7.3"
  }
 },
 "nbformat": 4,
 "nbformat_minor": 2
}
