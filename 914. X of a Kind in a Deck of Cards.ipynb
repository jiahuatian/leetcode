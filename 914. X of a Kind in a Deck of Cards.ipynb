{
 "cells": [
  {
   "cell_type": "code",
   "execution_count": 2,
   "metadata": {},
   "outputs": [
    {
     "data": {
      "text/plain": [
       "2"
      ]
     },
     "execution_count": 2,
     "metadata": {},
     "output_type": "execute_result"
    }
   ],
   "source": [
    "import math\n",
    "\n",
    "math.gcd(2,6)"
   ]
  },
  {
   "cell_type": "code",
   "execution_count": 6,
   "metadata": {},
   "outputs": [],
   "source": [
    "def GCD(mylist):\n",
    "    \n",
    "    import math\n",
    "    \n",
    "    if len(mylist) == 1:\n",
    "        return mylist[0]\n",
    "    elif len(mylist) == 0:\n",
    "        return False\n",
    "    \n",
    "    return math.gcd(mylist[0],GCD(mylist[1:])) "
   ]
  },
  {
   "cell_type": "code",
   "execution_count": 8,
   "metadata": {},
   "outputs": [
    {
     "data": {
      "text/plain": [
       "1"
      ]
     },
     "execution_count": 8,
     "metadata": {},
     "output_type": "execute_result"
    }
   ],
   "source": [
    "GCD([3,4,8])"
   ]
  },
  {
   "cell_type": "code",
   "execution_count": 9,
   "metadata": {},
   "outputs": [],
   "source": [
    "def GCD(mylist):\n",
    "    \n",
    "        if len(mylist) == 1:\n",
    "            return mylist[0]\n",
    "        elif len(mylist) == 0:\n",
    "            return False\n",
    "    \n",
    "        return gcd(mylist[0],GCD(mylist[1:])) \n",
    "    \n",
    "def gcd(num1, num2):\n",
    "        res = 1\n",
    "        if num1 == 1 or num2 == 1:\n",
    "            return 1\n",
    "        if num1 == num2:\n",
    "            return num1\n",
    "        elif num1 < num2:\n",
    "            small = num1\n",
    "            large = num2\n",
    "        else:\n",
    "            small = num2\n",
    "            large = num2\n",
    "        for i in range(2,small+1):\n",
    "            if small%i == 0 and large%i == 0:\n",
    "                res = max(res, i)\n",
    "        return res"
   ]
  },
  {
   "cell_type": "code",
   "execution_count": 11,
   "metadata": {},
   "outputs": [
    {
     "data": {
      "text/plain": [
       "2"
      ]
     },
     "execution_count": 11,
     "metadata": {},
     "output_type": "execute_result"
    }
   ],
   "source": [
    "GCD([2,4,8])"
   ]
  },
  {
   "cell_type": "code",
   "execution_count": 19,
   "metadata": {},
   "outputs": [],
   "source": [
    "class Solution(object):\n",
    "    def hasGroupsSizeX(self, deck):\n",
    "        \"\"\"\n",
    "        :type deck: List[int]\n",
    "        :rtype: bool\n",
    "        \"\"\"\n",
    "        from collections import defaultdict\n",
    "        \n",
    "        mydict = defaultdict(lambda: 0)\n",
    "        \n",
    "        for elem in deck:\n",
    "            mydict[elem] += 1\n",
    "        \n",
    "        print(mydict)\n",
    "        \n",
    "        if self.GCD([mydict[key] for key in mydict]) >= 2:\n",
    "            print([mydict[key] for key in mydict])\n",
    "            return True\n",
    "        \n",
    "        return False\n",
    "    \n",
    "    def GCD(self, mylist):\n",
    "    \n",
    "        if len(mylist) == 1:\n",
    "            return mylist[0]\n",
    "        elif len(mylist) == 0:\n",
    "            return False\n",
    "    \n",
    "        return self.gcd(mylist[0],self.GCD(mylist[1:])) \n",
    "    \n",
    "    def gcd(self, num1, num2):\n",
    "        res = 1\n",
    "        if num1 == 1 or num2 == 1:\n",
    "            return res\n",
    "        if num1 == num2:\n",
    "            return num1\n",
    "        elif num1 < num2:\n",
    "            small = num1\n",
    "            large = num2\n",
    "        else:\n",
    "            small = num2\n",
    "            large = num1\n",
    "        for i in range(2,small+1):\n",
    "            if small%i == 0 and large%i == 0:\n",
    "                res = max(res, i)\n",
    "        return res"
   ]
  },
  {
   "cell_type": "code",
   "execution_count": 20,
   "metadata": {},
   "outputs": [
    {
     "name": "stdout",
     "output_type": "stream",
     "text": [
      "defaultdict(<function Solution.hasGroupsSizeX.<locals>.<lambda> at 0x10c24ebf8>, {1: 3, 2: 3, 3: 2})\n"
     ]
    },
    {
     "data": {
      "text/plain": [
       "False"
      ]
     },
     "execution_count": 20,
     "metadata": {},
     "output_type": "execute_result"
    }
   ],
   "source": [
    "deck = [1,1,1,2,2,2,3,3]\n",
    "\n",
    "obj = Solution()\n",
    "obj.hasGroupsSizeX(deck)"
   ]
  },
  {
   "cell_type": "code",
   "execution_count": 18,
   "metadata": {},
   "outputs": [
    {
     "data": {
      "text/plain": [
       "2"
      ]
     },
     "execution_count": 18,
     "metadata": {},
     "output_type": "execute_result"
    }
   ],
   "source": [
    "obj.GCD([3, 3, 2])"
   ]
  },
  {
   "cell_type": "code",
   "execution_count": null,
   "metadata": {},
   "outputs": [],
   "source": []
  }
 ],
 "metadata": {
  "kernelspec": {
   "display_name": "Python 3",
   "language": "python",
   "name": "python3"
  },
  "language_info": {
   "codemirror_mode": {
    "name": "ipython",
    "version": 3
   },
   "file_extension": ".py",
   "mimetype": "text/x-python",
   "name": "python",
   "nbconvert_exporter": "python",
   "pygments_lexer": "ipython3",
   "version": "3.7.3"
  }
 },
 "nbformat": 4,
 "nbformat_minor": 2
}
