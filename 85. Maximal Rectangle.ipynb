{
 "cells": [
  {
   "cell_type": "code",
   "execution_count": 3,
   "metadata": {},
   "outputs": [],
   "source": [
    "class Solution:\n",
    "    def maximalRectangle(self, matrix) -> int:\n",
    "        m,n = len(matrix),len(matrix[0])\n",
    "        #@lru_cache(None)\n",
    "        def dp(i,j):\n",
    "            if matrix[i][j] == '0':\n",
    "                return [0,0]\n",
    "            if j == 0:\n",
    "                h = 1\n",
    "            else:\n",
    "                h = dp(i,j-1)[0]+1\n",
    "            l = h\n",
    "            a = h\n",
    "            for k in range(1,i+1):\n",
    "                l = min(l,dp(i-k,j)[0])\n",
    "                a = max(a,l*(k+1))\n",
    "            return [h,a]\n",
    "        ans = 0\n",
    "        for i in range(m):\n",
    "            for j in range(n):\n",
    "                h,a = dp(i,j)\n",
    "                ans = max(ans,a)\n",
    "        return ans"
   ]
  },
  {
   "cell_type": "code",
   "execution_count": 4,
   "metadata": {},
   "outputs": [
    {
     "data": {
      "text/plain": [
       "5"
      ]
     },
     "execution_count": 4,
     "metadata": {},
     "output_type": "execute_result"
    }
   ],
   "source": [
    "matrix = [[\"1\",\"0\",\"0\",\"0\",\"1\"],\n",
    " [\"1\",\"1\",\"0\",\"1\",\"1\"],\n",
    " [\"1\",\"1\",\"1\",\"1\",\"1\"]]\n",
    "\n",
    "obj = Solution()\n",
    "obj.maximalRectangle(matrix)"
   ]
  },
  {
   "cell_type": "code",
   "execution_count": null,
   "metadata": {},
   "outputs": [],
   "source": []
  }
 ],
 "metadata": {
  "kernelspec": {
   "display_name": "Python 3",
   "language": "python",
   "name": "python3"
  },
  "language_info": {
   "codemirror_mode": {
    "name": "ipython",
    "version": 3
   },
   "file_extension": ".py",
   "mimetype": "text/x-python",
   "name": "python",
   "nbconvert_exporter": "python",
   "pygments_lexer": "ipython3",
   "version": "3.7.9"
  }
 },
 "nbformat": 4,
 "nbformat_minor": 4
}
