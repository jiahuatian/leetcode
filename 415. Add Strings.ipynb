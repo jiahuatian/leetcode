{
 "cells": [
  {
   "cell_type": "code",
   "execution_count": 6,
   "metadata": {},
   "outputs": [],
   "source": [
    "class Solution:\n",
    "    def addStrings(self, num1: str, num2: str) -> str:\n",
    "        ans = []\n",
    "        l1,l2 = len(num1)-1,len(num2)-1\n",
    "        carry = 0\n",
    "        while l1 >=0 or l2 >=0:\n",
    "            if l1 < 0:\n",
    "                s1 = 0\n",
    "            else:\n",
    "                s1 = int(num1[l1])\n",
    "            if l2 < 0:\n",
    "                s2 = 0\n",
    "            else:\n",
    "                s2 = int(num2[l2])\n",
    "            carry,thisplace = divmod(s1+s2+carry,10)\n",
    "            ans.append(str(thisplace))\n",
    "            l1 -= 1\n",
    "            l2 -= 1\n",
    "        ans.reverse()\n",
    "        return ''.join(ans)"
   ]
  },
  {
   "cell_type": "code",
   "execution_count": 7,
   "metadata": {},
   "outputs": [
    {
     "data": {
      "text/plain": [
       "'134'"
      ]
     },
     "execution_count": 7,
     "metadata": {},
     "output_type": "execute_result"
    }
   ],
   "source": [
    "num1 = \"11\"\n",
    "num2 = \"123\"\n",
    "\n",
    "obj = Solution()\n",
    "obj.addStrings(num1,num2)"
   ]
  },
  {
   "cell_type": "code",
   "execution_count": null,
   "metadata": {},
   "outputs": [],
   "source": []
  }
 ],
 "metadata": {
  "kernelspec": {
   "display_name": "Python 3",
   "language": "python",
   "name": "python3"
  },
  "language_info": {
   "codemirror_mode": {
    "name": "ipython",
    "version": 3
   },
   "file_extension": ".py",
   "mimetype": "text/x-python",
   "name": "python",
   "nbconvert_exporter": "python",
   "pygments_lexer": "ipython3",
   "version": "3.7.9"
  }
 },
 "nbformat": 4,
 "nbformat_minor": 4
}
