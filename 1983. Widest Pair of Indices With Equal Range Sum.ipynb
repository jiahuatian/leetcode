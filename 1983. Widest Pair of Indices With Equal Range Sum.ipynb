{
 "cells": [
  {
   "cell_type": "code",
   "execution_count": 2,
   "metadata": {},
   "outputs": [
    {
     "name": "stdout",
     "output_type": "stream",
     "text": [
      "4 5\n"
     ]
    }
   ],
   "source": [
    "b = 5\n",
    "a = b\n",
    "a = a - 1\n",
    "print(a,b)"
   ]
  },
  {
   "cell_type": "code",
   "execution_count": 10,
   "metadata": {},
   "outputs": [],
   "source": [
    "class Solution:\n",
    "    def widestPairOfIndices(self, nums1, nums2):\n",
    "        n = len(nums1)\n",
    "        \n",
    "        dist = n\n",
    "        \n",
    "        i = 0\n",
    "        \n",
    "        while i < n and dist > 0:\n",
    "            while i + dist - 1 < n:\n",
    "                if sum(nums1[i:i + dist]) == sum(nums2[i:i + dist]):\n",
    "                    #print(nums1[i:i + dist])\n",
    "                    return dist\n",
    "                i += 1\n",
    "            i = 0\n",
    "            dist -= 1\n",
    "        \n",
    "        return 0"
   ]
  },
  {
   "cell_type": "code",
   "execution_count": 11,
   "metadata": {},
   "outputs": [
    {
     "data": {
      "text/plain": [
       "3"
      ]
     },
     "execution_count": 11,
     "metadata": {},
     "output_type": "execute_result"
    }
   ],
   "source": [
    "nums1 = [1,1,0,1]\n",
    "nums2 = [0,1,1,0]\n",
    "\n",
    "obj = Solution()\n",
    "obj.widestPairOfIndices(nums1,nums2)"
   ]
  },
  {
   "cell_type": "code",
   "execution_count": 13,
   "metadata": {},
   "outputs": [
    {
     "data": {
      "text/plain": [
       "<zip at 0x10f219048>"
      ]
     },
     "execution_count": 13,
     "metadata": {},
     "output_type": "execute_result"
    }
   ],
   "source": [
    "zip(nums1, nums2)"
   ]
  },
  {
   "cell_type": "code",
   "execution_count": 32,
   "metadata": {},
   "outputs": [],
   "source": [
    "import sys\n",
    "\n",
    "class Solution:\n",
    "    def widestPairOfIndices(self, nums1, nums2):\n",
    "        d = {0: -1}\n",
    "        ans = s1 = s2 = 0\n",
    "        for i, (v1, v2) in enumerate(zip(nums1, nums2)):\n",
    "            s1, s2 = s1+v1, s2+v2\n",
    "            diff = s1 - s2\n",
    "            if diff not in d:\n",
    "                d[diff] = i\n",
    "            ans = max(ans, i - d.get(diff, sys.maxsize))\n",
    "            #print(d.get(diff, sys.maxsize))\n",
    "            print(d)\n",
    "        return ans"
   ]
  },
  {
   "cell_type": "code",
   "execution_count": 35,
   "metadata": {},
   "outputs": [
    {
     "name": "stdout",
     "output_type": "stream",
     "text": [
      "{0: -1}\n",
      "{0: -1}\n",
      "{0: -1}\n",
      "{0: -1, -1: 3}\n"
     ]
    },
    {
     "data": {
      "text/plain": [
       "3"
      ]
     },
     "execution_count": 35,
     "metadata": {},
     "output_type": "execute_result"
    }
   ],
   "source": [
    "nums1 = [0,0,1,0]\n",
    "nums2 = [0,0,1,1]\n",
    "\n",
    "obj = Solution()\n",
    "obj.widestPairOfIndices(nums1,nums2)"
   ]
  },
  {
   "cell_type": "code",
   "execution_count": 36,
   "metadata": {},
   "outputs": [
    {
     "data": {
      "text/plain": [
       "(3, 1)"
      ]
     },
     "execution_count": 36,
     "metadata": {},
     "output_type": "execute_result"
    }
   ],
   "source": [
    "divmod(10,3)"
   ]
  },
  {
   "cell_type": "code",
   "execution_count": 39,
   "metadata": {},
   "outputs": [
    {
     "data": {
      "text/plain": [
       "-2"
      ]
     },
     "execution_count": 39,
     "metadata": {},
     "output_type": "execute_result"
    }
   ],
   "source": [
    "int(-2.33333)"
   ]
  },
  {
   "cell_type": "code",
   "execution_count": null,
   "metadata": {},
   "outputs": [],
   "source": []
  }
 ],
 "metadata": {
  "kernelspec": {
   "display_name": "Python 3",
   "language": "python",
   "name": "python3"
  },
  "language_info": {
   "codemirror_mode": {
    "name": "ipython",
    "version": 3
   },
   "file_extension": ".py",
   "mimetype": "text/x-python",
   "name": "python",
   "nbconvert_exporter": "python",
   "pygments_lexer": "ipython3",
   "version": "3.7.3"
  }
 },
 "nbformat": 4,
 "nbformat_minor": 2
}
