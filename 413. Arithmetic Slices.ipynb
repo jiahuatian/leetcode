{
 "cells": [
  {
   "cell_type": "code",
   "execution_count": 25,
   "metadata": {},
   "outputs": [],
   "source": [
    "class Solution:\n",
    "    def numberOfArithmeticSlices(self, nums) -> int:\n",
    "        if len(nums) <= 2:\n",
    "            return 0\n",
    "        \n",
    "        from collections import defaultdict\n",
    "        \n",
    "        count = 0\n",
    "        \n",
    "        i = 0\n",
    "        while i < len(nums)-2:\n",
    "            diff = nums[i+1] - nums[i]\n",
    "            j = 2\n",
    "            dp = defaultdict(bool)\n",
    "            dp[1] = True\n",
    "            while i+j < len(nums):\n",
    "                dp[j] = dp[j-1] and nums[i+j]-nums[i+j-1]==diff\n",
    "                if dp[j] == True:\n",
    "                    j += 1\n",
    "                    count += 1\n",
    "                else:\n",
    "                    break\n",
    "            i += 1\n",
    "            \n",
    "        return count"
   ]
  },
  {
   "cell_type": "code",
   "execution_count": 27,
   "metadata": {},
   "outputs": [
    {
     "data": {
      "text/plain": [
       "10"
      ]
     },
     "execution_count": 27,
     "metadata": {},
     "output_type": "execute_result"
    }
   ],
   "source": [
    "nums = [1,2,3,4,5,6,8]\n",
    "obj = Solution()\n",
    "obj.numberOfArithmeticSlices(nums)"
   ]
  },
  {
   "cell_type": "code",
   "execution_count": null,
   "metadata": {},
   "outputs": [],
   "source": []
  }
 ],
 "metadata": {
  "kernelspec": {
   "display_name": "Python 3",
   "language": "python",
   "name": "python3"
  },
  "language_info": {
   "codemirror_mode": {
    "name": "ipython",
    "version": 3
   },
   "file_extension": ".py",
   "mimetype": "text/x-python",
   "name": "python",
   "nbconvert_exporter": "python",
   "pygments_lexer": "ipython3",
   "version": "3.7.3"
  }
 },
 "nbformat": 4,
 "nbformat_minor": 2
}
