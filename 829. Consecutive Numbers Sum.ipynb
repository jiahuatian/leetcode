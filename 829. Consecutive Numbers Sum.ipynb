{
 "cells": [
  {
   "cell_type": "code",
   "execution_count": 7,
   "metadata": {},
   "outputs": [],
   "source": [
    "class Solution:\n",
    "    def consecutiveNumbersSum(self, n: int) -> int:\n",
    "        left = 0\n",
    "        right = 10**9\n",
    "        upperbound = []\n",
    "        while left <= right:\n",
    "            mid = (left+right)//2\n",
    "            if n == (mid+1)*mid/2:\n",
    "                upperbound = mid\n",
    "                break\n",
    "            elif n > (mid+1)*mid/2:\n",
    "                left = mid+1\n",
    "            else:\n",
    "                right = mid-1\n",
    "        if not upperbound:\n",
    "            upperbound = right+1\n",
    "        \n",
    "        return upperbound"
   ]
  },
  {
   "cell_type": "code",
   "execution_count": 10,
   "metadata": {},
   "outputs": [
    {
     "data": {
      "text/plain": [
       "1414"
      ]
     },
     "execution_count": 10,
     "metadata": {},
     "output_type": "execute_result"
    }
   ],
   "source": [
    "n = 1000000\n",
    "obj = Solution()\n",
    "obj.consecutiveNumbersSum(n)"
   ]
  },
  {
   "cell_type": "code",
   "execution_count": 13,
   "metadata": {},
   "outputs": [
    {
     "data": {
      "text/plain": [
       "True"
      ]
     },
     "execution_count": 13,
     "metadata": {},
     "output_type": "execute_result"
    }
   ],
   "source": [
    "a = 2.0\n",
    "a.is_integer()"
   ]
  },
  {
   "cell_type": "code",
   "execution_count": 32,
   "metadata": {},
   "outputs": [],
   "source": [
    "class Solution:\n",
    "    def consecutiveNumbersSum(self, n: int) -> int:\n",
    "        left = 0\n",
    "        right = 10**9\n",
    "        upperbound = []\n",
    "        while left <= right:\n",
    "            mid = (left+right)//2\n",
    "            if n == (mid+1)*mid/2:\n",
    "                upperbound = mid\n",
    "                break\n",
    "            elif n > (mid+1)*mid/2:\n",
    "                left = mid+1\n",
    "            else:\n",
    "                right = mid-1    \n",
    "                \n",
    "        if not upperbound:\n",
    "            upperbound = right+1\n",
    "            \n",
    "        res = 0\n",
    "        for i in range(1,upperbound+1):\n",
    "            if i%2 == 0:\n",
    "                a = n/i-0.5\n",
    "                r = i//2\n",
    "                if a.is_integer():\n",
    "                    if a-(r-1) >=1:\n",
    "                        res += 1\n",
    "            else:\n",
    "                a = n/i\n",
    "                r = i//2\n",
    "                if a.is_integer():\n",
    "                    if a-r >= 1:\n",
    "                        res += 1\n",
    "        \n",
    "        return res"
   ]
  },
  {
   "cell_type": "code",
   "execution_count": 33,
   "metadata": {},
   "outputs": [
    {
     "data": {
      "text/plain": [
       "1"
      ]
     },
     "execution_count": 33,
     "metadata": {},
     "output_type": "execute_result"
    }
   ],
   "source": [
    "n = 1\n",
    "obj = Solution()\n",
    "obj.consecutiveNumbersSum(n)"
   ]
  },
  {
   "cell_type": "code",
   "execution_count": 35,
   "metadata": {},
   "outputs": [
    {
     "data": {
      "text/plain": [
       "set"
      ]
     },
     "execution_count": 35,
     "metadata": {},
     "output_type": "execute_result"
    }
   ],
   "source": [
    "operators = {'+','-','*','/'}\n",
    "type(operators)"
   ]
  },
  {
   "cell_type": "code",
   "execution_count": null,
   "metadata": {},
   "outputs": [],
   "source": []
  }
 ],
 "metadata": {
  "kernelspec": {
   "display_name": "Python 3",
   "language": "python",
   "name": "python3"
  },
  "language_info": {
   "codemirror_mode": {
    "name": "ipython",
    "version": 3
   },
   "file_extension": ".py",
   "mimetype": "text/x-python",
   "name": "python",
   "nbconvert_exporter": "python",
   "pygments_lexer": "ipython3",
   "version": "3.7.3"
  }
 },
 "nbformat": 4,
 "nbformat_minor": 2
}
