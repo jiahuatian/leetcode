{
 "cells": [
  {
   "cell_type": "code",
   "execution_count": 5,
   "metadata": {},
   "outputs": [],
   "source": [
    "class Solution:\n",
    "    def sequentialDigits(self, low: int, high: int):\n",
    "        def gen(s,l):\n",
    "            ans = ''\n",
    "            i = 0\n",
    "            for i in range(l):\n",
    "                if int(s) < 10:\n",
    "                    ans += s\n",
    "                    s = str(int(s)+1)\n",
    "                else:\n",
    "                    return\n",
    "            return int(ans)\n",
    "        ans = []\n",
    "        l = len(str(low))\n",
    "        start = int(str(low)[0])\n",
    "        res = 0\n",
    "        stop = 0\n",
    "        while True:\n",
    "            if stop == 1 or l > 9:\n",
    "                break\n",
    "            for s in range(start,10):\n",
    "                if gen(str(s),l) and low <= gen(str(s),l) <= high:\n",
    "                    ans.append(gen(str(s),l))\n",
    "                elif gen(str(s),l) and gen(str(s),l) > high:\n",
    "                    stop = 1\n",
    "                    break\n",
    "            start = 1\n",
    "            l += 1\n",
    "        return ans\n",
    "            "
   ]
  },
  {
   "cell_type": "code",
   "execution_count": 6,
   "metadata": {},
   "outputs": [
    {
     "data": {
      "text/plain": [
       "[12,\n",
       " 23,\n",
       " 34,\n",
       " 45,\n",
       " 56,\n",
       " 67,\n",
       " 78,\n",
       " 89,\n",
       " 123,\n",
       " 234,\n",
       " 345,\n",
       " 456,\n",
       " 567,\n",
       " 678,\n",
       " 789,\n",
       " 1234,\n",
       " 2345,\n",
       " 3456,\n",
       " 4567,\n",
       " 5678,\n",
       " 6789,\n",
       " 12345,\n",
       " 23456,\n",
       " 34567,\n",
       " 45678,\n",
       " 56789,\n",
       " 123456,\n",
       " 234567,\n",
       " 345678,\n",
       " 456789,\n",
       " 1234567,\n",
       " 2345678,\n",
       " 3456789,\n",
       " 12345678,\n",
       " 23456789,\n",
       " 123456789]"
      ]
     },
     "execution_count": 6,
     "metadata": {},
     "output_type": "execute_result"
    }
   ],
   "source": [
    "low = 10\n",
    "high = 1000000000\n",
    "\n",
    "obj = Solution()\n",
    "obj.sequentialDigits(low,high)"
   ]
  },
  {
   "cell_type": "code",
   "execution_count": null,
   "metadata": {},
   "outputs": [],
   "source": []
  }
 ],
 "metadata": {
  "kernelspec": {
   "display_name": "Python 3",
   "language": "python",
   "name": "python3"
  },
  "language_info": {
   "codemirror_mode": {
    "name": "ipython",
    "version": 3
   },
   "file_extension": ".py",
   "mimetype": "text/x-python",
   "name": "python",
   "nbconvert_exporter": "python",
   "pygments_lexer": "ipython3",
   "version": "3.7.9"
  }
 },
 "nbformat": 4,
 "nbformat_minor": 4
}
