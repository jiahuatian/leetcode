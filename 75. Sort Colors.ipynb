{
 "cells": [
  {
   "cell_type": "code",
   "execution_count": 11,
   "metadata": {},
   "outputs": [],
   "source": [
    "class Solution:\n",
    "    def sortColors(self, nums) -> None:\n",
    "        \"\"\"\n",
    "        Do not return anything, modify nums in-place instead.\n",
    "        \"\"\"\n",
    "        i = 0\n",
    "        while i < len(nums):\n",
    "            print(i,nums)\n",
    "            if nums[i] == 2:\n",
    "                oldnums = nums.copy()\n",
    "                nums.pop(i)\n",
    "                nums.append(2)\n",
    "                i -= 1\n",
    "                if oldnums == nums:\n",
    "                    break\n",
    "            elif nums[i] == 0:\n",
    "                nums.pop(i)\n",
    "                nums.insert(0,0)           \n",
    "            i += 1\n",
    "            \n",
    "        return nums"
   ]
  },
  {
   "cell_type": "code",
   "execution_count": 12,
   "metadata": {},
   "outputs": [
    {
     "name": "stdout",
     "output_type": "stream",
     "text": [
      "0 [2, 0, 2, 1, 1, 0]\n",
      "0 [0, 2, 1, 1, 0, 2]\n",
      "1 [0, 2, 1, 1, 0, 2]\n",
      "1 [0, 1, 1, 0, 2, 2]\n",
      "2 [0, 1, 1, 0, 2, 2]\n",
      "3 [0, 1, 1, 0, 2, 2]\n",
      "4 [0, 0, 1, 1, 2, 2]\n"
     ]
    },
    {
     "data": {
      "text/plain": [
       "[0, 0, 1, 1, 2, 2]"
      ]
     },
     "execution_count": 12,
     "metadata": {},
     "output_type": "execute_result"
    }
   ],
   "source": [
    "nums = [2,0,2,1,1,0]\n",
    "\n",
    "obj = Solution()\n",
    "obj.sortColors(nums)"
   ]
  },
  {
   "cell_type": "code",
   "execution_count": null,
   "metadata": {},
   "outputs": [],
   "source": []
  }
 ],
 "metadata": {
  "kernelspec": {
   "display_name": "Python 3",
   "language": "python",
   "name": "python3"
  },
  "language_info": {
   "codemirror_mode": {
    "name": "ipython",
    "version": 3
   },
   "file_extension": ".py",
   "mimetype": "text/x-python",
   "name": "python",
   "nbconvert_exporter": "python",
   "pygments_lexer": "ipython3",
   "version": "3.7.3"
  }
 },
 "nbformat": 4,
 "nbformat_minor": 2
}
