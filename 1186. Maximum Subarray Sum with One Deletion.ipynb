{
 "cells": [
  {
   "cell_type": "code",
   "execution_count": 9,
   "metadata": {},
   "outputs": [],
   "source": [
    "class Solution:\n",
    "    def maximumSum(self, arr) -> int:\n",
    "        def kadane(l):\n",
    "            dp = l.copy()\n",
    "            if not dp:\n",
    "                return -float('inf')\n",
    "            m = dp[0]\n",
    "            for i in range(1,len(l)):\n",
    "                dp[i] = max(dp[i],dp[i-1]+l[i])\n",
    "                m = max(m,dp[i])\n",
    "            return m\n",
    "        ans = -float('inf')\n",
    "        for i in range(len(arr)):\n",
    "            ls,rs = kadane(arr[:i]),kadane(arr[i+1:])\n",
    "            ans = max(ans,arr[i],ls,rs,ls+rs)\n",
    "            print(ls,rs)\n",
    "        return ans"
   ]
  },
  {
   "cell_type": "code",
   "execution_count": 11,
   "metadata": {},
   "outputs": [
    {
     "name": "stdout",
     "output_type": "stream",
     "text": [
      "-inf 3\n",
      "1 3\n",
      "1 3\n",
      "1 -inf\n"
     ]
    },
    {
     "data": {
      "text/plain": [
       "4"
      ]
     },
     "execution_count": 11,
     "metadata": {},
     "output_type": "execute_result"
    }
   ],
   "source": [
    "arr = [-1,-1,-1,-1]\n",
    "arr = [1,-2,-2,3]\n",
    "\n",
    "obj = Solution()\n",
    "obj.maximumSum(arr)"
   ]
  },
  {
   "cell_type": "code",
   "execution_count": null,
   "metadata": {},
   "outputs": [],
   "source": []
  }
 ],
 "metadata": {
  "kernelspec": {
   "display_name": "Python 3",
   "language": "python",
   "name": "python3"
  },
  "language_info": {
   "codemirror_mode": {
    "name": "ipython",
    "version": 3
   },
   "file_extension": ".py",
   "mimetype": "text/x-python",
   "name": "python",
   "nbconvert_exporter": "python",
   "pygments_lexer": "ipython3",
   "version": "3.7.9"
  }
 },
 "nbformat": 4,
 "nbformat_minor": 4
}
