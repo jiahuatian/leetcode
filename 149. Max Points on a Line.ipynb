{
 "cells": [
  {
   "cell_type": "code",
   "execution_count": 19,
   "metadata": {},
   "outputs": [],
   "source": [
    "class Solution:\n",
    "    def maxPoints(self, points) -> int:\n",
    "        if len(points) == 1:\n",
    "            return 1\n",
    "        from collections import defaultdict\n",
    "        lines = defaultdict(set)\n",
    "        for i in range(len(points)-1):\n",
    "            for j in range(i+1,len(points)):\n",
    "                x1,y1 = points[i]\n",
    "                x2,y2 = points[j]\n",
    "                lines[(y1-y2,x2-x1,x1*y2-x2*y1)].add((x1,y1))\n",
    "                lines[(y1-y2,x2-x1,x1*y2-x2*y1)].add((x2,y2))\n",
    "        \n",
    "        for x,y in points:\n",
    "            print('\\n',x,y)\n",
    "            for key in lines:\n",
    "                a,b,c = key\n",
    "                print(a,b,c)\n",
    "                if a*x+b*y+c == 0:\n",
    "                    print('here')\n",
    "                    lines[key].add((x,y))\n",
    "        print(lines)\n",
    "        return len(sorted(list(lines.items()),key=lambda a:len(a[1]))[-1][1])"
   ]
  },
  {
   "cell_type": "code",
   "execution_count": 20,
   "metadata": {},
   "outputs": [
    {
     "name": "stdout",
     "output_type": "stream",
     "text": [
      "\n",
      " 9 -25\n",
      "-26 -13 -91\n",
      "here\n",
      "-30 -10 20\n",
      "here\n",
      "-32 -16 -112\n",
      "here\n",
      "-4 3 -19\n",
      "-6 -3 -21\n",
      "here\n",
      "-2 -6 28\n",
      "\n",
      " -4 1\n",
      "-26 -13 -91\n",
      "here\n",
      "-30 -10 20\n",
      "-32 -16 -112\n",
      "here\n",
      "-4 3 -19\n",
      "here\n",
      "-6 -3 -21\n",
      "here\n",
      "-2 -6 28\n",
      "\n",
      " -1 5\n",
      "-26 -13 -91\n",
      "-30 -10 20\n",
      "here\n",
      "-32 -16 -112\n",
      "-4 3 -19\n",
      "here\n",
      "-6 -3 -21\n",
      "-2 -6 28\n",
      "here\n",
      "\n",
      " -7 7\n",
      "-26 -13 -91\n",
      "here\n",
      "-30 -10 20\n",
      "-32 -16 -112\n",
      "here\n",
      "-4 3 -19\n",
      "-6 -3 -21\n",
      "here\n",
      "-2 -6 28\n",
      "here\n",
      "defaultdict(<class 'set'>, {(-26, -13, -91): {(-4, 1), (-7, 7), (9, -25)}, (-30, -10, 20): {(-1, 5), (9, -25)}, (-32, -16, -112): {(-4, 1), (-7, 7), (9, -25)}, (-4, 3, -19): {(-4, 1), (-1, 5)}, (-6, -3, -21): {(9, -25), (-4, 1), (-7, 7)}, (-2, -6, 28): {(-1, 5), (-7, 7)}})\n"
     ]
    },
    {
     "data": {
      "text/plain": [
       "3"
      ]
     },
     "execution_count": 20,
     "metadata": {},
     "output_type": "execute_result"
    }
   ],
   "source": [
    "points = [[9,-25],[-4,1],[-1,5],[-7,7]]\n",
    "\n",
    "obj = Solution()\n",
    "obj.maxPoints(points)"
   ]
  },
  {
   "cell_type": "code",
   "execution_count": null,
   "metadata": {},
   "outputs": [],
   "source": []
  }
 ],
 "metadata": {
  "kernelspec": {
   "display_name": "Python 3",
   "language": "python",
   "name": "python3"
  },
  "language_info": {
   "codemirror_mode": {
    "name": "ipython",
    "version": 3
   },
   "file_extension": ".py",
   "mimetype": "text/x-python",
   "name": "python",
   "nbconvert_exporter": "python",
   "pygments_lexer": "ipython3",
   "version": "3.7.3"
  }
 },
 "nbformat": 4,
 "nbformat_minor": 2
}
