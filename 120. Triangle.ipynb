{
 "cells": [
  {
   "cell_type": "code",
   "execution_count": 2,
   "metadata": {},
   "outputs": [
    {
     "data": {
      "text/plain": [
       "defaultdict(int, {(0, 0): 1})"
      ]
     },
     "execution_count": 2,
     "metadata": {},
     "output_type": "execute_result"
    }
   ],
   "source": [
    "from collections import defaultdict\n",
    "dp = defaultdict(int)\n",
    "dp[(0,0)] = 1\n",
    "dp"
   ]
  },
  {
   "cell_type": "code",
   "execution_count": 11,
   "metadata": {},
   "outputs": [],
   "source": [
    "class Solution:\n",
    "    def minimumTotal(self, triangle) -> int:\n",
    "        from collections import defaultdict\n",
    "        dp = defaultdict(int)\n",
    "        dp[(0,0)] = triangle[0][0]\n",
    "        for layer in range(1,len(triangle)):\n",
    "            for i in range(len(triangle[layer])):\n",
    "                if i == 0:\n",
    "                    dp[(layer,i)] = dp[(layer-1,i)]+triangle[layer][i]\n",
    "                elif i == len(triangle[layer])-1:\n",
    "                    dp[(layer,i)] = dp[(layer-1,i-1)]+triangle[layer][i]\n",
    "                else:\n",
    "                    dp[(layer,i)] = min(dp[(layer-1,i-1)],dp[(layer-1,i)])+triangle[layer][i]\n",
    "                    \n",
    "        mymin = float('inf')\n",
    "        for i in range(len(triangle[len(triangle)-1])):\n",
    "            mymin = min(mymin,dp[(len(triangle)-1,i)])\n",
    "            \n",
    "        print(dp)\n",
    "            \n",
    "        return mymin"
   ]
  },
  {
   "cell_type": "code",
   "execution_count": 12,
   "metadata": {},
   "outputs": [
    {
     "name": "stdout",
     "output_type": "stream",
     "text": [
      "defaultdict(<class 'int'>, {(0, 0): 2, (1, 0): 5, (1, 1): 6, (2, 0): 11, (2, 1): 10, (2, 2): 13, (3, 0): 15, (3, 1): 11, (3, 2): 18, (3, 3): 16})\n"
     ]
    },
    {
     "data": {
      "text/plain": [
       "11"
      ]
     },
     "execution_count": 12,
     "metadata": {},
     "output_type": "execute_result"
    }
   ],
   "source": [
    "triangle = [[2],[3,4],[6,5,7],[4,1,8,3]]\n",
    "\n",
    "obj = Solution()\n",
    "obj.minimumTotal(triangle)"
   ]
  },
  {
   "cell_type": "code",
   "execution_count": 6,
   "metadata": {},
   "outputs": [],
   "source": [
    "class Solution:\n",
    "    def minimumTotal(self, triangle) -> int:\n",
    "        from collections import defaultdict\n",
    "        dp = defaultdict(int)\n",
    "        for i in range(len(triangle)):\n",
    "            for j in range(len(triangle[i])):\n",
    "                if j == 0:\n",
    "                    dp[(i,0)] = dp[(i-1,0)]+triangle[i][0]\n",
    "                elif j == len(triangle[i])-1:\n",
    "                    dp[(i,len(triangle[i])-1)] = dp[(i-1,len(triangle[i-1])-1)]+triangle[i][len(triangle[i])-1]\n",
    "                else:\n",
    "                    dp[(i,j)] = min(dp[(i-1,j)]+triangle[i][j],dp[(i-1,j-1)]+triangle[i][j])\n",
    "                    \n",
    "        print(dp)\n",
    "            \n",
    "        mymin = float('inf')\n",
    "        for j in range(len(triangle[-1])):\n",
    "            mymin = min(mymin, dp[(len(triangle)-1,j)])\n",
    "        \n",
    "        return mymin"
   ]
  },
  {
   "cell_type": "code",
   "execution_count": 7,
   "metadata": {},
   "outputs": [
    {
     "name": "stdout",
     "output_type": "stream",
     "text": [
      "defaultdict(<class 'int'>, {(-1, 0): 0, (0, 0): 2, (1, 0): 5, (1, 1): 6, (2, 0): 11, (2, 1): 10, (2, 2): 13, (3, 0): 15, (3, 1): 11, (3, 2): 18, (3, 3): 16})\n"
     ]
    },
    {
     "data": {
      "text/plain": [
       "11"
      ]
     },
     "execution_count": 7,
     "metadata": {},
     "output_type": "execute_result"
    }
   ],
   "source": [
    "triangle = [[2],[3,4],[6,5,7],[4,1,8,3]]\n",
    "\n",
    "obj = Solution()\n",
    "obj.minimumTotal(triangle)"
   ]
  },
  {
   "cell_type": "code",
   "execution_count": null,
   "metadata": {},
   "outputs": [],
   "source": []
  }
 ],
 "metadata": {
  "kernelspec": {
   "display_name": "Python 3",
   "language": "python",
   "name": "python3"
  },
  "language_info": {
   "codemirror_mode": {
    "name": "ipython",
    "version": 3
   },
   "file_extension": ".py",
   "mimetype": "text/x-python",
   "name": "python",
   "nbconvert_exporter": "python",
   "pygments_lexer": "ipython3",
   "version": "3.7.3"
  }
 },
 "nbformat": 4,
 "nbformat_minor": 2
}
