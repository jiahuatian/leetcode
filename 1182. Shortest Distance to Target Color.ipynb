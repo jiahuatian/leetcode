{
 "cells": [
  {
   "cell_type": "code",
   "execution_count": 20,
   "metadata": {},
   "outputs": [],
   "source": [
    "class Solution:\n",
    "    def shortestDistanceColor(self, colors, queries):\n",
    "        from collections import defaultdict\n",
    "        pos = defaultdict(list)\n",
    "        for i,c in enumerate(colors):\n",
    "            pos[c].append(i)\n",
    "        for key in pos:\n",
    "            pos[key].sort()\n",
    "        print(pos)\n",
    "        ans = []\n",
    "        for q in queries:\n",
    "            if q[1] not in set(colors):\n",
    "                ans.append(-1)\n",
    "                continue\n",
    "            if colors[q[0]] == q[1]:\n",
    "                ans.append(0)\n",
    "                continue\n",
    "            target,nums = q[0],pos[q[1]]\n",
    "            print(target,nums)\n",
    "            left = 0\n",
    "            right = len(nums)-1\n",
    "            while left <= right:\n",
    "                mid = (left+right)//2\n",
    "                if target > nums[mid]:\n",
    "                    left = mid+1\n",
    "                else:\n",
    "                    right = mid-1\n",
    "            print(left,right)\n",
    "            if right == -1:\n",
    "                ans.append(nums[left]-target)\n",
    "            elif right == len(nums)-1:\n",
    "                ans.append(target-nums[right])\n",
    "            else:\n",
    "                ans.append(min(abs(target-nums[right]),abs(nums[left]-target)))\n",
    "        return ans"
   ]
  },
  {
   "cell_type": "code",
   "execution_count": 21,
   "metadata": {},
   "outputs": [
    {
     "name": "stdout",
     "output_type": "stream",
     "text": [
      "defaultdict(<class 'list'>, {1: [0, 1, 3], 2: [2, 5, 6], 3: [4, 7, 8]})\n",
      "1 [4, 7, 8]\n",
      "0 -1\n",
      "6 [0, 1, 3]\n",
      "3 2\n"
     ]
    },
    {
     "data": {
      "text/plain": [
       "[3, 0, 3]"
      ]
     },
     "execution_count": 21,
     "metadata": {},
     "output_type": "execute_result"
    }
   ],
   "source": [
    "colors = [1,1,2,1,3,2,2,3,3]\n",
    "queries = [[1,3],[2,2],[6,1]]\n",
    "\n",
    "obj = Solution()\n",
    "obj.shortestDistanceColor(colors,queries)"
   ]
  },
  {
   "cell_type": "code",
   "execution_count": 23,
   "metadata": {},
   "outputs": [
    {
     "data": {
      "text/plain": [
       "0"
      ]
     },
     "execution_count": 23,
     "metadata": {},
     "output_type": "execute_result"
    }
   ],
   "source": [
    "index_list = [4, 7, 8]\n",
    "target = 1\n",
    "import bisect\n",
    "bisect.bisect_left(index_list, target)"
   ]
  },
  {
   "cell_type": "code",
   "execution_count": 9,
   "metadata": {},
   "outputs": [],
   "source": [
    "class Solution:\n",
    "    def shortestDistanceColor(self, colors, queries):\n",
    "        dp = [[float('inf'),float('inf'),float('inf')] for _ in range(len(colors))]\n",
    "        dp[0][colors[0]-1] = 0\n",
    "        dp[-1][colors[-1]-1] = 0\n",
    "        for i,c in enumerate(colors[1:]):\n",
    "            dp[i+1][c-1] = 0\n",
    "            dp[i+1][c%3] = min(dp[i][c%3]+1,dp[i+1][c%3])\n",
    "            dp[i+1][(c+1)%3] = min(dp[i][(c+1)%3]+1,dp[i+1][(c+1)%3])\n",
    "        for i in range(len(colors)-2,-1,-1):\n",
    "            c = colors[i]\n",
    "            dp[i][c%3] = min(dp[i+1][c%3]+1,dp[i][c%3])\n",
    "            dp[i][(c+1)%3] = min(dp[i+1][(c+1)%3]+1,dp[i][(c+1)%3])\n",
    "        ans = []\n",
    "        for q in queries:\n",
    "            if dp[q[0]][q[1]-1] == float('inf'):\n",
    "                ans.append(-1)\n",
    "            else:\n",
    "                ans.append(dp[q[0]][q[1]-1])\n",
    "        return ans"
   ]
  },
  {
   "cell_type": "code",
   "execution_count": 10,
   "metadata": {},
   "outputs": [
    {
     "data": {
      "text/plain": [
       "[3, 0, 3]"
      ]
     },
     "execution_count": 10,
     "metadata": {},
     "output_type": "execute_result"
    }
   ],
   "source": [
    "colors = [1,1,2,1,3,2,2,3,3]\n",
    "queries = [[1,3],[2,2],[6,1]]\n",
    "\n",
    "obj = Solution()\n",
    "obj.shortestDistanceColor(colors,queries)"
   ]
  },
  {
   "cell_type": "code",
   "execution_count": null,
   "metadata": {},
   "outputs": [],
   "source": []
  }
 ],
 "metadata": {
  "kernelspec": {
   "display_name": "Python 3",
   "language": "python",
   "name": "python3"
  },
  "language_info": {
   "codemirror_mode": {
    "name": "ipython",
    "version": 3
   },
   "file_extension": ".py",
   "mimetype": "text/x-python",
   "name": "python",
   "nbconvert_exporter": "python",
   "pygments_lexer": "ipython3",
   "version": "3.7.3"
  }
 },
 "nbformat": 4,
 "nbformat_minor": 2
}
