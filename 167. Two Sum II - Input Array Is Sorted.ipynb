{
 "cells": [
  {
   "cell_type": "code",
   "execution_count": 9,
   "metadata": {},
   "outputs": [],
   "source": [
    "class Solution:\n",
    "    def twoSum(self, numbers, target: int):\n",
    "        for i in range(len(numbers)):\n",
    "            if numbers[i] > target:\n",
    "                break\n",
    "            left = i+1\n",
    "            right = len(numbers)-1\n",
    "            mytar = target - numbers[i]\n",
    "            while left <= right:\n",
    "                mid = (left+right)//2\n",
    "                if mytar == numbers[mid]:\n",
    "                    return [i+1, mid+1]\n",
    "                elif mytar > numbers[mid]:\n",
    "                    left = mid + 1\n",
    "                else:\n",
    "                    right = mid - 1"
   ]
  },
  {
   "cell_type": "code",
   "execution_count": 10,
   "metadata": {},
   "outputs": [
    {
     "data": {
      "text/plain": [
       "[1, 2]"
      ]
     },
     "execution_count": 10,
     "metadata": {},
     "output_type": "execute_result"
    }
   ],
   "source": [
    "numbers = [2,7,11,15]\n",
    "target = 9\n",
    "\n",
    "obj = Solution()\n",
    "obj.twoSum(numbers, target)"
   ]
  },
  {
   "cell_type": "code",
   "execution_count": null,
   "metadata": {},
   "outputs": [],
   "source": []
  }
 ],
 "metadata": {
  "kernelspec": {
   "display_name": "Python 3",
   "language": "python",
   "name": "python3"
  },
  "language_info": {
   "codemirror_mode": {
    "name": "ipython",
    "version": 3
   },
   "file_extension": ".py",
   "mimetype": "text/x-python",
   "name": "python",
   "nbconvert_exporter": "python",
   "pygments_lexer": "ipython3",
   "version": "3.7.3"
  }
 },
 "nbformat": 4,
 "nbformat_minor": 2
}
