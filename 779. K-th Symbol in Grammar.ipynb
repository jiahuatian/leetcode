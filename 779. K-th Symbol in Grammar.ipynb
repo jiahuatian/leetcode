{
 "cells": [
  {
   "cell_type": "code",
   "execution_count": null,
   "metadata": {},
   "outputs": [],
   "source": [
    "0\n",
    "01\n",
    "01 10\n",
    "01 10 1001\n",
    "0110 10 0110010110\n",
    "\n",
    "\n",
    "56 -> 01\n",
    "34 -> 01\n",
    "12 -> 10\n"
   ]
  },
  {
   "cell_type": "code",
   "execution_count": 101,
   "metadata": {},
   "outputs": [],
   "source": [
    "class Solution:\n",
    "    def kthGrammar(self, n: int, k: int) -> int:\n",
    "        rep = n\n",
    "        if k%2 == 0:\n",
    "            thisone = '01'\n",
    "        else:\n",
    "            thisone = '10'\n",
    "        \n",
    "        while rep > 1:\n",
    "            if thisone == '01' and (k/2)%2 == 0:\n",
    "                thisone = '10'\n",
    "                k = k/2-1\n",
    "            elif thisone == '01' and (k/2)%2 != 0:\n",
    "                thisone = '01'\n",
    "                k = k/2+1\n",
    "            elif thisone == '10' and ((k+1)/2)%2 == 0:\n",
    "                thisone = '01'\n",
    "                k = (k+1)/2\n",
    "            elif thisone == '10' and ((k+1)/2)%2 != 0:\n",
    "                thisone = '10'\n",
    "                k = (k+1)/2\n",
    "            rep -= 1\n",
    "            \n",
    "        if thisone == '01':\n",
    "            return 1\n",
    "        else:\n",
    "            return 0"
   ]
  },
  {
   "cell_type": "code",
   "execution_count": 103,
   "metadata": {},
   "outputs": [
    {
     "data": {
      "text/plain": [
       "'01'"
      ]
     },
     "execution_count": 103,
     "metadata": {},
     "output_type": "execute_result"
    }
   ],
   "source": [
    "obj = Solution()\n",
    "obj.kthGrammar(5,5)"
   ]
  },
  {
   "cell_type": "code",
   "execution_count": 1,
   "metadata": {},
   "outputs": [],
   "source": [
    "class Solution:\n",
    "    def kthGrammar(self, n: int, k: int) -> int:\n",
    "        cache = {1:'0'}\n",
    "        def recur_G(N):\n",
    "            if N in cache:\n",
    "                return cache[N]\n",
    "            ans = ''.join(['01' if c == '0' else '10' for c in recur_G(N-1)])\n",
    "            cache[N] = ans\n",
    "            return ans\n",
    "        return recur_G(n)[k-1]"
   ]
  },
  {
   "cell_type": "code",
   "execution_count": 5,
   "metadata": {},
   "outputs": [
    {
     "data": {
      "text/plain": [
       "'0'"
      ]
     },
     "execution_count": 5,
     "metadata": {},
     "output_type": "execute_result"
    }
   ],
   "source": [
    "obj = Solution()\n",
    "obj.kthGrammar(2,1)"
   ]
  },
  {
   "cell_type": "code",
   "execution_count": null,
   "metadata": {},
   "outputs": [],
   "source": []
  }
 ],
 "metadata": {
  "kernelspec": {
   "display_name": "Python 3",
   "language": "python",
   "name": "python3"
  },
  "language_info": {
   "codemirror_mode": {
    "name": "ipython",
    "version": 3
   },
   "file_extension": ".py",
   "mimetype": "text/x-python",
   "name": "python",
   "nbconvert_exporter": "python",
   "pygments_lexer": "ipython3",
   "version": "3.7.3"
  }
 },
 "nbformat": 4,
 "nbformat_minor": 2
}
