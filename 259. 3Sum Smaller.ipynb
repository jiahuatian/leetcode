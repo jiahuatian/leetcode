{
 "cells": [
  {
   "cell_type": "code",
   "execution_count": 132,
   "metadata": {},
   "outputs": [],
   "source": [
    "class Solution(object):\n",
    "    def threeSumSmaller(self, nums, target):\n",
    "        \"\"\"\n",
    "        :type nums: List[int]\n",
    "        :type target: int\n",
    "        :rtype: int\n",
    "        \"\"\"\n",
    "        nums.sort(reverse=True)        \n",
    "        n = len(nums)\n",
    "        \n",
    "        myset = set()\n",
    "        \n",
    "        for i in range(n):\n",
    "            j = i + 1\n",
    "            k = n - 1\n",
    "            \n",
    "            while j < k:\n",
    "                if nums[i] + nums[j] + nums[k] < target:\n",
    "                    for J in range(j,k):\n",
    "                        myset.add(tuple([i,J,k]))\n",
    "                    k -= 1\n",
    "                else:\n",
    "                    j += 1\n",
    "                    if nums[i] + nums[j] + nums[k] < target:\n",
    "                        for J in range(j,k):\n",
    "                            myset.add(tuple([i,J,k]))\n",
    "        \n",
    "        return myset"
   ]
  },
  {
   "cell_type": "code",
   "execution_count": 133,
   "metadata": {},
   "outputs": [
    {
     "name": "stdout",
     "output_type": "stream",
     "text": [
      "[2, 2, 0, 0, -2]\n",
      "{(0, 3, 4), (0, 2, 4)}\n",
      "here 0 2 4\n",
      "{(0, 3, 4), (0, 2, 4)}\n",
      "{(0, 3, 4), (0, 2, 4)}\n",
      "here 1 2 4\n",
      "{(0, 3, 4), (0, 2, 4), (1, 2, 4), (1, 3, 4)}\n",
      "{(0, 3, 4), (0, 2, 4), (1, 2, 4), (1, 3, 4)}\n",
      "here 2 3 4\n",
      "{(0, 3, 4), (1, 2, 4), (1, 3, 4), (2, 3, 4), (0, 2, 4)}\n"
     ]
    },
    {
     "data": {
      "text/plain": [
       "{(0, 2, 4), (0, 3, 4), (1, 2, 4), (1, 3, 4), (2, 3, 4)}"
      ]
     },
     "execution_count": 133,
     "metadata": {},
     "output_type": "execute_result"
    }
   ],
   "source": [
    "nums = [-2,0,1,3]\n",
    "target = 2\n",
    "\n",
    "nums = [-1,1,-1,-1]\n",
    "target = -1\n",
    "\n",
    "nums = [1,-2,2,1,0]\n",
    "target = 1\n",
    "\n",
    "nums = [2,0,0,2,-2]\n",
    "target = 2\n",
    "\n",
    "obj = Solution()\n",
    "obj.threeSumSmaller(nums,target)"
   ]
  },
  {
   "cell_type": "code",
   "execution_count": 93,
   "metadata": {},
   "outputs": [
    {
     "data": {
      "text/plain": [
       "[2, 2, 0, 0, -2]"
      ]
     },
     "execution_count": 93,
     "metadata": {},
     "output_type": "execute_result"
    }
   ],
   "source": [
    "nums = [2,0,0,2,-2]\n",
    "nums.sort(reverse=True)\n",
    "nums"
   ]
  },
  {
   "cell_type": "code",
   "execution_count": null,
   "metadata": {},
   "outputs": [],
   "source": []
  }
 ],
 "metadata": {
  "kernelspec": {
   "display_name": "Python 3",
   "language": "python",
   "name": "python3"
  },
  "language_info": {
   "codemirror_mode": {
    "name": "ipython",
    "version": 3
   },
   "file_extension": ".py",
   "mimetype": "text/x-python",
   "name": "python",
   "nbconvert_exporter": "python",
   "pygments_lexer": "ipython3",
   "version": "3.7.3"
  }
 },
 "nbformat": 4,
 "nbformat_minor": 2
}
