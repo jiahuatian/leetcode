{
 "cells": [
  {
   "cell_type": "code",
   "execution_count": 5,
   "metadata": {},
   "outputs": [],
   "source": [
    "class Solution:\n",
    "    def accountsMerge(self, accounts):\n",
    "        from collections import defaultdict\n",
    "        from collections import deque\n",
    "        g,names = defaultdict(list),defaultdict(str)\n",
    "        q = deque()\n",
    "        for a in accounts:\n",
    "            for i in range(1,len(a)):\n",
    "                g[a[i]] += a[1:i]+a[i+1:]\n",
    "            names[a[1]] = a[0]\n",
    "            q.append(a[1])\n",
    "        used = set()\n",
    "        ans = []\n",
    "        while q:\n",
    "            start = q.popleft()\n",
    "            if start not in used:\n",
    "                used.add(start)\n",
    "                newq = deque([start,])\n",
    "                seen = set()\n",
    "                temp = []\n",
    "                temp.append(names[start])\n",
    "                emails = []\n",
    "                while newq:\n",
    "                    node = newq.popleft()\n",
    "                    if node not in temp:\n",
    "                        emails.append(node)\n",
    "                    for c in g[node]:\n",
    "                        if c not in seen:\n",
    "                            seen.add(c)\n",
    "                            used.add(c)\n",
    "                            newq.append(c)\n",
    "                emails.sort()\n",
    "                temp += emails\n",
    "                ans.append(temp)\n",
    "        return ans"
   ]
  },
  {
   "cell_type": "code",
   "execution_count": 6,
   "metadata": {},
   "outputs": [
    {
     "data": {
      "text/plain": [
       "[['David',\n",
       "  'Avid0@m.co',\n",
       "  'Avid0@m.co',\n",
       "  'David0@m.co',\n",
       "  'David1@m.co',\n",
       "  'David2@m.co',\n",
       "  'David3@m.co',\n",
       "  'David4@m.co',\n",
       "  'David5@m.co',\n",
       "  'Gvid3@m.co']]"
      ]
     },
     "execution_count": 6,
     "metadata": {},
     "output_type": "execute_result"
    }
   ],
   "source": [
    "accounts = [[\"David\",\"Avid0@m.co\",\"David0@m.co\",\"David1@m.co\"],[\"David\",\"Gvid3@m.co\",\"David3@m.co\",\"David4@m.co\"],[\"David\",\"David4@m.co\",\"David5@m.co\"],[\"David\",\"David2@m.co\",\"David3@m.co\"],[\"David\",\"David1@m.co\",\"David2@m.co\"]]\n",
    "\n",
    "obj = Solution()\n",
    "obj.accountsMerge(accounts)"
   ]
  },
  {
   "cell_type": "code",
   "execution_count": null,
   "metadata": {},
   "outputs": [],
   "source": []
  }
 ],
 "metadata": {
  "kernelspec": {
   "display_name": "Python 3",
   "language": "python",
   "name": "python3"
  },
  "language_info": {
   "codemirror_mode": {
    "name": "ipython",
    "version": 3
   },
   "file_extension": ".py",
   "mimetype": "text/x-python",
   "name": "python",
   "nbconvert_exporter": "python",
   "pygments_lexer": "ipython3",
   "version": "3.7.9"
  }
 },
 "nbformat": 4,
 "nbformat_minor": 4
}
