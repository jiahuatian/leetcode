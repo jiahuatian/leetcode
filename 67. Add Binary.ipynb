{
 "cells": [
  {
   "cell_type": "code",
   "execution_count": 20,
   "metadata": {},
   "outputs": [],
   "source": [
    "class Solution(object):\n",
    "    def addBinary(self, a, b):\n",
    "        \"\"\"\n",
    "        :type a: str\n",
    "        :type b: str\n",
    "        :rtype: str\n",
    "        \"\"\"\n",
    "        i = -1\n",
    "        carryon = 0\n",
    "        \n",
    "        leng = max(len(a), len(b))\n",
    "        \n",
    "        if len(a) < leng:\n",
    "            a = ''.join(['0' for i in range(leng-len(a))]) + a\n",
    "        if len(b) < leng:\n",
    "            b = ''.join(['0' for i in range(leng-len(b))]) + b\n",
    "            \n",
    "        print(a,b)\n",
    "        \n",
    "        c = ''\n",
    "        \n",
    "        while i >= -leng:\n",
    "            print(a[i],b[i],carryon)\n",
    "            if int(a[i]) + int(b[i]) + carryon >= 2:\n",
    "                c = str((int(a[i]) + int(b[i]) + carryon)%2) + c\n",
    "                carryon = 1\n",
    "            else:\n",
    "                c = str(int(a[i]) + int(b[i]) + carryon) + c\n",
    "                carryon = 0\n",
    "            i -= 1\n",
    "            print(c)\n",
    "                \n",
    "        if carryon == 1:\n",
    "            c = '1' + c\n",
    "            \n",
    "        return c"
   ]
  },
  {
   "cell_type": "code",
   "execution_count": 21,
   "metadata": {},
   "outputs": [
    {
     "name": "stdout",
     "output_type": "stream",
     "text": [
      "11 01\n",
      "1 1 0\n",
      "0\n",
      "1 0 1\n",
      "00\n"
     ]
    },
    {
     "data": {
      "text/plain": [
       "'100'"
      ]
     },
     "execution_count": 21,
     "metadata": {},
     "output_type": "execute_result"
    }
   ],
   "source": [
    "a = '11'\n",
    "b = '1'\n",
    "\n",
    "obj = Solution()\n",
    "obj.addBinary(a,b)"
   ]
  },
  {
   "cell_type": "code",
   "execution_count": 22,
   "metadata": {},
   "outputs": [
    {
     "data": {
      "text/plain": [
       "'123'"
      ]
     },
     "execution_count": 22,
     "metadata": {},
     "output_type": "execute_result"
    }
   ],
   "source": [
    "'1' + '23'"
   ]
  },
  {
   "cell_type": "code",
   "execution_count": 23,
   "metadata": {},
   "outputs": [
    {
     "data": {
      "text/plain": [
       "'231'"
      ]
     },
     "execution_count": 23,
     "metadata": {},
     "output_type": "execute_result"
    }
   ],
   "source": [
    "'23' + '1'"
   ]
  },
  {
   "cell_type": "code",
   "execution_count": 3,
   "metadata": {},
   "outputs": [
    {
     "data": {
      "text/plain": [
       "9"
      ]
     },
     "execution_count": 3,
     "metadata": {},
     "output_type": "execute_result"
    }
   ],
   "source": [
    "ord('9') - ord('0')"
   ]
  },
  {
   "cell_type": "code",
   "execution_count": null,
   "metadata": {},
   "outputs": [],
   "source": []
  }
 ],
 "metadata": {
  "kernelspec": {
   "display_name": "Python 3",
   "language": "python",
   "name": "python3"
  },
  "language_info": {
   "codemirror_mode": {
    "name": "ipython",
    "version": 3
   },
   "file_extension": ".py",
   "mimetype": "text/x-python",
   "name": "python",
   "nbconvert_exporter": "python",
   "pygments_lexer": "ipython3",
   "version": "3.7.3"
  }
 },
 "nbformat": 4,
 "nbformat_minor": 2
}
