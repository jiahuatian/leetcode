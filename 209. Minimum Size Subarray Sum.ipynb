{
 "cells": [
  {
   "cell_type": "code",
   "execution_count": 11,
   "metadata": {},
   "outputs": [],
   "source": [
    "class Solution:\n",
    "    def minSubArrayLen(self, target: int, nums) -> int:\n",
    "        if sum(nums) < target:\n",
    "            return 0\n",
    "        if len(nums) == 1:\n",
    "            if nums[0] == target:\n",
    "                return 1\n",
    "            else:\n",
    "                return 0\n",
    "        i,j = 0,1\n",
    "        minl = float('inf')\n",
    "        while i < len(nums):\n",
    "            if sum(nums[i:j]) < target:\n",
    "                j += 1\n",
    "                if j > len(nums):\n",
    "                    break\n",
    "            elif sum(nums[i:j]) >= target:\n",
    "                print(i,j)\n",
    "                minl = min(minl,j-i)\n",
    "                if i == j-1:\n",
    "                    i += 1\n",
    "                    j += 1\n",
    "                else:\n",
    "                    i += 1\n",
    "        return minl"
   ]
  },
  {
   "cell_type": "code",
   "execution_count": 12,
   "metadata": {},
   "outputs": [
    {
     "name": "stdout",
     "output_type": "stream",
     "text": [
      "0 5\n",
      "1 5\n",
      "2 5\n"
     ]
    },
    {
     "data": {
      "text/plain": [
       "3"
      ]
     },
     "execution_count": 12,
     "metadata": {},
     "output_type": "execute_result"
    }
   ],
   "source": [
    "target = 7\n",
    "nums = [2,3,1,2,4,3]\n",
    "\n",
    "target = 11\n",
    "nums = [1,2,3,4,5]\n",
    "\n",
    "obj = Solution()\n",
    "obj.minSubArrayLen(target,nums)"
   ]
  },
  {
   "cell_type": "code",
   "execution_count": null,
   "metadata": {},
   "outputs": [],
   "source": []
  }
 ],
 "metadata": {
  "kernelspec": {
   "display_name": "Python 3",
   "language": "python",
   "name": "python3"
  },
  "language_info": {
   "codemirror_mode": {
    "name": "ipython",
    "version": 3
   },
   "file_extension": ".py",
   "mimetype": "text/x-python",
   "name": "python",
   "nbconvert_exporter": "python",
   "pygments_lexer": "ipython3",
   "version": "3.7.3"
  }
 },
 "nbformat": 4,
 "nbformat_minor": 2
}
