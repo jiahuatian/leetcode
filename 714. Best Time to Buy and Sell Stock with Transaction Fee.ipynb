{
 "cells": [
  {
   "cell_type": "code",
   "execution_count": 11,
   "metadata": {},
   "outputs": [],
   "source": [
    "class Solution:\n",
    "    def maxProfit(self, prices, fee: int) -> int:\n",
    "        from collections import defaultdict\n",
    "        dp = defaultdict(int)\n",
    "        thismin = float('inf')\n",
    "        \n",
    "        for i in range(0,len(prices)):\n",
    "            print(i,thismin)\n",
    "            thismin = min(thismin,prices[i]+fee-dp[i-1])\n",
    "            dp[i] = max(dp[i-1], prices[i]-thismin)\n",
    "            \n",
    "        return dp[len(prices)-1]"
   ]
  },
  {
   "cell_type": "code",
   "execution_count": 12,
   "metadata": {},
   "outputs": [
    {
     "name": "stdout",
     "output_type": "stream",
     "text": [
      "0 inf\n",
      "1 3\n",
      "2 3\n",
      "3 3\n",
      "4 3\n",
      "5 1\n"
     ]
    },
    {
     "data": {
      "text/plain": [
       "8"
      ]
     },
     "execution_count": 12,
     "metadata": {},
     "output_type": "execute_result"
    }
   ],
   "source": [
    "prices = [1,3,2,8,4,9]\n",
    "fee = 2\n",
    "\n",
    "obj = Solution()\n",
    "obj.maxProfit(prices,fee)"
   ]
  },
  {
   "cell_type": "code",
   "execution_count": 6,
   "metadata": {},
   "outputs": [],
   "source": [
    "class Solution:\n",
    "    def maxProfit(self, prices, fee: int) -> int:\n",
    "        n = len(prices)\n",
    "        dp = [[0,0]for _ in range(n)]\n",
    "        dp[0] = [-prices[0],0,0]\n",
    "        ans = 0\n",
    "        for i in range(1,n):\n",
    "            dp[i] = [max(dp[i-1][0],dp[i-1][1]-prices[i],dp[i-1][2]-prices[i]),dp[i-1][0]+prices[i]-fee,max(dp[i-1][1],dp[i-1][2])]\n",
    "            ans = max(ans,max(dp[i]))\n",
    "            print(dp[i])\n",
    "        return ans"
   ]
  },
  {
   "cell_type": "code",
   "execution_count": 7,
   "metadata": {},
   "outputs": [
    {
     "name": "stdout",
     "output_type": "stream",
     "text": [
      "[-4, 0, 0]\n",
      "[-2, -3, 0]\n",
      "[-2, 1, 0]\n",
      "[-2, 0, 1]\n",
      "[-2, 0, 1]\n",
      "[0, -2, 1]\n",
      "[0, 1, 1]\n",
      "[0, 4, 1]\n",
      "[0, 3, 4]\n"
     ]
    },
    {
     "data": {
      "text/plain": [
       "4"
      ]
     },
     "execution_count": 7,
     "metadata": {},
     "output_type": "execute_result"
    }
   ],
   "source": [
    "prices = [1,3,2,8,4,9]\n",
    "fee = 2\n",
    "\n",
    "prices = [4,5,2,4,3,3,1,2,5,4]\n",
    "fee = 1\n",
    "\n",
    "obj = Solution()\n",
    "obj.maxProfit(prices,fee)"
   ]
  },
  {
   "cell_type": "code",
   "execution_count": null,
   "metadata": {},
   "outputs": [],
   "source": [
    "0\n",
    "0 1\n",
    "0 1 2 3\n",
    "0 1 2 3 4 5 6 7"
   ]
  }
 ],
 "metadata": {
  "kernelspec": {
   "display_name": "Python 3",
   "language": "python",
   "name": "python3"
  },
  "language_info": {
   "codemirror_mode": {
    "name": "ipython",
    "version": 3
   },
   "file_extension": ".py",
   "mimetype": "text/x-python",
   "name": "python",
   "nbconvert_exporter": "python",
   "pygments_lexer": "ipython3",
   "version": "3.7.9"
  }
 },
 "nbformat": 4,
 "nbformat_minor": 2
}
