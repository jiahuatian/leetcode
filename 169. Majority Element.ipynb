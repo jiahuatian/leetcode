{
 "cells": [
  {
   "cell_type": "code",
   "execution_count": 17,
   "metadata": {},
   "outputs": [],
   "source": [
    "class Solution(object):\n",
    "    def majorityElement(self, nums):\n",
    "        \"\"\"\n",
    "        :type nums: List[int]\n",
    "        :rtype: int\n",
    "        \"\"\"\n",
    "        \n",
    "        if len(nums) <= 2:\n",
    "            return nums[0]\n",
    "        \n",
    "        bar = len(nums)//2\n",
    "        \n",
    "        nums.sort()\n",
    "\n",
    "        count = 0\n",
    "        i = 0\n",
    "        \n",
    "        while i < len(nums):\n",
    "            k = 0\n",
    "            while i+k < len(nums):\n",
    "                if nums[i+k] == nums[i]:\n",
    "                    count += 1\n",
    "                    if count > bar:\n",
    "                        return nums[i]\n",
    "                    k += 1\n",
    "                else:\n",
    "                    i += k\n",
    "                    count = 0\n",
    "                    break"
   ]
  },
  {
   "cell_type": "code",
   "execution_count": 18,
   "metadata": {},
   "outputs": [
    {
     "data": {
      "text/plain": [
       "1"
      ]
     },
     "execution_count": 18,
     "metadata": {},
     "output_type": "execute_result"
    }
   ],
   "source": [
    "nums = [-1,1,1,1,2,1]\n",
    "\n",
    "obj = Solution()\n",
    "obj.majorityElement(nums)"
   ]
  },
  {
   "cell_type": "code",
   "execution_count": null,
   "metadata": {},
   "outputs": [],
   "source": []
  }
 ],
 "metadata": {
  "kernelspec": {
   "display_name": "Python 3",
   "language": "python",
   "name": "python3"
  },
  "language_info": {
   "codemirror_mode": {
    "name": "ipython",
    "version": 3
   },
   "file_extension": ".py",
   "mimetype": "text/x-python",
   "name": "python",
   "nbconvert_exporter": "python",
   "pygments_lexer": "ipython3",
   "version": "3.7.3"
  }
 },
 "nbformat": 4,
 "nbformat_minor": 2
}
