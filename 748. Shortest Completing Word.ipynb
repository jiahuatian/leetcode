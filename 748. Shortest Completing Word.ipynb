{
 "cells": [
  {
   "cell_type": "code",
   "execution_count": 34,
   "metadata": {},
   "outputs": [],
   "source": [
    "class Solution:\n",
    "    def shortestCompletingWord(self, licensePlate: str, words) -> str:\n",
    "        find = ''\n",
    "        for s in licensePlate:\n",
    "            if s.isalpha():\n",
    "                find += s.lower()\n",
    "        find = ''.join(sorted(find))\n",
    "        ans = ''\n",
    "        for w in words:\n",
    "            wl = list(w)\n",
    "            no = 0\n",
    "            for c in find:\n",
    "                if c not in wl:\n",
    "                    no = 1\n",
    "                    break\n",
    "                else:\n",
    "                    wl.remove(c)\n",
    "            if no == 0:\n",
    "                if ans == '':\n",
    "                    ans = w\n",
    "                elif len(w) < len(ans):\n",
    "                    ans = w\n",
    "        return ans"
   ]
  },
  {
   "cell_type": "code",
   "execution_count": 35,
   "metadata": {},
   "outputs": [
    {
     "data": {
      "text/plain": [
       "'simple'"
      ]
     },
     "execution_count": 35,
     "metadata": {},
     "output_type": "execute_result"
    }
   ],
   "source": [
    "licensePlate = \"Ah71752\"\n",
    "words = [\"suggest\",\"letter\",\"of\",\"husband\",\"easy\",\"education\",\"drug\",\"prevent\",\"writer\",\"old\"]\n",
    "\n",
    "licensePlate = \"iMSlpe4\"\n",
    "words = [\"claim\",\"consumer\",\"student\",\"camera\",\"public\",\"never\",\"wonder\",\"simple\",\"thought\",\"use\"]\n",
    "\n",
    "obj = Solution()\n",
    "obj.shortestCompletingWord(licensePlate,words)"
   ]
  },
  {
   "cell_type": "code",
   "execution_count": null,
   "metadata": {},
   "outputs": [],
   "source": []
  }
 ],
 "metadata": {
  "kernelspec": {
   "display_name": "Python 3",
   "language": "python",
   "name": "python3"
  },
  "language_info": {
   "codemirror_mode": {
    "name": "ipython",
    "version": 3
   },
   "file_extension": ".py",
   "mimetype": "text/x-python",
   "name": "python",
   "nbconvert_exporter": "python",
   "pygments_lexer": "ipython3",
   "version": "3.7.9"
  }
 },
 "nbformat": 4,
 "nbformat_minor": 4
}
