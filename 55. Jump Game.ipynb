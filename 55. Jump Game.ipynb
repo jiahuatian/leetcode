{
 "cells": [
  {
   "cell_type": "code",
   "execution_count": 1,
   "metadata": {},
   "outputs": [],
   "source": [
    "class Solution:\n",
    "    def canJump(self, nums) -> bool:\n",
    "        \n",
    "        from collections import defaultdict\n",
    "        dp = defaultdict(bool)\n",
    "        dp[0] = True\n",
    "        \n",
    "        for i in range(1,len(nums)):\n",
    "            for j in range(0,i):\n",
    "                if dp[j] and j+nums[j] >= i:\n",
    "                    dp[i] = True\n",
    "                    break\n",
    "        \n",
    "        return dp[len(nums)-1]"
   ]
  },
  {
   "cell_type": "code",
   "execution_count": 3,
   "metadata": {},
   "outputs": [
    {
     "data": {
      "text/plain": [
       "True"
      ]
     },
     "execution_count": 3,
     "metadata": {},
     "output_type": "execute_result"
    }
   ],
   "source": [
    "nums = [2,0,0]\n",
    "\n",
    "obj = Solution()\n",
    "obj.canJump(nums)"
   ]
  },
  {
   "cell_type": "code",
   "execution_count": 5,
   "metadata": {},
   "outputs": [],
   "source": [
    "class Solution:\n",
    "    def canJump(self, nums) -> bool:\n",
    "        \n",
    "        from collections import defaultdict\n",
    "        dp = defaultdict(bool)\n",
    "        dp[0] = True\n",
    "        \n",
    "        for i in range(1,len(nums)):\n",
    "            for j in range(i,-1,-1):\n",
    "                if dp[j] and j+nums[j] >= i:\n",
    "                    dp[i] = True\n",
    "                    break\n",
    "        \n",
    "        return dp[len(nums)-1]"
   ]
  },
  {
   "cell_type": "code",
   "execution_count": 6,
   "metadata": {},
   "outputs": [
    {
     "data": {
      "text/plain": [
       "True"
      ]
     },
     "execution_count": 6,
     "metadata": {},
     "output_type": "execute_result"
    }
   ],
   "source": [
    "nums = [2,0,0]\n",
    "\n",
    "obj = Solution()\n",
    "obj.canJump(nums)"
   ]
  },
  {
   "cell_type": "code",
   "execution_count": 8,
   "metadata": {},
   "outputs": [
    {
     "name": "stdout",
     "output_type": "stream",
     "text": [
      "9\n",
      "8\n",
      "7\n",
      "6\n",
      "5\n",
      "4\n",
      "3\n",
      "2\n",
      "1\n",
      "0\n"
     ]
    }
   ],
   "source": [
    "for j in range(10-1,-1,-1):\n",
    "    print(j)"
   ]
  },
  {
   "cell_type": "code",
   "execution_count": null,
   "metadata": {},
   "outputs": [],
   "source": []
  }
 ],
 "metadata": {
  "kernelspec": {
   "display_name": "Python 3",
   "language": "python",
   "name": "python3"
  },
  "language_info": {
   "codemirror_mode": {
    "name": "ipython",
    "version": 3
   },
   "file_extension": ".py",
   "mimetype": "text/x-python",
   "name": "python",
   "nbconvert_exporter": "python",
   "pygments_lexer": "ipython3",
   "version": "3.7.3"
  }
 },
 "nbformat": 4,
 "nbformat_minor": 2
}
