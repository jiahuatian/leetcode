{
 "cells": [
  {
   "cell_type": "code",
   "execution_count": 5,
   "metadata": {},
   "outputs": [],
   "source": [
    "class Solution(object):\n",
    "    def findRadius(self, houses, heaters):\n",
    "        \"\"\"\n",
    "        :type houses: List[int]\n",
    "        :type heaters: List[int]\n",
    "        :rtype: int\n",
    "        \"\"\"\n",
    "        houses.sort()\n",
    "        heaters.sort()\n",
    "        \n",
    "        print(houses)\n",
    "        print(heaters)\n",
    "        \n",
    "        dist = 0\n",
    "        \n",
    "        if len(heaters) == 1:\n",
    "            return max(abs(heaters[0] - houses[0]), abs(heaters[0] - houses[-1]))\n",
    "        \n",
    "        for pos in houses:\n",
    "            i = 0\n",
    "            while i + 1 < len(heaters):\n",
    "                if abs(heaters[i+1] - pos) < abs(heaters[i] - pos):\n",
    "                    i += 1\n",
    "                else:\n",
    "                    dist = max(dist, abs(heaters[i] - pos))\n",
    "                    break\n",
    "            dist = max(dist, abs(heaters[i] - pos))\n",
    "        \n",
    "        return dist"
   ]
  },
  {
   "cell_type": "code",
   "execution_count": 6,
   "metadata": {},
   "outputs": [
    {
     "name": "stdout",
     "output_type": "stream",
     "text": [
      "[264817709, 474833169, 817129560, 998097157]\n",
      "[197493099, 404280278, 505795335, 893351816]\n"
     ]
    },
    {
     "data": {
      "text/plain": [
       "104745341"
      ]
     },
     "execution_count": 6,
     "metadata": {},
     "output_type": "execute_result"
    }
   ],
   "source": [
    "houses = [474833169,264817709,998097157,817129560]\n",
    "heaters = [197493099,404280278,893351816,505795335]\n",
    "\n",
    "obj = Solution()\n",
    "obj.findRadius(houses,heaters)"
   ]
  },
  {
   "cell_type": "code",
   "execution_count": 12,
   "metadata": {},
   "outputs": [],
   "source": [
    "class Solution(object):\n",
    "    def findRadius(self, houses, heaters):\n",
    "        \"\"\"\n",
    "        :type houses: List[int]\n",
    "        :type heaters: List[int]\n",
    "        :rtype: int\n",
    "        \"\"\"\n",
    "        houses.sort()\n",
    "        heaters.sort()\n",
    "        \n",
    "        dists = 0\n",
    "        \n",
    "        if len(heaters) == 1:\n",
    "            return max(abs(heaters[0] - houses[0]), abs(heaters[0] - houses[-1]))\n",
    "        \n",
    "        for pos in houses:\n",
    "            i = 0\n",
    "            while i + 1 < len(heaters):\n",
    "                if abs(heaters[i+1] - pos) < abs(heaters[i] - pos):\n",
    "                    i += 1\n",
    "                else:\n",
    "                    dists = max(dists, abs(heaters[i] - pos))\n",
    "                    break\n",
    "            dists = max(dists, abs(heaters[i] - pos))\n",
    "        \n",
    "        return dists"
   ]
  },
  {
   "cell_type": "code",
   "execution_count": 14,
   "metadata": {},
   "outputs": [
    {
     "data": {
      "text/plain": [
       "104745341"
      ]
     },
     "execution_count": 14,
     "metadata": {},
     "output_type": "execute_result"
    }
   ],
   "source": [
    "houses = [474833169,264817709,998097157,817129560]\n",
    "heaters = [197493099,404280278,893351816,505795335]\n",
    "\n",
    "#houses = [1,2,3]\n",
    "#heaters = [1,2,3]\n",
    "\n",
    "obj = Solution()\n",
    "obj.findRadius(houses,heaters)"
   ]
  },
  {
   "cell_type": "code",
   "execution_count": 22,
   "metadata": {},
   "outputs": [],
   "source": [
    "class Solution(object):\n",
    "    def findRadius(self, houses, heaters):\n",
    "        \"\"\"\n",
    "        :type houses: List[int]\n",
    "        :type heaters: List[int]\n",
    "        :rtype: int\n",
    "        \"\"\"\n",
    "        houses.sort()\n",
    "        heaters.sort()\n",
    "        \n",
    "        if len(heaters) == 1:\n",
    "            return max(abs(heaters[0] - houses[0]), abs(heaters[0] - houses[-1]))\n",
    "        \n",
    "        i = 0\n",
    "        dists = 0\n",
    "                \n",
    "        for pos in houses:\n",
    "            while i+1 < len(heaters) and pos >= (heaters[i] + heaters[i+1])/2.:\n",
    "                i += 1\n",
    "            print(i)\n",
    "            dists = max(dists, abs(heaters[i] - pos))\n",
    "        \n",
    "        return dists"
   ]
  },
  {
   "cell_type": "code",
   "execution_count": 23,
   "metadata": {},
   "outputs": [
    {
     "name": "stdout",
     "output_type": "stream",
     "text": [
      "0\n",
      "0\n",
      "1\n",
      "1\n"
     ]
    },
    {
     "data": {
      "text/plain": [
       "1"
      ]
     },
     "execution_count": 23,
     "metadata": {},
     "output_type": "execute_result"
    }
   ],
   "source": [
    "houses = [474833169,264817709,998097157,817129560]\n",
    "heaters = [197493099,404280278,893351816,505795335]\n",
    "\n",
    "houses = [1,2,3,4]\n",
    "heaters = [1,4]\n",
    "\n",
    "obj = Solution()\n",
    "obj.findRadius(houses,heaters)"
   ]
  },
  {
   "cell_type": "code",
   "execution_count": null,
   "metadata": {},
   "outputs": [],
   "source": []
  }
 ],
 "metadata": {
  "kernelspec": {
   "display_name": "Python 3",
   "language": "python",
   "name": "python3"
  },
  "language_info": {
   "codemirror_mode": {
    "name": "ipython",
    "version": 3
   },
   "file_extension": ".py",
   "mimetype": "text/x-python",
   "name": "python",
   "nbconvert_exporter": "python",
   "pygments_lexer": "ipython3",
   "version": "3.7.3"
  }
 },
 "nbformat": 4,
 "nbformat_minor": 2
}
