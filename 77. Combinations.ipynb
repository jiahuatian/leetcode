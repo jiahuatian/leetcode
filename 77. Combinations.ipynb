{
 "cells": [
  {
   "cell_type": "code",
   "execution_count": 15,
   "metadata": {},
   "outputs": [],
   "source": [
    "class Solution:\n",
    "    def combine(self, n: int, k: int):\n",
    "        res = []\n",
    "        \n",
    "        for i in range(1,n+2-k):\n",
    "            stack = [[i],]\n",
    "            seen = set()\n",
    "            while stack:\n",
    "                thislist = stack.pop()\n",
    "                if len(thislist) == k and tuple(sorted(thislist)) not in seen:\n",
    "                    seen.add(tuple(sorted(thislist)))\n",
    "                    res.append(sorted(thislist))\n",
    "                for j in range(thislist[-1]+1,n+1):\n",
    "                    if len(thislist+[j]) <= k and j not in set(thislist):\n",
    "                        stack.append(thislist+[j])\n",
    "                        \n",
    "        return res"
   ]
  },
  {
   "cell_type": "code",
   "execution_count": 17,
   "metadata": {},
   "outputs": [
    {
     "data": {
      "text/plain": [
       "[[1, 4], [1, 3], [1, 2], [2, 4], [2, 3], [3, 4]]"
      ]
     },
     "execution_count": 17,
     "metadata": {},
     "output_type": "execute_result"
    }
   ],
   "source": [
    "n = 4\n",
    "k = 2\n",
    "\n",
    "obj = Solution()\n",
    "obj.combine(n,k)"
   ]
  },
  {
   "cell_type": "code",
   "execution_count": null,
   "metadata": {},
   "outputs": [],
   "source": []
  }
 ],
 "metadata": {
  "kernelspec": {
   "display_name": "Python 3",
   "language": "python",
   "name": "python3"
  },
  "language_info": {
   "codemirror_mode": {
    "name": "ipython",
    "version": 3
   },
   "file_extension": ".py",
   "mimetype": "text/x-python",
   "name": "python",
   "nbconvert_exporter": "python",
   "pygments_lexer": "ipython3",
   "version": "3.7.3"
  }
 },
 "nbformat": 4,
 "nbformat_minor": 2
}
