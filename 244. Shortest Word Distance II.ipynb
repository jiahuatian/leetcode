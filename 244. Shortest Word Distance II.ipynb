{
 "cells": [
  {
   "cell_type": "code",
   "execution_count": 42,
   "metadata": {},
   "outputs": [],
   "source": [
    "class WordDistance(object):\n",
    "\n",
    "    def __init__(self, wordsDict):\n",
    "        \"\"\"\n",
    "        :type wordsDict: List[str]\n",
    "        \"\"\"\n",
    "        \n",
    "        self.mylist = wordsDict\n",
    "        \n",
    "        \n",
    "\n",
    "    def shortest(self, word1, word2):\n",
    "        \"\"\"\n",
    "        :type word1: str\n",
    "        :type word2: str\n",
    "        :rtype: int\n",
    "        \"\"\"\n",
    "        \n",
    "        mydict = {}\n",
    "        \n",
    "        for i in range(len(self.mylist)):\n",
    "            if self.mylist[i] not in mydict:\n",
    "                mydict[self.mylist[i]] = [i]\n",
    "            else:\n",
    "                mydict[self.mylist[i]].append(i)\n",
    "                \n",
    "        if mydict[word1] == [] or mydict[word2] == []:\n",
    "            return 'null'\n",
    "        \n",
    "        res = len(self.mylist)   \n",
    "        \n",
    "        for i in mydict[word1]:\n",
    "            for j in mydict[word2]:\n",
    "                res = min(res,abs(j-i))\n",
    "                \n",
    "        return res"
   ]
  },
  {
   "cell_type": "code",
   "execution_count": 43,
   "metadata": {},
   "outputs": [
    {
     "data": {
      "text/plain": [
       "3"
      ]
     },
     "execution_count": 43,
     "metadata": {},
     "output_type": "execute_result"
    }
   ],
   "source": [
    "obj = WordDistance([\"practice\", \"makes\", \"perfect\", \"coding\", \"makes\"])\n",
    "obj.shortest('coding','practice')"
   ]
  },
  {
   "cell_type": "code",
   "execution_count": null,
   "metadata": {},
   "outputs": [],
   "source": []
  }
 ],
 "metadata": {
  "kernelspec": {
   "display_name": "Python 3",
   "language": "python",
   "name": "python3"
  },
  "language_info": {
   "codemirror_mode": {
    "name": "ipython",
    "version": 3
   },
   "file_extension": ".py",
   "mimetype": "text/x-python",
   "name": "python",
   "nbconvert_exporter": "python",
   "pygments_lexer": "ipython3",
   "version": "3.7.3"
  }
 },
 "nbformat": 4,
 "nbformat_minor": 2
}
