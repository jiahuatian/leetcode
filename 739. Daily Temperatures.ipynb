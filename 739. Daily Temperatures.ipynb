{
 "cells": [
  {
   "cell_type": "code",
   "execution_count": 17,
   "metadata": {},
   "outputs": [],
   "source": [
    "class Solution:\n",
    "    def dailyTemperatures(self, temperatures):\n",
    "        res = dict()\n",
    "        stack = []\n",
    "        i = 0\n",
    "        while i < len(temperatures):\n",
    "            if stack == [] or temperatures[i] <= stack[-1][0]:\n",
    "                stack.append([temperatures[i],i])\n",
    "                i += 1\n",
    "            else:\n",
    "                while stack and stack[-1][0] < temperatures[i]:\n",
    "                    temp, ind = stack.pop()\n",
    "                    res[ind] = i-ind\n",
    "                stack.append([temperatures[i],i])\n",
    "                i += 1\n",
    "        \n",
    "        for i in range(len(temperatures)):\n",
    "            if i not in res:\n",
    "                res[i] = 0\n",
    "                \n",
    "        result = []\n",
    "        for i in range(len(temperatures)):\n",
    "            result.append(res[i])\n",
    "        return result"
   ]
  },
  {
   "cell_type": "code",
   "execution_count": 18,
   "metadata": {},
   "outputs": [
    {
     "data": {
      "text/plain": [
       "[1, 1, 4, 2, 1, 1, 0, 0]"
      ]
     },
     "execution_count": 18,
     "metadata": {},
     "output_type": "execute_result"
    }
   ],
   "source": [
    "temperatures = [73,74,75,71,69,72,76,73]\n",
    "\n",
    "obj = Solution()\n",
    "obj.dailyTemperatures(temperatures)"
   ]
  },
  {
   "cell_type": "code",
   "execution_count": null,
   "metadata": {},
   "outputs": [],
   "source": []
  }
 ],
 "metadata": {
  "kernelspec": {
   "display_name": "Python 3",
   "language": "python",
   "name": "python3"
  },
  "language_info": {
   "codemirror_mode": {
    "name": "ipython",
    "version": 3
   },
   "file_extension": ".py",
   "mimetype": "text/x-python",
   "name": "python",
   "nbconvert_exporter": "python",
   "pygments_lexer": "ipython3",
   "version": "3.7.3"
  }
 },
 "nbformat": 4,
 "nbformat_minor": 2
}
