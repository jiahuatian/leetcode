{
 "cells": [
  {
   "cell_type": "code",
   "execution_count": 1,
   "metadata": {},
   "outputs": [],
   "source": [
    "class Solution:\n",
    "    def shortestPathBinaryMatrix(self, grid) -> int:\n",
    "        d4 = [(1,0),(-1,0),(0,1),(0,-1)]\n",
    "        d8 = [(1,1),(1,-1),(-1,1),(-1,-1)]\n",
    "        n = len(grid)\n",
    "        if grid[0][0] != 0 or grid[n-1][n-1] != 0:\n",
    "            return -1\n",
    "        start = (0,0)\n",
    "        stack = [[start,0],]\n",
    "        while stack:\n",
    "            k = len(stack)\n",
    "            for i in range(k):\n",
    "                (x,y),step = stack.pop(0)\n",
    "                if (x,y) == (n-1,n-1):\n",
    "                    return step\n",
    "                grid[x][y] = 1\n",
    "                for xi,yi in d8:\n",
    "                    if 0<=x+xi<n and 0<=y+yi<n and grid[x+xi][y+yi] == 0:\n",
    "                        stack.append([(x+xi,y+yi),step+2])\n",
    "                for xi,yi in d4:\n",
    "                    if 0<=x+xi<n and 0<=y+yi<n and grid[x+xi][y+yi] == 0:\n",
    "                        stack.append([(x+xi,y+yi),step+1])\n",
    "        return -1"
   ]
  },
  {
   "cell_type": "code",
   "execution_count": 2,
   "metadata": {},
   "outputs": [
    {
     "data": {
      "text/plain": [
       "4"
      ]
     },
     "execution_count": 2,
     "metadata": {},
     "output_type": "execute_result"
    }
   ],
   "source": [
    "grid = [[0,0,0],[1,0,0],[1,1,0]]\n",
    "\n",
    "obj = Solution()\n",
    "obj.shortestPathBinaryMatrix(grid)"
   ]
  },
  {
   "cell_type": "code",
   "execution_count": 4,
   "metadata": {},
   "outputs": [],
   "source": [
    "from collections import deque \n",
    "queue = deque()"
   ]
  },
  {
   "cell_type": "code",
   "execution_count": null,
   "metadata": {},
   "outputs": [],
   "source": []
  }
 ],
 "metadata": {
  "kernelspec": {
   "display_name": "Python 3",
   "language": "python",
   "name": "python3"
  },
  "language_info": {
   "codemirror_mode": {
    "name": "ipython",
    "version": 3
   },
   "file_extension": ".py",
   "mimetype": "text/x-python",
   "name": "python",
   "nbconvert_exporter": "python",
   "pygments_lexer": "ipython3",
   "version": "3.7.3"
  }
 },
 "nbformat": 4,
 "nbformat_minor": 2
}
