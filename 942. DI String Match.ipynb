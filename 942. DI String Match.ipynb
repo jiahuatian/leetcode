{
 "cells": [
  {
   "cell_type": "code",
   "execution_count": 23,
   "metadata": {},
   "outputs": [],
   "source": [
    "class Solution:\n",
    "    def diStringMatch(self, s: str):\n",
    "        n = len(s)\n",
    "        mylist = []\n",
    "        if s[0] == 'D':\n",
    "            mylist.append(n)\n",
    "            choose = set(range(0,n))\n",
    "        else:\n",
    "            mylist.append(0)\n",
    "            choose = set(range(1,n+1))\n",
    "            \n",
    "        i = 0\n",
    "        while i < n-1:\n",
    "            print(s)\n",
    "            if s[i:i+2] == 'II':\n",
    "                mylist.append(mylist[i]+1)\n",
    "                choose.remove(mylist[i]+1)\n",
    "            elif s[i:i+2] == 'DD':\n",
    "                mylist.append(mylist[i]-1)\n",
    "                choose.remove(mylist[i]-1)\n",
    "            elif s[i:i+2] == 'ID':\n",
    "                mylist.append(max(choose))\n",
    "                choose.remove(max(choose))\n",
    "            elif s[i:i+2] == 'DI':\n",
    "                mylist.append(min(choose))\n",
    "                choose.remove(min(choose))\n",
    "            print(mylist)\n",
    "            i += 1\n",
    "                \n",
    "        mylist.append(list(choose)[0])\n",
    "        return mylist"
   ]
  },
  {
   "cell_type": "code",
   "execution_count": 25,
   "metadata": {},
   "outputs": [
    {
     "name": "stdout",
     "output_type": "stream",
     "text": [
      "III\n",
      "[0, 1]\n",
      "III\n",
      "[0, 1, 2]\n"
     ]
    },
    {
     "data": {
      "text/plain": [
       "[0, 1, 2, 3]"
      ]
     },
     "execution_count": 25,
     "metadata": {},
     "output_type": "execute_result"
    }
   ],
   "source": [
    "s = \"IDID\"\n",
    "s = \"III\"\n",
    "#s = \"DDI\"\n",
    "\n",
    "obj = Solution()\n",
    "obj.diStringMatch(s)"
   ]
  },
  {
   "cell_type": "code",
   "execution_count": 27,
   "metadata": {},
   "outputs": [],
   "source": [
    "class Solution:\n",
    "    def diStringMatch(self, s: str):\n",
    "        n = len(s)\n",
    "        lo = 0\n",
    "        hi = n\n",
    "        mylist = []\n",
    "        for i in range(len(s)):\n",
    "            if s[i] == 'I':\n",
    "                mylist.append(lo)\n",
    "                lo += 1\n",
    "            else:\n",
    "                mylist.append(hi)\n",
    "                hi -= 1\n",
    "                \n",
    "        print(lo, hi)\n",
    "        \n",
    "        return mylist + [lo]"
   ]
  },
  {
   "cell_type": "code",
   "execution_count": 31,
   "metadata": {},
   "outputs": [
    {
     "name": "stdout",
     "output_type": "stream",
     "text": [
      "2 2\n"
     ]
    },
    {
     "data": {
      "text/plain": [
       "[0, 4, 1, 3, 2]"
      ]
     },
     "execution_count": 31,
     "metadata": {},
     "output_type": "execute_result"
    }
   ],
   "source": [
    "s = \"IDID\"\n",
    "#s = \"III\"\n",
    "#s = \"DDI\"\n",
    "\n",
    "obj = Solution()\n",
    "obj.diStringMatch(s)"
   ]
  },
  {
   "cell_type": "code",
   "execution_count": null,
   "metadata": {},
   "outputs": [],
   "source": []
  }
 ],
 "metadata": {
  "kernelspec": {
   "display_name": "Python 3",
   "language": "python",
   "name": "python3"
  },
  "language_info": {
   "codemirror_mode": {
    "name": "ipython",
    "version": 3
   },
   "file_extension": ".py",
   "mimetype": "text/x-python",
   "name": "python",
   "nbconvert_exporter": "python",
   "pygments_lexer": "ipython3",
   "version": "3.7.3"
  }
 },
 "nbformat": 4,
 "nbformat_minor": 2
}
