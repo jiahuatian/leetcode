{
 "cells": [
  {
   "cell_type": "code",
   "execution_count": 27,
   "metadata": {},
   "outputs": [],
   "source": [
    "class Solution:\n",
    "    def isLongPressedName(self, name: str, typed: str) -> bool:\n",
    "        i,j = 0,0\n",
    "        while i < len(name):\n",
    "            if j >= len(typed):\n",
    "                return False\n",
    "            if name[i] == typed[j]:\n",
    "                i += 1\n",
    "                j += 1\n",
    "            else:\n",
    "                if typed[j] == name[i-1]:\n",
    "                    j += 1\n",
    "                else:\n",
    "                    return False\n",
    "        return True if j == len(typed) else False"
   ]
  },
  {
   "cell_type": "code",
   "execution_count": 28,
   "metadata": {},
   "outputs": [
    {
     "data": {
      "text/plain": [
       "False"
      ]
     },
     "execution_count": 28,
     "metadata": {},
     "output_type": "execute_result"
    }
   ],
   "source": [
    "name = \"alex\"\n",
    "typed = \"aaleex\"\n",
    "\n",
    "name = \"saeed\"\n",
    "typed = \"ssaaedd\"\n",
    "\n",
    "name = \"rick\"\n",
    "typed = \"kric\"\n",
    "\n",
    "name = \"alex\"\n",
    "typed = \"aaleexa\"\n",
    "\n",
    "obj = Solution()\n",
    "obj.isLongPressedName(name,typed)"
   ]
  },
  {
   "cell_type": "code",
   "execution_count": null,
   "metadata": {},
   "outputs": [],
   "source": []
  }
 ],
 "metadata": {
  "kernelspec": {
   "display_name": "Python 3",
   "language": "python",
   "name": "python3"
  },
  "language_info": {
   "codemirror_mode": {
    "name": "ipython",
    "version": 3
   },
   "file_extension": ".py",
   "mimetype": "text/x-python",
   "name": "python",
   "nbconvert_exporter": "python",
   "pygments_lexer": "ipython3",
   "version": "3.7.9"
  }
 },
 "nbformat": 4,
 "nbformat_minor": 4
}
