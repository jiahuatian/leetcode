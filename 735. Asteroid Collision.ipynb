{
 "cells": [
  {
   "cell_type": "code",
   "execution_count": 29,
   "metadata": {},
   "outputs": [],
   "source": [
    "class Solution:\n",
    "    def asteroidCollision(self, asteroids):\n",
    "        stack = [asteroids.pop()]\n",
    "        remaining = asteroids\n",
    "        while remaining:\n",
    "            new = remaining.pop()\n",
    "            if not stack:\n",
    "                stack.append(new)\n",
    "            elif (new < 0 and stack[-1] > 0) or new*stack[-1] > 0:\n",
    "                stack.append(new)\n",
    "            else:\n",
    "                while stack != [] and abs(new) > abs(stack[-1]) and stack[-1] < 0:\n",
    "                    print(stack)\n",
    "                    stack.pop()\n",
    "                    print(stack)\n",
    "                if stack != [] and -stack[-1] == new:\n",
    "                    stack.pop()\n",
    "                elif stack != [] and stack[-1] > 0:\n",
    "                    stack.append(new)\n",
    "                elif stack == []:\n",
    "                    stack.append(new)\n",
    "        return list(reversed(stack))"
   ]
  },
  {
   "cell_type": "code",
   "execution_count": 30,
   "metadata": {},
   "outputs": [
    {
     "name": "stdout",
     "output_type": "stream",
     "text": [
      "[2, -1]\n",
      "[2]\n"
     ]
    },
    {
     "data": {
      "text/plain": [
       "[-2, 2, 2]"
      ]
     },
     "execution_count": 30,
     "metadata": {},
     "output_type": "execute_result"
    }
   ],
   "source": [
    "asteroids = [-2,2,-1,2]\n",
    "\n",
    "obj = Solution()\n",
    "obj.asteroidCollision(asteroids)"
   ]
  },
  {
   "cell_type": "code",
   "execution_count": null,
   "metadata": {},
   "outputs": [],
   "source": []
  }
 ],
 "metadata": {
  "kernelspec": {
   "display_name": "Python 3",
   "language": "python",
   "name": "python3"
  },
  "language_info": {
   "codemirror_mode": {
    "name": "ipython",
    "version": 3
   },
   "file_extension": ".py",
   "mimetype": "text/x-python",
   "name": "python",
   "nbconvert_exporter": "python",
   "pygments_lexer": "ipython3",
   "version": "3.7.3"
  }
 },
 "nbformat": 4,
 "nbformat_minor": 2
}
