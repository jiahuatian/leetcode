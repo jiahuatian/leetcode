{
 "cells": [
  {
   "cell_type": "code",
   "execution_count": 4,
   "metadata": {},
   "outputs": [],
   "source": [
    "class Solution:\n",
    "    def nthUglyNumber(self, n: int, a: int, b: int, c: int) -> int:\n",
    "        ugly = [1]\n",
    "        ia = ib = ic = 0\n",
    "        while len(ugly) < n+1:\n",
    "            while ugly[ia]*a <= ugly[-1]:\n",
    "                ia += 1\n",
    "            while ugly[ib]*b <= ugly[-1]:\n",
    "                ib += 1\n",
    "            while ugly[ic]*c <= ugly[-1]:\n",
    "                ic += 1\n",
    "            ugly.append(min(ugly[ia]*a, ugly[ib]*b, ugly[ic]*c))\n",
    "            \n",
    "        print(ugly)\n",
    "                \n",
    "        return ugly[-1]"
   ]
  },
  {
   "cell_type": "code",
   "execution_count": 5,
   "metadata": {},
   "outputs": [
    {
     "name": "stdout",
     "output_type": "stream",
     "text": [
      "[1, 2, 4, 8, 11, 13]\n"
     ]
    },
    {
     "data": {
      "text/plain": [
       "13"
      ]
     },
     "execution_count": 5,
     "metadata": {},
     "output_type": "execute_result"
    }
   ],
   "source": [
    "n = 5\n",
    "a = 2\n",
    "b = 11\n",
    "c = 13\n",
    "\n",
    "obj = Solution()\n",
    "obj.nthUglyNumber(n,a,b,c)"
   ]
  },
  {
   "cell_type": "code",
   "execution_count": 6,
   "metadata": {},
   "outputs": [],
   "source": [
    "class Solution:\n",
    "    def nthUglyNumber(self, n: int, a: int, b: int, c: int) -> int:\n",
    "        ugly = [min(a,b,c)]\n",
    "        thisnum = ugly[0]+1\n",
    "        while len(ugly) < n:\n",
    "            if thisnum%a == 0 or thisnum%b == 0 or thisnum%c == 0:\n",
    "                ugly.append(thisnum)\n",
    "            thisnum += 1\n",
    "            \n",
    "        return ugly[-1]"
   ]
  },
  {
   "cell_type": "code",
   "execution_count": 11,
   "metadata": {},
   "outputs": [
    {
     "data": {
      "text/plain": [
       "10"
      ]
     },
     "execution_count": 11,
     "metadata": {},
     "output_type": "execute_result"
    }
   ],
   "source": [
    "n = 5\n",
    "a = 2\n",
    "b = 11\n",
    "c = 13\n",
    "\n",
    "obj = Solution()\n",
    "obj.nthUglyNumber(n,a,b,c)"
   ]
  },
  {
   "cell_type": "code",
   "execution_count": 18,
   "metadata": {},
   "outputs": [],
   "source": [
    "class Solution:\n",
    "    def nthUglyNumber(self, n: int, a: int, b: int, c: int) -> int:\n",
    "        ugly = [min(a,b,c)]\n",
    "        ia = ib = ic = 1\n",
    "        while len(ugly) < n:\n",
    "            print(ia,ib,ic)\n",
    "            while a*ia <= ugly[-1]:\n",
    "                ia += 1\n",
    "            while b*ib <= ugly[-1]:\n",
    "                ib += 1\n",
    "            while c*ic <= ugly[-1]:\n",
    "                ic += 1\n",
    "            ugly.append(min(a*ia, b*ib, c*ic))\n",
    "        \n",
    "        print(ugly)\n",
    "            \n",
    "        return ugly[-1]"
   ]
  },
  {
   "cell_type": "code",
   "execution_count": 22,
   "metadata": {},
   "outputs": [
    {
     "name": "stdout",
     "output_type": "stream",
     "text": [
      "1 1 1\n",
      "2 1 1\n",
      "3 1 1\n",
      "4 1 1\n",
      "5 1 1\n",
      "6 1 1\n",
      "6 2 1\n",
      "[2, 4, 6, 8, 10, 11, 12, 13]\n"
     ]
    },
    {
     "data": {
      "text/plain": [
       "13"
      ]
     },
     "execution_count": 22,
     "metadata": {},
     "output_type": "execute_result"
    }
   ],
   "source": [
    "n = 8\n",
    "a = 2\n",
    "b = 11\n",
    "c = 13\n",
    "\n",
    "obj = Solution()\n",
    "obj.nthUglyNumber(n,a,b,c)"
   ]
  },
  {
   "cell_type": "code",
   "execution_count": null,
   "metadata": {},
   "outputs": [],
   "source": []
  }
 ],
 "metadata": {
  "kernelspec": {
   "display_name": "Python 3",
   "language": "python",
   "name": "python3"
  },
  "language_info": {
   "codemirror_mode": {
    "name": "ipython",
    "version": 3
   },
   "file_extension": ".py",
   "mimetype": "text/x-python",
   "name": "python",
   "nbconvert_exporter": "python",
   "pygments_lexer": "ipython3",
   "version": "3.7.3"
  }
 },
 "nbformat": 4,
 "nbformat_minor": 2
}
