{
 "cells": [
  {
   "cell_type": "code",
   "execution_count": 2,
   "metadata": {},
   "outputs": [],
   "source": [
    "class Solution:\n",
    "    def countComponents(self, n: int, edges) -> int:\n",
    "        from collections import defaultdict\n",
    "        g = defaultdict(lambda:defaultdict(int))\n",
    "        for e in edges:\n",
    "            g[e[0]][e[1]] = 1\n",
    "            g[e[1]][e[0]] = 1\n",
    "        return g"
   ]
  },
  {
   "cell_type": "code",
   "execution_count": 3,
   "metadata": {},
   "outputs": [
    {
     "data": {
      "text/plain": [
       "defaultdict(<function __main__.Solution.countComponents.<locals>.<lambda>>,\n",
       "            {0: defaultdict(int, {1: 1}),\n",
       "             1: defaultdict(int, {0: 1, 2: 1}),\n",
       "             2: defaultdict(int, {1: 1}),\n",
       "             3: defaultdict(int, {4: 1}),\n",
       "             4: defaultdict(int, {3: 1})})"
      ]
     },
     "execution_count": 3,
     "metadata": {},
     "output_type": "execute_result"
    }
   ],
   "source": [
    "n = 5\n",
    "edges = [[0,1],[1,2],[3,4]]\n",
    "\n",
    "obj = Solution()\n",
    "obj.countComponents(n,edges)"
   ]
  },
  {
   "cell_type": "code",
   "execution_count": 5,
   "metadata": {},
   "outputs": [
    {
     "data": {
      "text/plain": [
       "{1, 2, 3, 4}"
      ]
     },
     "execution_count": 5,
     "metadata": {},
     "output_type": "execute_result"
    }
   ],
   "source": [
    "s1 = set([1,2,3])\n",
    "s1.union(set([4]))"
   ]
  },
  {
   "cell_type": "code",
   "execution_count": null,
   "metadata": {},
   "outputs": [],
   "source": []
  }
 ],
 "metadata": {
  "kernelspec": {
   "display_name": "Python 3",
   "language": "python",
   "name": "python3"
  },
  "language_info": {
   "codemirror_mode": {
    "name": "ipython",
    "version": 3
   },
   "file_extension": ".py",
   "mimetype": "text/x-python",
   "name": "python",
   "nbconvert_exporter": "python",
   "pygments_lexer": "ipython3",
   "version": "3.7.3"
  }
 },
 "nbformat": 4,
 "nbformat_minor": 2
}
