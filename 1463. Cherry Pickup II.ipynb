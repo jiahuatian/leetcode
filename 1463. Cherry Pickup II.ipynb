{
 "cells": [
  {
   "cell_type": "code",
   "execution_count": 5,
   "metadata": {},
   "outputs": [],
   "source": [
    "from functools import lru_cache\n",
    "class Solution:\n",
    "    def cherryPickup(self, grid) -> int:\n",
    "        @lru_cache(None)\n",
    "        def dp(n,i,j):\n",
    "            if n == 0 and (i != 0 or j != len(grid[0])-1):\n",
    "                return -float('inf')\n",
    "            if n == 0:\n",
    "                return grid[0][0]+grid[0][-1] if len(grid[0]) > 1 else grid[0][0]\n",
    "            if not 0<=i<len(grid[0]) or not 0<=j<len(grid[0]):\n",
    "                return -float('inf')\n",
    "            if i == j:\n",
    "                return grid[n][i]+max(dp(n-1,i-1,j-1),dp(n-1,i,j-1),dp(n-1,i+1,j-1),dp(n-1,i-1,j),dp(n-1,i,j),dp(n-1,i+1,j),dp(n-1,i-1,j+1),dp(n-1,i,j+1),dp(n-1,i+1,j+1))\n",
    "            elif i != j:\n",
    "                return grid[n][i]+grid[n][j]+max(dp(n-1,i-1,j-1),dp(n-1,i,j-1),dp(n-1,i+1,j-1),dp(n-1,i-1,j),dp(n-1,i,j),dp(n-1,i+1,j),dp(n-1,i-1,j+1),dp(n-1,i,j+1),dp(n-1,i+1,j+1))\n",
    "        ans = []\n",
    "        for i in range(len(grid[0])):\n",
    "            for j in range(len(grid[0])):\n",
    "                ans.append(dp(len(grid)-1,i,j))\n",
    "        return max(ans)"
   ]
  },
  {
   "cell_type": "code",
   "execution_count": 6,
   "metadata": {},
   "outputs": [
    {
     "data": {
      "text/plain": [
       "54"
      ]
     },
     "execution_count": 6,
     "metadata": {},
     "output_type": "execute_result"
    }
   ],
   "source": [
    "grid = [[9,3,1,2],[9,9,2,2],[8,4,8,3],[9,2,7,7]]\n",
    "\n",
    "obj = Solution()\n",
    "obj.cherryPickup(grid)"
   ]
  },
  {
   "cell_type": "code",
   "execution_count": null,
   "metadata": {},
   "outputs": [],
   "source": []
  }
 ],
 "metadata": {
  "kernelspec": {
   "display_name": "Python 3",
   "language": "python",
   "name": "python3"
  },
  "language_info": {
   "codemirror_mode": {
    "name": "ipython",
    "version": 3
   },
   "file_extension": ".py",
   "mimetype": "text/x-python",
   "name": "python",
   "nbconvert_exporter": "python",
   "pygments_lexer": "ipython3",
   "version": "3.7.9"
  }
 },
 "nbformat": 4,
 "nbformat_minor": 4
}
