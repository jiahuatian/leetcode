{
 "cells": [
  {
   "cell_type": "code",
   "execution_count": 5,
   "metadata": {},
   "outputs": [],
   "source": [
    "class Solution:\n",
    "    def invalidTransactions(self, transactions):\n",
    "        from collections import defaultdict\n",
    "        transdict = defaultdict(list)\n",
    "        for t in transactions:\n",
    "            tlist = t.split(',')\n",
    "            tlist[1], tlist[2] = int(tlist[1]), int(tlist[2])\n",
    "            transdict[tlist[0]].append(tlist[1:])    \n",
    "        return transdict"
   ]
  },
  {
   "cell_type": "code",
   "execution_count": 6,
   "metadata": {},
   "outputs": [
    {
     "data": {
      "text/plain": [
       "defaultdict(list, {'alice': [[20, 800, 'mtv'], [50, 100, 'beijing']]})"
      ]
     },
     "execution_count": 6,
     "metadata": {},
     "output_type": "execute_result"
    }
   ],
   "source": [
    "transactions = [\"alice,20,800,mtv\",\"alice,50,100,beijing\"]\n",
    "\n",
    "obj = Solution()\n",
    "obj.invalidTransactions(transactions)"
   ]
  },
  {
   "cell_type": "code",
   "execution_count": null,
   "metadata": {},
   "outputs": [],
   "source": []
  }
 ],
 "metadata": {
  "kernelspec": {
   "display_name": "Python 3",
   "language": "python",
   "name": "python3"
  },
  "language_info": {
   "codemirror_mode": {
    "name": "ipython",
    "version": 3
   },
   "file_extension": ".py",
   "mimetype": "text/x-python",
   "name": "python",
   "nbconvert_exporter": "python",
   "pygments_lexer": "ipython3",
   "version": "3.7.3"
  }
 },
 "nbformat": 4,
 "nbformat_minor": 2
}
