{
 "cells": [
  {
   "cell_type": "code",
   "execution_count": 5,
   "metadata": {},
   "outputs": [],
   "source": [
    "class Solution:\n",
    "    def countSubIslands(self, grid1, grid2) -> int:\n",
    "        from collections import deque\n",
    "        islands = []\n",
    "        ans = 0\n",
    "        seen = set()\n",
    "        m,n = len(grid1),len(grid1[0])\n",
    "        for i in range(m):\n",
    "            for j in range(n):\n",
    "                if grid2[i][j] == 1 and grid1[i][j] == grid2[i][j] and (i,j) not in seen:\n",
    "                    island = [[i,j]]\n",
    "                    notsub = 0\n",
    "                    seen.add((i,j))\n",
    "                    q = deque([(i,j),])\n",
    "                    while q:\n",
    "                        x,y = q.popleft()\n",
    "                        for xi,yi in [(1,0),(-1,0),(0,1),(0,-1)]:\n",
    "                            if 0<=x+xi<m and 0<=y+yi<n and (x+xi,y+yi) not in seen and grid2[x+xi][y+yi] == 1:\n",
    "                                seen.add((x+xi,y+yi))\n",
    "                                q.append((x+xi,y+yi))\n",
    "                                island.append([x+xi,y+yi])\n",
    "                                if grid1[x+xi][y+yi] == 0:\n",
    "                                    notsub = 1\n",
    "                                    break\n",
    "                    if notsub == 0:\n",
    "                        ans += 1\n",
    "                        islands.append(island)\n",
    "        print(islands)\n",
    "        return ans"
   ]
  },
  {
   "cell_type": "code",
   "execution_count": 6,
   "metadata": {},
   "outputs": [
    {
     "name": "stdout",
     "output_type": "stream",
     "text": [
      "[[[1, 4]], [[4, 0]], [[4, 4]]]\n"
     ]
    },
    {
     "data": {
      "text/plain": [
       "3"
      ]
     },
     "execution_count": 6,
     "metadata": {},
     "output_type": "execute_result"
    }
   ],
   "source": [
    "grid1 = [[1,0,1,0,1],[1,1,1,1,1],[0,0,0,0,0],[1,1,1,1,1],[1,0,1,0,1]]\n",
    "grid2 = [[0,0,0,0,0],[1,1,1,1,1],[0,1,0,1,0],[0,1,0,1,0],[1,0,0,0,1]]\n",
    "\n",
    "obj = Solution()\n",
    "obj.countSubIslands(grid1,grid2)"
   ]
  },
  {
   "cell_type": "code",
   "execution_count": null,
   "metadata": {},
   "outputs": [],
   "source": []
  }
 ],
 "metadata": {
  "kernelspec": {
   "display_name": "Python 3",
   "language": "python",
   "name": "python3"
  },
  "language_info": {
   "codemirror_mode": {
    "name": "ipython",
    "version": 3
   },
   "file_extension": ".py",
   "mimetype": "text/x-python",
   "name": "python",
   "nbconvert_exporter": "python",
   "pygments_lexer": "ipython3",
   "version": "3.7.9"
  }
 },
 "nbformat": 4,
 "nbformat_minor": 4
}
