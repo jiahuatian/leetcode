{
 "cells": [
  {
   "cell_type": "code",
   "execution_count": 2,
   "metadata": {},
   "outputs": [
    {
     "data": {
      "text/plain": [
       "[1, -2, 3, -2, 1, -2, 3]"
      ]
     },
     "execution_count": 2,
     "metadata": {},
     "output_type": "execute_result"
    }
   ],
   "source": [
    "nums = [1,-2,3,-2]\n",
    "\n",
    "nums + nums[:len(nums)-1]"
   ]
  },
  {
   "cell_type": "code",
   "execution_count": 5,
   "metadata": {},
   "outputs": [],
   "source": [
    "class Solution:\n",
    "    def maxSubarraySumCircular(self, nums) -> int:\n",
    "        n = len(nums)\n",
    "        nums = nums + nums[:len(nums)-1]\n",
    "                \n",
    "        from collections import defaultdict  \n",
    "        \n",
    "        maxlist = []\n",
    "            \n",
    "        i = 0\n",
    "        while i < n:\n",
    "            dp = defaultdict(int)\n",
    "            dp[-1] = -float('inf')\n",
    "            for j in range(n):\n",
    "                dp[j] = max(dp[j-1]+nums[i+j], nums[i+j])\n",
    "            maxlist.append(max([dp[k] for k in dp.keys()]))\n",
    "            i += 1\n",
    "            \n",
    "        return max(maxlist)"
   ]
  },
  {
   "cell_type": "code",
   "execution_count": 6,
   "metadata": {},
   "outputs": [
    {
     "data": {
      "text/plain": [
       "-1"
      ]
     },
     "execution_count": 6,
     "metadata": {},
     "output_type": "execute_result"
    }
   ],
   "source": [
    "nums = [-2,-3,-1]\n",
    "\n",
    "obj = Solution()\n",
    "obj.maxSubarraySumCircular(nums)"
   ]
  },
  {
   "cell_type": "code",
   "execution_count": 9,
   "metadata": {},
   "outputs": [],
   "source": [
    "def kadane(nums):\n",
    "        cur, mymax = nums[0], nums[0]\n",
    "        \n",
    "        for i in range(1, len(nums)):\n",
    "            cur = nums[i] + max(cur, 0)\n",
    "            mymax = max(mymax, cur)\n",
    "            \n",
    "        return mymax"
   ]
  },
  {
   "cell_type": "code",
   "execution_count": 10,
   "metadata": {},
   "outputs": [
    {
     "data": {
      "text/plain": [
       "-1"
      ]
     },
     "execution_count": 10,
     "metadata": {},
     "output_type": "execute_result"
    }
   ],
   "source": [
    "kadane([-2,-3,-1])"
   ]
  },
  {
   "cell_type": "code",
   "execution_count": 11,
   "metadata": {},
   "outputs": [
    {
     "data": {
      "text/plain": [
       "6"
      ]
     },
     "execution_count": 11,
     "metadata": {},
     "output_type": "execute_result"
    }
   ],
   "source": [
    "kadane([2,3,1])"
   ]
  },
  {
   "cell_type": "code",
   "execution_count": null,
   "metadata": {},
   "outputs": [],
   "source": []
  }
 ],
 "metadata": {
  "kernelspec": {
   "display_name": "Python 3",
   "language": "python",
   "name": "python3"
  },
  "language_info": {
   "codemirror_mode": {
    "name": "ipython",
    "version": 3
   },
   "file_extension": ".py",
   "mimetype": "text/x-python",
   "name": "python",
   "nbconvert_exporter": "python",
   "pygments_lexer": "ipython3",
   "version": "3.7.3"
  }
 },
 "nbformat": 4,
 "nbformat_minor": 2
}
