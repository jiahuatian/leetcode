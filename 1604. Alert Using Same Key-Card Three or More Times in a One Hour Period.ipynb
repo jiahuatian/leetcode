{
 "cells": [
  {
   "cell_type": "code",
   "execution_count": 20,
   "metadata": {},
   "outputs": [],
   "source": [
    "class Solution:\n",
    "    def alertNames(self, keyName, keyTime):\n",
    "        def alert(l):\n",
    "            for i in range(len(l)-2):\n",
    "                if l[i+2]-l[i] <= 60:\n",
    "                    return True\n",
    "            return False\n",
    "        from collections import defaultdict\n",
    "        d = defaultdict(list)\n",
    "        ans = []\n",
    "        for i in range(len(keyName)):\n",
    "            l = [int(n) for n in keyTime[i].split(':')]\n",
    "            time = l[0]*60+l[1]\n",
    "            d[keyName[i]].append(time)\n",
    "        print(d)\n",
    "        for name in d:\n",
    "            d[name].sort()\n",
    "            if alert(d[name]):\n",
    "                ans.append(name)\n",
    "        return sorted(ans)"
   ]
  },
  {
   "cell_type": "code",
   "execution_count": 22,
   "metadata": {},
   "outputs": [
    {
     "name": "stdout",
     "output_type": "stream",
     "text": [
      "defaultdict(<class 'list'>, {'john': [1438, 1439, 1]})\n"
     ]
    },
    {
     "data": {
      "text/plain": [
       "[]"
      ]
     },
     "execution_count": 22,
     "metadata": {},
     "output_type": "execute_result"
    }
   ],
   "source": [
    "keyName = [\"john\",\"john\",\"john\"]\n",
    "keyTime = [\"23:58\",\"23:59\",\"00:01\"]\n",
    "\n",
    "#keyName = [\"daniel\",\"daniel\",\"daniel\",\"luis\",\"luis\",\"luis\",\"luis\"]\n",
    "#keyTime = [\"10:00\",\"10:40\",\"11:00\",\"09:00\",\"11:00\",\"13:00\",\"15:00\"]\n",
    "\n",
    "obj = Solution()\n",
    "obj.alertNames(keyName,keyTime)"
   ]
  },
  {
   "cell_type": "code",
   "execution_count": 26,
   "metadata": {},
   "outputs": [
    {
     "data": {
      "text/plain": [
       "4"
      ]
     },
     "execution_count": 26,
     "metadata": {},
     "output_type": "execute_result"
    }
   ],
   "source": [
    "int('0100',2)"
   ]
  },
  {
   "cell_type": "code",
   "execution_count": null,
   "metadata": {},
   "outputs": [],
   "source": []
  }
 ],
 "metadata": {
  "kernelspec": {
   "display_name": "Python 3",
   "language": "python",
   "name": "python3"
  },
  "language_info": {
   "codemirror_mode": {
    "name": "ipython",
    "version": 3
   },
   "file_extension": ".py",
   "mimetype": "text/x-python",
   "name": "python",
   "nbconvert_exporter": "python",
   "pygments_lexer": "ipython3",
   "version": "3.7.9"
  }
 },
 "nbformat": 4,
 "nbformat_minor": 4
}
