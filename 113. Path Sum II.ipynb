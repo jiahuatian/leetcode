{
 "cells": [
  {
   "cell_type": "code",
   "execution_count": 27,
   "metadata": {},
   "outputs": [],
   "source": [
    "class TreeNode:\n",
    "    def __init__(self, val=0, left=None, right=None):\n",
    "        self.val = val\n",
    "        self.left = left\n",
    "        self.right = right\n",
    "\n",
    "class Solution:\n",
    "    def pathSum(self, root, targetSum: int):\n",
    "        if not root:\n",
    "            return []\n",
    "        \n",
    "        stack = [[root,root.val,[root.val,]],]\n",
    "        \n",
    "        res = []\n",
    "        \n",
    "        while stack:\n",
    "            elem, curr, route = stack.pop()\n",
    "            print(route)\n",
    "            if elem.left is None and elem.right is None and curr == targetSum:\n",
    "                res.append(route)\n",
    "            if elem.right is not None:\n",
    "                stack.append([elem.right,curr+elem.right.val,route+[elem.right.val]])\n",
    "            if elem.left is not None:\n",
    "                stack.append([elem.left,curr+elem.left.val,route+[elem.left.val]])\n",
    "        \n",
    "        return res"
   ]
  },
  {
   "cell_type": "code",
   "execution_count": 28,
   "metadata": {},
   "outputs": [],
   "source": [
    "root = TreeNode(5)\n",
    "root.left = TreeNode(4)\n",
    "root.right = TreeNode(8)\n",
    "root.left.left = TreeNode(11)\n",
    "root.left.left.left = TreeNode(7)\n",
    "root.left.left.right = TreeNode(2)"
   ]
  },
  {
   "cell_type": "code",
   "execution_count": 29,
   "metadata": {},
   "outputs": [
    {
     "name": "stdout",
     "output_type": "stream",
     "text": [
      "[5]\n",
      "[5, 4]\n",
      "[5, 4, 11]\n",
      "[5, 4, 11, 7]\n",
      "[5, 4, 11, 2]\n",
      "[5, 8]\n"
     ]
    },
    {
     "data": {
      "text/plain": [
       "[[5, 4, 11, 2]]"
      ]
     },
     "execution_count": 29,
     "metadata": {},
     "output_type": "execute_result"
    }
   ],
   "source": [
    "targetSum = 22\n",
    "obj = Solution()\n",
    "obj.pathSum(root,targetSum)"
   ]
  },
  {
   "cell_type": "code",
   "execution_count": 23,
   "metadata": {},
   "outputs": [
    {
     "data": {
      "text/plain": [
       "False"
      ]
     },
     "execution_count": 23,
     "metadata": {},
     "output_type": "execute_result"
    }
   ],
   "source": [
    "mylist = [False, False, False]\n",
    "x = any(mylist)\n",
    "x"
   ]
  },
  {
   "cell_type": "code",
   "execution_count": 35,
   "metadata": {},
   "outputs": [
    {
     "name": "stdout",
     "output_type": "stream",
     "text": [
      "1 2\n",
      "2 5\n",
      "7 9\n"
     ]
    }
   ],
   "source": [
    "myset = set(((1,2),(2,5),(7,9)))\n",
    "for (t,s) in myset:\n",
    "    print(t,s)"
   ]
  },
  {
   "cell_type": "code",
   "execution_count": 36,
   "metadata": {},
   "outputs": [
    {
     "data": {
      "text/plain": [
       "{'code', 'leet'}"
      ]
     },
     "execution_count": 36,
     "metadata": {},
     "output_type": "execute_result"
    }
   ],
   "source": [
    "wordDict = [\"leet\",\"code\"]\n",
    "myset = set(wordDict)\n",
    "myset"
   ]
  },
  {
   "cell_type": "code",
   "execution_count": null,
   "metadata": {},
   "outputs": [],
   "source": []
  }
 ],
 "metadata": {
  "kernelspec": {
   "display_name": "Python 3",
   "language": "python",
   "name": "python3"
  },
  "language_info": {
   "codemirror_mode": {
    "name": "ipython",
    "version": 3
   },
   "file_extension": ".py",
   "mimetype": "text/x-python",
   "name": "python",
   "nbconvert_exporter": "python",
   "pygments_lexer": "ipython3",
   "version": "3.7.3"
  }
 },
 "nbformat": 4,
 "nbformat_minor": 2
}
