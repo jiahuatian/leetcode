{
 "cells": [
  {
   "cell_type": "code",
   "execution_count": 28,
   "metadata": {},
   "outputs": [
    {
     "data": {
      "text/plain": [
       "[[0, 0, 0, 0, 0],\n",
       " [0, 0, 0, 0, 0],\n",
       " [0, 0, 0, 0, 0],\n",
       " [0, 0, 0, 0, 0],\n",
       " [0, 0, 0, 0, 0]]"
      ]
     },
     "execution_count": 28,
     "metadata": {},
     "output_type": "execute_result"
    }
   ],
   "source": [
    "n = 5\n",
    "dp = [[0 for i in range(n)] for i in range(n)]\n",
    "dp"
   ]
  },
  {
   "cell_type": "code",
   "execution_count": 33,
   "metadata": {},
   "outputs": [
    {
     "data": {
      "text/plain": [
       "[{0}, {0}, {0}, {0}, {0}]"
      ]
     },
     "execution_count": 33,
     "metadata": {},
     "output_type": "execute_result"
    }
   ],
   "source": [
    "[set(dp[i]) for i in range(len(dp))]"
   ]
  },
  {
   "cell_type": "code",
   "execution_count": 2,
   "metadata": {},
   "outputs": [
    {
     "data": {
      "text/plain": [
       "[[1, 0, 0, 0, 0],\n",
       " [0, 0, 0, 0, 0],\n",
       " [0, 0, 0, 0, 0],\n",
       " [0, 0, 0, 0, 0],\n",
       " [0, 0, 0, 0, 0]]"
      ]
     },
     "execution_count": 2,
     "metadata": {},
     "output_type": "execute_result"
    }
   ],
   "source": [
    "dp[0][0] = 1\n",
    "dp"
   ]
  },
  {
   "cell_type": "code",
   "execution_count": 3,
   "metadata": {},
   "outputs": [
    {
     "data": {
      "text/plain": [
       "[0, 0, 0, 0, 0]"
      ]
     },
     "execution_count": 3,
     "metadata": {},
     "output_type": "execute_result"
    }
   ],
   "source": [
    "min(dp)"
   ]
  },
  {
   "cell_type": "code",
   "execution_count": 134,
   "metadata": {},
   "outputs": [],
   "source": [
    "class Solution:\n",
    "    def maxDistance(self, grid) -> int:       \n",
    "        n = len(grid)\n",
    "        dp1 = [[0 for i in range(n)] for j in range(n)]\n",
    "        \n",
    "        for i in range(n):\n",
    "            for j in range(n):\n",
    "                if grid[0][0] == 0:\n",
    "                    dp1[0][0] = float('inf')\n",
    "                if grid[i][j] == 0:\n",
    "                    if j != 0:\n",
    "                        if i == 0:\n",
    "                            dp1[0][j] = dp1[0][j-1]+1\n",
    "                        else:\n",
    "                            dp1[i][j] = min(dp1[i][j-1]+1,dp1[i-1][j]+1)\n",
    "                    else:\n",
    "                        if i != 0:\n",
    "                            dp1[i][0] = dp1[i-1][0]+1    \n",
    "                            \n",
    "        dp2 = [[0 for i in range(n)] for j in range(n)]                    \n",
    "        for i in range(n-1,-1,-1):\n",
    "            for j in range(n-1,-1,-1):\n",
    "                if grid[n-1][n-1] == 0:\n",
    "                    dp2[n-1][n-1] = float('inf')\n",
    "                if grid[i][j] == 0:\n",
    "                    if j != n-1:\n",
    "                        if i == n-1:\n",
    "                            dp2[n-1][j] = dp2[n-1][j+1]+1\n",
    "                            dp1[n-1][j] = min(dp1[n-1][j],dp2[n-1][j])\n",
    "                        else:\n",
    "                            dp2[i][j] = min(dp2[i][j+1]+1,dp2[i+1][j]+1)\n",
    "                            dp1[i][j] = min(dp1[i][j],dp2[i][j])\n",
    "                    else:\n",
    "                        if i != n-1:\n",
    "                            dp2[i][n-1] = dp2[i+1][n-1]+1\n",
    "                            dp1[i][n-1] = min(dp1[i][n-1],dp2[i][n-1])\n",
    "                            \n",
    "        dp3 = [[0 for i in range(n)] for j in range(n)]                    \n",
    "        for i in range(n):\n",
    "            for j in range(n-1,-1,-1):\n",
    "                if grid[0][n-1] == 0:\n",
    "                    dp3[0][n-1] = float('inf')\n",
    "                if grid[i][j] == 0:\n",
    "                    if j != n-1:\n",
    "                        if i == 0:\n",
    "                            dp3[0][j] = dp3[0][j+1]+1\n",
    "                            dp1[0][j] = min(dp1[0][j],dp3[0][j])\n",
    "                        else:\n",
    "                            dp3[i][j] = min(dp3[i][j+1]+1,dp3[i-1][j]+1)\n",
    "                            dp1[i][j] = min(dp1[i][j],dp3[i][j])\n",
    "                    else:\n",
    "                        if i != 0:\n",
    "                            dp3[i][n-1] = dp3[i-1][n-1]+1\n",
    "                            dp1[i][n-1] = min(dp1[i][n-1],dp3[i][n-1])\n",
    "                            \n",
    "        dp4 = [[0 for i in range(n)] for j in range(n)]                    \n",
    "        for i in range(n-1,-1,-1):\n",
    "            for j in range(n):\n",
    "                if grid[n-1][0] == 0:\n",
    "                    dp4[n-1][0] = float('inf')\n",
    "                if grid[i][j] == 0:\n",
    "                    if j != 0:\n",
    "                        if i == n-1:\n",
    "                            dp4[n-1][j] = dp4[n-1][j-1]+1\n",
    "                            dp1[n-1][j] = min(dp1[n-1][j],dp4[n-1][j])\n",
    "                        else:\n",
    "                            dp4[i][j] = min(dp4[i+1][j]+1,dp4[i][j-1]+1)\n",
    "                            dp1[i][j] = min(dp1[i][j],dp4[i][j])\n",
    "                    else:\n",
    "                        if i != n-1:\n",
    "                            dp4[i][0] = dp4[i+1][0]+1\n",
    "                            dp1[i][0] = min(dp1[i][0],dp4[i][0])\n",
    "                    \n",
    "        mymax = -float('inf')\n",
    "        for i in range(n):\n",
    "            for j in range(n):\n",
    "                mymax = max(mymax,dp1[i][j])\n",
    "        if mymax == float('inf') or mymax == 0:\n",
    "            return -1\n",
    "        return mymax"
   ]
  },
  {
   "cell_type": "code",
   "execution_count": 135,
   "metadata": {},
   "outputs": [
    {
     "data": {
      "text/plain": [
       "-1"
      ]
     },
     "execution_count": 135,
     "metadata": {},
     "output_type": "execute_result"
    }
   ],
   "source": [
    "grid = [[1,0,1],[0,0,0],[1,0,1]]\n",
    "grid = [[0,0,0,0],[0,0,0,0],[0,0,0,0],[0,0,0,0]]\n",
    "#grid = [[1,0,0],[0,0,0],[1,0,0]]\n",
    "#grid = [[1,1,1],[1,1,1],[1,1,1]]\n",
    "#grid = [[0,0,1],[0,0,0],[1,0,0]]\n",
    "#grid = [[1,0,0],[0,0,0],[0,0,1]]\n",
    "        \n",
    "        \n",
    "obj = Solution()\n",
    "obj.maxDistance(grid)"
   ]
  },
  {
   "cell_type": "code",
   "execution_count": 139,
   "metadata": {},
   "outputs": [],
   "source": [
    "grid = [[1,1,1,0,1,0,0,0,1,0,0,1,0,0,0,0,0,1,1,1,1,1,0,0,0,1,0,1,0,0,0,1,1,0,1,0,1,1,1,0],[1,0,1,0,0,1,1,1,0,0,1,0,1,1,0,0,1,1,0,0,1,1,1,1,0,1,1,1,0,1,0,1,0,1,0,0,0,1,1,0],[1,0,1,1,0,1,1,0,0,0,1,1,0,1,1,0,1,1,0,1,0,0,1,0,1,0,0,1,1,0,1,1,0,0,1,1,0,1,1,1],[0,1,1,1,1,0,1,0,0,0,0,1,0,1,1,1,1,0,1,1,0,0,0,1,1,1,0,1,1,1,1,1,1,1,0,1,1,0,1,0],[0,0,0,0,1,0,1,0,1,0,0,1,0,1,0,0,1,1,0,1,0,1,1,1,0,0,1,0,1,1,1,0,1,0,1,1,1,1,0,0],[0,0,0,1,1,0,1,0,0,1,1,1,1,0,1,1,0,1,0,0,1,0,1,0,0,1,1,0,1,1,1,0,1,0,1,0,0,0,1,0],[0,1,0,0,0,1,0,0,1,0,1,0,0,1,1,0,0,1,1,0,0,1,0,1,1,1,1,1,0,1,1,0,0,0,1,1,1,0,1,1],[1,1,1,1,0,1,0,1,1,0,1,0,1,0,1,0,0,0,1,1,0,0,1,0,0,1,1,0,1,0,1,0,1,1,0,1,1,0,1,1],[1,0,1,0,0,1,0,1,0,0,1,1,0,0,1,0,0,1,1,0,0,1,1,1,0,0,0,0,1,0,1,1,0,0,1,1,1,0,1,0],[1,1,1,1,0,1,1,0,1,0,1,1,1,1,1,1,1,0,0,1,0,1,1,1,0,1,0,0,0,0,1,0,1,1,0,1,0,1,1,1],[0,1,1,0,1,0,0,1,1,1,1,0,0,0,0,0,1,0,0,0,1,0,1,1,0,1,0,0,1,0,1,0,0,1,1,0,1,0,0,0],[1,1,0,0,1,1,0,1,1,1,0,0,1,1,1,0,1,0,1,1,0,0,0,1,0,0,0,1,1,0,1,0,0,1,1,0,1,1,1,1],[1,1,1,0,1,1,0,1,1,0,0,1,1,0,0,0,0,0,1,0,0,1,0,1,0,1,1,1,0,0,0,0,1,0,1,1,1,0,1,0],[0,1,1,1,1,0,1,1,1,1,1,0,0,1,1,1,1,1,1,0,1,1,0,1,1,0,1,0,0,0,1,1,1,1,1,0,1,1,1,1],[1,0,1,0,1,1,0,0,1,0,0,0,1,1,0,1,0,0,0,0,1,0,1,1,1,1,1,0,1,1,0,1,0,0,1,1,1,1,0,1],[1,1,0,0,0,0,1,1,1,1,0,1,1,1,0,1,1,1,0,0,0,0,0,1,1,0,1,0,0,0,1,0,1,1,1,0,0,1,1,1],[1,1,0,0,0,1,1,1,0,0,1,1,0,0,1,1,0,1,0,0,0,1,0,1,0,1,0,1,1,1,1,1,0,0,1,0,1,0,0,1],[0,1,1,0,0,0,1,0,0,1,0,0,1,0,0,1,1,1,0,1,1,1,1,1,0,0,0,1,1,0,1,0,1,1,1,1,1,0,0,1],[1,0,1,0,0,0,0,0,1,1,1,0,0,0,0,1,1,1,1,1,0,1,1,0,1,0,0,1,1,0,0,0,0,0,0,1,1,1,0,0],[1,1,0,0,1,1,1,1,1,1,0,1,1,0,1,1,0,1,1,0,0,1,0,0,0,0,1,0,0,0,1,0,1,1,0,1,1,1,1,0],[0,0,0,0,1,1,1,1,0,1,0,1,0,1,0,1,1,0,1,0,0,1,0,1,1,0,1,1,0,0,0,1,0,1,0,1,0,0,1,0],[1,1,1,0,1,0,1,1,0,0,1,1,1,0,1,1,0,0,1,1,0,0,1,1,1,1,0,0,0,1,0,1,0,1,0,1,1,1,1,0],[0,0,1,0,0,0,1,1,1,0,1,0,1,0,1,0,1,0,1,1,1,0,0,1,1,0,0,1,0,0,0,1,1,0,1,1,0,1,0,0],[0,1,1,1,0,1,1,0,1,0,0,0,1,1,0,0,1,1,0,1,1,0,0,0,0,1,0,0,1,0,0,1,0,1,0,1,0,1,0,1],[1,0,1,0,1,0,1,1,0,0,0,1,1,1,1,0,0,1,0,0,1,0,1,1,0,1,0,0,0,1,0,0,1,1,0,0,1,1,1,0],[0,1,1,0,0,0,0,1,1,1,0,1,1,1,0,1,0,1,0,0,1,1,0,1,0,0,0,1,0,1,1,0,0,1,0,1,0,1,0,0],[0,0,0,1,0,1,0,1,1,0,0,1,1,1,0,1,0,0,0,1,0,0,1,0,1,1,1,0,0,0,0,0,1,0,0,0,0,0,0,0],[1,0,0,0,0,0,0,0,1,0,1,0,0,0,0,1,1,0,1,1,1,1,0,0,0,0,0,0,0,0,0,1,1,0,1,0,1,1,1,1],[1,0,1,1,0,1,1,0,1,0,0,0,1,1,1,0,1,0,1,1,0,1,0,1,1,0,1,0,0,1,1,0,1,0,0,1,0,0,0,1],[0,1,1,1,0,0,1,1,0,0,0,0,1,0,1,0,0,0,0,0,1,0,0,1,0,0,0,0,1,1,1,1,0,0,0,0,1,0,0,0],[1,1,0,1,1,0,1,1,1,0,1,0,1,1,0,1,1,0,1,0,0,0,0,0,1,0,1,1,0,0,1,1,0,1,0,0,1,0,0,1],[0,0,1,0,0,0,0,1,1,0,1,1,0,0,0,0,1,1,0,1,0,0,1,1,1,0,1,0,0,1,1,0,0,1,1,0,0,1,1,1],[1,0,0,1,0,0,1,1,0,0,1,0,1,0,0,1,1,0,0,0,0,1,0,1,0,0,1,1,1,0,0,0,0,0,0,1,1,1,0,0],[1,0,0,0,1,1,0,1,0,1,1,0,0,0,1,0,0,0,1,1,0,0,0,0,0,0,1,1,1,1,0,0,1,0,0,1,0,1,0,1],[1,0,1,1,0,0,0,0,0,0,1,1,0,1,1,0,1,1,1,1,1,1,1,1,0,1,1,1,0,0,1,1,1,1,1,0,0,0,1,1],[0,1,0,0,0,1,1,1,1,1,1,1,0,1,1,0,0,1,1,0,0,0,0,0,1,1,1,1,1,1,1,1,0,0,0,0,0,0,0,0],[0,1,0,0,1,0,0,1,1,0,1,1,1,0,1,0,1,1,1,1,0,0,0,1,1,1,1,0,0,1,0,1,0,0,0,1,1,1,1,1],[0,0,0,0,0,1,1,0,0,0,1,1,0,0,0,1,1,1,1,0,0,0,1,1,1,0,0,1,1,1,1,0,0,1,0,0,1,1,0,1],[1,0,1,0,1,0,1,0,0,0,0,1,1,1,0,0,0,0,0,0,0,0,1,1,0,1,0,0,1,0,0,1,1,0,1,0,0,0,0,1],[1,1,1,0,1,1,0,0,0,0,0,0,0,0,1,1,1,0,1,0,1,0,1,1,0,0,1,0,1,0,1,1,0,0,1,1,1,1,0,0]]"
   ]
  },
  {
   "cell_type": "code",
   "execution_count": 140,
   "metadata": {},
   "outputs": [
    {
     "data": {
      "text/plain": [
       "3"
      ]
     },
     "execution_count": 140,
     "metadata": {},
     "output_type": "execute_result"
    }
   ],
   "source": [
    "obj = Solution()\n",
    "obj.maxDistance(grid)"
   ]
  },
  {
   "cell_type": "code",
   "execution_count": 138,
   "metadata": {},
   "outputs": [],
   "source": [
    "class Solution:\n",
    "    def maxDistance(self, grid) -> int:       \n",
    "        n = len(grid)\n",
    "        stack = []\n",
    "        seen = set()\n",
    "        for i in range(n):\n",
    "            for j in range(n):\n",
    "                if grid[i][j] == 1:\n",
    "                    stack.append((i,j))\n",
    "                    seen.add((i,j))\n",
    "        if len(stack) == n**2 or len(stack) == 0:\n",
    "            return -1\n",
    "        \n",
    "        layer = 0\n",
    "        while stack:\n",
    "            newstack = stack.copy()\n",
    "            stack = []\n",
    "            for (i,j) in newstack:\n",
    "                for (x,y) in [(-1,0),(1,0),(0,-1),(0,1)]:\n",
    "                    if 0 <= i+x < n and 0 <= j+y < n and (i+x,j+y) not in seen:\n",
    "                        seen.add((i+x,j+y))\n",
    "                        stack.append((i+x,j+y))\n",
    "            layer += 1\n",
    "            \n",
    "        return layer-1"
   ]
  },
  {
   "cell_type": "code",
   "execution_count": 145,
   "metadata": {},
   "outputs": [],
   "source": [
    "class Solution:\n",
    "    def maxDistance(self, grid) -> int:       \n",
    "        n = len(grid)\n",
    "        stack = []\n",
    "        for i in range(n):\n",
    "            for j in range(n):\n",
    "                if grid[i][j] == 1:\n",
    "                    stack.append((i,j))\n",
    "        if len(stack) == n**2 or len(stack) == 0:\n",
    "            return -1\n",
    "        \n",
    "        layer = 0\n",
    "        while stack:\n",
    "            ls = len(stack)\n",
    "            for l in range(ls):\n",
    "                i,j = stack.pop()\n",
    "                for (x,y) in [(-1,0),(1,0),(0,-1),(0,1)]:\n",
    "                    if 0 <= i+x < n and 0 <= j+y < n and grid[i+x][j+y] != 1:\n",
    "                        stack.append((i+x,j+y))\n",
    "                        grid[i+x][j+y] = 1\n",
    "            layer += 1\n",
    "            \n",
    "        return layer-1         "
   ]
  },
  {
   "cell_type": "code",
   "execution_count": 147,
   "metadata": {},
   "outputs": [
    {
     "data": {
      "text/plain": [
       "1"
      ]
     },
     "execution_count": 147,
     "metadata": {},
     "output_type": "execute_result"
    }
   ],
   "source": [
    "grid = [[1,0],[1,1]]\n",
    "grid = [[1,0,1],[0,0,0],[1,0,1]]\n",
    "        \n",
    "obj = Solution()\n",
    "obj.maxDistance(grid)"
   ]
  },
  {
   "cell_type": "code",
   "execution_count": 157,
   "metadata": {},
   "outputs": [],
   "source": [
    "class Solution:\n",
    "    def maxDistance(self, grid) -> int:       \n",
    "        n = len(grid)\n",
    "        stack = [(i,j) for i in range(n) for j in range(n) if grid[i][j] == 1]\n",
    "        if len(stack) == n**2 or len(stack) == 0:\n",
    "            return -1\n",
    "        \n",
    "        layer = 0\n",
    "        while stack:\n",
    "            layer += 1\n",
    "            ls = len(stack)\n",
    "            #print(stack)\n",
    "            for l in range(ls):\n",
    "                (i,j) = stack.pop(0)\n",
    "                print(stack)\n",
    "                for (x,y) in [(-1,0),(1,0),(0,-1),(0,1)]:\n",
    "                    if 0 <= i+x < n and 0 <= j+y < n and grid[i+x][j+y] == 0:\n",
    "                        stack.append((i+x,j+y))\n",
    "                        grid[i+x][j+y] = 1          \n",
    "        return layer-1"
   ]
  },
  {
   "cell_type": "code",
   "execution_count": 158,
   "metadata": {},
   "outputs": [
    {
     "name": "stdout",
     "output_type": "stream",
     "text": [
      "[(0, 2), (2, 0), (2, 2)]\n",
      "[(2, 0), (2, 2), (1, 0), (0, 1)]\n",
      "[(2, 2), (1, 0), (0, 1), (1, 2)]\n",
      "[(1, 0), (0, 1), (1, 2), (2, 1)]\n",
      "[(0, 1), (1, 2), (2, 1)]\n",
      "[(1, 2), (2, 1), (1, 1)]\n",
      "[(2, 1), (1, 1)]\n",
      "[(1, 1)]\n",
      "[]\n"
     ]
    },
    {
     "data": {
      "text/plain": [
       "2"
      ]
     },
     "execution_count": 158,
     "metadata": {},
     "output_type": "execute_result"
    }
   ],
   "source": [
    "grid = [[1,0],[1,1]]\n",
    "grid = [[1,0,1],[0,0,0],[1,0,1]]\n",
    "        \n",
    "obj = Solution()\n",
    "obj.maxDistance(grid)"
   ]
  },
  {
   "cell_type": "code",
   "execution_count": null,
   "metadata": {},
   "outputs": [],
   "source": []
  }
 ],
 "metadata": {
  "kernelspec": {
   "display_name": "Python 3",
   "language": "python",
   "name": "python3"
  },
  "language_info": {
   "codemirror_mode": {
    "name": "ipython",
    "version": 3
   },
   "file_extension": ".py",
   "mimetype": "text/x-python",
   "name": "python",
   "nbconvert_exporter": "python",
   "pygments_lexer": "ipython3",
   "version": "3.7.3"
  }
 },
 "nbformat": 4,
 "nbformat_minor": 2
}
