{
 "cells": [
  {
   "cell_type": "code",
   "execution_count": 29,
   "metadata": {},
   "outputs": [],
   "source": [
    "class ListNode:\n",
    "    def __init__(self, val=0, next=None):\n",
    "        self.val = val\n",
    "        self.next = next\n",
    "class Solution:\n",
    "    def removeNthFromEnd(self, head, n: int):\n",
    "        prev = head\n",
    "        \n",
    "        from collections import defaultdict\n",
    "        nodesdict = defaultdict()\n",
    "        \n",
    "        i = 0\n",
    "        while prev is not None:\n",
    "            nodesdict[i] = prev\n",
    "            i += 1\n",
    "            prev = prev.next\n",
    "        \n",
    "        if n != 1 and len(nodesdict)-n-1 >= 0:\n",
    "            nodesdict[len(nodesdict)-n-1].next = nodesdict[len(nodesdict)-n+1]\n",
    "        elif n == 1 and len(nodesdict)-n-1 >= 0:\n",
    "            nodesdict[len(nodesdict)-2].next = None\n",
    "        elif len(nodesdict)-n-1 < 0:\n",
    "            return head.next\n",
    "        \n",
    "        return head"
   ]
  },
  {
   "cell_type": "code",
   "execution_count": 88,
   "metadata": {},
   "outputs": [
    {
     "name": "stdout",
     "output_type": "stream",
     "text": [
      "2\n",
      "1\n",
      "2 1 3\n"
     ]
    }
   ],
   "source": [
    "head = ListNode(1)\n",
    "head.next = ListNode(2)\n",
    "head.next.next = ListNode(3)\n",
    "head.next.next.next = ListNode(4)\n",
    "head.next.next.next.next = ListNode(5)\n",
    "\n",
    "prev = ListNode(None)\n",
    "temp = head.next\n",
    "print(temp.val)\n",
    "head.next = prev\n",
    "prev = head\n",
    "print(prev.val)\n",
    "head = temp\n",
    "print(head.val, prev.val, head.next.val)"
   ]
  },
  {
   "cell_type": "code",
   "execution_count": 77,
   "metadata": {},
   "outputs": [
    {
     "data": {
      "text/plain": [
       "2"
      ]
     },
     "execution_count": 77,
     "metadata": {},
     "output_type": "execute_result"
    }
   ],
   "source": [
    "head.val"
   ]
  },
  {
   "cell_type": "code",
   "execution_count": 34,
   "metadata": {},
   "outputs": [
    {
     "name": "stdout",
     "output_type": "stream",
     "text": [
      "2\n"
     ]
    }
   ],
   "source": [
    "head = ListNode(1)\n",
    "head.next = ListNode(2)\n",
    "n = 2\n",
    "\n",
    "obj = Solution()\n",
    "head = obj.removeNthFromEnd(head,n)\n",
    "print(head.val)"
   ]
  },
  {
   "cell_type": "code",
   "execution_count": 106,
   "metadata": {},
   "outputs": [
    {
     "name": "stdout",
     "output_type": "stream",
     "text": [
      "1\n",
      "1 2\n",
      "3\n"
     ]
    }
   ],
   "source": [
    "head = ListNode(1)\n",
    "head.next = ListNode(2)\n",
    "head.next.next = ListNode(3)\n",
    "head.next.next.next = ListNode(4)\n",
    "head.next.next.next.next = ListNode(5)\n",
    "\n",
    "\n",
    "prev = head\n",
    "print(prev.val)\n",
    "head = head.next\n",
    "curr = head\n",
    "print(prev.val, curr.val)\n",
    "temp = head.next\n",
    "curr.next = prev\n",
    "head.next = temp\n",
    "print(head.next.val)"
   ]
  },
  {
   "cell_type": "code",
   "execution_count": 102,
   "metadata": {},
   "outputs": [
    {
     "name": "stdout",
     "output_type": "stream",
     "text": [
      "1\n",
      "1 2\n"
     ]
    }
   ],
   "source": [
    "head = ListNode(1)\n",
    "head.next = ListNode(2)\n",
    "head.next.next = ListNode(3)\n",
    "head.next.next.next = ListNode(4)\n",
    "head.next.next.next.next = ListNode(5)\n",
    "\n",
    "prev = head\n",
    "print(prev.val)\n",
    "\n",
    "head = head.next\n",
    "print(prev.val, head.val)"
   ]
  },
  {
   "cell_type": "code",
   "execution_count": null,
   "metadata": {},
   "outputs": [],
   "source": []
  }
 ],
 "metadata": {
  "kernelspec": {
   "display_name": "Python 3",
   "language": "python",
   "name": "python3"
  },
  "language_info": {
   "codemirror_mode": {
    "name": "ipython",
    "version": 3
   },
   "file_extension": ".py",
   "mimetype": "text/x-python",
   "name": "python",
   "nbconvert_exporter": "python",
   "pygments_lexer": "ipython3",
   "version": "3.7.3"
  }
 },
 "nbformat": 4,
 "nbformat_minor": 2
}
