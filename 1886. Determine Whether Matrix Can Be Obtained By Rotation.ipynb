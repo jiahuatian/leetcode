{
 "cells": [
  {
   "cell_type": "code",
   "execution_count": 4,
   "metadata": {},
   "outputs": [],
   "source": [
    "class Solution:\n",
    "    def findRotation(self, mat, target) -> bool:\n",
    "        n = len(mat)\n",
    "        \n",
    "        if mat == target:\n",
    "            return True\n",
    "        else:\n",
    "            mat = [[mat[n-j-1][i] for j in range(n)] for i in range(n)]\n",
    "            if mat == target:\n",
    "                return True\n",
    "            else:\n",
    "                mat = [[mat[n-j-1][i] for j in range(n)] for i in range(n)]\n",
    "                if mat == target:\n",
    "                    return True\n",
    "                else:\n",
    "                    mat = [[mat[n-j-1][i] for j in range(n)] for i in range(n)]\n",
    "                    if mat == target:\n",
    "                        return True\n",
    "            \n",
    "        return False"
   ]
  },
  {
   "cell_type": "code",
   "execution_count": 5,
   "metadata": {},
   "outputs": [
    {
     "data": {
      "text/plain": [
       "True"
      ]
     },
     "execution_count": 5,
     "metadata": {},
     "output_type": "execute_result"
    }
   ],
   "source": [
    "mat = [[0,0],[1,0]]\n",
    "target = [[1,0],[0,0]]\n",
    "\n",
    "obj = Solution()\n",
    "obj.findRotation(mat,target)"
   ]
  },
  {
   "cell_type": "code",
   "execution_count": null,
   "metadata": {},
   "outputs": [],
   "source": []
  }
 ],
 "metadata": {
  "kernelspec": {
   "display_name": "Python 3",
   "language": "python",
   "name": "python3"
  },
  "language_info": {
   "codemirror_mode": {
    "name": "ipython",
    "version": 3
   },
   "file_extension": ".py",
   "mimetype": "text/x-python",
   "name": "python",
   "nbconvert_exporter": "python",
   "pygments_lexer": "ipython3",
   "version": "3.7.3"
  }
 },
 "nbformat": 4,
 "nbformat_minor": 2
}
