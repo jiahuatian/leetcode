{
 "cells": [
  {
   "cell_type": "code",
   "execution_count": 5,
   "metadata": {},
   "outputs": [],
   "source": [
    "class Solution(object):\n",
    "    def shortestWordDistance(self, wordsDict, word1, word2):\n",
    "        \"\"\"\n",
    "        :type wordsDict: List[str]\n",
    "        :type word1: str\n",
    "        :type word2: str\n",
    "        :rtype: int\n",
    "        \"\"\"\n",
    "        loc1 = []\n",
    "        loc2 = []\n",
    "        \n",
    "        for i,w in enumerate(wordsDict):\n",
    "            if word1 == word2:\n",
    "                if w == word1:\n",
    "                    loc1.append(i)\n",
    "                    loc2.append(i)\n",
    "            else:\n",
    "                if w == word1:\n",
    "                    loc1.append(i)\n",
    "                elif w == word2:\n",
    "                    loc2.append(i)\n",
    "                \n",
    "        res = len(wordsDict)\n",
    "        \n",
    "        for i in loc1:\n",
    "            for j in loc2:\n",
    "                if j != i:\n",
    "                    res = min(res, abs(j-i))\n",
    "                    \n",
    "        return res"
   ]
  },
  {
   "cell_type": "code",
   "execution_count": 6,
   "metadata": {},
   "outputs": [
    {
     "name": "stdout",
     "output_type": "stream",
     "text": [
      "[1, 4] [1, 4]\n"
     ]
    },
    {
     "data": {
      "text/plain": [
       "3"
      ]
     },
     "execution_count": 6,
     "metadata": {},
     "output_type": "execute_result"
    }
   ],
   "source": [
    "wordsDict = [\"practice\", \"makes\", \"perfect\", \"coding\", \"makes\"]\n",
    "word1 = \"makes\"\n",
    "word2 = \"makes\"\n",
    "\n",
    "obj = Solution()\n",
    "obj.shortestWordDistance(wordsDict, word1, word2)"
   ]
  },
  {
   "cell_type": "code",
   "execution_count": null,
   "metadata": {},
   "outputs": [],
   "source": []
  }
 ],
 "metadata": {
  "kernelspec": {
   "display_name": "Python 3",
   "language": "python",
   "name": "python3"
  },
  "language_info": {
   "codemirror_mode": {
    "name": "ipython",
    "version": 3
   },
   "file_extension": ".py",
   "mimetype": "text/x-python",
   "name": "python",
   "nbconvert_exporter": "python",
   "pygments_lexer": "ipython3",
   "version": "3.7.3"
  }
 },
 "nbformat": 4,
 "nbformat_minor": 2
}
