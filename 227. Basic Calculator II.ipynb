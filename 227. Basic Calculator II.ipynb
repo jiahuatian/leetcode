{
 "cells": [
  {
   "cell_type": "code",
   "execution_count": 53,
   "metadata": {},
   "outputs": [],
   "source": [
    "class Solution:\n",
    "    def calculate(self, s: str) -> int:\n",
    "        operators = {'+','-','*','/'}\n",
    "        callist = ['+']\n",
    "        start = 0\n",
    "        for i in range(len(s)):\n",
    "            if s[i] in operators:\n",
    "                callist.append(''.join(s[start:i]).replace(\" \", \"\"))\n",
    "                callist.append(s[i])\n",
    "                start = i+1\n",
    "            if i == len(s)-1:\n",
    "                callist.append(s[start:i+1].replace(\" \", \"\"))\n",
    "                \n",
    "        return callist"
   ]
  },
  {
   "cell_type": "code",
   "execution_count": 54,
   "metadata": {},
   "outputs": [
    {
     "data": {
      "text/plain": [
       "['+', '3', '+', '5', '/', '25', '*', '7', '+', '97']"
      ]
     },
     "execution_count": 54,
     "metadata": {},
     "output_type": "execute_result"
    }
   ],
   "source": [
    "s = \"3+2*2\"\n",
    "s = \" 3+5 / 2 5*7 +9 7\"\n",
    "\n",
    "obj = Solution()\n",
    "obj.calculate(s)"
   ]
  },
  {
   "cell_type": "code",
   "execution_count": null,
   "metadata": {},
   "outputs": [],
   "source": []
  }
 ],
 "metadata": {
  "kernelspec": {
   "display_name": "Python 3",
   "language": "python",
   "name": "python3"
  },
  "language_info": {
   "codemirror_mode": {
    "name": "ipython",
    "version": 3
   },
   "file_extension": ".py",
   "mimetype": "text/x-python",
   "name": "python",
   "nbconvert_exporter": "python",
   "pygments_lexer": "ipython3",
   "version": "3.7.3"
  }
 },
 "nbformat": 4,
 "nbformat_minor": 2
}
