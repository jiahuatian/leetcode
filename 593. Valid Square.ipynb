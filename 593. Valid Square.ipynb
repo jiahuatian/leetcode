{
 "cells": [
  {
   "cell_type": "code",
   "execution_count": 53,
   "metadata": {},
   "outputs": [],
   "source": [
    "class Solution:\n",
    "    def validSquare(self, p1, p2, p3, p4) -> bool:\n",
    "        temps = set()\n",
    "        for p in [p1,p2,p3,p4]:\n",
    "            temps.add(tuple(p))\n",
    "        if len(temps) != 4:\n",
    "            return False\n",
    "        from collections import defaultdict\n",
    "        sdict = defaultdict(list)\n",
    "        x0,y0 = p1\n",
    "        for x,y in [p2,p3,p4]:\n",
    "            sdict[(x0-x)**2+(y0-y)**2].append([x-x0,y-y0])    \n",
    "        if len(sdict) != 2:\n",
    "            return False\n",
    "        s,l = min(sdict.keys()),max(sdict.keys())\n",
    "        if len(sdict[s]) != 2 or len(sdict[l]) != 1:\n",
    "            return False\n",
    "        llen = sdict[l][0][0]**2+sdict[l][0][1]**2\n",
    "        slen1 = sdict[s][0][0]**2+sdict[s][0][1]**2\n",
    "        slen2 = sdict[s][1][0]**2+sdict[s][1][1]**2\n",
    "        if slen1 != slen2:\n",
    "            return False\n",
    "        if llen != 2*slen1:\n",
    "            return False\n",
    "        temp = []\n",
    "        for p in sdict[s]:\n",
    "            xt,yt = p\n",
    "            temp.append(xt*sdict[l][0][0]+yt*sdict[l][0][1])\n",
    "            if self.ip(p,sdict[l][0]) != 2:\n",
    "                return False\n",
    "        if temp[0] != temp[1]:\n",
    "            return False\n",
    "        return True\n",
    "    \n",
    "    def ip(self, p1, p2):\n",
    "        x1,y1 = p1\n",
    "        x2,y2 = p2\n",
    "        return (x1**2+y1**2)*(x2**2+y2**2)/(x1*x2+y1*y2)**2 if x1*x2+y1*y2 != 0 else float('inf')"
   ]
  },
  {
   "cell_type": "code",
   "execution_count": 54,
   "metadata": {},
   "outputs": [
    {
     "name": "stdout",
     "output_type": "stream",
     "text": [
      "[[5, 5]]\n"
     ]
    },
    {
     "data": {
      "text/plain": [
       "False"
      ]
     },
     "execution_count": 54,
     "metadata": {},
     "output_type": "execute_result"
    }
   ],
   "source": [
    "p1 = [0,0]\n",
    "p2 = [1,1]\n",
    "p3 = [1,0]\n",
    "p4 = [0,1]\n",
    "\n",
    "p1 = [0,0]\n",
    "p2 = [1,1]\n",
    "p3 = [1,0]\n",
    "p4 = [0,12]\n",
    "\n",
    "p1 = [1,0]\n",
    "p2 = [-1,0]\n",
    "p3 = [0,1]\n",
    "p4 = [0,-1]\n",
    "\n",
    "p1 = [0,1]\n",
    "p2 = [1,2]\n",
    "p3 = [0,2]\n",
    "p4 = [0,0]\n",
    "\n",
    "p1 = [0,0]\n",
    "p2 = [5,5]\n",
    "p3 = [1,0]\n",
    "p4 = [0,1]\n",
    "\n",
    "obj = Solution()\n",
    "obj.validSquare(p1,p2,p3,p4)"
   ]
  },
  {
   "cell_type": "code",
   "execution_count": null,
   "metadata": {},
   "outputs": [],
   "source": []
  }
 ],
 "metadata": {
  "kernelspec": {
   "display_name": "Python 3",
   "language": "python",
   "name": "python3"
  },
  "language_info": {
   "codemirror_mode": {
    "name": "ipython",
    "version": 3
   },
   "file_extension": ".py",
   "mimetype": "text/x-python",
   "name": "python",
   "nbconvert_exporter": "python",
   "pygments_lexer": "ipython3",
   "version": "3.7.3"
  }
 },
 "nbformat": 4,
 "nbformat_minor": 2
}
