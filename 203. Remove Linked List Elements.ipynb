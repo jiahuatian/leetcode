{
 "cells": [
  {
   "cell_type": "code",
   "execution_count": 30,
   "metadata": {},
   "outputs": [],
   "source": [
    "class ListNode:\n",
    "    def __init__(self, x):\n",
    "        self.val = x\n",
    "        self.next = None\n",
    "\n",
    "class Solution:\n",
    "    def removeElements(self, head, val: int):\n",
    "        if head == None:\n",
    "            return None\n",
    "        elif head.next == None:\n",
    "            if head.val != val:\n",
    "                return head\n",
    "            else:\n",
    "                return None\n",
    "        \n",
    "        prev = head\n",
    "        \n",
    "        while prev.next is not None:\n",
    "            if prev.val == val:\n",
    "                prev.val = prev.next.val\n",
    "                prev.next = prev.next.next\n",
    "            else:\n",
    "                prev = prev.next\n",
    "        \n",
    "        if prev.val == val:\n",
    "            print(prev.val)\n",
    "            prev = None\n",
    "        \n",
    "        return head"
   ]
  },
  {
   "cell_type": "code",
   "execution_count": 51,
   "metadata": {},
   "outputs": [],
   "source": [
    "n1 = ListNode(1)\n",
    "n1.next = ListNode(2)\n",
    "n1.next.next = ListNode(6)\n",
    "#n4 = n1.next.next.next\n",
    "n1.next.next.next = ListNode(3)\n",
    "n1.next.next.next.next = ListNode(4)\n",
    "n1.next.next.next.next.next = ListNode(5)\n",
    "n1.next.next.next.next.next.next = ListNode(6)"
   ]
  },
  {
   "cell_type": "code",
   "execution_count": 32,
   "metadata": {},
   "outputs": [
    {
     "name": "stdout",
     "output_type": "stream",
     "text": [
      "6\n"
     ]
    },
    {
     "data": {
      "text/plain": [
       "<__main__.ListNode at 0x105c69dd8>"
      ]
     },
     "execution_count": 32,
     "metadata": {},
     "output_type": "execute_result"
    }
   ],
   "source": [
    "obj = Solution()\n",
    "obj.removeElements(n1,6)"
   ]
  },
  {
   "cell_type": "code",
   "execution_count": 12,
   "metadata": {},
   "outputs": [
    {
     "name": "stdout",
     "output_type": "stream",
     "text": [
      "3\n",
      "4\n",
      "5\n",
      "6\n"
     ]
    }
   ],
   "source": [
    "print(n1.next.next.val)\n",
    "print(n1.next.next.next.val)\n",
    "print(n1.next.next.next.next.val)\n",
    "print(n1.next.next.next.next.next.val)"
   ]
  },
  {
   "cell_type": "code",
   "execution_count": null,
   "metadata": {},
   "outputs": [],
   "source": []
  }
 ],
 "metadata": {
  "kernelspec": {
   "display_name": "Python 3",
   "language": "python",
   "name": "python3"
  },
  "language_info": {
   "codemirror_mode": {
    "name": "ipython",
    "version": 3
   },
   "file_extension": ".py",
   "mimetype": "text/x-python",
   "name": "python",
   "nbconvert_exporter": "python",
   "pygments_lexer": "ipython3",
   "version": "3.7.3"
  }
 },
 "nbformat": 4,
 "nbformat_minor": 2
}
