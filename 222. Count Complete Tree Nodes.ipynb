{
 "cells": [
  {
   "cell_type": "code",
   "execution_count": 10,
   "metadata": {},
   "outputs": [],
   "source": [
    "class TreeNode:\n",
    "    def __init__(self, val=0, left=None, right=None):\n",
    "        self.val = val\n",
    "        self.left = left\n",
    "        self.right = right\n",
    "class Solution:\n",
    "    def countNodes(self, root) -> int:\n",
    "        if not root:\n",
    "            return 0\n",
    "        stack = [[root,0,0],]\n",
    "        from collections import defaultdict\n",
    "        maxlevel,maxlr = 0,defaultdict(int)\n",
    "        while stack:\n",
    "            node,level,lr = stack.pop()\n",
    "            maxlr[level] = max(maxlr[level],lr)\n",
    "            if node.left:\n",
    "                stack.append([node.left,level+1,2*lr])\n",
    "                maxlevel = max(maxlevel,level+1)\n",
    "                maxlr[level+1] = max(maxlr[level+1],2*lr)\n",
    "            if node.right:\n",
    "                stack.append([node.right,level+1,2*lr+1])\n",
    "                maxlevel = max(maxlevel,level+1)\n",
    "                maxlr[level+1] = max(maxlr[level+1],2*lr+1)\n",
    "        print(maxlr,maxlevel)\n",
    "        if maxlr[maxlevel]+1 != 2**maxlevel:\n",
    "            return sum([2**i for i in range(maxlevel)])+maxlr[maxlevel]+1\n",
    "        else:\n",
    "            return sum([2**i for i in range(maxlevel+1)])"
   ]
  },
  {
   "cell_type": "code",
   "execution_count": 11,
   "metadata": {},
   "outputs": [
    {
     "name": "stdout",
     "output_type": "stream",
     "text": [
      "defaultdict(<class 'int'>, {0: 0, 1: 1, 2: 0}) 2\n"
     ]
    },
    {
     "data": {
      "text/plain": [
       "4"
      ]
     },
     "execution_count": 11,
     "metadata": {},
     "output_type": "execute_result"
    }
   ],
   "source": [
    "root = TreeNode(1)\n",
    "root.left = TreeNode(2)\n",
    "root.right = TreeNode(3)\n",
    "root.left.left = TreeNode(4)\n",
    "\n",
    "obj = Solution()\n",
    "obj.countNodes(root)"
   ]
  },
  {
   "cell_type": "code",
   "execution_count": null,
   "metadata": {},
   "outputs": [],
   "source": []
  }
 ],
 "metadata": {
  "kernelspec": {
   "display_name": "Python 3",
   "language": "python",
   "name": "python3"
  },
  "language_info": {
   "codemirror_mode": {
    "name": "ipython",
    "version": 3
   },
   "file_extension": ".py",
   "mimetype": "text/x-python",
   "name": "python",
   "nbconvert_exporter": "python",
   "pygments_lexer": "ipython3",
   "version": "3.7.3"
  }
 },
 "nbformat": 4,
 "nbformat_minor": 2
}
