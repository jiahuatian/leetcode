{
 "cells": [
  {
   "cell_type": "code",
   "execution_count": 24,
   "metadata": {},
   "outputs": [],
   "source": [
    "class Solution:\n",
    "    def groupStrings(self, strings):\n",
    "        from collections import defaultdict\n",
    "        intdict = defaultdict(list)\n",
    "        \n",
    "        for i in range(len(strings)):\n",
    "            intdict[self.convertInt(strings[i])].append(strings[i])   \n",
    "        \n",
    "        print(intdict)\n",
    "        \n",
    "        return intdict.values()\n",
    "    \n",
    "    def convertInt(self, string):\n",
    "        if len(string) == 1:\n",
    "            return str(0)\n",
    "        \n",
    "        ordstr = ''\n",
    "        for i in range(1,len(string)):\n",
    "            if ord(string[i])-ord(string[i-1]) >= 0:\n",
    "                ordstr += str(ord(string[i])-ord(string[i-1]))\n",
    "            else:\n",
    "                ordstr += str(ord(string[i])-ord(string[i-1])+26)\n",
    "                \n",
    "        ordstr += '_'+str(len(string))\n",
    "            \n",
    "        return ordstr"
   ]
  },
  {
   "cell_type": "code",
   "execution_count": 26,
   "metadata": {},
   "outputs": [
    {
     "name": "stdout",
     "output_type": "stream",
     "text": [
      "defaultdict(<class 'list'>, {'0_2': ['aa', 'bb'], '0': ['b']})\n"
     ]
    },
    {
     "data": {
      "text/plain": [
       "dict_values([['aa', 'bb'], ['b']])"
      ]
     },
     "execution_count": 26,
     "metadata": {},
     "output_type": "execute_result"
    }
   ],
   "source": [
    "strings = [\"abc\",\"bcd\",\"acef\",\"xyz\",\"az\",\"ba\",\"a\",\"z\",\"zab\",\"abc\"]\n",
    "strings = [\"aa\",\"bb\",\"b\"]\n",
    "#strings = [\"abc\",\"bcd\",\"acef\",\"xyz\",\"az\",\"ba\",\"a\",\"z\",\"al\"]\n",
    "\n",
    "obj = Solution()\n",
    "obj.groupStrings(strings)"
   ]
  },
  {
   "cell_type": "code",
   "execution_count": null,
   "metadata": {},
   "outputs": [],
   "source": []
  }
 ],
 "metadata": {
  "kernelspec": {
   "display_name": "Python 3",
   "language": "python",
   "name": "python3"
  },
  "language_info": {
   "codemirror_mode": {
    "name": "ipython",
    "version": 3
   },
   "file_extension": ".py",
   "mimetype": "text/x-python",
   "name": "python",
   "nbconvert_exporter": "python",
   "pygments_lexer": "ipython3",
   "version": "3.7.3"
  }
 },
 "nbformat": 4,
 "nbformat_minor": 2
}
