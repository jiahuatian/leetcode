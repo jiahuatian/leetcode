{
 "cells": [
  {
   "cell_type": "markdown",
   "metadata": {},
   "source": [
    "[0,0] -> [0,3]\n",
    "[0,1] -> [1,3]\n",
    "[0,2] -> [2,3]\n",
    "[0,3] -> [3,3]\n",
    "\n",
    "[1,0] -> [0,2]\n",
    "[1,1] -> [1,2]\n",
    "[1,2] -> [2,2]\n",
    "[1,3] -> [3,2]\n",
    "\n",
    "[2,0] -> [0,1]\n",
    "[2,1] -> [1,1]\n",
    "[2,2] -> [2,1]\n",
    "[2,3] -> [3,1]\n",
    "\n",
    "[3,0] -> [0,0]\n",
    "[3,1] -> [1,0]\n",
    "[3,2] -> [2,0]\n",
    "[3,3] -> [3,0]"
   ]
  },
  {
   "cell_type": "code",
   "execution_count": 19,
   "metadata": {},
   "outputs": [
    {
     "data": {
      "text/plain": [
       "[[7, 4, 1], [8, 5, 2], [9, 6, 3]]"
      ]
     },
     "execution_count": 19,
     "metadata": {},
     "output_type": "execute_result"
    }
   ],
   "source": [
    "matrix = [[1,2,3],[4,5,6],[7,8,9]]\n",
    "#matrix = [[5,1,9,11],[2,4,8,10],[13,3,6,7],[15,14,12,16]]\n",
    "n = len(matrix)\n",
    "\n",
    "[[matrix[n-j-1][i] for j in range(n)] for i in range(n)]"
   ]
  },
  {
   "cell_type": "code",
   "execution_count": 22,
   "metadata": {},
   "outputs": [],
   "source": [
    "class Solution:\n",
    "    def rotate(self, matrix) -> None:\n",
    "        \"\"\"\n",
    "        Do not return anything, modify matrix in-place instead.\n",
    "        \"\"\"\n",
    "        \n",
    "        n = len(matrix)\n",
    "        \n",
    "        return [[matrix[n-j-1][i] for j in range(n)] for i in range(n)]"
   ]
  },
  {
   "cell_type": "code",
   "execution_count": 27,
   "metadata": {},
   "outputs": [
    {
     "data": {
      "text/plain": [
       "[[3, 1], [4, 2]]"
      ]
     },
     "execution_count": 27,
     "metadata": {},
     "output_type": "execute_result"
    }
   ],
   "source": [
    "matrix = [[1,2,3],[4,5,6],[7,8,9]]\n",
    "matrix = [[5,1,9,11],[2,4,8,10],[13,3,6,7],[15,14,12,16]]\n",
    "matrix = [[1,2],[3,4]]\n",
    "\n",
    "obj = Solution()\n",
    "obj.rotate(matrix)"
   ]
  },
  {
   "cell_type": "code",
   "execution_count": null,
   "metadata": {},
   "outputs": [],
   "source": []
  }
 ],
 "metadata": {
  "kernelspec": {
   "display_name": "Python 3",
   "language": "python",
   "name": "python3"
  },
  "language_info": {
   "codemirror_mode": {
    "name": "ipython",
    "version": 3
   },
   "file_extension": ".py",
   "mimetype": "text/x-python",
   "name": "python",
   "nbconvert_exporter": "python",
   "pygments_lexer": "ipython3",
   "version": "3.7.3"
  }
 },
 "nbformat": 4,
 "nbformat_minor": 2
}
