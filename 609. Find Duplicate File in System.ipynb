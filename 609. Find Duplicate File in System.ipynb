{
 "cells": [
  {
   "cell_type": "code",
   "execution_count": 25,
   "metadata": {},
   "outputs": [],
   "source": [
    "class Solution:\n",
    "    def findDuplicate(self, paths):\n",
    "        from collections import defaultdict\n",
    "        \n",
    "        filedict = defaultdict(list)\n",
    "        \n",
    "        for path in paths:\n",
    "            thislist = path.split(' ')\n",
    "            for file in thislist[1:]:\n",
    "                filedict[file.split('(')[1][:-1]].append(thislist[0]+'/'+file.split('(')[0])\n",
    "                \n",
    "        return filedict"
   ]
  },
  {
   "cell_type": "code",
   "execution_count": 26,
   "metadata": {},
   "outputs": [
    {
     "data": {
      "text/plain": [
       "defaultdict(list,\n",
       "            {'abcd': ['root/a/1.txt', 'root/c/3.txt'],\n",
       "             'efgh': ['root/a/2.txt', 'root/c/d/4.txt', 'root/4.txt']})"
      ]
     },
     "execution_count": 26,
     "metadata": {},
     "output_type": "execute_result"
    }
   ],
   "source": [
    "paths = [\"root/a 1.txt(abcd) 2.txt(efgh)\",\"root/c 3.txt(abcd)\",\"root/c/d 4.txt(efgh)\",\"root 4.txt(efgh)\"]\n",
    "\n",
    "obj = Solution()\n",
    "obj.findDuplicate(paths)"
   ]
  },
  {
   "cell_type": "code",
   "execution_count": null,
   "metadata": {},
   "outputs": [],
   "source": []
  }
 ],
 "metadata": {
  "kernelspec": {
   "display_name": "Python 3",
   "language": "python",
   "name": "python3"
  },
  "language_info": {
   "codemirror_mode": {
    "name": "ipython",
    "version": 3
   },
   "file_extension": ".py",
   "mimetype": "text/x-python",
   "name": "python",
   "nbconvert_exporter": "python",
   "pygments_lexer": "ipython3",
   "version": "3.7.3"
  }
 },
 "nbformat": 4,
 "nbformat_minor": 2
}
