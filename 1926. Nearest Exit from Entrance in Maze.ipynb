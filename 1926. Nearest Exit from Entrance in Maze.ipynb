{
 "cells": [
  {
   "cell_type": "code",
   "execution_count": 6,
   "metadata": {},
   "outputs": [],
   "source": [
    "class Solution:\n",
    "    def nearestExit(self, maze, entrance) -> int:\n",
    "        from collections import deque\n",
    "        m,n = len(maze),len(maze[0])\n",
    "        def isBorder(x,y):\n",
    "            if [x,y] == entrance:\n",
    "                return False\n",
    "            for xi,yi in [(1,0),(-1,0),(0,1),(0,-1)]:\n",
    "                if x+xi<0 or x+xi>=m or y+yi<0 or y+yi>=n:\n",
    "                    return True\n",
    "            return False\n",
    "        sx,sy = entrance\n",
    "        q = deque([[(sx,sy),0],])\n",
    "        seen = set([(sx,sy),])\n",
    "        while q:\n",
    "            print(q)\n",
    "            (x,y),s = q.popleft()\n",
    "            if isBorder(x,y):\n",
    "                return s\n",
    "            for xi,yi in [(1,0),(-1,0),(0,1),(0,-1)]:\n",
    "                if 0<=x+xi<m and 0<=y+yi<n and (x+xi,y+yi) not in seen and maze[x+xi][y+yi] == '.':\n",
    "                    q.append([(x+xi,y+yi),s+1])\n",
    "                    seen.add((x+xi,y+yi))\n",
    "        return -1"
   ]
  },
  {
   "cell_type": "code",
   "execution_count": 7,
   "metadata": {},
   "outputs": [
    {
     "name": "stdout",
     "output_type": "stream",
     "text": [
      "deque([[(0, 1), 0]])\n",
      "deque([[(1, 1), 1]])\n",
      "deque([[(2, 1), 2]])\n",
      "deque([[(3, 1), 3]])\n",
      "deque([[(3, 2), 4]])\n",
      "deque([[(3, 3), 5]])\n",
      "deque([[(2, 3), 6]])\n",
      "deque([[(1, 3), 7]])\n",
      "deque([[(1, 4), 8]])\n",
      "deque([[(1, 5), 9]])\n",
      "deque([[(2, 5), 10]])\n",
      "deque([[(3, 5), 11]])\n",
      "deque([[(4, 5), 12]])\n"
     ]
    },
    {
     "data": {
      "text/plain": [
       "12"
      ]
     },
     "execution_count": 7,
     "metadata": {},
     "output_type": "execute_result"
    }
   ],
   "source": [
    "maze = [[\"+\",\".\",\"+\",\"+\",\"+\",\"+\",\"+\"],[\"+\",\".\",\"+\",\".\",\".\",\".\",\"+\"],[\"+\",\".\",\"+\",\".\",\"+\",\".\",\"+\"],[\"+\",\".\",\".\",\".\",\"+\",\".\",\"+\"],[\"+\",\"+\",\"+\",\"+\",\"+\",\".\",\"+\"]]\n",
    "entrance = [0,1]\n",
    "\n",
    "obj = Solution()\n",
    "obj.nearestExit(maze, entrance)"
   ]
  },
  {
   "cell_type": "code",
   "execution_count": null,
   "metadata": {},
   "outputs": [],
   "source": []
  }
 ],
 "metadata": {
  "kernelspec": {
   "display_name": "Python 3",
   "language": "python",
   "name": "python3"
  },
  "language_info": {
   "codemirror_mode": {
    "name": "ipython",
    "version": 3
   },
   "file_extension": ".py",
   "mimetype": "text/x-python",
   "name": "python",
   "nbconvert_exporter": "python",
   "pygments_lexer": "ipython3",
   "version": "3.7.9"
  }
 },
 "nbformat": 4,
 "nbformat_minor": 4
}
