{
 "cells": [
  {
   "cell_type": "code",
   "execution_count": 34,
   "metadata": {},
   "outputs": [],
   "source": [
    "class Solution:\n",
    "    def duplicateZeros(self, arr) -> None:\n",
    "        \"\"\"\n",
    "        Do not return anything, modify arr in-place instead.\n",
    "        \"\"\"\n",
    "        i = 0\n",
    "        \n",
    "        while i < len(arr):\n",
    "            if arr[i] != 0:\n",
    "                i += 1\n",
    "            elif i+2 < len(arr) and arr[i] == 0:\n",
    "                arr[i+2:] = arr[i+1:len(arr)-1]\n",
    "                arr[i+1] = 0\n",
    "                i += 2\n",
    "            else:\n",
    "                arr[-1] = 0\n",
    "                i += 2\n",
    "            print(i, arr)\n",
    "                \n",
    "        return arr"
   ]
  },
  {
   "cell_type": "code",
   "execution_count": 35,
   "metadata": {},
   "outputs": [
    {
     "name": "stdout",
     "output_type": "stream",
     "text": [
      "2 [0, 0, 0, 0, 0, 0, 0]\n",
      "4 [0, 0, 0, 0, 0, 0, 0]\n",
      "6 [0, 0, 0, 0, 0, 0, 0]\n",
      "8 [0, 0, 0, 0, 0, 0, 0]\n"
     ]
    },
    {
     "data": {
      "text/plain": [
       "[0, 0, 0, 0, 0, 0, 0]"
      ]
     },
     "execution_count": 35,
     "metadata": {},
     "output_type": "execute_result"
    }
   ],
   "source": [
    "arr = [0,0,0,0,0,0,0]\n",
    "#arr = [1,0,2,3,0,4,5,0]\n",
    "#arr = [1,5,2,0,6,8,0,6,0]\n",
    "\n",
    "obj = Solution()\n",
    "obj.duplicateZeros(arr)"
   ]
  },
  {
   "cell_type": "code",
   "execution_count": 81,
   "metadata": {},
   "outputs": [],
   "source": [
    "class Solution:\n",
    "    def merge(self, nums1, m: int, nums2, n: int) -> None:\n",
    "        \"\"\"\n",
    "        Do not return anything, modify nums1 in-place instead.\n",
    "        \"\"\"\n",
    "        \n",
    "        i = 0\n",
    "        \n",
    "        while i < m:\n",
    "            if nums1[i] <= nums2[0]:\n",
    "                i += 1\n",
    "            else:\n",
    "                nums1.pop()\n",
    "                nums1.insert(i,nums2[0])\n",
    "                nums2.pop(0)\n",
    "                i += 1\n",
    "        \n",
    "        return nums1"
   ]
  },
  {
   "cell_type": "code",
   "execution_count": 82,
   "metadata": {},
   "outputs": [
    {
     "data": {
      "text/plain": [
       "[1, 2, 2, 3, 0, 0]"
      ]
     },
     "execution_count": 82,
     "metadata": {},
     "output_type": "execute_result"
    }
   ],
   "source": [
    "nums1 = [1,2,3,0,0,0]\n",
    "m = 3\n",
    "nums2 = [2,5,6]\n",
    "n = 3\n",
    "\n",
    "obj = Solution()\n",
    "obj.merge(nums1,m,nums2,n)"
   ]
  },
  {
   "cell_type": "code",
   "execution_count": 67,
   "metadata": {},
   "outputs": [
    {
     "data": {
      "text/plain": [
       "[2, 3, 0, 0, 0]"
      ]
     },
     "execution_count": 67,
     "metadata": {},
     "output_type": "execute_result"
    }
   ],
   "source": [
    "nums = [1,2,3,0,0,0]\n",
    "nums.pop(0)\n",
    "nums"
   ]
  },
  {
   "cell_type": "code",
   "execution_count": 93,
   "metadata": {},
   "outputs": [],
   "source": [
    "class Solution:\n",
    "    def merge(self, nums1, m: int, nums2, n: int) -> None:\n",
    "        \"\"\"\n",
    "        Do not return anything, modify nums1 in-place instead.\n",
    "        \"\"\"\n",
    "        \n",
    "        if n == 0:\n",
    "            return nums1\n",
    "        \n",
    "        i = 0\n",
    "        \n",
    "        while i < m:\n",
    "            if nums1[i] <= nums2[0]:\n",
    "                i += 1\n",
    "            else:\n",
    "                nums1.pop()\n",
    "                nums1.insert(i,nums2[0])\n",
    "                nums2.pop(0)\n",
    "                i += 1\n",
    "                \n",
    "        "
   ]
  },
  {
   "cell_type": "code",
   "execution_count": 94,
   "metadata": {},
   "outputs": [
    {
     "name": "stdout",
     "output_type": "stream",
     "text": [
      "[1, 2, 2, 3, 0, 0] [5, 6]\n"
     ]
    }
   ],
   "source": [
    "nums1 = [1,2,3,0,0,0]\n",
    "m = 3\n",
    "nums2 = [2,5,6]\n",
    "n = 3\n",
    "\n",
    "obj = Solution()\n",
    "obj.merge(nums1,m,nums2,n)"
   ]
  },
  {
   "cell_type": "code",
   "execution_count": 97,
   "metadata": {},
   "outputs": [],
   "source": [
    "class Solution:\n",
    "    def merge(self, nums1, m: int, nums2, n: int) -> None:\n",
    "        \"\"\"\n",
    "        Do not return anything, modify nums1 in-place instead.\n",
    "        \"\"\"\n",
    "        \n",
    "        if n == 0:\n",
    "            return nums1\n",
    "        \n",
    "        i = 0\n",
    "        \n",
    "        while i < m:\n",
    "            if nums1[i] <= nums2[0]:\n",
    "                i += 1\n",
    "            else:\n",
    "                nums1.pop()\n",
    "                nums1.insert(i,nums2[0])\n",
    "                nums2.pop(0)\n",
    "                i += 1\n",
    "         \n",
    "        \n",
    "        \n",
    "        j = 0\n",
    "        for i in range(m+n-len(nums2), m+n):\n",
    "            nums1[i] = nums2[j]\n",
    "            j += 1\n",
    "            \n",
    "        return nums1"
   ]
  },
  {
   "cell_type": "code",
   "execution_count": 98,
   "metadata": {},
   "outputs": [
    {
     "data": {
      "text/plain": [
       "[1, 2, 2, 3, 5, 6]"
      ]
     },
     "execution_count": 98,
     "metadata": {},
     "output_type": "execute_result"
    }
   ],
   "source": [
    "nums1 = [1,2,3,0,0,0]\n",
    "m = 3\n",
    "nums2 = [2,5,6]\n",
    "n = 3\n",
    "\n",
    "obj = Solution()\n",
    "obj.merge(nums1,m,nums2,n)"
   ]
  },
  {
   "cell_type": "code",
   "execution_count": 116,
   "metadata": {},
   "outputs": [],
   "source": [
    "class Solution:\n",
    "    def removeElement(self, nums, val: int) -> int:\n",
    "        count = 0\n",
    "        i = 0\n",
    "        \n",
    "        while i < len(nums):\n",
    "            if nums[i] == val:\n",
    "                nums.pop(i)\n",
    "                nums.append(float('inf'))\n",
    "            else:\n",
    "                i += 1\n",
    "                print(nums)\n",
    "                \n",
    "        return len(nums) - count"
   ]
  },
  {
   "cell_type": "code",
   "execution_count": 117,
   "metadata": {},
   "outputs": [
    {
     "name": "stdout",
     "output_type": "stream",
     "text": [
      "[0, 1, 2, 2, 3, 0, 4, 2]\n",
      "[0, 1, 2, 2, 3, 0, 4, 2]\n",
      "[0, 1, 3, 0, 4, 2, inf, inf]\n",
      "[0, 1, 3, 0, 4, 2, inf, inf]\n",
      "[0, 1, 3, 0, 4, 2, inf, inf]\n",
      "[0, 1, 3, 0, 4, inf, inf, inf]\n",
      "[0, 1, 3, 0, 4, inf, inf, inf]\n",
      "[0, 1, 3, 0, 4, inf, inf, inf]\n"
     ]
    },
    {
     "data": {
      "text/plain": [
       "8"
      ]
     },
     "execution_count": 117,
     "metadata": {},
     "output_type": "execute_result"
    }
   ],
   "source": [
    "nums = [0,1,2,2,3,0,4,2]\n",
    "val = 2\n",
    "\n",
    "obj = Solution()\n",
    "obj.removeElement(nums,val)"
   ]
  },
  {
   "cell_type": "code",
   "execution_count": 118,
   "metadata": {},
   "outputs": [
    {
     "data": {
      "text/plain": [
       "[1, 2]"
      ]
     },
     "execution_count": 118,
     "metadata": {},
     "output_type": "execute_result"
    }
   ],
   "source": [
    "nums = [1,1,2]\n",
    "\n",
    "list(set(nums))"
   ]
  },
  {
   "cell_type": "code",
   "execution_count": 145,
   "metadata": {},
   "outputs": [],
   "source": [
    "class Solution:\n",
    "    def validMountainArray(self, arr) -> bool:\n",
    "        if len(arr) < 3:\n",
    "            return False\n",
    "        \n",
    "        i = 0\n",
    "        while i + 1 < len(arr) - 1 and arr[i+1] > arr[i]:\n",
    "            i += 1\n",
    "            \n",
    "        \n",
    "        peak = i\n",
    "        j = peak + 1\n",
    "        \n",
    "        while j < len(arr):\n",
    "            if arr[j] < arr[j-1]:\n",
    "                j += 1\n",
    "            else:\n",
    "                return False\n",
    "        return True"
   ]
  },
  {
   "cell_type": "code",
   "execution_count": 146,
   "metadata": {},
   "outputs": [
    {
     "data": {
      "text/plain": [
       "False"
      ]
     },
     "execution_count": 146,
     "metadata": {},
     "output_type": "execute_result"
    }
   ],
   "source": [
    "arr = [0,1,2,3,4,5,6,7,8,9]\n",
    "obj = Solution()\n",
    "obj.validMountainArray(arr)"
   ]
  },
  {
   "cell_type": "code",
   "execution_count": 151,
   "metadata": {},
   "outputs": [
    {
     "data": {
      "text/plain": [
       "[True, True, False, False, False]"
      ]
     },
     "execution_count": 151,
     "metadata": {},
     "output_type": "execute_result"
    }
   ],
   "source": [
    "aa = [1,2,3,4,5]\n",
    "bb = [1,2,5,6,9]\n",
    "cc = [aa[i] == bb[i] for i in range(len(aa))]\n",
    "cc"
   ]
  },
  {
   "cell_type": "code",
   "execution_count": 154,
   "metadata": {},
   "outputs": [
    {
     "data": {
      "text/plain": [
       "{1, 2}"
      ]
     },
     "execution_count": 154,
     "metadata": {},
     "output_type": "execute_result"
    }
   ],
   "source": [
    "myset = set([1,2,3])\n",
    "myset.remove(max(myset))\n",
    "myset"
   ]
  },
  {
   "cell_type": "code",
   "execution_count": 156,
   "metadata": {},
   "outputs": [
    {
     "data": {
      "text/plain": [
       "{3}"
      ]
     },
     "execution_count": 156,
     "metadata": {},
     "output_type": "execute_result"
    }
   ],
   "source": [
    "set([1,2,3]) - set([1,2])"
   ]
  },
  {
   "cell_type": "code",
   "execution_count": 157,
   "metadata": {},
   "outputs": [
    {
     "data": {
      "text/plain": [
       "{1, 2, 3, 4}"
      ]
     },
     "execution_count": 157,
     "metadata": {},
     "output_type": "execute_result"
    }
   ],
   "source": [
    "set(range(1,5))"
   ]
  },
  {
   "cell_type": "code",
   "execution_count": 192,
   "metadata": {},
   "outputs": [],
   "source": [
    "class Solution:\n",
    "    def findMaxConsecutiveOnes(self, nums) -> int:\n",
    "\n",
    "        m = 0\n",
    "        t = 0\n",
    "        \n",
    "        onechunk = []\n",
    "        #aux = nums + [0]\n",
    "        \n",
    "        for ind, i in enumerate(nums):\n",
    "            if i:\n",
    "                t += 1\n",
    "            else:\n",
    "                m = max(m, t)\n",
    "                onechunk.append([ind-t,ind-1])\n",
    "                t = 0    \n",
    "        if i == 1:\n",
    "            onechunk.append([ind-t+1,ind])\n",
    "        \n",
    "        if onechunk == []:\n",
    "            return 1\n",
    "        if len(onechunk) == 1:\n",
    "            if onechunk[0][1] < len(nums) - 1 or onechunk[0][0] > 0:\n",
    "                return onechunk[0][1] - onechunk[0][0] + 2\n",
    "            else:\n",
    "                return onechunk[0][1] - onechunk[0][0] + 1\n",
    "        \n",
    "        mymax = m\n",
    "        \n",
    "        for i in range(len(onechunk) - 1):\n",
    "            if onechunk[i][1] + 2 == onechunk[i+1][0]:\n",
    "                mymax = max(mymax, onechunk[i][1] - onechunk[i][0] + 1 + onechunk[i+1][1] - onechunk[i+1][0] + 1 + 1)\n",
    "                \n",
    "        return mymax"
   ]
  },
  {
   "cell_type": "code",
   "execution_count": 193,
   "metadata": {},
   "outputs": [
    {
     "data": {
      "text/plain": [
       "4"
      ]
     },
     "execution_count": 193,
     "metadata": {},
     "output_type": "execute_result"
    }
   ],
   "source": [
    "nums = [1,0,1,1,0]\n",
    "nums = [1,1,0,1]\n",
    "#nums = [1,0]\n",
    "\n",
    "obj = Solution()\n",
    "obj.findMaxConsecutiveOnes(nums)"
   ]
  },
  {
   "cell_type": "code",
   "execution_count": 172,
   "metadata": {},
   "outputs": [
    {
     "data": {
      "text/plain": [
       "[[0, 0]]"
      ]
     },
     "execution_count": 172,
     "metadata": {},
     "output_type": "execute_result"
    }
   ],
   "source": [
    "onechunk = [[0, 0], [2, 1]]\n",
    "onechunk.pop(-1)\n",
    "onechunk"
   ]
  },
  {
   "cell_type": "code",
   "execution_count": 175,
   "metadata": {},
   "outputs": [],
   "source": [
    "class Solution:\n",
    "    def findMaxConsecutiveOnes(self, nums) -> int:\n",
    "        m = 0\n",
    "        t = 0\n",
    "        for i in nums:\n",
    "            if i:\n",
    "                t += 1\n",
    "            else:\n",
    "                m = max(m, t)\n",
    "                t = 0\n",
    "        return max(m, t)"
   ]
  },
  {
   "cell_type": "code",
   "execution_count": 177,
   "metadata": {},
   "outputs": [
    {
     "data": {
      "text/plain": [
       "4"
      ]
     },
     "execution_count": 177,
     "metadata": {},
     "output_type": "execute_result"
    }
   ],
   "source": [
    "nums = [1,0,1,1,0]\n",
    "nums = [1,1,1,1]\n",
    "\n",
    "obj = Solution()\n",
    "obj.findMaxConsecutiveOnes(nums)"
   ]
  },
  {
   "cell_type": "code",
   "execution_count": null,
   "metadata": {},
   "outputs": [],
   "source": []
  }
 ],
 "metadata": {
  "kernelspec": {
   "display_name": "Python 3",
   "language": "python",
   "name": "python3"
  },
  "language_info": {
   "codemirror_mode": {
    "name": "ipython",
    "version": 3
   },
   "file_extension": ".py",
   "mimetype": "text/x-python",
   "name": "python",
   "nbconvert_exporter": "python",
   "pygments_lexer": "ipython3",
   "version": "3.7.3"
  }
 },
 "nbformat": 4,
 "nbformat_minor": 2
}
