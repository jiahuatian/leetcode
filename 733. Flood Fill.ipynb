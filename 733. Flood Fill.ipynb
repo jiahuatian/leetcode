{
 "cells": [
  {
   "cell_type": "code",
   "execution_count": 45,
   "metadata": {},
   "outputs": [],
   "source": [
    "class Solution:\n",
    "    def floodFill(self, image, sr: int, sc: int, newColor: int):\n",
    "        from collections import defaultdict\n",
    "        layers = defaultdict(list)\n",
    "        \n",
    "        layers[0] = [[sr,sc]]\n",
    "        seen = set()\n",
    "        temp = image[sr][sc]\n",
    "        image[sr][sc] = newColor\n",
    "        \n",
    "        i = 0\n",
    "        while not set([tuple(coord) for coord in layers[i]]).issubset(seen):\n",
    "            seen = seen.union(set([tuple(coord) for coord in layers[i]]))\n",
    "            for coord in layers[i]:\n",
    "                if coord[0]-1 >= 0 and image[coord[0]-1][coord[1]] == temp:\n",
    "                    layers[i+1].append([coord[0]-1,coord[1]])\n",
    "                    image[coord[0]-1][coord[1]] = newColor\n",
    "                    print(layers[i+1])\n",
    "                if coord[0]+1 < len(image) and image[coord[0]+1][coord[1]] == temp:\n",
    "                    layers[i+1].append([coord[0]+1,coord[1]])\n",
    "                    image[coord[0]+1][coord[1]] = newColor\n",
    "                if coord[1]-1 >= 0 and image[coord[0]][coord[1]-1] == temp:\n",
    "                    layers[i+1].append([coord[0],coord[1]-1])\n",
    "                    image[coord[0]][coord[1]-1] = newColor\n",
    "                if coord[1]+1 < len(image[0]) and image[coord[0]][coord[1]+1] == temp:\n",
    "                    layers[i+1].append([coord[0],coord[1]+1])\n",
    "                    image[coord[0]][coord[1]+1] = newColor\n",
    "            i += 1\n",
    "                    \n",
    "        return image  "
   ]
  },
  {
   "cell_type": "code",
   "execution_count": 46,
   "metadata": {},
   "outputs": [
    {
     "data": {
      "text/plain": [
       "[[2, 2, 2], [2, 2, 2]]"
      ]
     },
     "execution_count": 46,
     "metadata": {},
     "output_type": "execute_result"
    }
   ],
   "source": [
    "image = [[1,1,1],[1,1,0],[1,0,1]]\n",
    "sr = 1\n",
    "sc = 1\n",
    "newColor = 2\n",
    "\n",
    "image = [[0,0,0],[0,0,0]]\n",
    "sr = 0\n",
    "sc = 0\n",
    "newColor = 2\n",
    "\n",
    "\n",
    "obj = Solution()\n",
    "obj.floodFill(image,sr,sc,newColor)"
   ]
  },
  {
   "cell_type": "code",
   "execution_count": 19,
   "metadata": {},
   "outputs": [
    {
     "data": {
      "text/plain": [
       "{(1, 1)}"
      ]
     },
     "execution_count": 19,
     "metadata": {},
     "output_type": "execute_result"
    }
   ],
   "source": [
    "from collections import defaultdict\n",
    "layers = defaultdict(list)\n",
    "        \n",
    "layers[0] = [[sr,sc]]\n",
    "seen = set()\n",
    "\n",
    "seen = seen.union(set([tuple(coord) for coord in layers[0]]))\n",
    "seen"
   ]
  },
  {
   "cell_type": "code",
   "execution_count": 12,
   "metadata": {},
   "outputs": [
    {
     "data": {
      "text/plain": [
       "{(1, 1)}"
      ]
     },
     "execution_count": 12,
     "metadata": {},
     "output_type": "execute_result"
    }
   ],
   "source": [
    "s1 = set([tuple(coord) for coord in layers[0]])\n",
    "s1"
   ]
  },
  {
   "cell_type": "code",
   "execution_count": 11,
   "metadata": {},
   "outputs": [],
   "source": [
    "class Solution:\n",
    "    def floodFill(self, image, sr: int, sc: int, newColor: int):\n",
    "        stack = [[sr,sc]]\n",
    "        seen = set()\n",
    "        seen.add((sr,sc))\n",
    "        temp = image[sr][sc]\n",
    "        image[sr][sc] = newColor\n",
    "        \n",
    "        while stack:\n",
    "            r,c = stack.pop()\n",
    "            for (nr,nc) in ((r-1,c),(r+1,c),(r,c-1),(r,c+1)):\n",
    "                if (nr,nc) not in seen and 0 <= nr < len(image) and 0 <= nc < len(image[0]) and image[nr][nc] == temp:\n",
    "                    image[nr][nc] = newColor\n",
    "                    seen.add((nr,nc))\n",
    "                    stack.append([nr,nc])\n",
    "                    \n",
    "        return image"
   ]
  },
  {
   "cell_type": "code",
   "execution_count": 13,
   "metadata": {},
   "outputs": [
    {
     "data": {
      "text/plain": [
       "[[0, 0, 0], [0, 1, 1]]"
      ]
     },
     "execution_count": 13,
     "metadata": {},
     "output_type": "execute_result"
    }
   ],
   "source": [
    "image = [[0,0,0],[0,1,1]]\n",
    "sr = 1\n",
    "sc = 1\n",
    "newColor = 1\n",
    "\n",
    "#image = [[1,1,1],[1,1,0],[1,0,1]]\n",
    "#sr = 1\n",
    "#sc = 1\n",
    "#newColor = 2\n",
    "\n",
    "obj = Solution()\n",
    "obj.floodFill(image,sr,sc,newColor)"
   ]
  },
  {
   "cell_type": "code",
   "execution_count": null,
   "metadata": {},
   "outputs": [],
   "source": []
  }
 ],
 "metadata": {
  "kernelspec": {
   "display_name": "Python 3",
   "language": "python",
   "name": "python3"
  },
  "language_info": {
   "codemirror_mode": {
    "name": "ipython",
    "version": 3
   },
   "file_extension": ".py",
   "mimetype": "text/x-python",
   "name": "python",
   "nbconvert_exporter": "python",
   "pygments_lexer": "ipython3",
   "version": "3.7.3"
  }
 },
 "nbformat": 4,
 "nbformat_minor": 2
}
