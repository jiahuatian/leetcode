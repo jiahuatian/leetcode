{
 "cells": [
  {
   "cell_type": "code",
   "execution_count": 57,
   "metadata": {},
   "outputs": [],
   "source": [
    "class Solution:\n",
    "    def nextPermutation(self, nums) -> None:\n",
    "        \"\"\"\n",
    "        Do not return anything, modify nums in-place instead.\n",
    "        \"\"\"\n",
    "        if nums == sorted(nums,reverse=True):\n",
    "            nums.sort()\n",
    "        else:\n",
    "            for i in range(len(nums)-1,0,-1):\n",
    "                if nums[i-1] < nums[i]:\n",
    "                    posd = [float('inf'),[]]\n",
    "                    j = 0\n",
    "                    for n in nums[i:]:\n",
    "                        if n > nums[i-1] and n-nums[i-1] < posd[0]:\n",
    "                            posd[0] = n-nums[i-1]\n",
    "                            posd[1] = [j]\n",
    "                        elif n > nums[i-1] and n-nums[i-1] == posd[0]:\n",
    "                            posd[1].append(j)\n",
    "                        j += 1\n",
    "                    temp = nums[i-1]\n",
    "                    nums[i-1] = nums[i+posd[1][-1]]\n",
    "                    nums[i+posd[1][-1]] = temp\n",
    "                    nums = nums[:i]+nums[:i-1:-1]\n",
    "                    break\n",
    "        return nums"
   ]
  },
  {
   "cell_type": "code",
   "execution_count": 58,
   "metadata": {},
   "outputs": [
    {
     "data": {
      "text/plain": [
       "[2, 3, 3, 1, 3]"
      ]
     },
     "execution_count": 58,
     "metadata": {},
     "output_type": "execute_result"
    }
   ],
   "source": [
    "nums = [2,3,1,3,3]\n",
    "\n",
    "obj = Solution()\n",
    "obj.nextPermutation(nums)"
   ]
  },
  {
   "cell_type": "code",
   "execution_count": null,
   "metadata": {},
   "outputs": [],
   "source": []
  }
 ],
 "metadata": {
  "kernelspec": {
   "display_name": "Python 3",
   "language": "python",
   "name": "python3"
  },
  "language_info": {
   "codemirror_mode": {
    "name": "ipython",
    "version": 3
   },
   "file_extension": ".py",
   "mimetype": "text/x-python",
   "name": "python",
   "nbconvert_exporter": "python",
   "pygments_lexer": "ipython3",
   "version": "3.7.9"
  }
 },
 "nbformat": 4,
 "nbformat_minor": 4
}
