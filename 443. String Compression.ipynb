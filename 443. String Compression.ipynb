{
 "cells": [
  {
   "cell_type": "code",
   "execution_count": 19,
   "metadata": {},
   "outputs": [],
   "source": [
    "class Solution:\n",
    "    def compress(self, chars) -> int:\n",
    "        d = []\n",
    "        i = 0\n",
    "        n = 0\n",
    "        if len(chars) == 0 or len(chars) == 1:\n",
    "            return len(chars)\n",
    "        while i < len(chars):\n",
    "            if i == 0:\n",
    "                n += 1\n",
    "            else:\n",
    "                if chars[i] != chars[i-1]:\n",
    "                    d.append([chars[i-1],n])\n",
    "                    n = 1\n",
    "                else:\n",
    "                    n += 1\n",
    "            i += 1\n",
    "        if chars[-1] != chars[-2]:\n",
    "            d.append([chars[-1],1])\n",
    "        else:\n",
    "            d.append([chars[-1],n])\n",
    "        chars[:] = ''.join([str(item) for a in d for item in a if item != 1])\n",
    "        return len(chars)"
   ]
  },
  {
   "cell_type": "code",
   "execution_count": 20,
   "metadata": {},
   "outputs": [
    {
     "data": {
      "text/plain": [
       "6"
      ]
     },
     "execution_count": 20,
     "metadata": {},
     "output_type": "execute_result"
    }
   ],
   "source": [
    "chars = [\"a\",\"a\",\"b\",\"b\",\"c\",\"c\",\"c\"]\n",
    "chars = [\"a\",\"a\",\"a\",\"b\",\"b\",\"a\",\"a\"]\n",
    "\n",
    "obj = Solution()\n",
    "obj.compress(chars)"
   ]
  },
  {
   "cell_type": "code",
   "execution_count": 21,
   "metadata": {},
   "outputs": [
    {
     "data": {
      "text/plain": [
       "'rrrrr'"
      ]
     },
     "execution_count": 21,
     "metadata": {},
     "output_type": "execute_result"
    }
   ],
   "source": [
    "'r'*5"
   ]
  },
  {
   "cell_type": "code",
   "execution_count": 25,
   "metadata": {},
   "outputs": [
    {
     "data": {
      "text/plain": [
       "[-2, 2, 4, -4]"
      ]
     },
     "execution_count": 25,
     "metadata": {},
     "output_type": "execute_result"
    }
   ],
   "source": [
    "arr = [4,-2,2,-4]\n",
    "arr.sort(key=lambda a:abs(a))\n",
    "arr"
   ]
  },
  {
   "cell_type": "code",
   "execution_count": null,
   "metadata": {},
   "outputs": [],
   "source": []
  }
 ],
 "metadata": {
  "kernelspec": {
   "display_name": "Python 3",
   "language": "python",
   "name": "python3"
  },
  "language_info": {
   "codemirror_mode": {
    "name": "ipython",
    "version": 3
   },
   "file_extension": ".py",
   "mimetype": "text/x-python",
   "name": "python",
   "nbconvert_exporter": "python",
   "pygments_lexer": "ipython3",
   "version": "3.7.9"
  }
 },
 "nbformat": 4,
 "nbformat_minor": 4
}
