{
 "cells": [
  {
   "cell_type": "code",
   "execution_count": 3,
   "metadata": {},
   "outputs": [],
   "source": [
    "class Solution:\n",
    "    def validPath(self, n: int, edges, start: int, end: int) -> bool:\n",
    "        from collections import defaultdict\n",
    "        verts = defaultdict(set)\n",
    "        \n",
    "        for edge in edges:\n",
    "            verts[edge[0]].add(edge[1])\n",
    "            verts[edge[1]].add(edge[0])\n",
    "        \n",
    "        return verts"
   ]
  },
  {
   "cell_type": "code",
   "execution_count": 5,
   "metadata": {},
   "outputs": [
    {
     "data": {
      "text/plain": [
       "defaultdict(set, {0: {1, 2}, 1: {0}, 2: {0}, 3: {4, 5}, 5: {3, 4}, 4: {3, 5}})"
      ]
     },
     "execution_count": 5,
     "metadata": {},
     "output_type": "execute_result"
    }
   ],
   "source": [
    "edges = [[0,1],[0,2],[3,5],[5,4],[4,3]]\n",
    "\n",
    "obj = Solution()\n",
    "obj.validPath(0, edges, 0, 0)"
   ]
  },
  {
   "cell_type": "code",
   "execution_count": 6,
   "metadata": {},
   "outputs": [
    {
     "data": {
      "text/plain": [
       "5"
      ]
     },
     "execution_count": 6,
     "metadata": {},
     "output_type": "execute_result"
    }
   ],
   "source": [
    "myset = set([1,2,3,4,5])\n",
    "len(myset)"
   ]
  },
  {
   "cell_type": "code",
   "execution_count": 8,
   "metadata": {},
   "outputs": [
    {
     "name": "stdout",
     "output_type": "stream",
     "text": [
      "1\n",
      "3\n",
      "9\n",
      "9\n",
      "5\n",
      "6\n",
      "10\n"
     ]
    }
   ],
   "source": [
    "mylist = [1,3,9,9,5,6,10]\n",
    "for vert in mylist:\n",
    "    print(vert)"
   ]
  },
  {
   "cell_type": "code",
   "execution_count": 10,
   "metadata": {},
   "outputs": [
    {
     "data": {
      "text/plain": [
       "{0, 1}"
      ]
     },
     "execution_count": 10,
     "metadata": {},
     "output_type": "execute_result"
    }
   ],
   "source": [
    "myset = set([0])\n",
    "myset.add(1)\n",
    "myset"
   ]
  },
  {
   "cell_type": "code",
   "execution_count": 35,
   "metadata": {},
   "outputs": [],
   "source": [
    "class Solution:\n",
    "    def validPath(self, n: int, edges, start: int, end: int) -> bool:\n",
    "        from collections import defaultdict\n",
    "        verts = defaultdict(set)\n",
    "        \n",
    "        for edge in edges:\n",
    "            verts[edge[0]].add(edge[1])\n",
    "            verts[edge[1]].add(edge[0])\n",
    "            \n",
    "        if len(verts[start]) == n-1:\n",
    "            return True\n",
    "        \n",
    "        visited = set()\n",
    "        layer = defaultdict(set)\n",
    "        layer[0] = set([start])\n",
    "        visited.add(start)\n",
    "        \n",
    "        i = 0\n",
    "        while len(visited) != n:\n",
    "            newset = set()\n",
    "            for vert in layer[i]:\n",
    "                layer[i+1].update(verts[vert])\n",
    "                newset.update(verts[vert])\n",
    "            i += 1\n",
    "            if end in layer[i]:\n",
    "                return True\n",
    "            if newset.issubset(visited):\n",
    "                break\n",
    "            else:\n",
    "                visited.update(newset)\n",
    "            \n",
    "        return False"
   ]
  },
  {
   "cell_type": "code",
   "execution_count": 34,
   "metadata": {},
   "outputs": [
    {
     "name": "stdout",
     "output_type": "stream",
     "text": [
      "{1, 2}\n",
      "{0}\n",
      "{0}\n"
     ]
    },
    {
     "data": {
      "text/plain": [
       "False"
      ]
     },
     "execution_count": 34,
     "metadata": {},
     "output_type": "execute_result"
    }
   ],
   "source": [
    "edges = [[0,1],[0,2],[3,5],[5,4],[4,3]]\n",
    "\n",
    "obj = Solution()\n",
    "obj.validPath(6, edges, 0, 5)"
   ]
  },
  {
   "cell_type": "code",
   "execution_count": 32,
   "metadata": {},
   "outputs": [
    {
     "data": {
      "text/plain": [
       "{1, 2, 3, 4}"
      ]
     },
     "execution_count": 32,
     "metadata": {},
     "output_type": "execute_result"
    }
   ],
   "source": [
    "myset = set([1,2])\n",
    "myset.update(set([3,4]))\n",
    "myset"
   ]
  },
  {
   "cell_type": "code",
   "execution_count": null,
   "metadata": {},
   "outputs": [],
   "source": []
  }
 ],
 "metadata": {
  "kernelspec": {
   "display_name": "Python 3",
   "language": "python",
   "name": "python3"
  },
  "language_info": {
   "codemirror_mode": {
    "name": "ipython",
    "version": 3
   },
   "file_extension": ".py",
   "mimetype": "text/x-python",
   "name": "python",
   "nbconvert_exporter": "python",
   "pygments_lexer": "ipython3",
   "version": "3.7.3"
  }
 },
 "nbformat": 4,
 "nbformat_minor": 2
}
