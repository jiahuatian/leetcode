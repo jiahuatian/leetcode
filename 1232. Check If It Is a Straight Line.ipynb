{
 "cells": [
  {
   "cell_type": "code",
   "execution_count": 14,
   "metadata": {},
   "outputs": [],
   "source": [
    "class Solution:\n",
    "    def checkStraightLine(self, coordinates) -> bool:\n",
    "        try:\n",
    "            seen = set([(coordinates[1][0]-coordinates[0][0])/(coordinates[1][1]-coordinates[0][1])])\n",
    "        except ZeroDivisionError:\n",
    "            seen = set([float('inf')])\n",
    "        \n",
    "        for i in range(1,len(coordinates)):\n",
    "            print(i)\n",
    "            try:\n",
    "                if (coordinates[i][0]-coordinates[i-1][0])/(coordinates[i][1]-coordinates[i-1][1]) not in seen:\n",
    "                    return False\n",
    "            except ZeroDivisionError:\n",
    "                if float('inf') not in seen:\n",
    "                    return False\n",
    "            \n",
    "        return True"
   ]
  },
  {
   "cell_type": "code",
   "execution_count": 15,
   "metadata": {},
   "outputs": [
    {
     "name": "stdout",
     "output_type": "stream",
     "text": [
      "1\n",
      "2\n",
      "3\n",
      "4\n"
     ]
    },
    {
     "data": {
      "text/plain": [
       "True"
      ]
     },
     "execution_count": 15,
     "metadata": {},
     "output_type": "execute_result"
    }
   ],
   "source": [
    "coordinates = [[0,0],[0,5],[5,5],[5,0]]\n",
    "coordinates = [[-3,-2],[-1,-2],[2,-2],[-2,-2],[0,-2]]\n",
    "\n",
    "obj = Solution()\n",
    "obj.checkStraightLine(coordinates)"
   ]
  },
  {
   "cell_type": "code",
   "execution_count": null,
   "metadata": {},
   "outputs": [],
   "source": []
  }
 ],
 "metadata": {
  "kernelspec": {
   "display_name": "Python 3",
   "language": "python",
   "name": "python3"
  },
  "language_info": {
   "codemirror_mode": {
    "name": "ipython",
    "version": 3
   },
   "file_extension": ".py",
   "mimetype": "text/x-python",
   "name": "python",
   "nbconvert_exporter": "python",
   "pygments_lexer": "ipython3",
   "version": "3.7.3"
  }
 },
 "nbformat": 4,
 "nbformat_minor": 2
}
