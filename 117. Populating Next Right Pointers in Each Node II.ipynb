{
 "cells": [
  {
   "cell_type": "code",
   "execution_count": 52,
   "metadata": {},
   "outputs": [],
   "source": [
    "class Node:\n",
    "    def __init__(self, val: int = 0, left: 'Node' = None, right: 'Node' = None, next: 'Node' = None):\n",
    "        self.val = val\n",
    "        self.left = left\n",
    "        self.right = right\n",
    "        self.next = next\n",
    "\n",
    "class Solution:\n",
    "    def connect(self, root: 'Node') -> 'Node':\n",
    "        if not root:\n",
    "            return None\n",
    "        stack = [root,]\n",
    "        while stack:\n",
    "            n = len(stack)\n",
    "            print([node.val for node in stack])\n",
    "            ns = []\n",
    "            for i in range(n):\n",
    "                node = stack.pop(0)    \n",
    "                if node.left is not None:\n",
    "                    ns.append(node.left)\n",
    "                if node.right is not None:\n",
    "                    ns.append(node.right)\n",
    "                if stack != []:\n",
    "                    print(node.val,stack[0].val)\n",
    "                    node.next = stack[0]\n",
    "                else:\n",
    "                    node.next = None\n",
    "            stack = ns\n",
    "        return root"
   ]
  },
  {
   "cell_type": "code",
   "execution_count": 53,
   "metadata": {},
   "outputs": [],
   "source": [
    "root = Node(1)\n",
    "root.left = Node(2)\n",
    "root.right = Node(3)\n",
    "root.left.left = Node(4)\n",
    "root.left.right = Node(5)\n",
    "root.right.right = Node(7)"
   ]
  },
  {
   "cell_type": "code",
   "execution_count": 54,
   "metadata": {},
   "outputs": [
    {
     "name": "stdout",
     "output_type": "stream",
     "text": [
      "[1]\n",
      "[2, 3]\n",
      "2 3\n",
      "[4, 5, 7]\n",
      "4 5\n",
      "5 7\n"
     ]
    },
    {
     "data": {
      "text/plain": [
       "<__main__.Node at 0x10a0b24a8>"
      ]
     },
     "execution_count": 54,
     "metadata": {},
     "output_type": "execute_result"
    }
   ],
   "source": [
    "obj = Solution()\n",
    "obj.connect(root)"
   ]
  },
  {
   "cell_type": "code",
   "execution_count": null,
   "metadata": {},
   "outputs": [],
   "source": []
  }
 ],
 "metadata": {
  "kernelspec": {
   "display_name": "Python 3",
   "language": "python",
   "name": "python3"
  },
  "language_info": {
   "codemirror_mode": {
    "name": "ipython",
    "version": 3
   },
   "file_extension": ".py",
   "mimetype": "text/x-python",
   "name": "python",
   "nbconvert_exporter": "python",
   "pygments_lexer": "ipython3",
   "version": "3.7.3"
  }
 },
 "nbformat": 4,
 "nbformat_minor": 2
}
