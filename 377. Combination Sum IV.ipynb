{
 "cells": [
  {
   "cell_type": "code",
   "execution_count": 15,
   "metadata": {},
   "outputs": [],
   "source": [
    "class Solution:\n",
    "    def combinationSum4(self, nums, target: int) -> int:\n",
    "        dp = [0]*(target+1)\n",
    "        dp[0] = 1\n",
    "        for i in range(1,target+1):\n",
    "            for j in range(i):\n",
    "                for n in nums:\n",
    "                    if (i-j)%n == 0 and n <= i:\n",
    "                        print(i,j,dp[j])\n",
    "                        dp[i] += dp[j]\n",
    "            print(dp[i])\n",
    "        print(dp)\n",
    "        return dp[target]"
   ]
  },
  {
   "cell_type": "code",
   "execution_count": 16,
   "metadata": {},
   "outputs": [
    {
     "name": "stdout",
     "output_type": "stream",
     "text": [
      "1 0 1\n",
      "1\n",
      "2 0 1\n",
      "2 0 1\n",
      "2 1 1\n",
      "3\n",
      "3 0 1\n",
      "3 0 1\n",
      "3 1 1\n",
      "3 1 1\n",
      "3 2 3\n",
      "7\n",
      "4 0 1\n",
      "4 0 1\n",
      "4 1 1\n",
      "4 1 1\n",
      "4 2 3\n",
      "4 2 3\n",
      "4 3 7\n",
      "17\n",
      "[1, 1, 3, 7, 17]\n"
     ]
    },
    {
     "data": {
      "text/plain": [
       "17"
      ]
     },
     "execution_count": 16,
     "metadata": {},
     "output_type": "execute_result"
    }
   ],
   "source": [
    "nums = [1,2,3]\n",
    "target = 4\n",
    "\n",
    "obj = Solution()\n",
    "obj.combinationSum4(nums,target)"
   ]
  },
  {
   "cell_type": "code",
   "execution_count": 80,
   "metadata": {},
   "outputs": [],
   "source": [
    "class Solution:\n",
    "    def combinationSum4(self, nums, target: int) -> int:\n",
    "        dp = [0]*(target+1)\n",
    "        dp[0] = 1\n",
    "        for i in range(1,target+1):\n",
    "            for j in range(i):\n",
    "                if i-j in set(nums):\n",
    "                    dp[i] += dp[j]\n",
    "        return dp[target]"
   ]
  },
  {
   "cell_type": "code",
   "execution_count": 81,
   "metadata": {},
   "outputs": [
    {
     "data": {
      "text/plain": [
       "7"
      ]
     },
     "execution_count": 81,
     "metadata": {},
     "output_type": "execute_result"
    }
   ],
   "source": [
    "nums = [1,2,3]\n",
    "target = 4\n",
    "\n",
    "obj = Solution()\n",
    "obj.combinationSum4(nums,target)"
   ]
  },
  {
   "cell_type": "code",
   "execution_count": null,
   "metadata": {},
   "outputs": [],
   "source": []
  }
 ],
 "metadata": {
  "kernelspec": {
   "display_name": "Python 3",
   "language": "python",
   "name": "python3"
  },
  "language_info": {
   "codemirror_mode": {
    "name": "ipython",
    "version": 3
   },
   "file_extension": ".py",
   "mimetype": "text/x-python",
   "name": "python",
   "nbconvert_exporter": "python",
   "pygments_lexer": "ipython3",
   "version": "3.7.3"
  }
 },
 "nbformat": 4,
 "nbformat_minor": 2
}
