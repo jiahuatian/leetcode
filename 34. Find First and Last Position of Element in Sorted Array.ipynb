{
 "cells": [
  {
   "cell_type": "code",
   "execution_count": 12,
   "metadata": {},
   "outputs": [],
   "source": [
    "class Solution:\n",
    "    def searchRange(self, nums, target: int):\n",
    "        \n",
    "        if len(nums) == 0:\n",
    "            return [-1,-1]\n",
    "        \n",
    "        if target not in set(nums):\n",
    "            return [-1,-1]\n",
    "        \n",
    "        left = 0\n",
    "        right = len(nums) - 1\n",
    "        while left <= right:\n",
    "            mid = (left+right)//2\n",
    "            if target >= nums[mid]:\n",
    "                left = mid + 1\n",
    "            else:\n",
    "                right = mid - 1\n",
    "                \n",
    "        r = right\n",
    "        \n",
    "        left = 0\n",
    "        right = len(nums) - 1\n",
    "        while left <= right:\n",
    "            mid = (left+right)//2\n",
    "            if target > nums[mid]:\n",
    "                left = mid + 1\n",
    "            else:\n",
    "                right = mid - 1\n",
    "        \n",
    "        l = right + 1\n",
    "        \n",
    "        return [l, r]"
   ]
  },
  {
   "cell_type": "code",
   "execution_count": 13,
   "metadata": {},
   "outputs": [
    {
     "data": {
      "text/plain": [
       "[3, 4]"
      ]
     },
     "execution_count": 13,
     "metadata": {},
     "output_type": "execute_result"
    }
   ],
   "source": [
    "nums = [5,7,7,8,8,10]\n",
    "target = 8\n",
    "\n",
    "obj = Solution()\n",
    "obj.searchRange(nums, target)"
   ]
  },
  {
   "cell_type": "code",
   "execution_count": 16,
   "metadata": {},
   "outputs": [],
   "source": [
    "class Solution:\n",
    "    def searchRange(self, nums, target: int):\n",
    "        left = 0\n",
    "        right = len(nums)-1\n",
    "        while left <= right:\n",
    "            mid = (left+right)//2\n",
    "            if target >= nums[mid]:\n",
    "                left = mid + 1\n",
    "            else:\n",
    "                right = mid - 1\n",
    "        end = right\n",
    "        \n",
    "        left = 0\n",
    "        right = len(nums)-1\n",
    "        while left <= right:\n",
    "            mid = (left+right)//2\n",
    "            if target > nums[mid]:\n",
    "                left = mid + 1\n",
    "            else:\n",
    "                right = mid - 1\n",
    "        start = right+1\n",
    "        \n",
    "        return start,end"
   ]
  },
  {
   "cell_type": "code",
   "execution_count": 20,
   "metadata": {},
   "outputs": [
    {
     "data": {
      "text/plain": [
       "(3, 3)"
      ]
     },
     "execution_count": 20,
     "metadata": {},
     "output_type": "execute_result"
    }
   ],
   "source": [
    "nums = [5,7,7,8,8,10]\n",
    "target = 8\n",
    "\n",
    "nums = [5,7,7,8,8,10]\n",
    "target = 6\n",
    "\n",
    "nums = [5,7,7,8,9,10]\n",
    "target = 8\n",
    "\n",
    "obj = Solution()\n",
    "obj.searchRange(nums, target)"
   ]
  },
  {
   "cell_type": "code",
   "execution_count": null,
   "metadata": {},
   "outputs": [],
   "source": []
  }
 ],
 "metadata": {
  "kernelspec": {
   "display_name": "Python 3",
   "language": "python",
   "name": "python3"
  },
  "language_info": {
   "codemirror_mode": {
    "name": "ipython",
    "version": 3
   },
   "file_extension": ".py",
   "mimetype": "text/x-python",
   "name": "python",
   "nbconvert_exporter": "python",
   "pygments_lexer": "ipython3",
   "version": "3.7.3"
  }
 },
 "nbformat": 4,
 "nbformat_minor": 2
}
