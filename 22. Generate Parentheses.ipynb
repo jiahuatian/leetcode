{
 "cells": [
  {
   "cell_type": "code",
   "execution_count": 1,
   "metadata": {},
   "outputs": [],
   "source": [
    "class Solution:\n",
    "    def generateParenthesis(self, n: int):\n",
    "        from collections import defaultdict\n",
    "        dp = defaultdict(list)\n",
    "        dp[1] = [\"()\"]\n",
    "        \n",
    "        for i in range(2,n+1):\n",
    "            seen = set()\n",
    "            for pars in dp[i-1]:\n",
    "                for k in range(len(pars)+1):\n",
    "                    if pars[:k]+'()'+pars[k:] not in seen:\n",
    "                        dp[i].append(pars[:k]+'()'+pars[k:])\n",
    "                        seen.add(pars[:k]+'()'+pars[k:])\n",
    "                        \n",
    "        return dp[n]"
   ]
  },
  {
   "cell_type": "code",
   "execution_count": 4,
   "metadata": {},
   "outputs": [
    {
     "data": {
      "text/plain": [
       "['()()()()',\n",
       " '(())()()',\n",
       " '()(())()',\n",
       " '()()(())',\n",
       " '(()())()',\n",
       " '((()))()',\n",
       " '(())(())',\n",
       " '()(()())',\n",
       " '()((()))',\n",
       " '(()()())',\n",
       " '((())())',\n",
       " '(()(()))',\n",
       " '((()()))',\n",
       " '(((())))']"
      ]
     },
     "execution_count": 4,
     "metadata": {},
     "output_type": "execute_result"
    }
   ],
   "source": [
    "n = 4\n",
    "\n",
    "obj = Solution()\n",
    "obj.generateParenthesis(n)"
   ]
  },
  {
   "cell_type": "code",
   "execution_count": null,
   "metadata": {},
   "outputs": [],
   "source": []
  }
 ],
 "metadata": {
  "kernelspec": {
   "display_name": "Python 3",
   "language": "python",
   "name": "python3"
  },
  "language_info": {
   "codemirror_mode": {
    "name": "ipython",
    "version": 3
   },
   "file_extension": ".py",
   "mimetype": "text/x-python",
   "name": "python",
   "nbconvert_exporter": "python",
   "pygments_lexer": "ipython3",
   "version": "3.7.3"
  }
 },
 "nbformat": 4,
 "nbformat_minor": 2
}
