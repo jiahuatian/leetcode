{
 "cells": [
  {
   "cell_type": "code",
   "execution_count": 74,
   "metadata": {},
   "outputs": [],
   "source": [
    "class Solution:\n",
    "    def minDifficulty(self, jobDifficulty, d: int) -> int:\n",
    "        n = len(jobDifficulty)\n",
    "        if n < d:\n",
    "            return -1\n",
    "        def dp(i,j):\n",
    "            if j == d:\n",
    "                return max(jobDifficulty[i:])\n",
    "            ans = min([max(jobDifficulty[i:k+1]) + dp(k+1,j+1) for k in range(i,n-d+j)])\n",
    "            return ans\n",
    "        return dp(0,1)"
   ]
  },
  {
   "cell_type": "code",
   "execution_count": 75,
   "metadata": {},
   "outputs": [
    {
     "data": {
      "text/plain": [
       "15"
      ]
     },
     "execution_count": 75,
     "metadata": {},
     "output_type": "execute_result"
    }
   ],
   "source": [
    "jobDifficulty = [6,5,4,3,2,1]\n",
    "d = 2\n",
    "\n",
    "jobDifficulty = [7,1,7,1,7,1]\n",
    "d = 3\n",
    "\n",
    "obj = Solution()\n",
    "obj.minDifficulty(jobDifficulty,d)"
   ]
  },
  {
   "cell_type": "code",
   "execution_count": null,
   "metadata": {},
   "outputs": [],
   "source": []
  }
 ],
 "metadata": {
  "kernelspec": {
   "display_name": "Python 3",
   "language": "python",
   "name": "python3"
  },
  "language_info": {
   "codemirror_mode": {
    "name": "ipython",
    "version": 3
   },
   "file_extension": ".py",
   "mimetype": "text/x-python",
   "name": "python",
   "nbconvert_exporter": "python",
   "pygments_lexer": "ipython3",
   "version": "3.7.3"
  }
 },
 "nbformat": 4,
 "nbformat_minor": 2
}
