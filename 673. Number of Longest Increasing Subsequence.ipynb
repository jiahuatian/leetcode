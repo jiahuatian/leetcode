{
 "cells": [
  {
   "cell_type": "code",
   "execution_count": 3,
   "metadata": {},
   "outputs": [],
   "source": [
    "from functools import lru_cache\n",
    "class Solution:\n",
    "    def findNumberOfLIS(self, nums) -> int:\n",
    "        @lru_cache(None)\n",
    "        def dp(i):\n",
    "            if i == 0:\n",
    "                return 1\n",
    "            return max([dp(k)+1 for k in range(i) if nums[k]<nums[i]]+[1])\n",
    "        ans_list = [dp(j) for j in range(len(nums))]\n",
    "        ans_max = max(ans_list)\n",
    "        print(ans_list)\n",
    "        return ans_list.count(ans_max)"
   ]
  },
  {
   "cell_type": "code",
   "execution_count": 4,
   "metadata": {},
   "outputs": [
    {
     "name": "stdout",
     "output_type": "stream",
     "text": [
      "[1, 2, 3, 3, 4]\n"
     ]
    },
    {
     "data": {
      "text/plain": [
       "1"
      ]
     },
     "execution_count": 4,
     "metadata": {},
     "output_type": "execute_result"
    }
   ],
   "source": [
    "nums = [1,3,5,4,7]\n",
    "\n",
    "obj = Solution()\n",
    "obj.findNumberOfLIS(nums)"
   ]
  },
  {
   "cell_type": "code",
   "execution_count": 76,
   "metadata": {},
   "outputs": [],
   "source": [
    "class Solution:\n",
    "    def findNumberOfLIS(self, nums) -> int:\n",
    "        dp = [[1,1] for _ in range(len(nums))]\n",
    "        for i in range(1,len(nums)):\n",
    "            for j in range(i):\n",
    "                if nums[j] < nums[i]:\n",
    "                    if dp[j][0]+1 > dp[i][0]:\n",
    "                        dp[i][0] = dp[j][0]+1\n",
    "                        dp[i][1] = dp[j][1]\n",
    "                    elif dp[j][0]+1 == dp[i][0]:\n",
    "                        dp[i][1] += dp[j][1]\n",
    "            dp[i] = [dp[i][0],dp[i][1]]\n",
    "        #return dict(dp)[max(dict(dp).keys())]\n",
    "        return sum([elem[1] for elem in dp if elem[0] == max(dict(dp).keys())])"
   ]
  },
  {
   "cell_type": "code",
   "execution_count": 78,
   "metadata": {},
   "outputs": [
    {
     "data": {
      "text/plain": [
       "2"
      ]
     },
     "execution_count": 78,
     "metadata": {},
     "output_type": "execute_result"
    }
   ],
   "source": [
    "nums = [1,2,4,3,5,4,7,2]\n",
    "#nums = [1,3,2,4]\n",
    "nums = [2,2,2,2,2]\n",
    "nums = [2,1]\n",
    "\n",
    "obj = Solution()\n",
    "obj.findNumberOfLIS(nums)"
   ]
  },
  {
   "cell_type": "code",
   "execution_count": 64,
   "metadata": {},
   "outputs": [],
   "source": [
    "class Solution:\n",
    "    def findNumberOfLIS(self, nums) -> int:\n",
    "        dp = [[1,1] for _ in range(len(nums))]\n",
    "        for i in range(len(nums)):\n",
    "            longest = 1\n",
    "            for j in range(i):\n",
    "                if nums[i] > nums[j]:\n",
    "                    if dp[i][0] < dp[j][0]+1:\n",
    "                        dp[i][0] = dp[j][0]+1\n",
    "                        dp[i][1] = dp[j][1]\n",
    "                    elif dp[i][0] == dp[j][0]+1:\n",
    "                        dp[i][1] += dp[j][1]\n",
    "        dp.sort(key=lambda a:a[0],reverse=True)\n",
    "        ans = dp[0][1]\n",
    "        for i in range(1,len(dp)):\n",
    "            if dp[i][0] == dp[0][0]:\n",
    "                ans += dp[i][1]\n",
    "            else:\n",
    "                break\n",
    "        return ans"
   ]
  },
  {
   "cell_type": "code",
   "execution_count": 65,
   "metadata": {},
   "outputs": [
    {
     "data": {
      "text/plain": [
       "10"
      ]
     },
     "execution_count": 65,
     "metadata": {},
     "output_type": "execute_result"
    }
   ],
   "source": [
    "nums = [1,2,4,3,5,4,7,2]\n",
    "nums = [1,3,5,4,7]\n",
    "#nums = [2,1]\n",
    "#nums = [1,1,1,2,2,2,3,3,3]\n",
    "nums = [1,2,3,1,2,3,1,2,3]\n",
    "\n",
    "obj = Solution()\n",
    "obj.findNumberOfLIS(nums)"
   ]
  },
  {
   "cell_type": "code",
   "execution_count": null,
   "metadata": {},
   "outputs": [],
   "source": []
  }
 ],
 "metadata": {
  "kernelspec": {
   "display_name": "Python 3",
   "language": "python",
   "name": "python3"
  },
  "language_info": {
   "codemirror_mode": {
    "name": "ipython",
    "version": 3
   },
   "file_extension": ".py",
   "mimetype": "text/x-python",
   "name": "python",
   "nbconvert_exporter": "python",
   "pygments_lexer": "ipython3",
   "version": "3.7.9"
  }
 },
 "nbformat": 4,
 "nbformat_minor": 2
}
