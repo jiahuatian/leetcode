{
 "cells": [
  {
   "cell_type": "code",
   "execution_count": 2,
   "metadata": {},
   "outputs": [],
   "source": [
    "class Solution:\n",
    "    def findLadders(self, beginWord: str, endWord: str, wordList):\n",
    "        wset = set(wordList)\n",
    "        wdict = collections.defaultdict(list)\n",
    "        for w in wordList:\n",
    "            for i in range(len(w)):\n",
    "                wdict[w[:i]+'*'+w[i+1:]].append(w)\n",
    "        if endWord not in wset:\n",
    "            return []\n",
    "        ans = []\n",
    "        minlen = float('inf')\n",
    "        q = deque([[beginWord,],])\n",
    "        while q:\n",
    "            step = q.popleft()\n",
    "            visited = set(step)\n",
    "            curr = step[-1]\n",
    "            for i in range(len(curr)):\n",
    "                for word in wdict[curr[:i]+'*'+curr[i+1:]]:\n",
    "                    if word == endWord:\n",
    "                        if len(step)+1 == minlen:\n",
    "                            ans.append(step+[word])\n",
    "                        elif len(step)+1 < minlen:\n",
    "                            minlen = len(step)+1\n",
    "                            ans = [step+[word]]\n",
    "                        break\n",
    "                    if word not in visited and len(step) < minlen:\n",
    "                        q.append(step+[word])\n",
    "        if not ans:\n",
    "            return []\n",
    "        return ans"
   ]
  },
  {
   "cell_type": "code",
   "execution_count": null,
   "metadata": {},
   "outputs": [],
   "source": []
  }
 ],
 "metadata": {
  "kernelspec": {
   "display_name": "Python 3",
   "language": "python",
   "name": "python3"
  },
  "language_info": {
   "codemirror_mode": {
    "name": "ipython",
    "version": 3
   },
   "file_extension": ".py",
   "mimetype": "text/x-python",
   "name": "python",
   "nbconvert_exporter": "python",
   "pygments_lexer": "ipython3",
   "version": "3.7.9"
  }
 },
 "nbformat": 4,
 "nbformat_minor": 4
}
