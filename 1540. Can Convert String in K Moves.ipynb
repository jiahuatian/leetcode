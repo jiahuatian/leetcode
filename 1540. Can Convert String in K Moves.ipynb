{
 "cells": [
  {
   "cell_type": "code",
   "execution_count": 62,
   "metadata": {},
   "outputs": [],
   "source": [
    "class Solution:\n",
    "    def canConvertString(self, s: str, t: str, k: int) -> bool:\n",
    "        if len(s) != len(t):\n",
    "            return False\n",
    "        from collections import defaultdict\n",
    "        change = defaultdict(list)\n",
    "        for i in range(len(s)):\n",
    "            if s[i] != t[i]:\n",
    "                change[ord(s[i])-ord(t[i])].append(i)\n",
    "        seen = set()\n",
    "        for i in range(1,k+1):\n",
    "            check = 0\n",
    "            if i in change:\n",
    "                check = 1\n",
    "                j = change[i].pop()\n",
    "                if not change[i]:\n",
    "                    del change[i]\n",
    "            elif -i in change:\n",
    "                check = 1\n",
    "                j = change[-i].pop()\n",
    "                if not change[-i]:\n",
    "                    del change[-i]\n",
    "            elif i%26 in change:\n",
    "                check = 1\n",
    "                j = change[i%26].pop()\n",
    "                if not change[i%26]:\n",
    "                    del change[i%26]\n",
    "            elif -(i%26) in change:\n",
    "                check = 1\n",
    "                j = change[-(i%26)].pop()\n",
    "                if not change[-(i%26)]:\n",
    "                    del change[-(i%26)]\n",
    "            if check == 1:\n",
    "                if j not in seen:\n",
    "                    seen.add(j)\n",
    "                else:\n",
    "                    return False\n",
    "        return len(change) == 0"
   ]
  },
  {
   "cell_type": "code",
   "execution_count": 63,
   "metadata": {},
   "outputs": [
    {
     "data": {
      "text/plain": [
       "True"
      ]
     },
     "execution_count": 63,
     "metadata": {},
     "output_type": "execute_result"
    }
   ],
   "source": [
    "s = \"input\"\n",
    "t = \"ouput\"\n",
    "k = 9\n",
    "\n",
    "s = \"abc\"\n",
    "t = \"bcd\"\n",
    "k = 10\n",
    "\n",
    "s = \"atmtxzjkz\"\n",
    "t = \"tvbtjhvjd\"\n",
    "k = 35\n",
    "\n",
    "obj = Solution()\n",
    "obj.canConvertString(s,t,k)"
   ]
  },
  {
   "cell_type": "code",
   "execution_count": 51,
   "metadata": {},
   "outputs": [
    {
     "name": "stdout",
     "output_type": "stream",
     "text": [
      "defaultdict(<class 'int'>, {-6: 1, -7: 1})\n",
      "defaultdict(<class 'int'>, {})\n"
     ]
    },
    {
     "data": {
      "text/plain": [
       "True"
      ]
     },
     "execution_count": 51,
     "metadata": {},
     "output_type": "execute_result"
    }
   ],
   "source": [
    "s = \"input\"\n",
    "t = \"ouput\"\n",
    "k = 9\n",
    "\n",
    "obj = Solution()\n",
    "obj.canConvertString(s,t,k)"
   ]
  },
  {
   "cell_type": "code",
   "execution_count": 52,
   "metadata": {},
   "outputs": [
    {
     "name": "stdout",
     "output_type": "stream",
     "text": [
      "defaultdict(<class 'int'>, {-1: 2})\n",
      "defaultdict(<class 'int'>, {})\n"
     ]
    },
    {
     "data": {
      "text/plain": [
       "True"
      ]
     },
     "execution_count": 52,
     "metadata": {},
     "output_type": "execute_result"
    }
   ],
   "source": [
    "s = \"aab\"\n",
    "t = \"bbb\"\n",
    "k = 27\n",
    "\n",
    "obj = Solution()\n",
    "obj.canConvertString(s,t,k)"
   ]
  },
  {
   "cell_type": "code",
   "execution_count": null,
   "metadata": {},
   "outputs": [],
   "source": []
  }
 ],
 "metadata": {
  "kernelspec": {
   "display_name": "Python 3",
   "language": "python",
   "name": "python3"
  },
  "language_info": {
   "codemirror_mode": {
    "name": "ipython",
    "version": 3
   },
   "file_extension": ".py",
   "mimetype": "text/x-python",
   "name": "python",
   "nbconvert_exporter": "python",
   "pygments_lexer": "ipython3",
   "version": "3.7.9"
  }
 },
 "nbformat": 4,
 "nbformat_minor": 4
}
