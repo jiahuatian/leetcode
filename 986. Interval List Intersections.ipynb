{
 "cells": [
  {
   "cell_type": "code",
   "execution_count": 2,
   "metadata": {},
   "outputs": [],
   "source": [
    "class Solution:\n",
    "    def intervalIntersection(self, firstList, secondList):\n",
    "        ans = []\n",
    "        i,j = 0,0\n",
    "        while i < len(firstList) and j < len(secondList):\n",
    "            if firstList[i][0] <= secondList[j][0]:\n",
    "                if firstList[i][1] <= secondList[j][1]:\n",
    "                    if firstList[i][1] >= secondList[j][0]:\n",
    "                        ans.append([secondList[j][0],firstList[i][1]])\n",
    "                    i += 1\n",
    "                else:\n",
    "                    ans.append([secondList[j][0],secondList[j][1]])\n",
    "                    j += 1\n",
    "            elif firstList[i][0] > secondList[j][0]:\n",
    "                if firstList[i][1] <= secondList[j][1]:\n",
    "                    ans.append([firstList[i][0],firstList[i][1]])\n",
    "                    i += 1\n",
    "                else:\n",
    "                    if firstList[i][0] > secondList[j][1]:\n",
    "                        j += 1\n",
    "                    elif firstList[i][0] == secondList[j][1]:\n",
    "                        ans.append([firstList[i][0],firstList[i][0]])\n",
    "                        j += 1\n",
    "                    else:\n",
    "                        ans.append([firstList[i][0],secondList[j][1]])\n",
    "                        j += 1\n",
    "        return ans"
   ]
  },
  {
   "cell_type": "code",
   "execution_count": 3,
   "metadata": {},
   "outputs": [
    {
     "data": {
      "text/plain": [
       "[[10, 11], [19, 19]]"
      ]
     },
     "execution_count": 3,
     "metadata": {},
     "output_type": "execute_result"
    }
   ],
   "source": [
    "firstList = [[10,12],[18,19]]\n",
    "secondList = [[1,6],[8,11],[13,17],[19,20]]\n",
    "\n",
    "obj = Solution()\n",
    "obj.intervalIntersection(firstList,secondList)"
   ]
  },
  {
   "cell_type": "code",
   "execution_count": null,
   "metadata": {},
   "outputs": [],
   "source": []
  }
 ],
 "metadata": {
  "kernelspec": {
   "display_name": "Python 3",
   "language": "python",
   "name": "python3"
  },
  "language_info": {
   "codemirror_mode": {
    "name": "ipython",
    "version": 3
   },
   "file_extension": ".py",
   "mimetype": "text/x-python",
   "name": "python",
   "nbconvert_exporter": "python",
   "pygments_lexer": "ipython3",
   "version": "3.7.3"
  }
 },
 "nbformat": 4,
 "nbformat_minor": 2
}
