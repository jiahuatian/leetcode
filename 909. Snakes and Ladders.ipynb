{
 "cells": [
  {
   "cell_type": "code",
   "execution_count": 52,
   "metadata": {},
   "outputs": [],
   "source": [
    "from collections import deque\n",
    "class Solution:\n",
    "    def snakesAndLadders(self, board) -> int:\n",
    "        seen = set([1,])\n",
    "        n = len(board)\n",
    "        q = deque([(1,0),])\n",
    "        while q:\n",
    "            node,step = q.popleft()\n",
    "            if node == n**2:\n",
    "                return step\n",
    "            for i in range(node+1,min(node+6,n**2)+1):\n",
    "                r,l = divmod(i-1,n)\n",
    "                c = -l-1 if r%2==1 else l\n",
    "                r = n-1-r\n",
    "                if i not in seen and board[r][c] == -1:\n",
    "                    q.append((i,step+1))\n",
    "                    seen.add(i)\n",
    "                elif board[r][c] not in seen and board[r][c] != -1:\n",
    "                    q.append((board[r][c],step+1))\n",
    "                    seen.add(board[r][c])\n",
    "        return -1"
   ]
  },
  {
   "cell_type": "code",
   "execution_count": 53,
   "metadata": {},
   "outputs": [
    {
     "data": {
      "text/plain": [
       "2"
      ]
     },
     "execution_count": 53,
     "metadata": {},
     "output_type": "execute_result"
    }
   ],
   "source": [
    "board = [[-1,-1,19,10,-1],[2,-1,-1,6,-1],[-1,17,-1,19,-1],[25,-1,20,-1,-1],[-1,-1,-1,-1,15]]\n",
    "\n",
    "obj = Solution()\n",
    "obj.snakesAndLadders(board)"
   ]
  },
  {
   "cell_type": "code",
   "execution_count": null,
   "metadata": {},
   "outputs": [],
   "source": []
  }
 ],
 "metadata": {
  "kernelspec": {
   "display_name": "Python 3",
   "language": "python",
   "name": "python3"
  },
  "language_info": {
   "codemirror_mode": {
    "name": "ipython",
    "version": 3
   },
   "file_extension": ".py",
   "mimetype": "text/x-python",
   "name": "python",
   "nbconvert_exporter": "python",
   "pygments_lexer": "ipython3",
   "version": "3.7.9"
  }
 },
 "nbformat": 4,
 "nbformat_minor": 4
}
