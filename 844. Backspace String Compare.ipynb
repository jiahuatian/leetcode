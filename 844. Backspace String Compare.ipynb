{
 "cells": [
  {
   "cell_type": "code",
   "execution_count": 18,
   "metadata": {},
   "outputs": [],
   "source": [
    "class Solution:\n",
    "    def backspaceCompare(self, s: str, t: str) -> bool:\n",
    "        sr = []\n",
    "        s = list(s)\n",
    "        while s:\n",
    "            c = s.pop(0)\n",
    "            if sr == []:\n",
    "                if c == '#':\n",
    "                    sr = []\n",
    "                else:\n",
    "                    sr.append(c)\n",
    "            else:\n",
    "                if c == '#' and sr != []:\n",
    "                    sr.pop()\n",
    "                elif c == '#' and sr == []:\n",
    "                    sr = []\n",
    "                else:\n",
    "                    sr.append(c)\n",
    "        tr = []\n",
    "        t = list(t)\n",
    "        while t:\n",
    "            c = t.pop(0)\n",
    "            if tr == []:\n",
    "                if c == '#':\n",
    "                    tr = []\n",
    "                else:\n",
    "                    tr.append(c)\n",
    "            else:\n",
    "                if c == '#' and tr != []:\n",
    "                    tr.pop()\n",
    "                elif c == '#' and tr == []:\n",
    "                    tr = []\n",
    "                else:\n",
    "                    tr.append(c)\n",
    "        return sr == tr"
   ]
  },
  {
   "cell_type": "code",
   "execution_count": 19,
   "metadata": {},
   "outputs": [
    {
     "name": "stdout",
     "output_type": "stream",
     "text": [
      "['a', 'c']\n",
      "['a', 'c']\n"
     ]
    },
    {
     "data": {
      "text/plain": [
       "True"
      ]
     },
     "execution_count": 19,
     "metadata": {},
     "output_type": "execute_result"
    }
   ],
   "source": [
    "s = \"ab#c\"\n",
    "t = \"ad#c\"\n",
    "\n",
    "obj = Solution()\n",
    "obj.backspaceCompare(s,t)"
   ]
  },
  {
   "cell_type": "code",
   "execution_count": null,
   "metadata": {},
   "outputs": [],
   "source": []
  }
 ],
 "metadata": {
  "kernelspec": {
   "display_name": "Python 3",
   "language": "python",
   "name": "python3"
  },
  "language_info": {
   "codemirror_mode": {
    "name": "ipython",
    "version": 3
   },
   "file_extension": ".py",
   "mimetype": "text/x-python",
   "name": "python",
   "nbconvert_exporter": "python",
   "pygments_lexer": "ipython3",
   "version": "3.7.3"
  }
 },
 "nbformat": 4,
 "nbformat_minor": 2
}
