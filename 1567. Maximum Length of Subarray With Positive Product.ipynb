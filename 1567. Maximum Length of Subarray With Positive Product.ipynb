{
 "cells": [
  {
   "cell_type": "code",
   "execution_count": 17,
   "metadata": {},
   "outputs": [],
   "source": [
    "class Solution:\n",
    "    def getMaxLen(self, nums) -> int:\n",
    "        mymax = 0\n",
    "        leng = 0\n",
    "        pos = 1\n",
    "        res = 0\n",
    "        \n",
    "        for i in range(len(nums)):\n",
    "            if nums[i] > 0:\n",
    "                if pos == 1:\n",
    "                    leng += 1\n",
    "                    mymax = max(leng,mymax)\n",
    "                else:\n",
    "                    pos = 0\n",
    "                    res += 1\n",
    "                    mymax = max(mymax,1)\n",
    "            elif nums[i] < 0:\n",
    "                if pos == 1:\n",
    "                    pos = 0\n",
    "                    res += 1\n",
    "                else:\n",
    "                    pos = 1\n",
    "                    leng += res+1\n",
    "                    mymax = max(leng,mymax)\n",
    "                    res = 0\n",
    "            else:\n",
    "                leng = 0\n",
    "                res = 0\n",
    "                pos = 1\n",
    "            print(leng)\n",
    "                \n",
    "        return mymax"
   ]
  },
  {
   "cell_type": "code",
   "execution_count": 18,
   "metadata": {},
   "outputs": [
    {
     "name": "stdout",
     "output_type": "stream",
     "text": [
      "1\n",
      "1\n",
      "3\n",
      "3\n",
      "5\n",
      "0\n",
      "0\n",
      "0\n",
      "1\n",
      "1\n",
      "0\n",
      "0\n",
      "2\n",
      "2\n",
      "2\n",
      "2\n",
      "6\n",
      "6\n",
      "6\n",
      "6\n"
     ]
    },
    {
     "data": {
      "text/plain": [
       "6"
      ]
     },
     "execution_count": 18,
     "metadata": {},
     "output_type": "execute_result"
    }
   ],
   "source": [
    "nums = [9,10,1,0,19,20,-28,30,-12,20,11,-8,7,21,-26]\n",
    "nums = [5,-20,-20,-39,-5,0,0,0,36,-32,0,-7,-10,-7,21,20,-12,-34,26,2]\n",
    "\n",
    "obj = Solution()\n",
    "obj.getMaxLen(nums)"
   ]
  },
  {
   "cell_type": "code",
   "execution_count": 124,
   "metadata": {},
   "outputs": [],
   "source": [
    "class Solution:\n",
    "    def getMaxLen(self, nums) -> int:\n",
    "        lists = [[]]\n",
    "        \n",
    "        for i in range(len(nums)):\n",
    "            if nums[i] == 0:\n",
    "                lists.append([])\n",
    "            else:\n",
    "                lists[-1].append(nums[i])\n",
    "                \n",
    "        lists = [l for l in lists if l != []]\n",
    "                \n",
    "        return lists"
   ]
  },
  {
   "cell_type": "code",
   "execution_count": 125,
   "metadata": {},
   "outputs": [
    {
     "data": {
      "text/plain": [
       "[[-17, -9, 17, -3, -5, -13, 2, 6]]"
      ]
     },
     "execution_count": 125,
     "metadata": {},
     "output_type": "execute_result"
    }
   ],
   "source": [
    "nums = [5,-20,-20,-39,-5,0,0,0,36,-32,0,-7,-10,-7,21,20,-12,-34,26,2]\n",
    "nums = [9,10,1,0,19,20,-28,30,-12,20,11,-8,7,21,-26]\n",
    "nums = [0,0,0,0,0]\n",
    "nums = [-17,-9,17,-3,-5,-13,2,6,0]\n",
    "nums = [-16,0,-5,2,2,-13,11,8]\n",
    "nums = [-4,0,0,-9,-10]\n",
    "\n",
    "obj = Solution()\n",
    "obj.getMaxLen(nums)"
   ]
  },
  {
   "cell_type": "code",
   "execution_count": 136,
   "metadata": {},
   "outputs": [],
   "source": [
    "class Solution:\n",
    "    def getMaxLen(self, nums) -> int:\n",
    "        lists = [[]]\n",
    "        \n",
    "        i = 0\n",
    "        for i in range(len(nums)):\n",
    "            if nums[i] == 0:\n",
    "                lists.append([])\n",
    "            else:\n",
    "                lists[-1].append(nums[i])\n",
    "                \n",
    "        lists = [l for l in lists if l != []]\n",
    "        print(lists)\n",
    "                        \n",
    "        maxlist = []\n",
    "        \n",
    "        for l in lists:\n",
    "            if self.numsNeg(l)%2 == 0:\n",
    "                maxlist.append(len(l))\n",
    "            else:\n",
    "                maxlist.append(self.maxLenSub(l))\n",
    "                \n",
    "        if maxlist == []:\n",
    "            return 0\n",
    "                \n",
    "        return max(maxlist)\n",
    "    \n",
    "    def numsNeg(self, l):\n",
    "        if l == []:\n",
    "            return \n",
    "        count = 0\n",
    "        for i in range(len(l)):\n",
    "            if l[i] < 0:\n",
    "                count += 1\n",
    "                \n",
    "        return count\n",
    "    \n",
    "    def maxLenSub(self, l):\n",
    "        left = 0\n",
    "        right = len(l)-1\n",
    "        \n",
    "        while l[left] > 0:\n",
    "            left += 1\n",
    "        while l[right] > 0:\n",
    "            right -= 1\n",
    "        \n",
    "        return max(len(l)-left-1, right)  "
   ]
  },
  {
   "cell_type": "code",
   "execution_count": 142,
   "metadata": {},
   "outputs": [
    {
     "name": "stdout",
     "output_type": "stream",
     "text": [
      "[[9, 10, 1], [19, 20, -28, 30, -12, 20, 11, -8, 7, 21, -26]]\n"
     ]
    },
    {
     "data": {
      "text/plain": [
       "11"
      ]
     },
     "execution_count": 142,
     "metadata": {},
     "output_type": "execute_result"
    }
   ],
   "source": [
    "nums = [0,0,0,0,0]\n",
    "\n",
    "nums = [-17,-9,17,-3,-5,-13,2,6,0]\n",
    "nums = [5,-20,-20,-39,-5,0,0,0,36,-32,0,-7,-10,-7,21,20,-12,-34,26,2]\n",
    "nums = [9,10,1,0,19,20,-28,30,-12,20,11,-8,7,21,-26]\n",
    "#nums = [0,0,0,0,0]\n",
    "#nums = [-17,-9,17,-3,-5,-13,2,6,0]\n",
    "#nums = [-16,0,-5,2,2,-13,11,8]\n",
    "#nums = [-4,0,0,-9,-10]\n",
    "\n",
    "obj = Solution()\n",
    "obj.getMaxLen(nums)"
   ]
  },
  {
   "cell_type": "code",
   "execution_count": null,
   "metadata": {},
   "outputs": [],
   "source": []
  }
 ],
 "metadata": {
  "kernelspec": {
   "display_name": "Python 3",
   "language": "python",
   "name": "python3"
  },
  "language_info": {
   "codemirror_mode": {
    "name": "ipython",
    "version": 3
   },
   "file_extension": ".py",
   "mimetype": "text/x-python",
   "name": "python",
   "nbconvert_exporter": "python",
   "pygments_lexer": "ipython3",
   "version": "3.7.3"
  }
 },
 "nbformat": 4,
 "nbformat_minor": 2
}
