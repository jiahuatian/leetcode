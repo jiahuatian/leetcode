{
 "cells": [
  {
   "cell_type": "code",
   "execution_count": 19,
   "metadata": {},
   "outputs": [],
   "source": [
    "class Solution:\n",
    "    def minMeetingRooms(self, intervals) -> int:\n",
    "        from collections import defaultdict\n",
    "        rooms = defaultdict(list)\n",
    "        \n",
    "        rooms[1] = [intervals[0]]\n",
    "        roomnum = 1\n",
    "        \n",
    "        for i in range(1,len(intervals)):\n",
    "            countr = 0\n",
    "            for key in rooms:\n",
    "                count = 0\n",
    "                for t in rooms[key]:\n",
    "                    if len(set(range(t[0],t[1])).intersection(set(range(intervals[i][0],intervals[i][1])))) >= 1:\n",
    "                        break\n",
    "                    else:\n",
    "                        count += 1\n",
    "                if count == len(rooms[key]):\n",
    "                    rooms[key].append(intervals[i])\n",
    "                    break\n",
    "                else:    \n",
    "                    countr += 1\n",
    "            if countr == len(rooms):\n",
    "                roomnum += 1\n",
    "                rooms[roomnum].append(intervals[i])\n",
    "                \n",
    "        print(rooms)\n",
    "                \n",
    "        return roomnum"
   ]
  },
  {
   "cell_type": "code",
   "execution_count": 20,
   "metadata": {},
   "outputs": [
    {
     "name": "stdout",
     "output_type": "stream",
     "text": [
      "defaultdict(<class 'list'>, {1: [[64738, 614406], [800783, 826206]], 2: [[211748, 780229]], 3: [[208641, 307338], [499908, 869489]], 4: [[218907, 889449]], 5: [[177201, 481150]], 6: [[123679, 384415]], 7: [[120440, 404695]], 8: [[191810, 491295]]})\n"
     ]
    },
    {
     "data": {
      "text/plain": [
       "8"
      ]
     },
     "execution_count": 20,
     "metadata": {},
     "output_type": "execute_result"
    }
   ],
   "source": [
    "intervals = [[7,10],[2,4]]\n",
    "intervals = [[0,30],[5,10],[15,20]]\n",
    "intervals = [[64738,614406],[211748,780229],[208641,307338],[499908,869489],[218907,889449],[177201,481150],[123679,384415],[120440,404695],[191810,491295],[800783,826206]]\n",
    "\n",
    "obj = Solution()\n",
    "obj.minMeetingRooms(intervals)"
   ]
  },
  {
   "cell_type": "code",
   "execution_count": 26,
   "metadata": {},
   "outputs": [
    {
     "data": {
      "text/plain": [
       "[1, 3, 45, 78, 5]"
      ]
     },
     "execution_count": 26,
     "metadata": {},
     "output_type": "execute_result"
    }
   ],
   "source": [
    "import heapq\n",
    "\n",
    "H = [21,1,45,78,3,5]\n",
    "heapq.heappop(H)\n",
    "H"
   ]
  },
  {
   "cell_type": "code",
   "execution_count": null,
   "metadata": {},
   "outputs": [],
   "source": []
  }
 ],
 "metadata": {
  "kernelspec": {
   "display_name": "Python 3",
   "language": "python",
   "name": "python3"
  },
  "language_info": {
   "codemirror_mode": {
    "name": "ipython",
    "version": 3
   },
   "file_extension": ".py",
   "mimetype": "text/x-python",
   "name": "python",
   "nbconvert_exporter": "python",
   "pygments_lexer": "ipython3",
   "version": "3.7.3"
  }
 },
 "nbformat": 4,
 "nbformat_minor": 2
}
