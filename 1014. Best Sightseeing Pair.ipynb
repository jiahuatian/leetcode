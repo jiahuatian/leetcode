{
 "cells": [
  {
   "cell_type": "code",
   "execution_count": 7,
   "metadata": {},
   "outputs": [],
   "source": [
    "class Solution:\n",
    "    def maxScoreSightseeingPair(self, values) -> int:\n",
    "        l1 = []\n",
    "        l2 = []\n",
    "        max1 = max2 = -float('inf')\n",
    "        \n",
    "        for i,v in enumerate(values):\n",
    "            l1.append(v+i)\n",
    "            l2.append(v-i)\n",
    "            max1 = max(max1,v+i)\n",
    "            max2 = max(max2,v-i)\n",
    "        \n",
    "        print(l1,l2)\n",
    "        print(max1,max2)\n",
    "            \n",
    "        if l1.index(max1) != l2.index(max2):\n",
    "            print(l1.index(max1),l2.index(max2))\n",
    "            return max1+max2\n",
    "        else:\n",
    "            max11 = l1.pop(l1.index(max1))\n",
    "            max21 = l2.pop(l2.index(max2))\n",
    "            return max(max11+max2, max1+max21)"
   ]
  },
  {
   "cell_type": "code",
   "execution_count": 8,
   "metadata": {},
   "outputs": [
    {
     "name": "stdout",
     "output_type": "stream",
     "text": [
      "[8, 2, 7, 5, 10] [8, 0, 3, -1, 2]\n",
      "10 8\n",
      "4 0\n"
     ]
    },
    {
     "data": {
      "text/plain": [
       "18"
      ]
     },
     "execution_count": 8,
     "metadata": {},
     "output_type": "execute_result"
    }
   ],
   "source": [
    "values = [8,1,5,2,6]\n",
    "\n",
    "obj = Solution()\n",
    "obj.maxScoreSightseeingPair(values)"
   ]
  },
  {
   "cell_type": "code",
   "execution_count": 59,
   "metadata": {},
   "outputs": [],
   "source": [
    "class Solution:\n",
    "    def maxScoreSightseeingPair(self, values) -> int:\n",
    "        from collections import defaultdict\n",
    "        dp = defaultdict(int)\n",
    "        dp[1] = values[0]+values[1]-1\n",
    "        \n",
    "        for i,v in enumerate(values[2:]):\n",
    "            I = i+2\n",
    "            dp[I] = max([dp[k]-(I-k)+v-values[k] for k in range(1,I)]+[v+values[I-1]-1])\n",
    "        \n",
    "        print(dp)\n",
    "            \n",
    "        return max([dp[key] for key in dp])"
   ]
  },
  {
   "cell_type": "code",
   "execution_count": 60,
   "metadata": {},
   "outputs": [
    {
     "name": "stdout",
     "output_type": "stream",
     "text": [
      "defaultdict(<class 'int'>, {1: 3, 2: 7})\n"
     ]
    },
    {
     "data": {
      "text/plain": [
       "7"
      ]
     },
     "execution_count": 60,
     "metadata": {},
     "output_type": "execute_result"
    }
   ],
   "source": [
    "values = [8,1,5,2,6]\n",
    "values = [1,3,5]\n",
    "\n",
    "obj = Solution()\n",
    "obj.maxScoreSightseeingPair(values)"
   ]
  },
  {
   "cell_type": "code",
   "execution_count": null,
   "metadata": {},
   "outputs": [],
   "source": []
  }
 ],
 "metadata": {
  "kernelspec": {
   "display_name": "Python 3",
   "language": "python",
   "name": "python3"
  },
  "language_info": {
   "codemirror_mode": {
    "name": "ipython",
    "version": 3
   },
   "file_extension": ".py",
   "mimetype": "text/x-python",
   "name": "python",
   "nbconvert_exporter": "python",
   "pygments_lexer": "ipython3",
   "version": "3.7.3"
  }
 },
 "nbformat": 4,
 "nbformat_minor": 2
}
