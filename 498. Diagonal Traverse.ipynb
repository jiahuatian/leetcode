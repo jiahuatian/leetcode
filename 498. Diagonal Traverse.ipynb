{
 "cells": [
  {
   "cell_type": "code",
   "execution_count": 18,
   "metadata": {},
   "outputs": [],
   "source": [
    "class Solution:\n",
    "    def findDiagonalOrder(self, mat):\n",
    "        stack = [(0,0),]\n",
    "        res = []\n",
    "        lr = 0\n",
    "        while stack:\n",
    "            n = len(stack)\n",
    "            for i in range(n):\n",
    "                print(stack,lr)\n",
    "                if lr%2 == 0:\n",
    "                    x,y = stack.pop(0)\n",
    "                    res.append(mat[x][y])\n",
    "                    if x+1<len(mat) and (x+1,y) not in stack:\n",
    "                        stack.append((x+1,y))\n",
    "                    if y+1<len(mat[0]) and (x,y+1) not in stack:\n",
    "                        stack.append((x,y+1))\n",
    "                else:\n",
    "                    x,y = stack.pop()\n",
    "                    res.append(mat[x][y])\n",
    "                    if y+1 < len(mat[0]) and (x,y+1) not in stack:\n",
    "                        stack.insert(0,(x,y+1))\n",
    "                    if x+1 < len(mat) and (x+1,y) not in stack:\n",
    "                        stack.insert(0,(x+1,y))\n",
    "            lr += 1\n",
    "        return res"
   ]
  },
  {
   "cell_type": "code",
   "execution_count": 19,
   "metadata": {},
   "outputs": [
    {
     "name": "stdout",
     "output_type": "stream",
     "text": [
      "[(0, 0)] 0\n",
      "[(1, 0), (0, 1)] 1\n",
      "[(1, 1), (0, 2), (1, 0)] 1\n",
      "[(2, 0), (1, 1), (0, 2)] 2\n",
      "[(1, 1), (0, 2), (2, 1)] 2\n",
      "[(0, 2), (2, 1), (1, 2)] 2\n",
      "[(2, 1), (1, 2)] 3\n",
      "[(2, 2), (2, 1)] 3\n",
      "[(2, 2)] 4\n"
     ]
    },
    {
     "data": {
      "text/plain": [
       "[1, 2, 4, 7, 5, 3, 6, 8, 9]"
      ]
     },
     "execution_count": 19,
     "metadata": {},
     "output_type": "execute_result"
    }
   ],
   "source": [
    "mat = [[1,2,3],[4,5,6],[7,8,9]]\n",
    "\n",
    "obj = Solution()\n",
    "obj.findDiagonalOrder(mat)"
   ]
  },
  {
   "cell_type": "code",
   "execution_count": null,
   "metadata": {},
   "outputs": [],
   "source": []
  }
 ],
 "metadata": {
  "kernelspec": {
   "display_name": "Python 3",
   "language": "python",
   "name": "python3"
  },
  "language_info": {
   "codemirror_mode": {
    "name": "ipython",
    "version": 3
   },
   "file_extension": ".py",
   "mimetype": "text/x-python",
   "name": "python",
   "nbconvert_exporter": "python",
   "pygments_lexer": "ipython3",
   "version": "3.7.3"
  }
 },
 "nbformat": 4,
 "nbformat_minor": 2
}
