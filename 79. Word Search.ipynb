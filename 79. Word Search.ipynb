{
 "cells": [
  {
   "cell_type": "code",
   "execution_count": 112,
   "metadata": {},
   "outputs": [],
   "source": [
    "class Solution:\n",
    "    def exist(self, board, word: str) -> bool:\n",
    "        starts = []\n",
    "        \n",
    "        for i in range(len(board)):\n",
    "            for j in range(len(board[i])):\n",
    "                if board[i][j] == word[0]:\n",
    "                    starts.append([i,j])\n",
    "                \n",
    "        if starts == []:\n",
    "            return False\n",
    "                \n",
    "        for start in starts:\n",
    "            seen = set()\n",
    "            seen.add((start[0],start[1]))\n",
    "            stack = [[start,word[0],seen],]\n",
    "            l = 1\n",
    "            while stack:\n",
    "                [m,n], thisword, seen = stack.pop()\n",
    "                if thisword == word:\n",
    "                    return True\n",
    "                if m-1 >= 0 and board[m-1][n] == word[len(thisword)] and (m-1,n) not in seen:\n",
    "                    new = set()\n",
    "                    new.add((m-1,n))\n",
    "                    stack.append([[m-1,n],thisword+word[len(thisword)],seen.union(new)])\n",
    "                if m+1 < len(board) and board[m+1][n] == word[len(thisword)] and (m+1,n) not in seen:\n",
    "                    new = set()\n",
    "                    new.add((m+1,n))\n",
    "                    stack.append([[m+1,n],thisword+word[len(thisword)],seen.union(new)])\n",
    "                if n-1 >= 0 and board[m][n-1] == word[len(thisword)] and (m,n-1) not in seen:\n",
    "                    new = set()\n",
    "                    new.add((m,n-1))\n",
    "                    stack.append([[m,n-1],thisword+word[len(thisword)],seen.union(new)])\n",
    "                if n+1 < len(board[0]) and board[m][n+1] == word[len(thisword)] and (m,n+1) not in seen:\n",
    "                    new = set()\n",
    "                    new.add((m,n+1))\n",
    "                    stack.append([[m,n+1],thisword+word[len(thisword)],seen.union(new)])\n",
    "                \n",
    "        return False"
   ]
  },
  {
   "cell_type": "code",
   "execution_count": 114,
   "metadata": {},
   "outputs": [
    {
     "data": {
      "text/plain": [
       "True"
      ]
     },
     "execution_count": 114,
     "metadata": {},
     "output_type": "execute_result"
    }
   ],
   "source": [
    "board = [[\"A\",\"B\",\"C\",\"E\"],[\"S\",\"F\",\"C\",\"S\"],[\"A\",\"D\",\"E\",\"E\"]]\n",
    "word = \"ABCCED\"\n",
    "\n",
    "#board = [[\"A\",\"B\",\"C\",\"E\"],[\"S\",\"F\",\"C\",\"S\"],[\"A\",\"D\",\"E\",\"E\"]]\n",
    "#word = \"SEE\"\n",
    "\n",
    "#board = [[\"C\",\"A\",\"A\"],[\"A\",\"A\",\"A\"],[\"B\",\"C\",\"D\"]]\n",
    "#word = \"AAB\"\n",
    "\n",
    "board = [[\"A\",\"B\",\"C\",\"E\"],[\"S\",\"F\",\"E\",\"S\"],[\"A\",\"D\",\"E\",\"E\"]]\n",
    "word = \"ABCESEEEFS\"\n",
    "\n",
    "obj = Solution()\n",
    "obj.exist(board,word)"
   ]
  },
  {
   "cell_type": "code",
   "execution_count": 110,
   "metadata": {},
   "outputs": [
    {
     "data": {
      "text/plain": [
       "{(3, 0)}"
      ]
     },
     "execution_count": 110,
     "metadata": {},
     "output_type": "execute_result"
    }
   ],
   "source": [
    "myset = set()\n",
    "myset.add((1,0))\n",
    "myset.add((0,2))\n",
    "myset2 = set()\n",
    "myset2.add((3,0))\n",
    "myset2"
   ]
  },
  {
   "cell_type": "code",
   "execution_count": 111,
   "metadata": {},
   "outputs": [
    {
     "data": {
      "text/plain": [
       "{(0, 2), (1, 0), (3, 0)}"
      ]
     },
     "execution_count": 111,
     "metadata": {},
     "output_type": "execute_result"
    }
   ],
   "source": [
    "myset.union(myset2)"
   ]
  },
  {
   "cell_type": "code",
   "execution_count": 4,
   "metadata": {},
   "outputs": [],
   "source": [
    "from functools import lru_cache\n",
    "class Solution:\n",
    "    def exist(self, board, word: str) -> bool:\n",
    "        @lru_cache(maxsize=None)\n",
    "        def dp(i,j,k):\n",
    "            if k == 0 and board[i][j] == word[0]:\n",
    "                return True\n",
    "            elif k == 0 and board[i][j] != word[0]:\n",
    "                return False\n",
    "            lastcond = False\n",
    "            if i-1 >= 0 and board[i-1][j] == word[k-1]:\n",
    "                cond1 = True\n",
    "                lastcond = cond1 or lastcond\n",
    "            if i+1 < len(board) and board[i+1][j] == word[k-1]:\n",
    "                cond2 = True\n",
    "                lastcond = cond2 or lastcond\n",
    "            if j-1 >= 0 and board[i][j-1] == word[k-1]:\n",
    "                cond3 = True\n",
    "                lastcond = cond3 or lastcond\n",
    "            if j+1 < len(board[0]) and board[i][j+1] == word[k-1]:\n",
    "                cond4 = True\n",
    "                lastcond = cond4 or lastcond\n",
    "            ans = (board[i][j] == word[k]) and lastcond\n",
    "            return ans\n",
    "        for i in range(len(board)):\n",
    "            for j in range(len(board[0])):\n",
    "                if dp(i,j,len(word)-1):\n",
    "                    print(i,j)\n",
    "                    return True\n",
    "        return False"
   ]
  },
  {
   "cell_type": "code",
   "execution_count": 5,
   "metadata": {},
   "outputs": [
    {
     "name": "stdout",
     "output_type": "stream",
     "text": [
      "0 1\n"
     ]
    },
    {
     "data": {
      "text/plain": [
       "True"
      ]
     },
     "execution_count": 5,
     "metadata": {},
     "output_type": "execute_result"
    }
   ],
   "source": [
    "board = [[\"A\",\"B\",\"C\",\"E\"],[\"S\",\"F\",\"C\",\"S\"],[\"A\",\"D\",\"E\",\"E\"]]\n",
    "word = \"ABCB\"\n",
    "\n",
    "obj = Solution()\n",
    "obj.exist(board,word)"
   ]
  },
  {
   "cell_type": "code",
   "execution_count": null,
   "metadata": {},
   "outputs": [],
   "source": []
  }
 ],
 "metadata": {
  "kernelspec": {
   "display_name": "Python 3",
   "language": "python",
   "name": "python3"
  },
  "language_info": {
   "codemirror_mode": {
    "name": "ipython",
    "version": 3
   },
   "file_extension": ".py",
   "mimetype": "text/x-python",
   "name": "python",
   "nbconvert_exporter": "python",
   "pygments_lexer": "ipython3",
   "version": "3.7.3"
  }
 },
 "nbformat": 4,
 "nbformat_minor": 2
}
