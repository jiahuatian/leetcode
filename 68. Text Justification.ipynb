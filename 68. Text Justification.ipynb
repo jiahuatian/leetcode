{
 "cells": [
  {
   "cell_type": "code",
   "execution_count": 25,
   "metadata": {},
   "outputs": [],
   "source": [
    "class Solution:\n",
    "    def fullJustify(self, words, maxWidth: int):\n",
    "        def modify(s):\n",
    "            words = s.split(' ')\n",
    "            if len(words) == 1:\n",
    "                return words[0]+' '*(maxWidth-len(words[0]))\n",
    "            numwords = len(words)\n",
    "            numspaces = numwords-1+maxWidth-len(s)\n",
    "            spaces = [numspaces//(numwords-1)]*(numwords-1)\n",
    "            left = numspaces-sum(spaces)\n",
    "            i = 0\n",
    "            while left:\n",
    "                spaces[i] += 1\n",
    "                left -= 1\n",
    "                i += 1\n",
    "            ans = ''\n",
    "            for w in words:\n",
    "                ans += w\n",
    "                if spaces:\n",
    "                    ans += ' '*spaces.pop(0)\n",
    "            return ans\n",
    "        \n",
    "        ans = []\n",
    "        s = ''\n",
    "        for w in words:\n",
    "            if not s:\n",
    "                s += w\n",
    "            else:\n",
    "                if len(s)+1+len(w) <= maxWidth:\n",
    "                    s += ' '+w\n",
    "                else:\n",
    "                    s = modify(s)\n",
    "                    ans.append(str(s))\n",
    "                    s = w\n",
    "        ans.append(s+' '*(maxWidth-len(s)))\n",
    "        return ans"
   ]
  },
  {
   "cell_type": "code",
   "execution_count": 26,
   "metadata": {},
   "outputs": [
    {
     "data": {
      "text/plain": [
       "['What   must   be', 'acknowledgment  ', 'shall be        ']"
      ]
     },
     "execution_count": 26,
     "metadata": {},
     "output_type": "execute_result"
    }
   ],
   "source": [
    "words = [\"What\",\"must\",\"be\",\"acknowledgment\",\"shall\",\"be\"]\n",
    "maxWidth = 16\n",
    "\n",
    "obj = Solution()\n",
    "obj.fullJustify(words,maxWidth)"
   ]
  },
  {
   "cell_type": "code",
   "execution_count": 27,
   "metadata": {},
   "outputs": [
    {
     "data": {
      "text/plain": [
       "-90000.0"
      ]
     },
     "execution_count": 27,
     "metadata": {},
     "output_type": "execute_result"
    }
   ],
   "source": [
    "eval(\"-90E3\")"
   ]
  },
  {
   "cell_type": "code",
   "execution_count": 30,
   "metadata": {},
   "outputs": [
    {
     "name": "stdout",
     "output_type": "stream",
     "text": [
      "no\n"
     ]
    }
   ],
   "source": [
    "try:\n",
    "    eval(\"1a\")\n",
    "except:\n",
    "    print('no')"
   ]
  },
  {
   "cell_type": "code",
   "execution_count": 40,
   "metadata": {},
   "outputs": [
    {
     "data": {
      "text/plain": [
       "-inf"
      ]
     },
     "execution_count": 40,
     "metadata": {},
     "output_type": "execute_result"
    }
   ],
   "source": [
    "float(\"-inf\")"
   ]
  },
  {
   "cell_type": "code",
   "execution_count": null,
   "metadata": {},
   "outputs": [],
   "source": []
  }
 ],
 "metadata": {
  "kernelspec": {
   "display_name": "Python 3",
   "language": "python",
   "name": "python3"
  },
  "language_info": {
   "codemirror_mode": {
    "name": "ipython",
    "version": 3
   },
   "file_extension": ".py",
   "mimetype": "text/x-python",
   "name": "python",
   "nbconvert_exporter": "python",
   "pygments_lexer": "ipython3",
   "version": "3.7.9"
  }
 },
 "nbformat": 4,
 "nbformat_minor": 4
}
