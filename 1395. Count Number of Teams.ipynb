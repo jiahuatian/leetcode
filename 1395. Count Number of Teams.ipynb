{
 "cells": [
  {
   "cell_type": "code",
   "execution_count": 15,
   "metadata": {},
   "outputs": [],
   "source": [
    "class Solution:\n",
    "    def numTeams(self, rating) -> int:\n",
    "        r = len(rating)\n",
    "        leftbigger = [0 for i in range(r)]\n",
    "        rightsmaller = [0 for i in range(r)]\n",
    "        leftsmaller = [0 for i in range(r)]\n",
    "        rightbigger = [0 for i in range(r)]\n",
    "        \n",
    "        for i in range(1,r):\n",
    "            leftbigger[i] = len([x for x in rating[:i] if x > rating[i]])\n",
    "            leftsmaller[i] = len([x for x in rating[:i] if x < rating[i]])\n",
    "                    \n",
    "        for i in range(r-2,-1,-1):\n",
    "            rightbigger[i] = len([x for x in rating[i+1:] if x > rating[i]])\n",
    "            rightsmaller[i] = len([x for x in rating[i+1:] if x < rating[i]])\n",
    "                    \n",
    "        print(leftsmaller,rightbigger)\n",
    "        print(rightsmaller,leftbigger)\n",
    "        ans = 0\n",
    "        for i in range(r):\n",
    "            ans += leftbigger[i]*rightsmaller[i]+leftsmaller[i]*rightbigger[i]\n",
    "            \n",
    "        return ans"
   ]
  },
  {
   "cell_type": "code",
   "execution_count": 16,
   "metadata": {},
   "outputs": [
    {
     "name": "stdout",
     "output_type": "stream",
     "text": [
      "[0, 1, 1, 2, 0] [3, 0, 1, 0, 0]\n",
      "[1, 3, 1, 1, 0] [0, 0, 1, 1, 4]\n"
     ]
    },
    {
     "data": {
      "text/plain": [
       "3"
      ]
     },
     "execution_count": 16,
     "metadata": {},
     "output_type": "execute_result"
    }
   ],
   "source": [
    "rating = [2,5,3,4,1]\n",
    "#rating = [1,2,3,4]\n",
    "\n",
    "obj = Solution()\n",
    "obj.numTeams(rating)"
   ]
  },
  {
   "cell_type": "code",
   "execution_count": null,
   "metadata": {},
   "outputs": [],
   "source": []
  }
 ],
 "metadata": {
  "kernelspec": {
   "display_name": "Python 3",
   "language": "python",
   "name": "python3"
  },
  "language_info": {
   "codemirror_mode": {
    "name": "ipython",
    "version": 3
   },
   "file_extension": ".py",
   "mimetype": "text/x-python",
   "name": "python",
   "nbconvert_exporter": "python",
   "pygments_lexer": "ipython3",
   "version": "3.7.3"
  }
 },
 "nbformat": 4,
 "nbformat_minor": 2
}
