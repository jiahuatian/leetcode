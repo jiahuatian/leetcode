{
 "cells": [
  {
   "cell_type": "code",
   "execution_count": 7,
   "metadata": {},
   "outputs": [
    {
     "data": {
      "text/plain": [
       "False"
      ]
     },
     "execution_count": 7,
     "metadata": {},
     "output_type": "execute_result"
    }
   ],
   "source": [
    "' '.isnumeric()"
   ]
  },
  {
   "cell_type": "code",
   "execution_count": 54,
   "metadata": {},
   "outputs": [],
   "source": [
    "class Solution(object):\n",
    "    def myAtoi(self, s):\n",
    "        \"\"\"\n",
    "        :type s: str\n",
    "        :rtype: int\n",
    "        \"\"\"\n",
    "        i = 0\n",
    "        mystr = ''\n",
    "        sign = 0\n",
    "        \n",
    "        if s == '':\n",
    "            return 0\n",
    "        \n",
    "        while s[i] == ' ' and i + 1 < len(s):\n",
    "            i += 1\n",
    "        \n",
    "        if s[i] == '-':\n",
    "            i += 1\n",
    "            sign = 1\n",
    "        elif s[i] == '+':\n",
    "            i += 1\n",
    "            \n",
    "        init = i\n",
    "        \n",
    "        if init >= len(s):\n",
    "            return 0\n",
    "            \n",
    "        while s[init].isnumeric():\n",
    "            mystr += s[init]\n",
    "            if init + 1 < len(s):\n",
    "                init += 1\n",
    "            else:\n",
    "                break\n",
    "        \n",
    "        if mystr == '':\n",
    "            return 0\n",
    "        elif sign == 0:\n",
    "            myint = int(mystr)\n",
    "            print(myint)\n",
    "            if myint < 2**31:\n",
    "                return myint\n",
    "            else:\n",
    "                return 2**31 - 1\n",
    "        elif sign == 1:\n",
    "            myint = int(mystr)\n",
    "            if myint <= 2**31:\n",
    "                return -myint\n",
    "            else:\n",
    "                return -2147483648"
   ]
  },
  {
   "cell_type": "code",
   "execution_count": 55,
   "metadata": {},
   "outputs": [
    {
     "name": "stdout",
     "output_type": "stream",
     "text": [
      "21474836460\n"
     ]
    },
    {
     "data": {
      "text/plain": [
       "2147483647"
      ]
     },
     "execution_count": 55,
     "metadata": {},
     "output_type": "execute_result"
    }
   ],
   "source": [
    "s = \"21474836460\"\n",
    "\n",
    "obj = Solution()\n",
    "obj.myAtoi(s)"
   ]
  },
  {
   "cell_type": "code",
   "execution_count": 51,
   "metadata": {},
   "outputs": [
    {
     "data": {
      "text/plain": [
       "2147483647"
      ]
     },
     "execution_count": 51,
     "metadata": {},
     "output_type": "execute_result"
    }
   ],
   "source": [
    "2**31-1"
   ]
  },
  {
   "cell_type": "code",
   "execution_count": 56,
   "metadata": {},
   "outputs": [
    {
     "data": {
      "text/plain": [
       "678"
      ]
     },
     "execution_count": 56,
     "metadata": {},
     "output_type": "execute_result"
    }
   ],
   "source": [
    "int('00000678')"
   ]
  },
  {
   "cell_type": "code",
   "execution_count": 72,
   "metadata": {},
   "outputs": [],
   "source": [
    "class Solution(object):\n",
    "    def myAtoi(self, s):\n",
    "        \"\"\"\n",
    "        :type s: str\n",
    "        :rtype: int\n",
    "        \"\"\"\n",
    "        n = len(s)\n",
    "        \n",
    "        mynumstr = ''\n",
    "        breaker = 0\n",
    "        \n",
    "        init = 0\n",
    "        sign = 0\n",
    "        \n",
    "        while init < n:\n",
    "            if s[init] == ' ':\n",
    "                init += 1\n",
    "            elif s[init] == '-':\n",
    "                init += 1\n",
    "                sign = 1\n",
    "                break\n",
    "            elif s[init] == '+':\n",
    "                init += 1\n",
    "                break\n",
    "            else:\n",
    "                break\n",
    "                \n",
    "        while init < n:\n",
    "            if s[init].isnumeric():\n",
    "                mynumstr += s[init]\n",
    "            else:\n",
    "                break\n",
    "            init += 1\n",
    "            print(init)\n",
    "                \n",
    "        if mynumstr != '':\n",
    "            myabs = int(mynumstr)\n",
    "        else:\n",
    "            return 0\n",
    "        \n",
    "        if sign == 0:\n",
    "            if myabs >= 2**31 - 1:\n",
    "                return 2**31 - 1\n",
    "            else:\n",
    "                return myabs\n",
    "        else:\n",
    "            if myabs >= 2**31:\n",
    "                return -2**31\n",
    "            else:\n",
    "                return -myabs"
   ]
  },
  {
   "cell_type": "code",
   "execution_count": 73,
   "metadata": {},
   "outputs": [
    {
     "data": {
      "text/plain": [
       "0"
      ]
     },
     "execution_count": 73,
     "metadata": {},
     "output_type": "execute_result"
    }
   ],
   "source": [
    "s = s = \"words and 987\"\n",
    "\n",
    "obj = Solution()\n",
    "obj.myAtoi(s)"
   ]
  },
  {
   "cell_type": "code",
   "execution_count": null,
   "metadata": {},
   "outputs": [],
   "source": []
  }
 ],
 "metadata": {
  "kernelspec": {
   "display_name": "Python 3",
   "language": "python",
   "name": "python3"
  },
  "language_info": {
   "codemirror_mode": {
    "name": "ipython",
    "version": 3
   },
   "file_extension": ".py",
   "mimetype": "text/x-python",
   "name": "python",
   "nbconvert_exporter": "python",
   "pygments_lexer": "ipython3",
   "version": "3.7.3"
  }
 },
 "nbformat": 4,
 "nbformat_minor": 2
}
