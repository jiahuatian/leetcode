{
 "cells": [
  {
   "cell_type": "code",
   "execution_count": 1,
   "metadata": {},
   "outputs": [],
   "source": [
    "class Solution:\n",
    "    def canFinish(self, numCourses: int, prerequisites) -> bool:\n",
    "        from collections import defaultdict\n",
    "        graph = defaultdict(defaultdict)\n",
    "        nodes = set()\n",
    "        for [nxt,pre] in prerequisites:\n",
    "            graph[pre][nxt] = 1\n",
    "            nodes.add(pre)\n",
    "        return graph"
   ]
  },
  {
   "cell_type": "code",
   "execution_count": 5,
   "metadata": {},
   "outputs": [
    {
     "data": {
      "text/plain": [
       "defaultdict(collections.defaultdict, {0: defaultdict(None, {1: 1, 2: 1})})"
      ]
     },
     "execution_count": 5,
     "metadata": {},
     "output_type": "execute_result"
    }
   ],
   "source": [
    "numCourses = 2\n",
    "prerequisites = [[1,0],[2,0]]\n",
    "\n",
    "obj = Solution()\n",
    "myd = obj.canFinish(numCourses,prerequisites)\n",
    "myd"
   ]
  },
  {
   "cell_type": "code",
   "execution_count": 10,
   "metadata": {},
   "outputs": [
    {
     "data": {
      "text/plain": [
       "[[1, 2]]"
      ]
     },
     "execution_count": 10,
     "metadata": {},
     "output_type": "execute_result"
    }
   ],
   "source": [
    "stack = []\n",
    "stack.append(list(myd[0].keys()))\n",
    "stack"
   ]
  },
  {
   "cell_type": "code",
   "execution_count": 11,
   "metadata": {},
   "outputs": [
    {
     "data": {
      "text/plain": [
       "[1, 2]"
      ]
     },
     "execution_count": 11,
     "metadata": {},
     "output_type": "execute_result"
    }
   ],
   "source": [
    "stack = []\n",
    "stack.extend(list(myd[0].keys()))\n",
    "stack"
   ]
  },
  {
   "cell_type": "code",
   "execution_count": 101,
   "metadata": {},
   "outputs": [],
   "source": [
    "class Solution:\n",
    "    def canFinish(self, numCourses: int, prerequisites) -> bool:\n",
    "        from collections import defaultdict\n",
    "        graph = defaultdict(defaultdict)\n",
    "        nodes = set()\n",
    "        for [nxt,pre] in prerequisites:\n",
    "            graph[pre][nxt] = 1\n",
    "            nodes.add(pre)\n",
    "        return self.existLoop(graph, nodes)\n",
    "    \n",
    "    def existLoop(self, graph, nodes):\n",
    "        stack = list(nodes)\n",
    "        while stack:\n",
    "            seen = set()\n",
    "            node = stack.pop()\n",
    "            seen.add(node)\n",
    "            thisstack = [[node,seen],]\n",
    "            while thisstack:\n",
    "                thisnode,seen = thisstack.pop()\n",
    "                for key in graph:\n",
    "                    if key == thisnode:\n",
    "                        for key1 in graph[key]:\n",
    "                            if key1 not in seen:\n",
    "                                thisstack.append([key1,seen.union([key1])])\n",
    "                                if key1 in stack:\n",
    "                                    stack.remove(key1)\n",
    "                            else:\n",
    "                                return False\n",
    "        return True"
   ]
  },
  {
   "cell_type": "code",
   "execution_count": 102,
   "metadata": {},
   "outputs": [
    {
     "data": {
      "text/plain": [
       "True"
      ]
     },
     "execution_count": 102,
     "metadata": {},
     "output_type": "execute_result"
    }
   ],
   "source": [
    "numCourses = 2\n",
    "prerequisites = [[1,0]]\n",
    "numCourses = 5\n",
    "prerequisites = [[1,4],[2,4],[3,1],[3,2]]\n",
    "\n",
    "obj = Solution()\n",
    "obj.canFinish(numCourses,prerequisites)"
   ]
  },
  {
   "cell_type": "code",
   "execution_count": 144,
   "metadata": {},
   "outputs": [],
   "source": [
    "class Solution:\n",
    "    def canFinish(self, numCourses: int, prerequisites) -> bool:\n",
    "        from collections import defaultdict\n",
    "        graph = defaultdict(defaultdict)\n",
    "        nodes = set()\n",
    "        for [nxt,pre] in prerequisites:\n",
    "            graph[pre][nxt] = 1\n",
    "            nodes.add(pre)\n",
    "        print(graph)    \n",
    "            \n",
    "        return self.existLoop(graph, nodes)\n",
    "        #return graph\n",
    "    \n",
    "    def existLoop(self, graph, nodes):\n",
    "        stack = list(graph.keys())\n",
    "        while stack:\n",
    "            thisnode = stack.pop()\n",
    "            seen = set([thisnode])\n",
    "            thisstack = [[thisnode,seen],]\n",
    "            while thisstack:\n",
    "                key1, seen = thisstack.pop()\n",
    "                for key2 in graph[key1]:\n",
    "                    if key2 not in seen:\n",
    "                        thisstack.append([key2,seen.union(set([key2]))])\n",
    "                    else:\n",
    "                        return False\n",
    "                    if key2 in stack:\n",
    "                        stack.remove(key2)\n",
    "        \n",
    "        return True"
   ]
  },
  {
   "cell_type": "code",
   "execution_count": 146,
   "metadata": {},
   "outputs": [
    {
     "name": "stdout",
     "output_type": "stream",
     "text": [
      "defaultdict(<class 'collections.defaultdict'>, {0: defaultdict(None, {1: 1, 2: 1}), 1: defaultdict(None, {2: 1, 3: 1}), 2: defaultdict(None, {3: 1, 4: 1}), 3: defaultdict(None, {4: 1, 5: 1}), 4: defaultdict(None, {5: 1, 6: 1}), 5: defaultdict(None, {6: 1, 7: 1}), 6: defaultdict(None, {7: 1, 8: 1}), 7: defaultdict(None, {8: 1, 9: 1}), 8: defaultdict(None, {9: 1, 10: 1}), 9: defaultdict(None, {10: 1, 11: 1}), 10: defaultdict(None, {11: 1, 12: 1}), 11: defaultdict(None, {12: 1, 13: 1}), 12: defaultdict(None, {13: 1, 14: 1}), 13: defaultdict(None, {14: 1, 15: 1}), 14: defaultdict(None, {15: 1, 16: 1}), 15: defaultdict(None, {16: 1, 17: 1}), 16: defaultdict(None, {17: 1, 18: 1}), 17: defaultdict(None, {18: 1, 19: 1}), 18: defaultdict(None, {19: 1, 20: 1}), 19: defaultdict(None, {20: 1, 21: 1}), 20: defaultdict(None, {21: 1, 22: 1}), 21: defaultdict(None, {22: 1, 23: 1}), 22: defaultdict(None, {23: 1, 24: 1}), 23: defaultdict(None, {24: 1, 25: 1}), 24: defaultdict(None, {25: 1, 26: 1}), 25: defaultdict(None, {26: 1, 27: 1}), 26: defaultdict(None, {27: 1, 28: 1}), 27: defaultdict(None, {28: 1, 29: 1}), 28: defaultdict(None, {29: 1, 30: 1}), 29: defaultdict(None, {30: 1, 31: 1}), 30: defaultdict(None, {31: 1, 32: 1}), 31: defaultdict(None, {32: 1, 33: 1}), 32: defaultdict(None, {33: 1, 34: 1}), 33: defaultdict(None, {34: 1, 35: 1}), 34: defaultdict(None, {35: 1, 36: 1}), 35: defaultdict(None, {36: 1, 37: 1}), 36: defaultdict(None, {37: 1, 38: 1}), 37: defaultdict(None, {38: 1, 39: 1}), 38: defaultdict(None, {39: 1, 40: 1}), 39: defaultdict(None, {40: 1, 41: 1}), 40: defaultdict(None, {41: 1, 42: 1}), 41: defaultdict(None, {42: 1, 43: 1}), 42: defaultdict(None, {43: 1, 44: 1}), 43: defaultdict(None, {44: 1, 45: 1}), 44: defaultdict(None, {45: 1, 46: 1}), 45: defaultdict(None, {46: 1, 47: 1}), 46: defaultdict(None, {47: 1, 48: 1}), 47: defaultdict(None, {48: 1, 49: 1}), 48: defaultdict(None, {49: 1, 50: 1}), 49: defaultdict(None, {50: 1, 51: 1}), 50: defaultdict(None, {51: 1, 52: 1}), 51: defaultdict(None, {52: 1, 53: 1}), 52: defaultdict(None, {53: 1, 54: 1}), 53: defaultdict(None, {54: 1, 55: 1}), 54: defaultdict(None, {55: 1, 56: 1}), 55: defaultdict(None, {56: 1, 57: 1}), 56: defaultdict(None, {57: 1, 58: 1}), 57: defaultdict(None, {58: 1, 59: 1}), 58: defaultdict(None, {59: 1, 60: 1}), 59: defaultdict(None, {60: 1, 61: 1}), 60: defaultdict(None, {61: 1, 62: 1}), 61: defaultdict(None, {62: 1, 63: 1}), 62: defaultdict(None, {63: 1, 64: 1}), 63: defaultdict(None, {64: 1, 65: 1}), 64: defaultdict(None, {65: 1, 66: 1}), 65: defaultdict(None, {66: 1, 67: 1}), 66: defaultdict(None, {67: 1, 68: 1}), 67: defaultdict(None, {68: 1, 69: 1}), 68: defaultdict(None, {69: 1, 70: 1}), 69: defaultdict(None, {70: 1, 71: 1}), 70: defaultdict(None, {71: 1, 72: 1}), 71: defaultdict(None, {72: 1, 73: 1}), 72: defaultdict(None, {73: 1, 74: 1}), 73: defaultdict(None, {74: 1, 75: 1}), 74: defaultdict(None, {75: 1, 76: 1}), 75: defaultdict(None, {76: 1, 77: 1}), 76: defaultdict(None, {77: 1, 78: 1}), 77: defaultdict(None, {78: 1, 79: 1}), 78: defaultdict(None, {79: 1, 80: 1}), 79: defaultdict(None, {80: 1, 81: 1}), 80: defaultdict(None, {81: 1, 82: 1}), 81: defaultdict(None, {82: 1, 83: 1}), 82: defaultdict(None, {83: 1, 84: 1}), 83: defaultdict(None, {84: 1, 85: 1}), 84: defaultdict(None, {85: 1, 86: 1}), 85: defaultdict(None, {86: 1, 87: 1}), 86: defaultdict(None, {87: 1, 88: 1}), 87: defaultdict(None, {88: 1, 89: 1}), 88: defaultdict(None, {89: 1, 90: 1}), 89: defaultdict(None, {90: 1, 91: 1}), 90: defaultdict(None, {91: 1, 92: 1}), 91: defaultdict(None, {92: 1, 93: 1}), 92: defaultdict(None, {93: 1, 94: 1}), 93: defaultdict(None, {94: 1, 95: 1}), 94: defaultdict(None, {95: 1, 96: 1}), 95: defaultdict(None, {96: 1, 97: 1}), 96: defaultdict(None, {97: 1, 98: 1}), 97: defaultdict(None, {98: 1, 99: 1})})\n"
     ]
    },
    {
     "ename": "KeyboardInterrupt",
     "evalue": "",
     "output_type": "error",
     "traceback": [
      "\u001b[0;31m---------------------------------------------------------------------------\u001b[0m",
      "\u001b[0;31mKeyboardInterrupt\u001b[0m                         Traceback (most recent call last)",
      "\u001b[0;32m<ipython-input-146-024b907a3238>\u001b[0m in \u001b[0;36m<module>\u001b[0;34m()\u001b[0m\n\u001b[1;32m      9\u001b[0m \u001b[0;34m\u001b[0m\u001b[0m\n\u001b[1;32m     10\u001b[0m \u001b[0mobj\u001b[0m \u001b[0;34m=\u001b[0m \u001b[0mSolution\u001b[0m\u001b[0;34m(\u001b[0m\u001b[0;34m)\u001b[0m\u001b[0;34m\u001b[0m\u001b[0;34m\u001b[0m\u001b[0m\n\u001b[0;32m---> 11\u001b[0;31m \u001b[0mobj\u001b[0m\u001b[0;34m.\u001b[0m\u001b[0mcanFinish\u001b[0m\u001b[0;34m(\u001b[0m\u001b[0mnumCourses\u001b[0m\u001b[0;34m,\u001b[0m\u001b[0mprerequisites\u001b[0m\u001b[0;34m)\u001b[0m\u001b[0;34m\u001b[0m\u001b[0;34m\u001b[0m\u001b[0m\n\u001b[0m",
      "\u001b[0;32m<ipython-input-144-a8013ae24a7e>\u001b[0m in \u001b[0;36mcanFinish\u001b[0;34m(self, numCourses, prerequisites)\u001b[0m\n\u001b[1;32m      9\u001b[0m         \u001b[0mprint\u001b[0m\u001b[0;34m(\u001b[0m\u001b[0mgraph\u001b[0m\u001b[0;34m)\u001b[0m\u001b[0;34m\u001b[0m\u001b[0;34m\u001b[0m\u001b[0m\n\u001b[1;32m     10\u001b[0m \u001b[0;34m\u001b[0m\u001b[0m\n\u001b[0;32m---> 11\u001b[0;31m         \u001b[0;32mreturn\u001b[0m \u001b[0mself\u001b[0m\u001b[0;34m.\u001b[0m\u001b[0mexistLoop\u001b[0m\u001b[0;34m(\u001b[0m\u001b[0mgraph\u001b[0m\u001b[0;34m,\u001b[0m \u001b[0mnodes\u001b[0m\u001b[0;34m)\u001b[0m\u001b[0;34m\u001b[0m\u001b[0;34m\u001b[0m\u001b[0m\n\u001b[0m\u001b[1;32m     12\u001b[0m         \u001b[0;31m#return graph\u001b[0m\u001b[0;34m\u001b[0m\u001b[0;34m\u001b[0m\u001b[0;34m\u001b[0m\u001b[0m\n\u001b[1;32m     13\u001b[0m \u001b[0;34m\u001b[0m\u001b[0m\n",
      "\u001b[0;32m<ipython-input-144-a8013ae24a7e>\u001b[0m in \u001b[0;36mexistLoop\u001b[0;34m(self, graph, nodes)\u001b[0m\n\u001b[1;32m     25\u001b[0m                     \u001b[0;32melse\u001b[0m\u001b[0;34m:\u001b[0m\u001b[0;34m\u001b[0m\u001b[0;34m\u001b[0m\u001b[0m\n\u001b[1;32m     26\u001b[0m                         \u001b[0;32mreturn\u001b[0m \u001b[0;32mFalse\u001b[0m\u001b[0;34m\u001b[0m\u001b[0;34m\u001b[0m\u001b[0m\n\u001b[0;32m---> 27\u001b[0;31m                     \u001b[0;32mif\u001b[0m \u001b[0mkey2\u001b[0m \u001b[0;32min\u001b[0m \u001b[0mstack\u001b[0m\u001b[0;34m:\u001b[0m\u001b[0;34m\u001b[0m\u001b[0;34m\u001b[0m\u001b[0m\n\u001b[0m\u001b[1;32m     28\u001b[0m                         \u001b[0mstack\u001b[0m\u001b[0;34m.\u001b[0m\u001b[0mremove\u001b[0m\u001b[0;34m(\u001b[0m\u001b[0mkey2\u001b[0m\u001b[0;34m)\u001b[0m\u001b[0;34m\u001b[0m\u001b[0;34m\u001b[0m\u001b[0m\n\u001b[1;32m     29\u001b[0m \u001b[0;34m\u001b[0m\u001b[0m\n",
      "\u001b[0;31mKeyboardInterrupt\u001b[0m: "
     ]
    }
   ],
   "source": [
    "numCourses = 2\n",
    "prerequisites = [[1,0],[0,1]]\n",
    "\n",
    "numCourses = 100\n",
    "prerequisites = [[1,0],[2,0],[2,1],[3,1],[3,2],[4,2],[4,3],[5,3],[5,4],[6,4],[6,5],[7,5],[7,6],[8,6],[8,7],[9,7],[9,8],[10,8],[10,9],[11,9],[11,10],[12,10],[12,11],[13,11],[13,12],[14,12],[14,13],[15,13],[15,14],[16,14],[16,15],[17,15],[17,16],[18,16],[18,17],[19,17],[19,18],[20,18],[20,19],[21,19],[21,20],[22,20],[22,21],[23,21],[23,22],[24,22],[24,23],[25,23],[25,24],[26,24],[26,25],[27,25],[27,26],[28,26],[28,27],[29,27],[29,28],[30,28],[30,29],[31,29],[31,30],[32,30],[32,31],[33,31],[33,32],[34,32],[34,33],[35,33],[35,34],[36,34],[36,35],[37,35],[37,36],[38,36],[38,37],[39,37],[39,38],[40,38],[40,39],[41,39],[41,40],[42,40],[42,41],[43,41],[43,42],[44,42],[44,43],[45,43],[45,44],[46,44],[46,45],[47,45],[47,46],[48,46],[48,47],[49,47],[49,48],[50,48],[50,49],[51,49],[51,50],[52,50],[52,51],[53,51],[53,52],[54,52],[54,53],[55,53],[55,54],[56,54],[56,55],[57,55],[57,56],[58,56],[58,57],[59,57],[59,58],[60,58],[60,59],[61,59],[61,60],[62,60],[62,61],[63,61],[63,62],[64,62],[64,63],[65,63],[65,64],[66,64],[66,65],[67,65],[67,66],[68,66],[68,67],[69,67],[69,68],[70,68],[70,69],[71,69],[71,70],[72,70],[72,71],[73,71],[73,72],[74,72],[74,73],[75,73],[75,74],[76,74],[76,75],[77,75],[77,76],[78,76],[78,77],[79,77],[79,78],[80,78],[80,79],[81,79],[81,80],[82,80],[82,81],[83,81],[83,82],[84,82],[84,83],[85,83],[85,84],[86,84],[86,85],[87,85],[87,86],[88,86],[88,87],[89,87],[89,88],[90,88],[90,89],[91,89],[91,90],[92,90],[92,91],[93,91],[93,92],[94,92],[94,93],[95,93],[95,94],[96,94],[96,95],[97,95],[97,96],[98,96],[98,97],[99,97]]\n",
    "\n",
    "#numCourses = 5\n",
    "#prerequisites = [[1,4],[2,4],[3,1],[3,2]]\n",
    "\n",
    "obj = Solution()\n",
    "obj.canFinish(numCourses,prerequisites)"
   ]
  },
  {
   "cell_type": "code",
   "execution_count": 174,
   "metadata": {},
   "outputs": [],
   "source": [
    "class Solution:\n",
    "    def canFinish(self, numCourses: int, prerequisites) -> bool:\n",
    "        from collections import defaultdict\n",
    "        graph, ind = defaultdict(set), defaultdict(int)\n",
    "        for pre in prerequisites:\n",
    "            if pre[1] in graph[pre[0]]:\n",
    "                return False\n",
    "            graph[pre[1]].add(pre[0])\n",
    "            ind[pre[0]] += 1\n",
    "        ind0 = [i for i in range(numCourses) if ind[i] == 0]\n",
    "        count = 0\n",
    "        while ind0:\n",
    "            thisind = ind0.pop(0)\n",
    "            count += 1\n",
    "            for elem in graph[thisind]:\n",
    "                ind[elem] -= 1\n",
    "                if ind[elem] == 0:\n",
    "                    ind0.append(elem)\n",
    "    \n",
    "        return count == numCourses"
   ]
  },
  {
   "cell_type": "code",
   "execution_count": 175,
   "metadata": {},
   "outputs": [
    {
     "data": {
      "text/plain": [
       "True"
      ]
     },
     "execution_count": 175,
     "metadata": {},
     "output_type": "execute_result"
    }
   ],
   "source": [
    "numCourses = 2\n",
    "prerequisites = [[1,0],[0,1]]\n",
    "prerequisites = [[1,0]]\n",
    "\n",
    "obj = Solution()\n",
    "obj.canFinish(numCourses, prerequisites)"
   ]
  },
  {
   "cell_type": "code",
   "execution_count": 7,
   "metadata": {},
   "outputs": [],
   "source": [
    "from collections import deque\n",
    "class Solution:\n",
    "    def canFinish(self, numCourses: int, prerequisites) -> bool:\n",
    "        from collections import defaultdict\n",
    "        g,ind = defaultdict(set),[0]*numCourses\n",
    "        for a,b in prerequisites:\n",
    "            g[b].add(a)\n",
    "            if b in g[b]:\n",
    "                return False\n",
    "            ind[a] += 1\n",
    "        g0 = deque()\n",
    "        for i in range(numCourses):\n",
    "            if ind[i] == 0:\n",
    "                g0.append(i)\n",
    "        if not g0:\n",
    "            return False\n",
    "        seen = set()\n",
    "        while g0:\n",
    "            c = g0.popleft()\n",
    "            seen.add(c)\n",
    "            for n in g[c]:\n",
    "                ind[n] -= 1\n",
    "                if ind[n] == 0:\n",
    "                    g0.append(n)\n",
    "        return len(seen) == numCourses"
   ]
  },
  {
   "cell_type": "code",
   "execution_count": 8,
   "metadata": {},
   "outputs": [
    {
     "data": {
      "text/plain": [
       "True"
      ]
     },
     "execution_count": 8,
     "metadata": {},
     "output_type": "execute_result"
    }
   ],
   "source": [
    "numCourses = 5\n",
    "prerequisites = [[1,4],[2,4],[3,1],[3,2]]\n",
    "\n",
    "obj = Solution()\n",
    "obj.canFinish(numCourses,prerequisites)"
   ]
  },
  {
   "cell_type": "code",
   "execution_count": null,
   "metadata": {},
   "outputs": [],
   "source": []
  }
 ],
 "metadata": {
  "kernelspec": {
   "display_name": "Python 3",
   "language": "python",
   "name": "python3"
  },
  "language_info": {
   "codemirror_mode": {
    "name": "ipython",
    "version": 3
   },
   "file_extension": ".py",
   "mimetype": "text/x-python",
   "name": "python",
   "nbconvert_exporter": "python",
   "pygments_lexer": "ipython3",
   "version": "3.7.9"
  }
 },
 "nbformat": 4,
 "nbformat_minor": 2
}
