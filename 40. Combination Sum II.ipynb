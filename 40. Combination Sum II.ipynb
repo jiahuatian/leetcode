{
 "cells": [
  {
   "cell_type": "code",
   "execution_count": 60,
   "metadata": {},
   "outputs": [],
   "source": [
    "class Solution:\n",
    "    def combinationSum2(self, candidates, target: int):\n",
    "        res = []\n",
    "        seen = set()\n",
    "        \n",
    "        for i in range(len(candidates)):\n",
    "            cc = candidates.copy()\n",
    "            cc.pop(i)\n",
    "            notpick = cc\n",
    "            stack = [[[candidates[i]],target-sum([candidates[i]]),notpick],]\n",
    "            \n",
    "            while stack:\n",
    "                thislist, thissum, notpick = stack.pop()\n",
    "                if thissum == 0:\n",
    "                    res.append(sorted(thislist))\n",
    "                for j in range(len(notpick)):\n",
    "                    topick = notpick[j]\n",
    "                    newtuple = tuple(sorted(thislist+[topick]))\n",
    "                    if thissum-topick >= 0 and newtuple not in seen:\n",
    "                        np = notpick.copy()\n",
    "                        np.pop(j)\n",
    "                        stack.append([thislist+[topick],thissum-topick,np])\n",
    "                        seen.add(newtuple)\n",
    "                        \n",
    "        print(res)\n",
    "        \n",
    "        #return [list(t) for t in set([(tuple(elem)) for elem in res])]\n",
    "        return res"
   ]
  },
  {
   "cell_type": "code",
   "execution_count": 61,
   "metadata": {},
   "outputs": [
    {
     "name": "stdout",
     "output_type": "stream",
     "text": [
      "[[1, 2, 5], [1, 1, 6], [1, 7], [2, 6]]\n"
     ]
    },
    {
     "data": {
      "text/plain": [
       "[[1, 2, 5], [1, 1, 6], [1, 7], [2, 6]]"
      ]
     },
     "execution_count": 61,
     "metadata": {},
     "output_type": "execute_result"
    }
   ],
   "source": [
    "candidates = [10,1,2,7,6,1,5]\n",
    "target = 8\n",
    "\n",
    "#candidates = [1,1,1,1,1,1,1,1,1,1,1,1,1,1,1,1,1,1,1,1,1,1,1,1,1]\n",
    "#target = 27\n",
    "\n",
    "#candidates = [1,1]\n",
    "#target = 1\n",
    "\n",
    "obj = Solution()\n",
    "obj.combinationSum2(candidates,target)"
   ]
  },
  {
   "cell_type": "code",
   "execution_count": null,
   "metadata": {},
   "outputs": [],
   "source": []
  }
 ],
 "metadata": {
  "kernelspec": {
   "display_name": "Python 3",
   "language": "python",
   "name": "python3"
  },
  "language_info": {
   "codemirror_mode": {
    "name": "ipython",
    "version": 3
   },
   "file_extension": ".py",
   "mimetype": "text/x-python",
   "name": "python",
   "nbconvert_exporter": "python",
   "pygments_lexer": "ipython3",
   "version": "3.7.3"
  }
 },
 "nbformat": 4,
 "nbformat_minor": 2
}
