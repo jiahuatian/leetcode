{
 "cells": [
  {
   "cell_type": "code",
   "execution_count": 1,
   "metadata": {},
   "outputs": [
    {
     "data": {
      "text/plain": [
       "[[1, 3], [2, 6], [8, 10], [15, 18]]"
      ]
     },
     "execution_count": 1,
     "metadata": {},
     "output_type": "execute_result"
    }
   ],
   "source": [
    "intervals = [[1,3],[2,6],[8,10],[15,18]]\n",
    "\n",
    "sorted(intervals, key=lambda x:x[0])"
   ]
  },
  {
   "cell_type": "code",
   "execution_count": 23,
   "metadata": {},
   "outputs": [],
   "source": [
    "class Solution:\n",
    "    def merge(self, intervals):  \n",
    "        \n",
    "        intervals = sorted(intervals, key=lambda x:x[0])\n",
    "        from collections import defaultdict\n",
    "        newintvl = defaultdict(list)\n",
    "        newintvl[0] = intervals[0]\n",
    "        \n",
    "        i, j = 1, 0\n",
    "        while i < len(intervals):\n",
    "            if self.overlap(newintvl[j],intervals[i]):\n",
    "                newintvl[j] = [min(newintvl[j][0],intervals[i][0]),max(newintvl[j][1], intervals[i][1])]\n",
    "            else:\n",
    "                j += 1\n",
    "                newintvl[j] = intervals[i]\n",
    "            i += 1\n",
    "            \n",
    "        return [newintvl[key] for key in newintvl]\n",
    "        \n",
    "        \n",
    "    def overlap(self, intvl1, intvl2):\n",
    "        if not (min(intvl1) > max(intvl2) or max(intvl1) < min(intvl2)):\n",
    "            return True\n",
    "        else:\n",
    "            return False"
   ]
  },
  {
   "cell_type": "code",
   "execution_count": 24,
   "metadata": {},
   "outputs": [
    {
     "data": {
      "text/plain": [
       "[[1, 6], [8, 10], [15, 18]]"
      ]
     },
     "execution_count": 24,
     "metadata": {},
     "output_type": "execute_result"
    }
   ],
   "source": [
    "intervals = [[1,3],[2,6],[8,10],[15,18]]\n",
    "#intervals = [[1,4],[0,4]]\n",
    "#intervals = [[1,4],[0,2],[3,5]]\n",
    "#intervals = [[2,3],[4,5],[6,7],[8,9],[1,10]]\n",
    "\n",
    "obj = Solution()\n",
    "obj.merge(intervals)"
   ]
  },
  {
   "cell_type": "code",
   "execution_count": 35,
   "metadata": {},
   "outputs": [],
   "source": [
    "class Solution:\n",
    "    def merge(self, intervals):  \n",
    "        intervals.sort(key=lambda a:a[0])\n",
    "        print(intervals)\n",
    "        \n",
    "        res = [[intervals[0][0],intervals[0][1]],]\n",
    "        \n",
    "        i = 1\n",
    "        while i<len(intervals):\n",
    "            if intervals[i][0] <= res[-1][1]:\n",
    "                res[-1][1] = max(intervals[i][1],res[-1][1])\n",
    "            else:\n",
    "                res.append([intervals[i][0],intervals[i][1]])\n",
    "            i += 1\n",
    "\n",
    "        return res"
   ]
  },
  {
   "cell_type": "code",
   "execution_count": 38,
   "metadata": {},
   "outputs": [
    {
     "name": "stdout",
     "output_type": "stream",
     "text": [
      "[[1, 3], [2, 6], [8, 10], [15, 18]]\n"
     ]
    },
    {
     "data": {
      "text/plain": [
       "[[1, 6], [8, 10], [15, 18]]"
      ]
     },
     "execution_count": 38,
     "metadata": {},
     "output_type": "execute_result"
    }
   ],
   "source": [
    "intervals = [[1,3],[2,6],[8,10],[15,18]]\n",
    "#intervals = [[1,4],[4,5]]\n",
    "#intervals = [[1,4],[2,3]]\n",
    "#intervals = [[2,3],[4,5],[6,7],[8,9],[1,10]]\n",
    "\n",
    "obj = Solution()\n",
    "obj.merge(intervals)"
   ]
  },
  {
   "cell_type": "code",
   "execution_count": null,
   "metadata": {},
   "outputs": [],
   "source": []
  }
 ],
 "metadata": {
  "kernelspec": {
   "display_name": "Python 3",
   "language": "python",
   "name": "python3"
  },
  "language_info": {
   "codemirror_mode": {
    "name": "ipython",
    "version": 3
   },
   "file_extension": ".py",
   "mimetype": "text/x-python",
   "name": "python",
   "nbconvert_exporter": "python",
   "pygments_lexer": "ipython3",
   "version": "3.7.3"
  }
 },
 "nbformat": 4,
 "nbformat_minor": 2
}
