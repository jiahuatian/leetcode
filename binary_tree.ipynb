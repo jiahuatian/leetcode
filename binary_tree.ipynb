{
 "cells": [
  {
   "cell_type": "code",
   "execution_count": null,
   "metadata": {},
   "outputs": [],
   "source": [
    "class Node:\n",
    "    def __init__(self, data):\n",
    "        self.data = data\n",
    "        self.left = None\n",
    "        self.right = None\n",
    "        \n",
    "class BinaryTree:\n",
    "    def __init__(self, root):\n",
    "        self.root = root\n",
    "        \n",
    "    def     \n",
    "        \n",
    "        \n",
    "    def printTree(self, node):\n",
    "        if node:\n",
    "            print(node.data)\n",
    "            node.left.printTree()\n",
    "            \n",
    "    "
   ]
  },
  {
   "cell_type": "markdown",
   "metadata": {},
   "source": [
    "# Recursion: Merge sort"
   ]
  },
  {
   "cell_type": "code",
   "execution_count": 17,
   "metadata": {},
   "outputs": [],
   "source": [
    "def mergeSort(mylist):\n",
    "    if len(mylist) > 1:\n",
    "        mid = len(mylist)//2\n",
    "        leftlist = mylist[:mid]\n",
    "        rightlist = mylist[mid:]\n",
    "        \n",
    "        print(leftlist, end = '')\n",
    "        print(rightlist)\n",
    "    \n",
    "        mergeSort(leftlist)\n",
    "        mergeSort(rightlist)\n",
    "    \n",
    "        i = 0\n",
    "        j = 0\n",
    "        k = 0\n",
    "        \n",
    "        while i < len(leftlist) and j < len(rightlist):\n",
    "            if leftlist[i] <= rightlist[j]:\n",
    "                mylist[k] = leftlist[i]\n",
    "                i += 1\n",
    "            else:\n",
    "                mylist[k] = rightlist[j]\n",
    "                j += 1\n",
    "            k += 1\n",
    "            \n",
    "        while i < len(leftlist):\n",
    "            mylist[k] = leftlist[i]\n",
    "            i += 1\n",
    "            k += 1\n",
    "            \n",
    "        while j < len(rightlist):\n",
    "            mylist[k] = rightlist[j]\n",
    "            j += 1\n",
    "            k += 1\n",
    "            \n",
    "        print('my list is ', mylist)"
   ]
  },
  {
   "cell_type": "code",
   "execution_count": 18,
   "metadata": {},
   "outputs": [
    {
     "name": "stdout",
     "output_type": "stream",
     "text": [
      "[54, 26, 93, 17][77, 31, 44, 55, 20]\n",
      "[54, 26][93, 17]\n",
      "[54][26]\n",
      "my list is  [26, 54]\n",
      "[93][17]\n",
      "my list is  [17, 93]\n",
      "my list is  [17, 26, 54, 93]\n",
      "[77, 31][44, 55, 20]\n",
      "[77][31]\n",
      "my list is  [31, 77]\n",
      "[44][55, 20]\n",
      "[55][20]\n",
      "my list is  [20, 55]\n",
      "my list is  [20, 44, 55]\n",
      "my list is  [20, 31, 44, 55, 77]\n",
      "my list is  [17, 20, 26, 31, 44, 54, 55, 77, 93]\n",
      "[17, 20, 26, 31, 44, 54, 55, 77, 93]\n"
     ]
    }
   ],
   "source": [
    "alist = [54,26,93,17,77,31,44,55,20]\n",
    "mergeSort(alist)\n",
    "print(alist)"
   ]
  },
  {
   "cell_type": "code",
   "execution_count": null,
   "metadata": {},
   "outputs": [],
   "source": []
  }
 ],
 "metadata": {
  "kernelspec": {
   "display_name": "Python 3",
   "language": "python",
   "name": "python3"
  },
  "language_info": {
   "codemirror_mode": {
    "name": "ipython",
    "version": 3
   },
   "file_extension": ".py",
   "mimetype": "text/x-python",
   "name": "python",
   "nbconvert_exporter": "python",
   "pygments_lexer": "ipython3",
   "version": "3.7.3"
  }
 },
 "nbformat": 4,
 "nbformat_minor": 2
}
