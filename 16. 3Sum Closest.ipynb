{
 "cells": [
  {
   "cell_type": "code",
   "execution_count": 29,
   "metadata": {},
   "outputs": [],
   "source": [
    "class Solution:\n",
    "    def threeSumClosest(self, nums, target: int) -> int:\n",
    "        nums.sort()\n",
    "        mi = float('inf')\n",
    "        print(nums)\n",
    "        \n",
    "        for i in range(len(nums)-2):\n",
    "            start = i+1\n",
    "            end = len(nums)-1\n",
    "            \n",
    "            while start < end:\n",
    "                print(nums[i],nums[start],nums[end])\n",
    "                if nums[i]+nums[start]+nums[end] == target:\n",
    "                    return nums[i]+nums[start]+nums[end]\n",
    "                elif nums[i]+nums[start]+nums[end] > target:\n",
    "                    if abs(nums[i]+nums[start]+nums[end]-target) < mi:\n",
    "                        mi = abs(nums[i]+nums[start]+nums[end]-target)\n",
    "                        res = nums[i]+nums[start]+nums[end]\n",
    "                        print(nums[i],nums[start],nums[end])\n",
    "                    end -= 1\n",
    "                else:\n",
    "                    if abs(nums[i]+nums[start]+nums[end]-target) < mi:\n",
    "                        mi = abs(nums[i]+nums[start]+nums[end]-target)\n",
    "                        res = nums[i]+nums[start]+nums[end]\n",
    "                        print(nums[i],nums[start],nums[end])\n",
    "                    start += 1\n",
    "                    \n",
    "        return res"
   ]
  },
  {
   "cell_type": "code",
   "execution_count": 30,
   "metadata": {},
   "outputs": [
    {
     "name": "stdout",
     "output_type": "stream",
     "text": [
      "[-3, 0, 1, 2]\n",
      "-3 0 2\n",
      "-3 0 2\n",
      "-3 1 2\n",
      "-3 1 2\n",
      "0 1 2\n"
     ]
    },
    {
     "data": {
      "text/plain": [
       "0"
      ]
     },
     "execution_count": 30,
     "metadata": {},
     "output_type": "execute_result"
    }
   ],
   "source": [
    "#nums = [-1,2,1,-4]\n",
    "#nums = [0,1,2]\n",
    "nums = [0,2,1,-3]\n",
    "target = 1\n",
    "\n",
    "obj = Solution()\n",
    "obj.threeSumClosest(nums, target)"
   ]
  },
  {
   "cell_type": "code",
   "execution_count": 31,
   "metadata": {},
   "outputs": [
    {
     "data": {
      "text/plain": [
       "{3}"
      ]
     },
     "execution_count": 31,
     "metadata": {},
     "output_type": "execute_result"
    }
   ],
   "source": [
    "set1 = set([1,2,3])\n",
    "set2 = set([3,4,5])\n",
    "\n",
    "set1.intersection(set2)"
   ]
  },
  {
   "cell_type": "code",
   "execution_count": 35,
   "metadata": {},
   "outputs": [
    {
     "data": {
      "text/plain": [
       "[5, 4, 3, 2, 1]"
      ]
     },
     "execution_count": 35,
     "metadata": {},
     "output_type": "execute_result"
    }
   ],
   "source": [
    "aa = [1,2,3,4,5]\n",
    "list(reversed(aa))"
   ]
  },
  {
   "cell_type": "code",
   "execution_count": 38,
   "metadata": {},
   "outputs": [
    {
     "data": {
      "text/plain": [
       "[\"Let's\", 'take', 'LeetCode', 'contest']"
      ]
     },
     "execution_count": 38,
     "metadata": {},
     "output_type": "execute_result"
    }
   ],
   "source": [
    "\"Let's take LeetCode contest\".split(' ')"
   ]
  },
  {
   "cell_type": "code",
   "execution_count": 39,
   "metadata": {},
   "outputs": [
    {
     "data": {
      "text/plain": [
       "'a'"
      ]
     },
     "execution_count": 39,
     "metadata": {},
     "output_type": "execute_result"
    }
   ],
   "source": [
    "word = 'abracadabra'\n",
    "word[0]"
   ]
  },
  {
   "cell_type": "code",
   "execution_count": 40,
   "metadata": {},
   "outputs": [
    {
     "data": {
      "text/plain": [
       "['L', 'e', 't', \"'\", 's']"
      ]
     },
     "execution_count": 40,
     "metadata": {},
     "output_type": "execute_result"
    }
   ],
   "source": [
    "list(\"Let's\")"
   ]
  },
  {
   "cell_type": "code",
   "execution_count": null,
   "metadata": {},
   "outputs": [],
   "source": []
  }
 ],
 "metadata": {
  "kernelspec": {
   "display_name": "Python 3",
   "language": "python",
   "name": "python3"
  },
  "language_info": {
   "codemirror_mode": {
    "name": "ipython",
    "version": 3
   },
   "file_extension": ".py",
   "mimetype": "text/x-python",
   "name": "python",
   "nbconvert_exporter": "python",
   "pygments_lexer": "ipython3",
   "version": "3.7.3"
  }
 },
 "nbformat": 4,
 "nbformat_minor": 2
}
