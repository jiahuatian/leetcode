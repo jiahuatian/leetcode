{
 "cells": [
  {
   "cell_type": "code",
   "execution_count": 1,
   "metadata": {},
   "outputs": [],
   "source": [
    "myset = set([1,2,3,4,5])"
   ]
  },
  {
   "cell_type": "code",
   "execution_count": 3,
   "metadata": {},
   "outputs": [
    {
     "data": {
      "text/plain": [
       "{1, 2, 3, 4}"
      ]
     },
     "execution_count": 3,
     "metadata": {},
     "output_type": "execute_result"
    }
   ],
   "source": [
    "myset - set([5,5,5,5,5])"
   ]
  },
  {
   "cell_type": "code",
   "execution_count": 13,
   "metadata": {},
   "outputs": [
    {
     "data": {
      "text/plain": [
       "[5, 4, 3, 2, 1]"
      ]
     },
     "execution_count": 13,
     "metadata": {},
     "output_type": "execute_result"
    }
   ],
   "source": [
    "nums = [5,4,3,2,1]\n",
    "nums[:3].sort()\n",
    "nums"
   ]
  },
  {
   "cell_type": "code",
   "execution_count": 19,
   "metadata": {},
   "outputs": [
    {
     "name": "stdout",
     "output_type": "stream",
     "text": [
      "[5, 4, 3]\n"
     ]
    },
    {
     "data": {
      "text/plain": [
       "[3, 4, 5]"
      ]
     },
     "execution_count": 19,
     "metadata": {},
     "output_type": "execute_result"
    }
   ],
   "source": [
    "mylist = nums[:3]\n",
    "print(mylist)\n",
    "mylist.sort()\n",
    "mylist"
   ]
  },
  {
   "cell_type": "code",
   "execution_count": 24,
   "metadata": {},
   "outputs": [
    {
     "data": {
      "text/plain": [
       "defaultdict(int, {0: 1})"
      ]
     },
     "execution_count": 24,
     "metadata": {},
     "output_type": "execute_result"
    }
   ],
   "source": [
    "from collections import defaultdict\n",
    "\n",
    "mydict = defaultdict(int)\n",
    "mydict[0] += 1\n",
    "mydict"
   ]
  },
  {
   "cell_type": "code",
   "execution_count": 1,
   "metadata": {},
   "outputs": [],
   "source": [
    "class Solution(object):\n",
    "    def containsNearbyAlmostDuplicate(self, nums, k, t):\n",
    "        \"\"\"\n",
    "        :type nums: List[int]\n",
    "        :type k: int\n",
    "        :type t: int\n",
    "        :rtype: bool\n",
    "        \"\"\"\n",
    "        \n",
    "        i = 0\n",
    "        \n",
    "        while i < len(nums):\n",
    "            j = 0\n",
    "            mylist = []\n",
    "            while j <= k and i+j < len(nums):\n",
    "                print(list(range(nums[i+j]-t,nums[i+j]+t+1)), mylist)\n",
    "                if len(set(list(range(nums[i+j]-t,nums[i+j]+t+1))+mylist)) < len(set(list(range(nums[i+j]-t,nums[i+j]+t+1)))) + len(mylist):\n",
    "                    print(i,j)\n",
    "                    #print(list(range(nums[i+j]-t,nums[i+j]+t+1)), mylist)\n",
    "                    return True\n",
    "                mylist.append(nums[i+j])\n",
    "                j += 1\n",
    "            i += 1\n",
    "            \n",
    "        return False\n",
    "                "
   ]
  },
  {
   "cell_type": "code",
   "execution_count": null,
   "metadata": {
    "scrolled": true
   },
   "outputs": [],
   "source": [
    "nums = [1,5,9,1,5,9]\n",
    "k = 2\n",
    "t = 3\n",
    "\n",
    "nums = [2147483647,-1,2147483647]\n",
    "k = 1\n",
    "t = 2147483647\n",
    "\n",
    "obj = Solution()\n",
    "obj.containsNearbyAlmostDuplicate(nums,k,t)"
   ]
  },
  {
   "cell_type": "code",
   "execution_count": 50,
   "metadata": {},
   "outputs": [
    {
     "data": {
      "text/plain": [
       "2147483648"
      ]
     },
     "execution_count": 50,
     "metadata": {},
     "output_type": "execute_result"
    }
   ],
   "source": [
    "2**31"
   ]
  },
  {
   "cell_type": "code",
   "execution_count": 1,
   "metadata": {},
   "outputs": [],
   "source": [
    "class Solution(object):\n",
    "    def containsNearbyAlmostDuplicate(self, nums, k, t):\n",
    "        \"\"\"\n",
    "        :type nums: List[int]\n",
    "        :type k: int\n",
    "        :type t: int\n",
    "        :rtype: bool\n",
    "        \"\"\"\n",
    "        \n",
    "        i = 0\n",
    "        \n",
    "        while i < len(nums):\n",
    "            j = 0\n",
    "            mylist = []\n",
    "            while j <= k and i+j < len(nums):\n",
    "                if len(set(list(range(int(nums[i+j]-t),int(nums[i+j]+t+1)))+mylist)) < len(set(list(range(int(nums[i+j]-t),int(nums[i+j]+t+1))))) + len(mylist):\n",
    "                    return True\n",
    "                mylist.append(nums[i+j])\n",
    "                j += 1\n",
    "            i += 1\n",
    "            \n",
    "        return False"
   ]
  },
  {
   "cell_type": "code",
   "execution_count": 2,
   "metadata": {},
   "outputs": [
    {
     "data": {
      "text/plain": [
       "False"
      ]
     },
     "execution_count": 2,
     "metadata": {},
     "output_type": "execute_result"
    }
   ],
   "source": [
    "nums = [2147483647,-1,2147483647]\n",
    "k = 1\n",
    "#t = 2147483647\n",
    "t = 3\n",
    "\n",
    "\n",
    "obj = Solution()\n",
    "obj.containsNearbyAlmostDuplicate(nums,k,t)"
   ]
  },
  {
   "cell_type": "code",
   "execution_count": 9,
   "metadata": {},
   "outputs": [
    {
     "data": {
      "text/plain": [
       "4294967294"
      ]
     },
     "execution_count": 9,
     "metadata": {},
     "output_type": "execute_result"
    }
   ],
   "source": [
    "2147483647+2147483647"
   ]
  },
  {
   "cell_type": "code",
   "execution_count": 5,
   "metadata": {},
   "outputs": [
    {
     "data": {
      "text/plain": [
       "dict_keys([])"
      ]
     },
     "execution_count": 5,
     "metadata": {},
     "output_type": "execute_result"
    }
   ],
   "source": [
    "from collections import defaultdict\n",
    "\n",
    "mydict = defaultdict(int)\n",
    "mydict.keys()"
   ]
  },
  {
   "cell_type": "code",
   "execution_count": 95,
   "metadata": {},
   "outputs": [],
   "source": [
    "class Solution(object):\n",
    "    def containsNearbyAlmostDuplicate(self, nums, k, t):\n",
    "        \"\"\"\n",
    "        :type nums: List[int]\n",
    "        :type k: int\n",
    "        :type t: int\n",
    "        :rtype: bool\n",
    "        \"\"\"\n",
    "        \n",
    "        if t < 0 or k < 0:\n",
    "            return False\n",
    "        \n",
    "        intvl = t+1\n",
    "    \n",
    "        i = 0\n",
    "        j = 0\n",
    "        \n",
    "        from collections import defaultdict\n",
    "        mydict = defaultdict(list)\n",
    "\n",
    "        while i < len(nums):\n",
    "            while j <= k and i+j < len(nums):\n",
    "                block = nums[i+j]//intvl\n",
    "                if mydict[block] != []:\n",
    "                    return True\n",
    "                if mydict[block-1] != []:\n",
    "                    lower = max(mydict[block-1])\n",
    "                else:\n",
    "                    lower = -float('inf')\n",
    "                if mydict[block+1] != []:\n",
    "                    upper = min(mydict[block+1])\n",
    "                else:\n",
    "                    upper = float('inf')\n",
    "                if min(nums[i+j] - lower, upper - nums[i+j]) <= t:\n",
    "                    return True\n",
    "                mydict[block].append(nums[i+j])\n",
    "                j += 1\n",
    "            mydict[nums[i]//intvl].remove(nums[i])\n",
    "            i += 1\n",
    "            j -= 1\n",
    "            \n",
    "        return False"
   ]
  },
  {
   "cell_type": "code",
   "execution_count": 98,
   "metadata": {},
   "outputs": [
    {
     "data": {
      "text/plain": [
       "False"
      ]
     },
     "execution_count": 98,
     "metadata": {},
     "output_type": "execute_result"
    }
   ],
   "source": [
    "nums = [1,5,9,1,5,9]\n",
    "k = 2\n",
    "t = 3\n",
    "\n",
    "nums = [2147483647,-1,2147483647]\n",
    "k = 1\n",
    "t = 2147483647\n",
    "\n",
    "#nums = [1,2,3,1]\n",
    "#k = 3\n",
    "#t = 0\n",
    "\n",
    "obj = Solution()\n",
    "obj.containsNearbyAlmostDuplicate(nums,k,t)"
   ]
  },
  {
   "cell_type": "code",
   "execution_count": 118,
   "metadata": {},
   "outputs": [
    {
     "data": {
      "text/plain": [
       "defaultdict(<function __main__.<lambda>>, {1: [inf, 1]})"
      ]
     },
     "execution_count": 118,
     "metadata": {},
     "output_type": "execute_result"
    }
   ],
   "source": [
    "import sys\n",
    "\n",
    "bucket = defaultdict(lambda: [float('inf')])\n",
    "bucket[1].append(1)\n",
    "bucket"
   ]
  },
  {
   "cell_type": "code",
   "execution_count": 119,
   "metadata": {},
   "outputs": [
    {
     "data": {
      "text/plain": [
       "1"
      ]
     },
     "execution_count": 119,
     "metadata": {},
     "output_type": "execute_result"
    }
   ],
   "source": [
    "bucketkey = lambda x: x - 4\n",
    "bucketkey(5)"
   ]
  },
  {
   "cell_type": "code",
   "execution_count": 108,
   "metadata": {},
   "outputs": [
    {
     "data": {
      "text/plain": [
       "[1, 2, 3, 4, 5, 6]"
      ]
     },
     "execution_count": 108,
     "metadata": {},
     "output_type": "execute_result"
    }
   ],
   "source": [
    "list1 = [1,2,3]\n",
    "list2 = [4,5,6]\n",
    "list1 + list2"
   ]
  },
  {
   "cell_type": "code",
   "execution_count": 146,
   "metadata": {},
   "outputs": [],
   "source": [
    "class Solution(object):\n",
    "    def containsNearbyAlmostDuplicate(self, nums, k, t):\n",
    "        \"\"\"\n",
    "        :type nums: List[int]\n",
    "        :type k: int\n",
    "        :type t: int\n",
    "        :rtype: bool\n",
    "        \"\"\"\n",
    "        \n",
    "        if len(nums) == 0 or k < 0 or t < 0:\n",
    "            return False\n",
    "        \n",
    "        from collections import defaultdict\n",
    "        \n",
    "        bucket = defaultdict(lambda: [float('inf')])\n",
    "        \n",
    "        bucketkey = lambda x: x//(t+1)\n",
    "        \n",
    "        for i in range(len(nums)):\n",
    "            key = bucketkey(nums[i])\n",
    "            for num in bucket[key-1] + bucket[key] + bucket[key+1]:\n",
    "                if abs(num - nums[i]) <= t:\n",
    "                    return True\n",
    "            bucket[key].append(nums[i])\n",
    "            if i >= k:\n",
    "                bucket[bucketkey(nums[i-k])].remove(nums[i-k])\n",
    "                \n",
    "        return False"
   ]
  },
  {
   "cell_type": "code",
   "execution_count": 147,
   "metadata": {},
   "outputs": [
    {
     "data": {
      "text/plain": [
       "False"
      ]
     },
     "execution_count": 147,
     "metadata": {},
     "output_type": "execute_result"
    }
   ],
   "source": [
    "nums = [1,5,9,1,5,9]\n",
    "k = 2\n",
    "t = 3\n",
    "\n",
    "nums = [2147483647,-1,2147483647]\n",
    "k = 1\n",
    "t = 2147483647\n",
    "\n",
    "#nums = [1,2,3,1]\n",
    "#k = 3\n",
    "#t = 0\n",
    "\n",
    "obj = Solution()\n",
    "obj.containsNearbyAlmostDuplicate(nums,k,t)"
   ]
  },
  {
   "cell_type": "code",
   "execution_count": 150,
   "metadata": {},
   "outputs": [
    {
     "data": {
      "text/plain": [
       "{2: 4, 4: 8}"
      ]
     },
     "execution_count": 150,
     "metadata": {},
     "output_type": "execute_result"
    }
   ],
   "source": [
    "mydict = {1:2, 2:4, 4:8}\n",
    "mydict.pop(1)\n",
    "mydict"
   ]
  },
  {
   "cell_type": "code",
   "execution_count": null,
   "metadata": {},
   "outputs": [],
   "source": []
  }
 ],
 "metadata": {
  "kernelspec": {
   "display_name": "Python 3",
   "language": "python",
   "name": "python3"
  },
  "language_info": {
   "codemirror_mode": {
    "name": "ipython",
    "version": 3
   },
   "file_extension": ".py",
   "mimetype": "text/x-python",
   "name": "python",
   "nbconvert_exporter": "python",
   "pygments_lexer": "ipython3",
   "version": "3.7.3"
  }
 },
 "nbformat": 4,
 "nbformat_minor": 2
}
