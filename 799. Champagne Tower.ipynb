{
 "cells": [
  {
   "cell_type": "code",
   "execution_count": 49,
   "metadata": {},
   "outputs": [],
   "source": [
    "from functools import lru_cache\n",
    "class Solution:\n",
    "    def champagneTower(self, poured: int, query_row: int, query_glass: int) -> float:\n",
    "        @lru_cache(None)\n",
    "        def fib(i):\n",
    "            if i == 0:\n",
    "                return [1]\n",
    "            if i == 1:\n",
    "                return [1,1]\n",
    "            return [1]+[fib(i-1)[j]+fib(i-1)[j-1] for j in range(1,len(fib(i-1)))]+[1]\n",
    "        num = 0\n",
    "        done = 0\n",
    "        for i in range(query_row):\n",
    "            num += i+1\n",
    "            if num >= poured:\n",
    "                done = 1\n",
    "                break\n",
    "        if done == 1 and i != query_row-1:\n",
    "            return 0\n",
    "        thisrow = fib(query_row)\n",
    "        left = poured-num\n",
    "        print(sum(thisrow),left,thisrow[query_glass],thisrow)\n",
    "        return min((left/(sum(thisrow)))*thisrow[query_glass],1)"
   ]
  },
  {
   "cell_type": "code",
   "execution_count": 50,
   "metadata": {},
   "outputs": [
    {
     "name": "stdout",
     "output_type": "stream",
     "text": [
      "64 4 6 [1, 6, 15, 20, 15, 6, 1]\n"
     ]
    },
    {
     "data": {
      "text/plain": [
       "0.375"
      ]
     },
     "execution_count": 50,
     "metadata": {},
     "output_type": "execute_result"
    }
   ],
   "source": [
    "poured = 100000009\n",
    "query_row = 33\n",
    "query_glass = 17\n",
    "\n",
    "poured = 25\n",
    "query_row = 6\n",
    "query_glass = 1\n",
    "\n",
    "obj = Solution()\n",
    "obj.champagneTower(poured,query_row,query_glass)"
   ]
  },
  {
   "cell_type": "code",
   "execution_count": 51,
   "metadata": {},
   "outputs": [
    {
     "data": {
      "text/plain": [
       "0.375"
      ]
     },
     "execution_count": 51,
     "metadata": {},
     "output_type": "execute_result"
    }
   ],
   "source": [
    "4/64*6"
   ]
  },
  {
   "cell_type": "code",
   "execution_count": 43,
   "metadata": {},
   "outputs": [],
   "source": [
    "class Solution(object):\n",
    "    def champagneTower(self, poured, query_row, query_glass):\n",
    "        A = [[0] * k for k in range(1, 102)]\n",
    "        A[0][0] = poured\n",
    "        for r in range(query_row + 1):\n",
    "            for c in range(r+1):\n",
    "                q = (A[r][c] - 1.0) / 2.0\n",
    "                if q > 0:\n",
    "                    A[r+1][c] += q\n",
    "                    A[r+1][c+1] += q\n",
    "\n",
    "        return min(1, A[query_row][query_glass])"
   ]
  },
  {
   "cell_type": "code",
   "execution_count": 44,
   "metadata": {},
   "outputs": [
    {
     "data": {
      "text/plain": [
       "0.1875"
      ]
     },
     "execution_count": 44,
     "metadata": {},
     "output_type": "execute_result"
    }
   ],
   "source": [
    "poured = 25\n",
    "query_row = 6\n",
    "query_glass = 1\n",
    "\n",
    "obj = Solution()\n",
    "obj.champagneTower(poured,query_row,query_glass)"
   ]
  },
  {
   "cell_type": "code",
   "execution_count": null,
   "metadata": {},
   "outputs": [],
   "source": []
  }
 ],
 "metadata": {
  "kernelspec": {
   "display_name": "Python 3",
   "language": "python",
   "name": "python3"
  },
  "language_info": {
   "codemirror_mode": {
    "name": "ipython",
    "version": 3
   },
   "file_extension": ".py",
   "mimetype": "text/x-python",
   "name": "python",
   "nbconvert_exporter": "python",
   "pygments_lexer": "ipython3",
   "version": "3.7.9"
  }
 },
 "nbformat": 4,
 "nbformat_minor": 4
}
