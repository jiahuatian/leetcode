{
 "cells": [
  {
   "cell_type": "code",
   "execution_count": 8,
   "metadata": {},
   "outputs": [],
   "source": [
    "class SparseVector:\n",
    "    def __init__(self, nums):\n",
    "        self.veclist = nums\n",
    "        self.zeroesset = set()\n",
    "        for i,n in enumerate(nums):\n",
    "            if n == 0:\n",
    "                self.zeroesset.add(i)\n",
    "\n",
    "    # Return the dotProduct of two sparse vectors\n",
    "    def dotProduct(self, vec: 'SparseVector') -> int:\n",
    "        #v2 = SparseVector(vec)\n",
    "        zeroSet = self.zeroesset.union(vec.zeroesset)\n",
    "        v1list = [self.veclist[i] for i in range(len(self.veclist)) if i not in zeroSet]\n",
    "        v2list = [vec.veclist[i] for i in range(len(vec.veclist)) if i not in zeroSet]\n",
    "        res = 0\n",
    "        for i in range(len(v1list)):\n",
    "            res += v1list[i]*v2list[i]\n",
    "        return res"
   ]
  },
  {
   "cell_type": "code",
   "execution_count": 9,
   "metadata": {},
   "outputs": [
    {
     "name": "stdout",
     "output_type": "stream",
     "text": [
      "{0, 2, 3, 5, 6}\n",
      "{1, 2, 3, 5}\n"
     ]
    }
   ],
   "source": [
    "nums1 = [0,1,0,0,2,0,0]\n",
    "nums2 = [1,0,0,0,3,0,4]\n",
    "\n",
    "v1 = SparseVector(nums1)\n",
    "v2 = SparseVector(nums2)\n",
    "print(v1.zeroesset)\n",
    "print(v2.zeroesset)"
   ]
  },
  {
   "cell_type": "code",
   "execution_count": 7,
   "metadata": {},
   "outputs": [
    {
     "data": {
      "text/plain": [
       "{0, 1, 2, 3, 5, 6}"
      ]
     },
     "execution_count": 7,
     "metadata": {},
     "output_type": "execute_result"
    }
   ],
   "source": [
    "v1.zeroesset.union(v2.zeroesset)"
   ]
  },
  {
   "cell_type": "code",
   "execution_count": null,
   "metadata": {},
   "outputs": [],
   "source": []
  }
 ],
 "metadata": {
  "kernelspec": {
   "display_name": "Python 3",
   "language": "python",
   "name": "python3"
  },
  "language_info": {
   "codemirror_mode": {
    "name": "ipython",
    "version": 3
   },
   "file_extension": ".py",
   "mimetype": "text/x-python",
   "name": "python",
   "nbconvert_exporter": "python",
   "pygments_lexer": "ipython3",
   "version": "3.7.3"
  }
 },
 "nbformat": 4,
 "nbformat_minor": 2
}
