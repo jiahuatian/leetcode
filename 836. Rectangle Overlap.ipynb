{
 "cells": [
  {
   "cell_type": "code",
   "execution_count": 30,
   "metadata": {},
   "outputs": [],
   "source": [
    "class Solution:\n",
    "    def isRectangleOverlap(self, rec1, rec2) -> bool:\n",
    "    \n",
    "        x11, y11, x12, y12 = rec1\n",
    "        x21, y21, x22, y22 = rec2\n",
    "        v1 = [[x11,y11],[x12,y11],[x11,y12],[x12,y12]]\n",
    "        v2 = [[x21,y21],[x22,y21],[x21,y22],[x22,y22]]\n",
    "        \n",
    "        print(v1, v2)\n",
    "        \n",
    "        for p in v2:\n",
    "            if p[0] < x12 and p[0] > x11 and p[1] < y12 and p[1] > y11:\n",
    "                return True\n",
    "        \n",
    "        return False"
   ]
  },
  {
   "cell_type": "code",
   "execution_count": 31,
   "metadata": {},
   "outputs": [
    {
     "name": "stdout",
     "output_type": "stream",
     "text": [
      "[[7, 8], [13, 8], [7, 15], [13, 15]] [[10, 8], [12, 8], [10, 20], [12, 20]]\n"
     ]
    },
    {
     "data": {
      "text/plain": [
       "False"
      ]
     },
     "execution_count": 31,
     "metadata": {},
     "output_type": "execute_result"
    }
   ],
   "source": [
    "rec1 = [7,8,13,15]\n",
    "rec2 = [10,8,12,20]\n",
    "\n",
    "obj = Solution()\n",
    "obj.isRectangleOverlap(rec1, rec2)"
   ]
  },
  {
   "cell_type": "code",
   "execution_count": 7,
   "metadata": {},
   "outputs": [],
   "source": [
    "class Solution(object):\n",
    "    def isRectangleOverlap(self, rec1, rec2):\n",
    "        # check if either rectangle is actually a line\n",
    "        if (rec1[0] == rec1[2] or rec1[1] == rec1[3] or \\\n",
    "            rec2[0] == rec2[2] or rec2[1] == rec2[3]):\n",
    "            # the line cannot have positive overlap\n",
    "            return False\n",
    "\n",
    "        return not (rec1[2] <= rec2[0] or  # left\n",
    "                    rec1[3] <= rec2[1] or  # bottom\n",
    "                    rec1[0] >= rec2[2] or  # right\n",
    "                    rec1[1] >= rec2[3])    # top"
   ]
  },
  {
   "cell_type": "code",
   "execution_count": 8,
   "metadata": {},
   "outputs": [
    {
     "data": {
      "text/plain": [
       "True"
      ]
     },
     "execution_count": 8,
     "metadata": {},
     "output_type": "execute_result"
    }
   ],
   "source": [
    "rec1 = [7,8,13,15]\n",
    "rec2 = [10,8,12,20]\n",
    "\n",
    "obj = Solution()\n",
    "obj.isRectangleOverlap(rec1, rec2)"
   ]
  },
  {
   "cell_type": "code",
   "execution_count": 20,
   "metadata": {},
   "outputs": [],
   "source": [
    "class Solution:\n",
    "    def isRectangleOverlap(self, rec1, rec2) -> bool:    \n",
    "        x11, y11, x12, y12 = rec1\n",
    "        x21, y21, x22, y22 = rec2\n",
    "        ar1 = (x12-x11)*(y12-y11)\n",
    "        ar2 = (x22-x21)*(y22-y21)\n",
    "        \n",
    "        ptdict = {x11**2+y11**2:[x11,y11], x12**2+y12**2:[x12,y12], x21**2+y21**2:[x21,y21], x22**2+y22**2:[x22,y22]}\n",
    "        \n",
    "        print(ptdict)\n",
    "        \n",
    "        rlist = [key for key in ptdict]\n",
    "        rlist.sort()\n",
    "        \n",
    "        nv1 = ptdict[min(rlist)]\n",
    "        nv2 = ptdict[max(rlist)]\n",
    "        \n",
    "        print(nv1,nv2)\n",
    "        \n",
    "        nar = (nv2[0] - nv1[0])*(nv2[1] - nv1[1])\n",
    "        print(nar, ar1, ar2)\n",
    "        \n",
    "        if nar < ar1 + ar2:\n",
    "            return True\n",
    "        else:\n",
    "            return False"
   ]
  },
  {
   "cell_type": "code",
   "execution_count": 21,
   "metadata": {},
   "outputs": [
    {
     "name": "stdout",
     "output_type": "stream",
     "text": [
      "{0: [0, 0], 8: [2, 2], 2: [1, 1], 18: [3, 3]}\n",
      "[0, 0] [3, 3]\n",
      "9 4 4\n"
     ]
    },
    {
     "data": {
      "text/plain": [
       "False"
      ]
     },
     "execution_count": 21,
     "metadata": {},
     "output_type": "execute_result"
    }
   ],
   "source": [
    "rec1 = [0,0,2,2]\n",
    "rec2 = [1,1,3,3]\n",
    "\n",
    "obj = Solution()\n",
    "obj.isRectangleOverlap(rec1, rec2)"
   ]
  },
  {
   "cell_type": "code",
   "execution_count": null,
   "metadata": {},
   "outputs": [],
   "source": []
  }
 ],
 "metadata": {
  "kernelspec": {
   "display_name": "Python 3",
   "language": "python",
   "name": "python3"
  },
  "language_info": {
   "codemirror_mode": {
    "name": "ipython",
    "version": 3
   },
   "file_extension": ".py",
   "mimetype": "text/x-python",
   "name": "python",
   "nbconvert_exporter": "python",
   "pygments_lexer": "ipython3",
   "version": "3.7.3"
  }
 },
 "nbformat": 4,
 "nbformat_minor": 2
}
