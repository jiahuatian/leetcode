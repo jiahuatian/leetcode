{
 "cells": [
  {
   "cell_type": "code",
   "execution_count": 9,
   "metadata": {},
   "outputs": [],
   "source": [
    "# Definition for singly-linked list.\n",
    "class ListNode:\n",
    "    def __init__(self, val=0, next=None):\n",
    "        self.val = val\n",
    "        self.next = next\n",
    "class Solution:\n",
    "    def plusOne(self, head: ListNode) -> ListNode:\n",
    "        \n",
    "        prev = head\n",
    "        \n",
    "        nodelist = []\n",
    "        \n",
    "        while prev is not None:\n",
    "            nodelist.append(prev)\n",
    "            prev = prev.next\n",
    "            \n",
    "        if nodelist[-1].val != 9:\n",
    "            nodelist[-1].val += 1\n",
    "            return head\n",
    "        else:\n",
    "            carryon = 1\n",
    "            i = 1\n",
    "            while i <= len(nodelist):\n",
    "                carryon, nodelist[-i].val = divmod(nodelist[-i].val + carryon, 10)\n",
    "                i += 1\n",
    "            if carryon == 0:\n",
    "                return head\n",
    "            else:\n",
    "                newhead = ListNode(1)\n",
    "                newhead.next = head\n",
    "                return newhead"
   ]
  },
  {
   "cell_type": "code",
   "execution_count": 10,
   "metadata": {},
   "outputs": [
    {
     "data": {
      "text/plain": [
       "1"
      ]
     },
     "execution_count": 10,
     "metadata": {},
     "output_type": "execute_result"
    }
   ],
   "source": [
    "head = ListNode(9)\n",
    "\n",
    "obj = Solution()\n",
    "obj.plusOne(head).val"
   ]
  },
  {
   "cell_type": "code",
   "execution_count": 13,
   "metadata": {},
   "outputs": [
    {
     "data": {
      "text/plain": [
       "{((1, 2), (3, 4)): 1}"
      ]
     },
     "execution_count": 13,
     "metadata": {},
     "output_type": "execute_result"
    }
   ],
   "source": [
    "mydict = dict()\n",
    "mydict[(tuple([1,2]),tuple([3,4]))] = 1\n",
    "mydict"
   ]
  },
  {
   "cell_type": "code",
   "execution_count": 16,
   "metadata": {},
   "outputs": [
    {
     "data": {
      "text/plain": [
       "{((1, 2), (3, 4))}"
      ]
     },
     "execution_count": 16,
     "metadata": {},
     "output_type": "execute_result"
    }
   ],
   "source": [
    "myset = set()\n",
    "myset.add(((1,2),(3,4)))\n",
    "myset"
   ]
  },
  {
   "cell_type": "code",
   "execution_count": 17,
   "metadata": {},
   "outputs": [
    {
     "data": {
      "text/plain": [
       "{((1, 2), (3, 4)), ((3, 4), (1, 2))}"
      ]
     },
     "execution_count": 17,
     "metadata": {},
     "output_type": "execute_result"
    }
   ],
   "source": [
    "myset.add(((3,4),(1,2)))\n",
    "myset"
   ]
  },
  {
   "cell_type": "code",
   "execution_count": 19,
   "metadata": {},
   "outputs": [
    {
     "data": {
      "text/plain": [
       "{'1': None, 'a': None, 'o': None}"
      ]
     },
     "execution_count": 19,
     "metadata": {},
     "output_type": "execute_result"
    }
   ],
   "source": [
    "mydict = dict.fromkeys(['1','a','o'])\n",
    "mydict"
   ]
  },
  {
   "cell_type": "code",
   "execution_count": null,
   "metadata": {},
   "outputs": [],
   "source": []
  }
 ],
 "metadata": {
  "kernelspec": {
   "display_name": "Python 3",
   "language": "python",
   "name": "python3"
  },
  "language_info": {
   "codemirror_mode": {
    "name": "ipython",
    "version": 3
   },
   "file_extension": ".py",
   "mimetype": "text/x-python",
   "name": "python",
   "nbconvert_exporter": "python",
   "pygments_lexer": "ipython3",
   "version": "3.7.3"
  }
 },
 "nbformat": 4,
 "nbformat_minor": 2
}
