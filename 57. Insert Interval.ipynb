{
 "cells": [
  {
   "cell_type": "code",
   "execution_count": 112,
   "metadata": {},
   "outputs": [],
   "source": [
    "class Solution:\n",
    "    def insert(self, intervals, newInterval):\n",
    "        if intervals == []:\n",
    "            return [newInterval]\n",
    "        \n",
    "        intervals.append(newInterval)\n",
    "        intervals.sort(key=lambda a:a[0])\n",
    "        \n",
    "        res = [intervals[0],]\n",
    "        \n",
    "        for i in range(1,len(intervals)):\n",
    "            if intervals[i][0] <= res[-1][1]:\n",
    "                res[-1][1] = max(res[-1][1],intervals[i][1])\n",
    "            else:\n",
    "                res.append(intervals[i])\n",
    "                \n",
    "        return res"
   ]
  },
  {
   "cell_type": "code",
   "execution_count": 113,
   "metadata": {},
   "outputs": [
    {
     "data": {
      "text/plain": [
       "[[0, 5], [7, 12]]"
      ]
     },
     "execution_count": 113,
     "metadata": {},
     "output_type": "execute_result"
    }
   ],
   "source": [
    "intervals = [[1,2],[3,5],[6,7],[8,10],[12,16]]\n",
    "newInterval = [4,8]\n",
    "#intervals = []\n",
    "#newInterval = [5,7]\n",
    "#intervals = [[1,5]]\n",
    "#newInterval = [2,3]\n",
    "#intervals = [[1,5]]\n",
    "#newInterval = [2,7]\n",
    "#intervals = [[1,5]]\n",
    "#newInterval = [1,7]\n",
    "\n",
    "#intervals = [[1,5]]\n",
    "#newInterval = [0,3]\n",
    "\n",
    "#intervals = [[1,5],[6,8]]\n",
    "#newInterval = [0,9]\n",
    "\n",
    "intervals = [[0,4],[7,12]]\n",
    "newInterval = [0,5]\n",
    "\n",
    "obj = Solution()\n",
    "obj.insert(intervals,newInterval)"
   ]
  },
  {
   "cell_type": "code",
   "execution_count": null,
   "metadata": {},
   "outputs": [],
   "source": []
  }
 ],
 "metadata": {
  "kernelspec": {
   "display_name": "Python 3",
   "language": "python",
   "name": "python3"
  },
  "language_info": {
   "codemirror_mode": {
    "name": "ipython",
    "version": 3
   },
   "file_extension": ".py",
   "mimetype": "text/x-python",
   "name": "python",
   "nbconvert_exporter": "python",
   "pygments_lexer": "ipython3",
   "version": "3.7.3"
  }
 },
 "nbformat": 4,
 "nbformat_minor": 2
}
