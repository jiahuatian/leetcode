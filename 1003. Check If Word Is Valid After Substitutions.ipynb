{
 "cells": [
  {
   "cell_type": "code",
   "execution_count": 18,
   "metadata": {},
   "outputs": [],
   "source": [
    "class Solution:\n",
    "    def isValid(self, s: str) -> bool:\n",
    "        i = 0\n",
    "        while len(s) > 3:\n",
    "            if s[i:i+3] == 'abc':\n",
    "                s = s[:i]+s[i+3:]\n",
    "                i = -1\n",
    "            i += 1\n",
    "            print(i,s)\n",
    "            if i >= len(s)-1:\n",
    "                break\n",
    "        return s == 'abc'"
   ]
  },
  {
   "cell_type": "code",
   "execution_count": 20,
   "metadata": {},
   "outputs": [
    {
     "name": "stdout",
     "output_type": "stream",
     "text": [
      "1 aababcbccabc\n",
      "2 aababcbccabc\n",
      "3 aababcbccabc\n",
      "0 aabbccabc\n",
      "1 aabbccabc\n",
      "2 aabbccabc\n",
      "3 aabbccabc\n",
      "4 aabbccabc\n",
      "5 aabbccabc\n",
      "6 aabbccabc\n",
      "0 aabbcc\n",
      "1 aabbcc\n",
      "2 aabbcc\n",
      "3 aabbcc\n",
      "4 aabbcc\n",
      "5 aabbcc\n"
     ]
    },
    {
     "data": {
      "text/plain": [
       "False"
      ]
     },
     "execution_count": 20,
     "metadata": {},
     "output_type": "execute_result"
    }
   ],
   "source": [
    "s = \"aababcbccabc\"\n",
    "#s = \"aaababccbcbc\"\n",
    "\n",
    "obj = Solution()\n",
    "obj.isValid(s)"
   ]
  },
  {
   "cell_type": "code",
   "execution_count": null,
   "metadata": {},
   "outputs": [],
   "source": []
  }
 ],
 "metadata": {
  "kernelspec": {
   "display_name": "Python 3",
   "language": "python",
   "name": "python3"
  },
  "language_info": {
   "codemirror_mode": {
    "name": "ipython",
    "version": 3
   },
   "file_extension": ".py",
   "mimetype": "text/x-python",
   "name": "python",
   "nbconvert_exporter": "python",
   "pygments_lexer": "ipython3",
   "version": "3.7.9"
  }
 },
 "nbformat": 4,
 "nbformat_minor": 4
}
