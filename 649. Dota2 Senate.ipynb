{
 "cells": [
  {
   "cell_type": "code",
   "execution_count": 22,
   "metadata": {},
   "outputs": [],
   "source": [
    "class Solution:\n",
    "    def predictPartyVictory(self, senate: str) -> str:\n",
    "        if len(senate) == 1:\n",
    "            return 'Radiant' if senate == 'R' else 'Dire'\n",
    "        senate = list(senate)\n",
    "        while len(set(senate)) != 1:\n",
    "            n = len(senate)\n",
    "            remain = []\n",
    "            while senate:\n",
    "                thisone = senate.pop(0)\n",
    "                if remain == []:\n",
    "                    if thisone == 'R':\n",
    "                        if 'D' in senate:\n",
    "                            senate.remove('D')\n",
    "                        remain.append(thisone)\n",
    "                    elif thisone == 'D':\n",
    "                        if 'R' in senate:\n",
    "                            senate.remove('R')\n",
    "                        remain.append(thisone)\n",
    "                elif thisone == 'R':\n",
    "                    if 'D' in senate:\n",
    "                        senate.remove('D')\n",
    "                        remain.append('R')\n",
    "                    else:\n",
    "                        if 'D' in remain:\n",
    "                            remain.remove('D')\n",
    "                            remain.append('R')\n",
    "                        else:\n",
    "                            remain.append('D')\n",
    "                elif thisone == 'D':\n",
    "                    if 'R' in senate:\n",
    "                        senate.remove('R')\n",
    "                        remain.append('D')\n",
    "                    else:\n",
    "                        if 'R' in remain:\n",
    "                            remain.remove('R')\n",
    "                            remain.append('D')\n",
    "                        else:\n",
    "                            remain.append('D')                       \n",
    "            senate = remain\n",
    "        return 'Radiant' if senate[0] == 'R' else 'Dire'"
   ]
  },
  {
   "cell_type": "code",
   "execution_count": 23,
   "metadata": {},
   "outputs": [
    {
     "data": {
      "text/plain": [
       "'Radiant'"
      ]
     },
     "execution_count": 23,
     "metadata": {},
     "output_type": "execute_result"
    }
   ],
   "source": [
    "senate = \"DRRDRDRDRDDRDRDR\"\n",
    "\n",
    "obj = Solution()\n",
    "obj.predictPartyVictory(senate)"
   ]
  },
  {
   "cell_type": "code",
   "execution_count": null,
   "metadata": {},
   "outputs": [],
   "source": []
  }
 ],
 "metadata": {
  "kernelspec": {
   "display_name": "Python 3",
   "language": "python",
   "name": "python3"
  },
  "language_info": {
   "codemirror_mode": {
    "name": "ipython",
    "version": 3
   },
   "file_extension": ".py",
   "mimetype": "text/x-python",
   "name": "python",
   "nbconvert_exporter": "python",
   "pygments_lexer": "ipython3",
   "version": "3.7.3"
  }
 },
 "nbformat": 4,
 "nbformat_minor": 2
}
