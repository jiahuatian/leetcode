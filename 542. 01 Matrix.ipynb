{
 "cells": [
  {
   "cell_type": "code",
   "execution_count": 118,
   "metadata": {},
   "outputs": [],
   "source": [
    "class Solution:\n",
    "    def updateMatrix(self, mat):\n",
    "        \n",
    "        m = len(mat)\n",
    "        n = len(mat[0])\n",
    "        \n",
    "        newmat = [[0 for i in range(n)] for j in range(m)]\n",
    "        \n",
    "        for i in range(m):\n",
    "            for j in range(n):\n",
    "                if mat[i][j] != 0:\n",
    "                    newset = set()\n",
    "                    k = 1\n",
    "                    seen = set()\n",
    "                    while k < m + n - 1 and (i,j) not in seen:\n",
    "                        lr = k\n",
    "                        while lr >= 0:\n",
    "                            ud = k - lr\n",
    "                            if j - lr < 0:\n",
    "                                left = 0\n",
    "                            else:\n",
    "                                left = j - lr\n",
    "                            if j + lr >= n:\n",
    "                                right = n - 1\n",
    "                            else:\n",
    "                                right = j + lr\n",
    "                            if i - ud < 0:\n",
    "                                up = 0\n",
    "                            else:\n",
    "                                up = i - ud\n",
    "                            if i + ud >= m:\n",
    "                                down = m - 1\n",
    "                            else:\n",
    "                                down = i + ud\n",
    "                                \n",
    "                            newset = set([mat[up][left],mat[up][right],mat[down][left],mat[down][right]])\n",
    "                            \n",
    "                            if 0 in newset:\n",
    "                                newmat[i][j] = k\n",
    "                                seen.add((i,j))\n",
    "                                break\n",
    "                            \n",
    "                            lr -= 1 \n",
    "                        \n",
    "                        k += 1\n",
    "               \n",
    "        return newmat"
   ]
  },
  {
   "cell_type": "code",
   "execution_count": 122,
   "metadata": {},
   "outputs": [
    {
     "data": {
      "text/plain": [
       "[[0], [0], [0], [0], [0]]"
      ]
     },
     "execution_count": 122,
     "metadata": {},
     "output_type": "execute_result"
    }
   ],
   "source": [
    "mat = [[0,0,0],[0,1,0],[1,1,1]]\n",
    "mat = [[0,0,0],[0,1,0],[0,0,0]]\n",
    "mat = [[0],[0],[0],[0],[0]]\n",
    "\n",
    "obj = Solution()\n",
    "obj.updateMatrix(mat)"
   ]
  },
  {
   "cell_type": "code",
   "execution_count": 123,
   "metadata": {},
   "outputs": [
    {
     "data": {
      "text/plain": [
       "[[1, 0, 1, 1, 0, 0, 1, 0, 0, 1],\n",
       " [0, 1, 1, 0, 1, 0, 1, 0, 1, 1],\n",
       " [0, 0, 1, 0, 1, 0, 0, 1, 0, 0],\n",
       " [1, 0, 1, 0, 1, 1, 1, 1, 1, 1],\n",
       " [0, 1, 0, 1, 1, 0, 0, 0, 0, 1],\n",
       " [0, 0, 1, 0, 1, 1, 1, 0, 1, 0],\n",
       " [0, 1, 0, 1, 0, 1, 0, 0, 1, 1],\n",
       " [1, 0, 0, 0, 1, 2, 1, 1, 0, 1],\n",
       " [2, 1, 1, 1, 1, 2, 1, 0, 1, 0],\n",
       " [3, 2, 2, 1, 0, 1, 0, 0, 1, 1]]"
      ]
     },
     "execution_count": 123,
     "metadata": {},
     "output_type": "execute_result"
    }
   ],
   "source": [
    "mat = [[1,0,1,1,0,0,1,0,0,1],\n",
    "       [0,1,1,0,1,0,1,0,1,1],\n",
    "       [0,0,1,0,1,0,0,1,0,0],\n",
    "       [1,0,1,0,1,1,1,1,1,1],\n",
    "       [0,1,0,1,1,0,0,0,0,1],\n",
    "       [0,0,1,0,1,1,1,0,1,0],\n",
    "       [0,1,0,1,0,1,0,0,1,1],\n",
    "       [1,0,0,0,1,1,1,1,0,1],\n",
    "       [1,1,1,1,1,1,1,0,1,0],\n",
    "       [1,1,1,1,0,1,0,0,1,1]]\n",
    "\n",
    "obj = Solution()\n",
    "obj.updateMatrix(mat)"
   ]
  },
  {
   "cell_type": "code",
   "execution_count": 124,
   "metadata": {},
   "outputs": [],
   "source": [
    "AA = [[1,0,1,1,0,0,1,0,0,1],\n",
    " [0,1,1,0,1,0,1,0,1,1],\n",
    " [0,0,1,0,1,0,0,1,0,0],\n",
    " [1,0,1,0,1,1,1,1,1,1],\n",
    " [0,1,0,1,1,0,0,0,0,1],\n",
    " [0,0,1,0,1,1,1,0,1,0],\n",
    " [0,1,0,1,0,1,0,0,1,1],\n",
    " [1,0,0,0,1,2,1,1,0,1],\n",
    " [2,1,1,1,1,2,1,0,1,0],\n",
    " [3,2,2,1,0,1,0,0,1,1]]"
   ]
  },
  {
   "cell_type": "code",
   "execution_count": 125,
   "metadata": {},
   "outputs": [
    {
     "data": {
      "text/plain": [
       "True"
      ]
     },
     "execution_count": 125,
     "metadata": {},
     "output_type": "execute_result"
    }
   ],
   "source": [
    "AA == obj.updateMatrix(mat)"
   ]
  },
  {
   "cell_type": "code",
   "execution_count": 132,
   "metadata": {},
   "outputs": [
    {
     "name": "stdout",
     "output_type": "stream",
     "text": [
      "1\n",
      "0\n",
      "0\n",
      "1\n",
      "0\n",
      "0\n",
      "0\n",
      "1\n",
      "2\n",
      "3\n"
     ]
    }
   ],
   "source": [
    "for i in range(len(AA)):\n",
    "    print(AA[i][0])"
   ]
  },
  {
   "cell_type": "code",
   "execution_count": 137,
   "metadata": {},
   "outputs": [
    {
     "data": {
      "text/plain": [
       "[[1, 0, 0, 1, 0, 0, 0, 1, 2, 3],\n",
       " [0, 1, 0, 0, 1, 0, 1, 0, 1, 2],\n",
       " [1, 1, 1, 1, 0, 1, 0, 0, 1, 2],\n",
       " [1, 0, 0, 0, 1, 0, 1, 0, 1, 1],\n",
       " [0, 1, 1, 1, 1, 1, 0, 1, 1, 0],\n",
       " [0, 0, 0, 1, 0, 1, 1, 2, 2, 1],\n",
       " [1, 1, 0, 1, 0, 1, 0, 1, 1, 0],\n",
       " [0, 0, 1, 1, 0, 0, 0, 1, 0, 0],\n",
       " [0, 1, 0, 1, 0, 1, 1, 0, 1, 1],\n",
       " [1, 1, 0, 1, 1, 0, 1, 1, 0, 1]]"
      ]
     },
     "execution_count": 137,
     "metadata": {},
     "output_type": "execute_result"
    }
   ],
   "source": [
    "[[AA[i][j] for i in range(len(AA))] for j in range(len(AA[0]))]"
   ]
  },
  {
   "cell_type": "code",
   "execution_count": 2,
   "metadata": {},
   "outputs": [],
   "source": [
    "class Solution:\n",
    "    def updateMatrix(self, mat):\n",
    "        stack = []\n",
    "        for i in range(len(mat)):\n",
    "            for j in range(len(mat[0])):\n",
    "                if mat[i][j] != 0:\n",
    "                    stack.append((i,j))\n",
    "                    \n",
    "        while stack:\n",
    "            i,j = stack.pop()\n",
    "            seen = set()\n",
    "            thisstack = [(i,j)]\n",
    "            seen.add((i,j))\n",
    "            seenzero = 0\n",
    "            level = 1\n",
    "            while thisstack:\n",
    "                n = len(thisstack)\n",
    "                for k in range(n):\n",
    "                    x,y = thisstack.pop(0)\n",
    "                    for (xi,yi) in [(1,0),(-1,0),(0,1),(0,-1)]:\n",
    "                        if 0<=x+xi<len(mat) and 0<=y+yi<len(mat[0]) and (x+xi,y+yi) not in seen:\n",
    "                            thisstack.append((x+xi,y+yi))\n",
    "                            seen.add((x+xi,y+yi))\n",
    "                        if 0<=x+xi<len(mat) and 0<=y+yi<len(mat[0]) and mat[x+xi][y+yi] == 0:\n",
    "                            seenzero = 1\n",
    "                            break\n",
    "                level += 1\n",
    "                if seenzero == 1:\n",
    "                    break       \n",
    "            mat[i][j] = level-1\n",
    "        \n",
    "        return mat"
   ]
  },
  {
   "cell_type": "code",
   "execution_count": 3,
   "metadata": {},
   "outputs": [],
   "source": [
    "mat = [[1,0,1,1,0,0,1,0,0,1],\n",
    "\t[0,1,1,0,1,0,1,0,1,1],\n",
    "\t[0,0,1,0,1,0,0,1,0,0],\n",
    "\t[1,0,1,0,1,1,1,1,1,1],\n",
    "\t[0,1,0,1,1,0,0,0,0,1],\n",
    "\t[0,0,1,0,1,1,1,0,1,0],\n",
    "\t[0,1,0,1,0,1,0,0,1,1],\n",
    "\t[1,0,0,0,1,1,1,1,0,1],\n",
    "\t[1,1,1,1,1,1,1,0,1,0],\n",
    "\t[1,1,1,1,0,1,0,0,1,1]]"
   ]
  },
  {
   "cell_type": "code",
   "execution_count": 4,
   "metadata": {},
   "outputs": [
    {
     "data": {
      "text/plain": [
       "[[1, 0, 1, 1, 0, 0, 1, 0, 0, 1],\n",
       " [0, 1, 1, 0, 1, 0, 1, 0, 1, 1],\n",
       " [0, 0, 1, 0, 1, 0, 0, 1, 0, 0],\n",
       " [1, 0, 1, 0, 1, 1, 1, 1, 1, 1],\n",
       " [0, 1, 0, 1, 1, 0, 0, 0, 0, 1],\n",
       " [0, 0, 1, 0, 1, 1, 1, 0, 1, 0],\n",
       " [0, 1, 0, 1, 0, 1, 0, 0, 1, 1],\n",
       " [1, 0, 0, 0, 1, 2, 1, 1, 0, 1],\n",
       " [2, 1, 1, 1, 1, 2, 1, 0, 1, 0],\n",
       " [3, 2, 2, 1, 0, 1, 0, 0, 1, 1]]"
      ]
     },
     "execution_count": 4,
     "metadata": {},
     "output_type": "execute_result"
    }
   ],
   "source": [
    "obj = Solution()\n",
    "obj.updateMatrix(mat)"
   ]
  },
  {
   "cell_type": "code",
   "execution_count": 5,
   "metadata": {},
   "outputs": [],
   "source": [
    "aa = [\n",
    "\t[1,0,1,1,0,0,1,0,0,1],\n",
    "\t[0,1,1,0,1,0,1,0,1,1],\n",
    "\t[0,0,1,0,1,0,0,1,0,0],\n",
    "\t[1,0,1,0,1,1,1,1,1,1],\n",
    "\t[0,1,0,1,1,0,0,0,0,1],\n",
    "\t[0,0,1,0,1,1,1,0,1,0],\n",
    "\t[0,1,0,1,0,1,0,0,1,1],\n",
    "\t[1,0,0,0,1,2,1,1,0,1],\n",
    "\t[2,1,1,1,1,2,1,0,1,0],\n",
    "\t[3,2,2,1,0,1,0,0,1,1]\n",
    "]"
   ]
  },
  {
   "cell_type": "code",
   "execution_count": 6,
   "metadata": {},
   "outputs": [
    {
     "data": {
      "text/plain": [
       "True"
      ]
     },
     "execution_count": 6,
     "metadata": {},
     "output_type": "execute_result"
    }
   ],
   "source": [
    "aa == obj.updateMatrix(mat)"
   ]
  },
  {
   "cell_type": "code",
   "execution_count": 13,
   "metadata": {},
   "outputs": [],
   "source": [
    "class Solution:\n",
    "    def updateMatrix(self, mat):\n",
    "        stack = []\n",
    "        for i in range(len(mat)):\n",
    "            for j in range(len(mat[0])):\n",
    "                if mat[i][j] == 0:\n",
    "                    stack.append((i,j))\n",
    "                else:\n",
    "                    mat[i][j] = -1\n",
    "                    \n",
    "        print(mat)\n",
    "                    \n",
    "        while stack:\n",
    "            print(stack)\n",
    "            x,y = stack.pop(0)\n",
    "            for (xi,yi) in [(1,0),(-1,0),(0,1),(0,-1)]:\n",
    "                if 0<=x+xi<len(mat) and 0<=y+yi<len(mat[0]) and mat[x+xi][y+yi] == -1:\n",
    "                    mat[x+xi][y+yi] = mat[x][y]+1\n",
    "                    stack.append((x+xi,y+yi)) \n",
    "        \n",
    "        return mat"
   ]
  },
  {
   "cell_type": "code",
   "execution_count": 14,
   "metadata": {},
   "outputs": [
    {
     "name": "stdout",
     "output_type": "stream",
     "text": [
      "[[0, 0, 0], [0, -1, 0], [-1, -1, -1]]\n",
      "[(0, 0), (0, 1), (0, 2), (1, 0), (1, 2)]\n",
      "[(0, 1), (0, 2), (1, 0), (1, 2)]\n",
      "[(0, 2), (1, 0), (1, 2), (1, 1)]\n",
      "[(1, 0), (1, 2), (1, 1)]\n",
      "[(1, 2), (1, 1), (2, 0)]\n",
      "[(1, 1), (2, 0), (2, 2)]\n",
      "[(2, 0), (2, 2), (2, 1)]\n",
      "[(2, 2), (2, 1)]\n",
      "[(2, 1)]\n"
     ]
    },
    {
     "data": {
      "text/plain": [
       "[[0, 0, 0], [0, 1, 0], [1, 2, 1]]"
      ]
     },
     "execution_count": 14,
     "metadata": {},
     "output_type": "execute_result"
    }
   ],
   "source": [
    "mat = [[0,0,0],[0,1,0],[1,1,1]]\n",
    "#mat = [[0,0,0],[0,1,0],[0,0,0]]\n",
    "#mat = [[0],[0],[0],[0],[0]]\n",
    "\n",
    "obj = Solution()\n",
    "obj.updateMatrix(mat)"
   ]
  },
  {
   "cell_type": "code",
   "execution_count": null,
   "metadata": {},
   "outputs": [],
   "source": []
  }
 ],
 "metadata": {
  "kernelspec": {
   "display_name": "Python 3",
   "language": "python",
   "name": "python3"
  },
  "language_info": {
   "codemirror_mode": {
    "name": "ipython",
    "version": 3
   },
   "file_extension": ".py",
   "mimetype": "text/x-python",
   "name": "python",
   "nbconvert_exporter": "python",
   "pygments_lexer": "ipython3",
   "version": "3.7.3"
  }
 },
 "nbformat": 4,
 "nbformat_minor": 2
}
