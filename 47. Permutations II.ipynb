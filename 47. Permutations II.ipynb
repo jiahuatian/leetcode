{
 "cells": [
  {
   "cell_type": "code",
   "execution_count": 45,
   "metadata": {},
   "outputs": [],
   "source": [
    "class Solution:\n",
    "    def permuteUnique(self, nums):\n",
    "        from collections import defaultdict\n",
    "        \n",
    "        perm = defaultdict(list)\n",
    "        \n",
    "        perm[0] = [[nums[0]]]\n",
    "        \n",
    "        for i in range(1,len(nums)):\n",
    "            for j in range(len(perm[i-1])):\n",
    "                for k in range(0,len(perm[i-1][j])+1):\n",
    "                    listc = perm[i-1][j].copy()\n",
    "                    listc.insert(k,nums[i])\n",
    "                    perm[i].append(listc)    \n",
    "        \n",
    "        return list(set([tuple(elem) for elem in perm[len(nums)-1]]))"
   ]
  },
  {
   "cell_type": "code",
   "execution_count": 46,
   "metadata": {},
   "outputs": [
    {
     "data": {
      "text/plain": [
       "[(1, 2, 1), (2, 1, 1), (1, 1, 2)]"
      ]
     },
     "execution_count": 46,
     "metadata": {},
     "output_type": "execute_result"
    }
   ],
   "source": [
    "nums = [1,1,2]\n",
    "\n",
    "obj = Solution()\n",
    "obj.permuteUnique(nums)"
   ]
  },
  {
   "cell_type": "code",
   "execution_count": 35,
   "metadata": {},
   "outputs": [],
   "source": [
    "from functools import lru_cache\n",
    "class Solution:\n",
    "    def permuteUnique(self, nums):\n",
    "        @lru_cache(maxsize=None)\n",
    "        def dp(i):\n",
    "            if i == 0:\n",
    "                return [[nums[0]]]\n",
    "            ans = []\n",
    "            for subl in dp(i-1):\n",
    "                for k in range(len(subl)+1):\n",
    "                    ans.append(subl[:k]+[nums[i]]+subl[k:])\n",
    "            return ans\n",
    "        return list(set([tuple(elem) for elem in dp(len(nums)-1)]))"
   ]
  },
  {
   "cell_type": "code",
   "execution_count": 36,
   "metadata": {},
   "outputs": [
    {
     "data": {
      "text/plain": [
       "[(1, 2, 1), (2, 1, 1), (1, 1, 2)]"
      ]
     },
     "execution_count": 36,
     "metadata": {},
     "output_type": "execute_result"
    }
   ],
   "source": [
    "nums = [1,1,2]\n",
    "\n",
    "obj = Solution()\n",
    "obj.permuteUnique(nums)"
   ]
  },
  {
   "cell_type": "code",
   "execution_count": null,
   "metadata": {},
   "outputs": [],
   "source": []
  }
 ],
 "metadata": {
  "kernelspec": {
   "display_name": "Python 3",
   "language": "python",
   "name": "python3"
  },
  "language_info": {
   "codemirror_mode": {
    "name": "ipython",
    "version": 3
   },
   "file_extension": ".py",
   "mimetype": "text/x-python",
   "name": "python",
   "nbconvert_exporter": "python",
   "pygments_lexer": "ipython3",
   "version": "3.7.3"
  }
 },
 "nbformat": 4,
 "nbformat_minor": 2
}
