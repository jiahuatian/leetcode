{
 "cells": [
  {
   "cell_type": "code",
   "execution_count": 7,
   "metadata": {},
   "outputs": [],
   "source": [
    "class Solution:\n",
    "    def maxKilledEnemies(self, grid) -> int:\n",
    "        ans = 0\n",
    "        m,n = len(grid),len(grid[0])\n",
    "        dp = [[[0,0,0,0,True]for _ in range(n)]for _ in range(m)]\n",
    "        for i in range(m):\n",
    "            for j in range(n):\n",
    "                if i == 0 and j == 0:\n",
    "                    if grid[i][j] == 'W':\n",
    "                        dp[i][j] = [0,0,0,0,False]\n",
    "                    elif grid[i][j] == 'E':\n",
    "                        dp[i][j] = [1,0,1,0,False]\n",
    "                elif i == 0 and j != 0:\n",
    "                    if grid[i][j] == '0':\n",
    "                        dp[i][j] = [0,0,dp[i][j-1][2],0,True]\n",
    "                    elif grid[i][j] == 'W':\n",
    "                        dp[i][j] = [0,0,0,0,False]\n",
    "                    else:\n",
    "                        dp[i][j] = [1,0,dp[i][j-1][2]+1,0,False]\n",
    "                elif i != 0 and j == 0:\n",
    "                    if grid[i][j] == '0':\n",
    "                        dp[i][j] = [dp[i-1][j][0],0,0,0,True]\n",
    "                    elif grid[i][j] == 'W':\n",
    "                        dp[i][j] = [0,0,0,0,False]\n",
    "                    else:\n",
    "                        dp[i][j] = [dp[i-1][j][0]+1,0,1,0,False]\n",
    "                else:\n",
    "                    if grid[i][j] == '0':\n",
    "                        dp[i][j] = [dp[i-1][j][0],0,dp[i][j-1][2],0,True]\n",
    "                    elif grid[i][j] == 'W':\n",
    "                        dp[i][j] = [0,0,0,0,False]\n",
    "                    else:\n",
    "                        dp[i][j] = [dp[i-1][j][0]+1,0,dp[i][j-1][2]+1,0,False]\n",
    "        for i in range(m-1,-1,-1):\n",
    "            for j in range(n-1,-1,-1):\n",
    "                if i == m-1 and j == n-1:\n",
    "                    if grid[i][j] == 'W':\n",
    "                        dp[i][j] = [0,0,0,0,False]\n",
    "                    elif grid[i][j] == 'E':\n",
    "                        dp[i][j][1] = 1\n",
    "                        dp[i][j][3] = 1\n",
    "                        dp[i][j][4] = False\n",
    "                elif i == m-1 and j != n-1:\n",
    "                    if grid[i][j] == '0':\n",
    "                        dp[i][j][3] = dp[i][j+1][3]\n",
    "                        dp[i][j][4] = True\n",
    "                    elif grid[i][j] == 'W':\n",
    "                        dp[i][j] = [0,0,0,0,False]\n",
    "                    else:\n",
    "                        dp[i][j][1] = 1\n",
    "                        dp[i][j][3] = dp[i][j+1][3]+1\n",
    "                        dp[i][j][4] = False\n",
    "                elif i != m-1 and j == n-1:\n",
    "                    if grid[i][j] == '0':\n",
    "                        dp[i][j][1] = dp[i+1][j][1]\n",
    "                        dp[i][j][4] = True\n",
    "                    elif grid[i][j] == 'W':\n",
    "                        dp[i][j] = [0,0,0,0,False]\n",
    "                    else:\n",
    "                        dp[i][j][1] = dp[i+1][j][1]+1\n",
    "                        dp[i][j][3] = 1\n",
    "                        dp[i][j][4] = False\n",
    "                else:\n",
    "                    if grid[i][j] == '0':\n",
    "                        dp[i][j][1] = dp[i+1][j][1]\n",
    "                        dp[i][j][3] = dp[i][j+1][3]\n",
    "                        dp[i][j][4] = True\n",
    "                    elif grid[i][j] == 'W':\n",
    "                        dp[i][j] = [0,0,0,0,False]\n",
    "                    else:\n",
    "                        dp[i][j][1] = dp[i+1][j][1]+1\n",
    "                        dp[i][j][3] = dp[i][j+1][3]+1\n",
    "                        dp[i][j][4] = False\n",
    "                if dp[i][j][4]:\n",
    "                    ans = max(ans,sum(dp[i][j][:4]))\n",
    "        return ans"
   ]
  },
  {
   "cell_type": "code",
   "execution_count": 8,
   "metadata": {},
   "outputs": [
    {
     "data": {
      "text/plain": [
       "12"
      ]
     },
     "execution_count": 8,
     "metadata": {},
     "output_type": "execute_result"
    }
   ],
   "source": [
    "grid = [[\"W\",\"W\",\"W\",\"W\",\"E\",\"0\",\"E\",\"0\",\"E\",\"0\",\"E\"],[\"W\",\"E\",\"E\",\"E\",\"E\",\"0\",\"0\",\"0\",\"0\",\"0\",\"0\"],[\"E\",\"E\",\"0\",\"E\",\"0\",\"E\",\"E\",\"E\",\"E\",\"E\",\"E\"],[\"W\",\"E\",\"E\",\"E\",\"E\",\"0\",\"0\",\"0\",\"0\",\"0\",\"0\"],[\"0\",\"0\",\"0\",\"0\",\"0\",\"E\",\"E\",\"E\",\"E\",\"E\",\"E\"]]\n",
    "\n",
    "obj = Solution()\n",
    "obj.maxKilledEnemies(grid)"
   ]
  },
  {
   "cell_type": "code",
   "execution_count": null,
   "metadata": {},
   "outputs": [],
   "source": [
    "[[\"W\",\"W\",\"W\",\"W\",\"E\",\"0\",\"E\",\"0\",\"E\",\"0\",\"E\"],\n",
    " [\"W\",\"E\",\"E\",\"E\",\"E\",\"0\",\"0\",\"0\",\"0\",\"0\",\"0\"],\n",
    " [\"E\",\"E\",\"0\",\"E\",\"0\",\"E\",\"E\",\"E\",\"E\",\"E\",\"E\"],\n",
    " [\"W\",\"E\",\"E\",\"E\",\"E\",\"0\",\"0\",\"0\",\"0\",\"0\",\"0\"],\n",
    " [\"0\",\"0\",\"0\",\"0\",\"0\",\"E\",\"E\",\"E\",\"E\",\"E\",\"E\"]]"
   ]
  },
  {
   "cell_type": "code",
   "execution_count": null,
   "metadata": {},
   "outputs": [],
   "source": [
    "[[[0, 0, 0, 0, False], [0, 0, 0, 0, False], [0, 0, 0, 0, False], [0, 0, 0, 0, False], [1, 3, 1, 3, False], [0, 2, 1, 2, True], [1, 3, 2, 2, False], [0, 2, 2, 1, True], [1, 3, 3, 1, False], [0, 2, 3, 0, True], [1, 3, 4, 0, False]], \n",
    " [[0, 0, 0, 0, False], [1, 3, 1, 4, False], [1, 2, 2, 3, False], [1, 3, 3, 2, False], [2, 2, 4, 1, False], [0, 2, 4, 0, True], [1, 2, 4, 0, True], [0, 2, 4, 0, True], [1, 2, 4, 0, True], [0, 2, 4, 0, True], [1, 2, 4, 0, True]], \n",
    " [[1, 1, 1, 8, False], [2, 2, 2, 7, False], [1, 1, 2, 6, True], [2, 2, 3, 6, False], [2, 1, 3, 5, True], [1, 2, 4, 5, False], [2, 2, 5, 4, False], [1, 2, 6, 3, False], [2, 2, 7, 2, False], [1, 2, 8, 1, False], [2, 2, 9, 0, False]], \n",
    " [[0, 0, 0, 0, False], [3, 1, 1, 4, False], [2, 1, 2, 3, False], [3, 1, 3, 2, False], [3, 1, 4, 1, False], [1, 1, 4, 0, True], [2, 1, 4, 0, True], [1, 1, 4, 0, True], [2, 1, 4, 0, True], [1, 1, 4, 0, True], [2, 1, 4, 0, True]], \n",
    " [[0, 0, 0, 6, True], [3, 0, 0, 6, True], [2, 0, 0, 6, True], [3, 0, 0, 6, True], [3, 0, 0, 6, True], [2, 1, 1, 6, False], [3, 1, 2, 5, False], [2, 1, 3, 4, False], [3, 1, 4, 3, False], [2, 1, 5, 2, False], [3, 1, 6, 1, False]]]"
   ]
  }
 ],
 "metadata": {
  "kernelspec": {
   "display_name": "Python 3",
   "language": "python",
   "name": "python3"
  },
  "language_info": {
   "codemirror_mode": {
    "name": "ipython",
    "version": 3
   },
   "file_extension": ".py",
   "mimetype": "text/x-python",
   "name": "python",
   "nbconvert_exporter": "python",
   "pygments_lexer": "ipython3",
   "version": "3.7.9"
  }
 },
 "nbformat": 4,
 "nbformat_minor": 4
}
