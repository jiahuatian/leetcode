{
 "cells": [
  {
   "cell_type": "code",
   "execution_count": 11,
   "metadata": {},
   "outputs": [],
   "source": [
    "class Solution:\n",
    "    def getSum(self, a: int, b: int) -> int:\n",
    "        \n",
    "        if a == 0:\n",
    "            return b\n",
    "        elif b == 0:\n",
    "            return a\n",
    "        \n",
    "        if a > 0 and b > 0:\n",
    "            alist = [0]*a\n",
    "            for i in range(b):\n",
    "                alist.append(0)\n",
    "            return alist.count(0)\n",
    "        elif a < 0 and b < 0:\n",
    "            a, b = abs(a), abs(b)\n",
    "            alist = [0]*a\n",
    "            for i in range(b):\n",
    "                alist.append(0)\n",
    "            return -alist.count(0)\n",
    "        elif a*b < 0:\n",
    "            if a < 0:\n",
    "                neg = a\n",
    "                pos = b\n",
    "            else:\n",
    "                neg = b\n",
    "                pos = a\n",
    "            if abs(neg) >= pos:\n",
    "                neglist = [0]*abs(neg)\n",
    "                for i in range(pos):\n",
    "                    neglist.pop(0)\n",
    "                return -neglist.count(0)\n",
    "            else:\n",
    "                poslist = [0]*pos\n",
    "                for i in range(abs(neg)):\n",
    "                    poslist.pop(0)\n",
    "                return poslist.count(0)"
   ]
  },
  {
   "cell_type": "code",
   "execution_count": 10,
   "metadata": {},
   "outputs": [
    {
     "name": "stdout",
     "output_type": "stream",
     "text": [
      "-14\n"
     ]
    },
    {
     "data": {
      "text/plain": [
       "2"
      ]
     },
     "execution_count": 10,
     "metadata": {},
     "output_type": "execute_result"
    }
   ],
   "source": [
    "a = -14\n",
    "b = 16\n",
    "\n",
    "obj = Solution()\n",
    "obj.getSum(a,b)"
   ]
  },
  {
   "cell_type": "code",
   "execution_count": null,
   "metadata": {},
   "outputs": [],
   "source": []
  }
 ],
 "metadata": {
  "kernelspec": {
   "display_name": "Python 3",
   "language": "python",
   "name": "python3"
  },
  "language_info": {
   "codemirror_mode": {
    "name": "ipython",
    "version": 3
   },
   "file_extension": ".py",
   "mimetype": "text/x-python",
   "name": "python",
   "nbconvert_exporter": "python",
   "pygments_lexer": "ipython3",
   "version": "3.7.3"
  }
 },
 "nbformat": 4,
 "nbformat_minor": 2
}
