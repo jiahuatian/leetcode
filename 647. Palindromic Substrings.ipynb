{
 "cells": [
  {
   "cell_type": "code",
   "execution_count": 28,
   "metadata": {},
   "outputs": [],
   "source": [
    "class Solution:\n",
    "    def countSubstrings(self, s: str) -> int:\n",
    "        newlist = []\n",
    "        for i in range(len(s)-1):\n",
    "            newlist.append(s[i])\n",
    "            newlist.append('0')\n",
    "        newlist.append(s[-1])\n",
    "        \n",
    "        print(newlist)\n",
    "        \n",
    "        res = 0\n",
    "        RES = []\n",
    "        for i in range(len(newlist)):\n",
    "            print(i)\n",
    "            if newlist[i] != '0':\n",
    "                j = 0\n",
    "                while i+j < len(newlist) and i-j >= 0:\n",
    "                    if newlist[i+j] == newlist[i-j]:\n",
    "                        RES.append(''.join(newlist[i-j:i+j+1]))\n",
    "                        res += 1\n",
    "                        j += 2    \n",
    "                    else:\n",
    "                        break\n",
    "            else:\n",
    "                j = 1\n",
    "                while i+j < len(newlist) and i-j >= 0:\n",
    "                    if newlist[i+j] == newlist[i-j]:\n",
    "                        RES.append(''.join(newlist[i-j:i+j+1]))\n",
    "                        res += 1\n",
    "                        j += 2\n",
    "                    else:\n",
    "                        break\n",
    "                    \n",
    "        return res, RES"
   ]
  },
  {
   "cell_type": "code",
   "execution_count": 29,
   "metadata": {},
   "outputs": [
    {
     "name": "stdout",
     "output_type": "stream",
     "text": [
      "['a', '0', 'a', '0', 'a']\n",
      "0\n",
      "1\n",
      "2\n",
      "3\n",
      "4\n"
     ]
    },
    {
     "data": {
      "text/plain": [
       "(6, ['a', 'a0a', 'a', 'a0a0a', 'a0a', 'a'])"
      ]
     },
     "execution_count": 29,
     "metadata": {},
     "output_type": "execute_result"
    }
   ],
   "source": [
    "s = \"abc\"\n",
    "s = \"aaa\"\n",
    "\n",
    "obj = Solution()\n",
    "obj.countSubstrings(s)"
   ]
  },
  {
   "cell_type": "code",
   "execution_count": 11,
   "metadata": {},
   "outputs": [],
   "source": [
    "class Solution:\n",
    "    def countSubstrings(self, s: str) -> int:\n",
    "        res = 0\n",
    "        dp = [[False for i in range(len(s))] for j in range(len(s))]\n",
    "        for i in range(len(s)):\n",
    "            dp[i][i] = True\n",
    "            res += 1\n",
    "        for i in range(len(s)-1):\n",
    "            if s[i] == s[i+1]:\n",
    "                dp[i][i+1] = True\n",
    "                res += 1\n",
    "        for j in range(2,len(s)):\n",
    "            for i in range(len(s)-j):\n",
    "                dp[i][i+j] = dp[i+1][i+j-1] and s[i] == s[i+j]\n",
    "                if dp[i][i+j] == True:\n",
    "                    res += 1\n",
    "                    \n",
    "        print(dp)\n",
    "        return res\n",
    "        "
   ]
  },
  {
   "cell_type": "code",
   "execution_count": 12,
   "metadata": {},
   "outputs": [
    {
     "name": "stdout",
     "output_type": "stream",
     "text": [
      "[[True, True, True], [False, True, True], [False, False, True]]\n"
     ]
    },
    {
     "data": {
      "text/plain": [
       "6"
      ]
     },
     "execution_count": 12,
     "metadata": {},
     "output_type": "execute_result"
    }
   ],
   "source": [
    "s = \"aaa\"\n",
    "\n",
    "obj = Solution()\n",
    "obj.countSubstrings(s)"
   ]
  },
  {
   "cell_type": "code",
   "execution_count": null,
   "metadata": {},
   "outputs": [],
   "source": []
  }
 ],
 "metadata": {
  "kernelspec": {
   "display_name": "Python 3",
   "language": "python",
   "name": "python3"
  },
  "language_info": {
   "codemirror_mode": {
    "name": "ipython",
    "version": 3
   },
   "file_extension": ".py",
   "mimetype": "text/x-python",
   "name": "python",
   "nbconvert_exporter": "python",
   "pygments_lexer": "ipython3",
   "version": "3.7.3"
  }
 },
 "nbformat": 4,
 "nbformat_minor": 2
}
