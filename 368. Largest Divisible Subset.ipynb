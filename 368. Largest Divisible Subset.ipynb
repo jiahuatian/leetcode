{
 "cells": [
  {
   "cell_type": "code",
   "execution_count": 15,
   "metadata": {},
   "outputs": [],
   "source": [
    "class Solution:\n",
    "    def largestDivisibleSubset(self, nums):\n",
    "        nums.sort()\n",
    "        from collections import defaultdict\n",
    "        dp = defaultdict(list)\n",
    "        dp[0] = [nums[0]]\n",
    "        for i in range(1,len(nums)):\n",
    "            found = 0\n",
    "            for key in range(i-1,-1,-1):\n",
    "                if nums[i]%dp[key][-1] == 0:\n",
    "                    if len(dp[key] + [nums[i]]) >= len(dp[i]):\n",
    "                        dp[i] = dp[key] + [nums[i]]\n",
    "                    found = 1\n",
    "            if found == 0:\n",
    "                dp[i] = [nums[i]]\n",
    "        subsetlist = list(dp.values())\n",
    "        subsetlist.sort(key=lambda x:len(x))\n",
    "        return subsetlist[-1]"
   ]
  },
  {
   "cell_type": "code",
   "execution_count": 16,
   "metadata": {},
   "outputs": [
    {
     "name": "stdout",
     "output_type": "stream",
     "text": [
      "defaultdict(<class 'list'>, {0: [4], 1: [4, 8], 2: [10], 3: [4, 8, 240]})\n"
     ]
    },
    {
     "data": {
      "text/plain": [
       "[4, 8, 240]"
      ]
     },
     "execution_count": 16,
     "metadata": {},
     "output_type": "execute_result"
    }
   ],
   "source": [
    "nums = [1,2,4,8]\n",
    "nums = [4,8,10,240]\n",
    "\n",
    "obj = Solution()\n",
    "obj.largestDivisibleSubset(nums)"
   ]
  },
  {
   "cell_type": "code",
   "execution_count": 11,
   "metadata": {},
   "outputs": [],
   "source": [
    "class Solution:\n",
    "    def largestDivisibleSubset(self, nums):\n",
    "        nums.sort()\n",
    "        dp = [[]]*len(nums)\n",
    "        dp[0] = [nums[0]]\n",
    "        for i in range(1,len(nums)):\n",
    "            dp[i] = [nums[i]]\n",
    "            maxlen = 1\n",
    "            for j in range(i-1,-1,-1):\n",
    "                if nums[i]%dp[j][-1] == 0 and len(dp[j]+[nums[i]]) >= maxlen:\n",
    "                    maxlen = len(dp[j]+[nums[i]])\n",
    "                    dp[i] = dp[j]+[nums[i]]\n",
    "        dp.sort(key=len)\n",
    "        return dp[-1]"
   ]
  },
  {
   "cell_type": "code",
   "execution_count": 10,
   "metadata": {},
   "outputs": [
    {
     "name": "stdout",
     "output_type": "stream",
     "text": [
      "[[4], [10], [4, 8], [4, 8, 240]]\n"
     ]
    },
    {
     "data": {
      "text/plain": [
       "[4, 8, 240]"
      ]
     },
     "execution_count": 10,
     "metadata": {},
     "output_type": "execute_result"
    }
   ],
   "source": [
    "nums = [4,8,10,240]\n",
    "\n",
    "obj = Solution()\n",
    "obj.largestDivisibleSubset(nums)"
   ]
  },
  {
   "cell_type": "code",
   "execution_count": null,
   "metadata": {},
   "outputs": [],
   "source": []
  }
 ],
 "metadata": {
  "kernelspec": {
   "display_name": "Python 3",
   "language": "python",
   "name": "python3"
  },
  "language_info": {
   "codemirror_mode": {
    "name": "ipython",
    "version": 3
   },
   "file_extension": ".py",
   "mimetype": "text/x-python",
   "name": "python",
   "nbconvert_exporter": "python",
   "pygments_lexer": "ipython3",
   "version": "3.7.3"
  }
 },
 "nbformat": 4,
 "nbformat_minor": 2
}
