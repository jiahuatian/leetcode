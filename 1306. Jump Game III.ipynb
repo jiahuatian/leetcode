{
 "cells": [
  {
   "cell_type": "code",
   "execution_count": 20,
   "metadata": {},
   "outputs": [],
   "source": [
    "class Solution:\n",
    "    def canReach(self, arr, start: int) -> bool:\n",
    "        from collections import deque\n",
    "        target = set()\n",
    "        for i,n in enumerate(arr):\n",
    "            if n == 0:\n",
    "                target.add(i)\n",
    "        q = deque([start,])\n",
    "        mytarget = set()\n",
    "        seen = set()\n",
    "        while q:\n",
    "            print(q)\n",
    "            point = q.popleft()\n",
    "            if arr[point] == 0:\n",
    "                mytarget.add(point)\n",
    "            seen.add(point)\n",
    "            diff = arr[point]\n",
    "            if point+diff < len(arr) and point+diff not in seen:\n",
    "                q.append(point+diff)\n",
    "            if point-diff >= 0 and point-diff not in seen:\n",
    "                q.append(point-diff)\n",
    "        #print(mytarget)\n",
    "        return target == mytarget"
   ]
  },
  {
   "cell_type": "code",
   "execution_count": 21,
   "metadata": {},
   "outputs": [
    {
     "name": "stdout",
     "output_type": "stream",
     "text": [
      "deque([6])\n",
      "deque([2])\n"
     ]
    },
    {
     "data": {
      "text/plain": [
       "False"
      ]
     },
     "execution_count": 21,
     "metadata": {},
     "output_type": "execute_result"
    }
   ],
   "source": [
    "arr = [0,3,0,6,3,3,4]\n",
    "start = 6\n",
    "\n",
    "obj = Solution()\n",
    "obj.canReach(arr,start)"
   ]
  },
  {
   "cell_type": "code",
   "execution_count": null,
   "metadata": {},
   "outputs": [],
   "source": []
  }
 ],
 "metadata": {
  "kernelspec": {
   "display_name": "Python 3",
   "language": "python",
   "name": "python3"
  },
  "language_info": {
   "codemirror_mode": {
    "name": "ipython",
    "version": 3
   },
   "file_extension": ".py",
   "mimetype": "text/x-python",
   "name": "python",
   "nbconvert_exporter": "python",
   "pygments_lexer": "ipython3",
   "version": "3.7.3"
  }
 },
 "nbformat": 4,
 "nbformat_minor": 2
}
