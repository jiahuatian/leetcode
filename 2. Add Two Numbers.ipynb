{
 "cells": [
  {
   "cell_type": "code",
   "execution_count": 1,
   "metadata": {},
   "outputs": [
    {
     "name": "stdout",
     "output_type": "stream",
     "text": [
      "1 -> 2 -> 3 -> 4 -> 5 -> 6 -> 7 -> 8 -> 9 -> 10 -> 4\n"
     ]
    }
   ],
   "source": [
    "# Definition for singly-linked list.\n",
    "class Node(object):\n",
    "    def __init__(self, x):\n",
    "        self.val = x\n",
    "        self.next = None\n",
    "\n",
    "class LinkedList(object):\n",
    "    def __init__(self):\n",
    "        self.head = None\n",
    "        \n",
    "    def appendLS(self, data):\n",
    "        if self.head is None:\n",
    "            self.head = Node(data)\n",
    "        else:\n",
    "            currnode = self.head\n",
    "            while currnode.next is not None:\n",
    "                currnode = currnode.next\n",
    "            currnode.next = Node(data)\n",
    "        return self\n",
    "    \n",
    "    def lenLS(self):\n",
    "        i = 0\n",
    "        currnode = self.head\n",
    "        while currnode is not None:\n",
    "            currnode = currnode.next\n",
    "            i += 1\n",
    "        return i\n",
    "    \n",
    "    def list_to_LS(self, mylist):\n",
    "        for i in range(len(mylist)):\n",
    "            self.appendLS(mylist[i])\n",
    "        return self\n",
    "    \n",
    "    def printLS(self):\n",
    "        currnode = self.head\n",
    "        if currnode is None:\n",
    "            return 'This is an empty linked list.'\n",
    "        \n",
    "        while currnode.next is not None:\n",
    "            print(currnode.val, '-> ', end = '')\n",
    "            currnode = currnode.next\n",
    "        print(currnode.val)\n",
    "        \n",
    "    \n",
    "myList = [1,2,3,4,5,6,7,8,9,10,4]\n",
    "list1 = LinkedList().list_to_LS(myList)\n",
    "list1.printLS()"
   ]
  },
  {
   "cell_type": "code",
   "execution_count": 6,
   "metadata": {},
   "outputs": [],
   "source": [
    "class Solution(object):\n",
    "    def addTwoNumbers(self, l1, l2):\n",
    "        \"\"\"\n",
    "        :type l1: ListNode\n",
    "        :type l2: ListNode\n",
    "        :rtype: ListNode\n",
    "        \"\"\"\n",
    "        h1 = l1.head\n",
    "        h2 = l2.head\n",
    "        \n",
    "        mylist = []\n",
    "        \n",
    "        carry = 0\n",
    "        \n",
    "        while h1 is not None and h2 is not None:\n",
    "            if h1.val+h2.val+carry < 10:\n",
    "                mylist.append(h1.val+h2.val+carry)\n",
    "                carry = 0\n",
    "            else:\n",
    "                mylist.append(int(str(h1.val+h2.val+carry)[1]))\n",
    "                carry = 1\n",
    "            h1 = h1.next\n",
    "            h2 = h1.next\n",
    "                    \n",
    "        while h1 is not None:\n",
    "            if h1.val+carry < 10:\n",
    "                mylist.append(h1.val+carry)\n",
    "                carry = 0\n",
    "            else:\n",
    "                mylist.append(int(str(h1.val+carry)[1]))\n",
    "                carry = 1\n",
    "            h1 = h1.next\n",
    "            \n",
    "        while h2 is not None:\n",
    "            if h2.val+carry < 10:\n",
    "                mylist.append(h2.val+carry)\n",
    "                carry = 0\n",
    "            else:\n",
    "                mylist.append(int(str(h2.val+carry)[1]))\n",
    "                carry = 1\n",
    "            h2 = h2.next\n",
    "            \n",
    "        return mylist"
   ]
  },
  {
   "cell_type": "code",
   "execution_count": 7,
   "metadata": {},
   "outputs": [
    {
     "name": "stdout",
     "output_type": "stream",
     "text": [
      "2 -> 4 -> 3\n",
      "5 -> 6 -> 4\n"
     ]
    }
   ],
   "source": [
    "l1 = [2,4,3]\n",
    "l2 = [5,6,4]\n",
    "\n",
    "list1 = LinkedList().list_to_LS(l1)\n",
    "list1.printLS()\n",
    "\n",
    "list2 = LinkedList().list_to_LS(l2)\n",
    "list2.printLS()"
   ]
  },
  {
   "cell_type": "code",
   "execution_count": 9,
   "metadata": {},
   "outputs": [
    {
     "data": {
      "text/plain": [
       "[7, 7, 3]"
      ]
     },
     "execution_count": 9,
     "metadata": {},
     "output_type": "execute_result"
    }
   ],
   "source": [
    "obj = Solution()\n",
    "obj.addTwoNumbers(list1,list2)"
   ]
  },
  {
   "cell_type": "code",
   "execution_count": 40,
   "metadata": {},
   "outputs": [],
   "source": [
    "class ListNode(object):\n",
    "    def __init__(self, val=0, next=None):\n",
    "        self.val = val\n",
    "        self.next = next"
   ]
  },
  {
   "cell_type": "code",
   "execution_count": 13,
   "metadata": {},
   "outputs": [],
   "source": [
    "node1 = ListNode()"
   ]
  },
  {
   "cell_type": "code",
   "execution_count": 14,
   "metadata": {},
   "outputs": [
    {
     "data": {
      "text/plain": [
       "0"
      ]
     },
     "execution_count": 14,
     "metadata": {},
     "output_type": "execute_result"
    }
   ],
   "source": [
    "node1.val"
   ]
  },
  {
   "cell_type": "code",
   "execution_count": 161,
   "metadata": {},
   "outputs": [],
   "source": [
    "class Solution(object):\n",
    "    def addTwoNumbers(self, l1, l2):\n",
    "        \"\"\"\n",
    "        :type l1: ListNode\n",
    "        :type l2: ListNode\n",
    "        :rtype: ListNode\n",
    "        \"\"\"             \n",
    "        carry = 0\n",
    "        \n",
    "        result = ListNode()\n",
    "        tail = result\n",
    "\n",
    "        while l1 is not None or l2 is not None or carry != 0:\n",
    "            \n",
    "            val1 = (l1.val if l1 else 0)\n",
    "            val2 = (l2.val if l2 else 0)\n",
    "            \n",
    "            tail.next = ListNode((val1+val2+carry)%10)\n",
    "            \n",
    "            if val1+val2+carry >= 10:\n",
    "                carry = 1\n",
    "            else:\n",
    "                carry = 0\n",
    "             \n",
    "            l1 = (l1.next if l1 else None)\n",
    "            l2 = (l2.next if l2 else None)\n",
    "            \n",
    "            print(val1)\n",
    "            \n",
    "            tail = tail.next\n",
    "            \n",
    "        return result.next"
   ]
  },
  {
   "cell_type": "code",
   "execution_count": 162,
   "metadata": {},
   "outputs": [
    {
     "name": "stdout",
     "output_type": "stream",
     "text": [
      "9 -> 9 -> 9 -> 9 -> 9 -> 9 -> 9\n",
      "9 -> 9 -> 9 -> 9\n"
     ]
    }
   ],
   "source": [
    "l1 = [9,9,9,9,9,9,9]\n",
    "l2 = [9,9,9,9]\n",
    "\n",
    "list1 = LinkedList().list_to_LS(l1)\n",
    "list1.printLS()\n",
    "\n",
    "list2 = LinkedList().list_to_LS(l2)\n",
    "list2.printLS()"
   ]
  },
  {
   "cell_type": "code",
   "execution_count": 163,
   "metadata": {},
   "outputs": [
    {
     "name": "stdout",
     "output_type": "stream",
     "text": [
      "9\n",
      "9\n",
      "9\n",
      "9\n",
      "9\n",
      "9\n",
      "9\n",
      "0\n"
     ]
    },
    {
     "data": {
      "text/plain": [
       "8"
      ]
     },
     "execution_count": 163,
     "metadata": {},
     "output_type": "execute_result"
    }
   ],
   "source": [
    "obj = Solution()\n",
    "obj.addTwoNumbers(list1.head,list2.head).val"
   ]
  },
  {
   "cell_type": "code",
   "execution_count": 137,
   "metadata": {},
   "outputs": [
    {
     "data": {
      "text/plain": [
       "8"
      ]
     },
     "execution_count": 137,
     "metadata": {},
     "output_type": "execute_result"
    }
   ],
   "source": [
    "obj.addTwoNumbers(list1.head,list2.head).next.next.val"
   ]
  },
  {
   "cell_type": "code",
   "execution_count": 123,
   "metadata": {},
   "outputs": [
    {
     "data": {
      "text/plain": [
       "False"
      ]
     },
     "execution_count": 123,
     "metadata": {},
     "output_type": "execute_result"
    }
   ],
   "source": [
    "carry = 1\n",
    "carry is True"
   ]
  },
  {
   "cell_type": "code",
   "execution_count": 124,
   "metadata": {},
   "outputs": [],
   "source": [
    "n1 = ListNode(0)\n",
    "n2 = n1\n",
    "n2.next = ListNode(1)"
   ]
  },
  {
   "cell_type": "code",
   "execution_count": 126,
   "metadata": {},
   "outputs": [
    {
     "data": {
      "text/plain": [
       "1"
      ]
     },
     "execution_count": 126,
     "metadata": {},
     "output_type": "execute_result"
    }
   ],
   "source": [
    "n1.next.val"
   ]
  },
  {
   "cell_type": "code",
   "execution_count": null,
   "metadata": {},
   "outputs": [],
   "source": []
  }
 ],
 "metadata": {
  "kernelspec": {
   "display_name": "Python 3",
   "language": "python",
   "name": "python3"
  },
  "language_info": {
   "codemirror_mode": {
    "name": "ipython",
    "version": 3
   },
   "file_extension": ".py",
   "mimetype": "text/x-python",
   "name": "python",
   "nbconvert_exporter": "python",
   "pygments_lexer": "ipython3",
   "version": "3.7.3"
  }
 },
 "nbformat": 4,
 "nbformat_minor": 2
}
