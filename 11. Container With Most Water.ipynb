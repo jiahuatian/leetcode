{
 "cells": [
  {
   "cell_type": "code",
   "execution_count": 8,
   "metadata": {},
   "outputs": [],
   "source": [
    "class Solution:\n",
    "    def maxArea(self, height) -> int:\n",
    "        left = 0\n",
    "        right = len(height)-1\n",
    "        mymax = min(height[left],height[right])*(right-left)\n",
    "        if height[left] <= height[right]:\n",
    "            stepleft = 1\n",
    "        else:\n",
    "            stepleft = 0\n",
    "        while left < right:\n",
    "            print(left)\n",
    "            if stepleft:\n",
    "                left += 1\n",
    "                mymax = max(mymax,min(height[left],height[right])*(right-left))\n",
    "                if height[left] <= height[right]:\n",
    "                    stepleft = 1\n",
    "                else:\n",
    "                    stepleft = 0\n",
    "            else:\n",
    "                right -= 1\n",
    "                mymax = max(mymax,min(height[left],height[right])*(right-left))\n",
    "                if height[left] <= height[right]:\n",
    "                    stepleft = 1\n",
    "                else:\n",
    "                    stepleft = 0\n",
    "             \n",
    "        return mymax"
   ]
  },
  {
   "cell_type": "code",
   "execution_count": 10,
   "metadata": {},
   "outputs": [
    {
     "name": "stdout",
     "output_type": "stream",
     "text": [
      "0\n",
      "1\n",
      "1\n",
      "1\n",
      "2\n",
      "3\n",
      "4\n",
      "5\n"
     ]
    },
    {
     "data": {
      "text/plain": [
       "49"
      ]
     },
     "execution_count": 10,
     "metadata": {},
     "output_type": "execute_result"
    }
   ],
   "source": [
    "height = [1,8,6,2,5,4,8,3,7]\n",
    "#height = [4,3,2,1,4]\n",
    "\n",
    "obj = Solution()\n",
    "obj.maxArea(height)"
   ]
  },
  {
   "cell_type": "code",
   "execution_count": 4,
   "metadata": {},
   "outputs": [],
   "source": [
    "class Solution:\n",
    "    def maxArea(self, height) -> int:\n",
    "        left = 0\n",
    "        right = len(height)-1\n",
    "        ans = -float('inf')\n",
    "        while left < right:\n",
    "            ans = max((right-left)*min(height[right],height[left]),ans)\n",
    "            if height[left] <= height[right]:\n",
    "                short = height[left]\n",
    "                left += 1\n",
    "            else:\n",
    "                short = height[right]\n",
    "                right -= 1\n",
    "        return ans"
   ]
  },
  {
   "cell_type": "code",
   "execution_count": 5,
   "metadata": {},
   "outputs": [
    {
     "data": {
      "text/plain": [
       "24"
      ]
     },
     "execution_count": 5,
     "metadata": {},
     "output_type": "execute_result"
    }
   ],
   "source": [
    "height = [1,3,2,5,25,24,5]\n",
    "\n",
    "obj = Solution()\n",
    "obj.maxArea(height)"
   ]
  },
  {
   "cell_type": "code",
   "execution_count": null,
   "metadata": {},
   "outputs": [],
   "source": []
  }
 ],
 "metadata": {
  "kernelspec": {
   "display_name": "Python 3",
   "language": "python",
   "name": "python3"
  },
  "language_info": {
   "codemirror_mode": {
    "name": "ipython",
    "version": 3
   },
   "file_extension": ".py",
   "mimetype": "text/x-python",
   "name": "python",
   "nbconvert_exporter": "python",
   "pygments_lexer": "ipython3",
   "version": "3.7.3"
  }
 },
 "nbformat": 4,
 "nbformat_minor": 2
}
