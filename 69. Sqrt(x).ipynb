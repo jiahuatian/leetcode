{
 "cells": [
  {
   "cell_type": "code",
   "execution_count": 65,
   "metadata": {},
   "outputs": [],
   "source": [
    "class Solution(object):\n",
    "    def mySqrt(self, x):\n",
    "        \"\"\"\n",
    "        :type x: int\n",
    "        :rtype: int\n",
    "        \"\"\"\n",
    "        \n",
    "        upper = x//2\n",
    "        lower = 1\n",
    "        \n",
    "        if x < 2:\n",
    "            return x     \n",
    "        \n",
    "        while lower*lower <= x and upper*upper >= x:\n",
    "            if lower == upper or lower == upper - 1 and lower*lower == x:\n",
    "                return lower\n",
    "            elif lower == upper or lower == upper - 1 and upper*upper == x:\n",
    "                return upper\n",
    "            elif lower == upper or lower == upper - 1:\n",
    "                return lower\n",
    "            mid = (lower + upper)//2\n",
    "                    \n",
    "            if mid*mid <= x:\n",
    "                lower = mid\n",
    "            else:\n",
    "                upper = mid\n",
    "                \n",
    "            print(lower, upper)\n",
    "                \n",
    "        return lower"
   ]
  },
  {
   "cell_type": "code",
   "execution_count": 66,
   "metadata": {},
   "outputs": [
    {
     "data": {
      "text/plain": [
       "1"
      ]
     },
     "execution_count": 66,
     "metadata": {},
     "output_type": "execute_result"
    }
   ],
   "source": [
    "obj = Solution()\n",
    "obj.mySqrt(2)"
   ]
  },
  {
   "cell_type": "code",
   "execution_count": null,
   "metadata": {},
   "outputs": [],
   "source": []
  }
 ],
 "metadata": {
  "kernelspec": {
   "display_name": "Python 3",
   "language": "python",
   "name": "python3"
  },
  "language_info": {
   "codemirror_mode": {
    "name": "ipython",
    "version": 3
   },
   "file_extension": ".py",
   "mimetype": "text/x-python",
   "name": "python",
   "nbconvert_exporter": "python",
   "pygments_lexer": "ipython3",
   "version": "3.7.3"
  }
 },
 "nbformat": 4,
 "nbformat_minor": 2
}
