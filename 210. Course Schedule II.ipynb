{
 "cells": [
  {
   "cell_type": "code",
   "execution_count": 16,
   "metadata": {},
   "outputs": [],
   "source": [
    "class Solution:\n",
    "    def findOrder(self, numCourses: int, prerequisites):\n",
    "        from collections import defaultdict\n",
    "        g, ind = defaultdict(list), [0 for _ in range(numCourses)]\n",
    "        for c,p in prerequisites:\n",
    "            if c == p:\n",
    "                return []\n",
    "            g[p].append(c)\n",
    "            ind[c] += 1\n",
    "        g0 = [i for i in range(len(ind)) if ind[i] == 0]\n",
    "        \n",
    "        if not g0:\n",
    "            return []\n",
    "        courseord = []\n",
    "        while g0:\n",
    "            thisc = g0.pop(0)\n",
    "            courseord += [thisc]\n",
    "            for c in g[thisc]:\n",
    "                ind[c] -= 1\n",
    "                if ind[c] == 0:\n",
    "                    g0.append(c)\n",
    "                    \n",
    "        return courseord if len(courseord) == numCourses else []"
   ]
  },
  {
   "cell_type": "code",
   "execution_count": 18,
   "metadata": {},
   "outputs": [
    {
     "name": "stdout",
     "output_type": "stream",
     "text": [
      "[0, 1]\n"
     ]
    },
    {
     "data": {
      "text/plain": [
       "[0, 1]"
      ]
     },
     "execution_count": 18,
     "metadata": {},
     "output_type": "execute_result"
    }
   ],
   "source": [
    "numCourses = 2\n",
    "prerequisites = [[1,0]]\n",
    "#prerequisites = []\n",
    "\n",
    "obj = Solution()\n",
    "obj.findOrder(numCourses,prerequisites)"
   ]
  },
  {
   "cell_type": "code",
   "execution_count": null,
   "metadata": {},
   "outputs": [],
   "source": []
  }
 ],
 "metadata": {
  "kernelspec": {
   "display_name": "Python 3",
   "language": "python",
   "name": "python3"
  },
  "language_info": {
   "codemirror_mode": {
    "name": "ipython",
    "version": 3
   },
   "file_extension": ".py",
   "mimetype": "text/x-python",
   "name": "python",
   "nbconvert_exporter": "python",
   "pygments_lexer": "ipython3",
   "version": "3.7.3"
  }
 },
 "nbformat": 4,
 "nbformat_minor": 2
}
