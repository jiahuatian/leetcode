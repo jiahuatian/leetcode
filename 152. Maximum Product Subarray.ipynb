{
 "cells": [
  {
   "cell_type": "code",
   "execution_count": 24,
   "metadata": {},
   "outputs": [],
   "source": [
    "class Solution:\n",
    "    def maxProduct(self, nums) -> int:\n",
    "        cur = 1\n",
    "        mymax = nums[0]\n",
    "        \n",
    "        for i in range(len(nums)):\n",
    "            if nums[i] == 0:\n",
    "                mymax = max(mymax,nums[i])\n",
    "                cur = 1\n",
    "            elif cur*nums[i] >= cur:\n",
    "                cur *= nums[i]\n",
    "                mymax = max(mymax,cur)\n",
    "            else:\n",
    "                cur = nums[i]\n",
    "                mymax = max(mymax,cur)\n",
    "                \n",
    "        return mymax"
   ]
  },
  {
   "cell_type": "code",
   "execution_count": 25,
   "metadata": {},
   "outputs": [
    {
     "data": {
      "text/plain": [
       "0"
      ]
     },
     "execution_count": 25,
     "metadata": {},
     "output_type": "execute_result"
    }
   ],
   "source": [
    "nums = [0,2]\n",
    "nums = [2,3,-2,4]\n",
    "nums = [-2,0,-1]\n",
    "\n",
    "obj = Solution()\n",
    "obj.maxProduct(nums)"
   ]
  },
  {
   "cell_type": "code",
   "execution_count": 73,
   "metadata": {},
   "outputs": [],
   "source": [
    "class Solution:\n",
    "    def maxProduct(self, nums) -> int:\n",
    "        thismax = -float('inf')\n",
    "        thismin = 1\n",
    "        \n",
    "        cur = 1\n",
    "        \n",
    "        for i in range(len(nums)):\n",
    "            if nums[i] > 0:\n",
    "                cur *= nums[i]\n",
    "                thismax = max(thismax,cur)\n",
    "            elif nums[i] < 0:\n",
    "                cur *= nums[i]\n",
    "                thismin = min(thismin,cur)\n",
    "                thismax = max(thismax,cur)\n",
    "            else:\n",
    "                cur = 1\n",
    "                thismax = max(thismax,0)\n",
    "            print(i,cur)\n",
    "                \n",
    "        return max(thismax,nums[-1])"
   ]
  },
  {
   "cell_type": "code",
   "execution_count": 74,
   "metadata": {},
   "outputs": [
    {
     "name": "stdout",
     "output_type": "stream",
     "text": [
      "0 2\n",
      "1 -10\n",
      "2 20\n",
      "3 -80\n",
      "4 -240\n"
     ]
    },
    {
     "data": {
      "text/plain": [
       "20"
      ]
     },
     "execution_count": 74,
     "metadata": {},
     "output_type": "execute_result"
    }
   ],
   "source": [
    "nums = [0,2]\n",
    "nums = [2,3,-2,4]\n",
    "nums = [-2,0,-1]\n",
    "nums = [-4,-3]\n",
    "nums = [-2]\n",
    "nums = [3,-1,4]\n",
    "#nums = [-2,3,-4]\n",
    "nums = [2,-5,-2,-4,3]\n",
    "\n",
    "obj = Solution()\n",
    "obj.maxProduct(nums)"
   ]
  },
  {
   "cell_type": "code",
   "execution_count": 14,
   "metadata": {},
   "outputs": [],
   "source": [
    "from functools import lru_cache\n",
    "class Solution:\n",
    "    def maxProduct(self, nums) -> int:\n",
    "        @lru_cache(maxsize=None)\n",
    "        def dp(i):\n",
    "            if i == 0:\n",
    "                if nums[i] > 0:\n",
    "                    return [nums[i],0]\n",
    "                else:\n",
    "                    return [0,nums[i]]\n",
    "            if nums[i] > 0:\n",
    "                return [max(dp(i-1)[0]*nums[i],nums[i]),dp(i-1)[1]*nums[i]]\n",
    "            elif nums[i] <= 0:\n",
    "                return [dp(i-1)[1]*nums[i],min(dp(i-1)[0]*nums[i],nums[i])]\n",
    "        if max([dp(k)[0] for k in range(len(nums))]) != 0:\n",
    "            return max([dp(k)[0] for k in range(len(nums))])\n",
    "        else:\n",
    "            return max([dp(k)[1] for k in range(len(nums))])"
   ]
  },
  {
   "cell_type": "code",
   "execution_count": 15,
   "metadata": {},
   "outputs": [
    {
     "data": {
      "text/plain": [
       "4"
      ]
     },
     "execution_count": 15,
     "metadata": {},
     "output_type": "execute_result"
    }
   ],
   "source": [
    "nums = [3,-1,4]\n",
    "\n",
    "obj = Solution()\n",
    "obj.maxProduct(nums)"
   ]
  },
  {
   "cell_type": "code",
   "execution_count": 1,
   "metadata": {},
   "outputs": [],
   "source": [
    "class Solution:\n",
    "    def maxProduct(self, nums) -> int:\n",
    "        dp = [[1,1]]*(len(nums)+1)\n",
    "        for i in range(len(nums)):\n",
    "            if nums[i] > 0:\n",
    "                dp[i+1] = [max(dp[i][0]*nums[i],nums[i]),dp[i][1]*nums[i]]\n",
    "            else:\n",
    "                dp[i+1] = [dp[i][1]*nums[i],min(dp[i][0]*nums[i],nums[i])]\n",
    "        return max([dp[k][0] for k in range(1,len(nums)+1)]+[dp[k][1] for k in range(1,len(nums)+1)])"
   ]
  },
  {
   "cell_type": "code",
   "execution_count": 2,
   "metadata": {},
   "outputs": [
    {
     "data": {
      "text/plain": [
       "24"
      ]
     },
     "execution_count": 2,
     "metadata": {},
     "output_type": "execute_result"
    }
   ],
   "source": [
    "nums = [2,-5,-2,-4,3]\n",
    "\n",
    "obj = Solution()\n",
    "obj.maxProduct(nums)"
   ]
  },
  {
   "cell_type": "code",
   "execution_count": null,
   "metadata": {},
   "outputs": [],
   "source": []
  }
 ],
 "metadata": {
  "kernelspec": {
   "display_name": "Python 3",
   "language": "python",
   "name": "python3"
  },
  "language_info": {
   "codemirror_mode": {
    "name": "ipython",
    "version": 3
   },
   "file_extension": ".py",
   "mimetype": "text/x-python",
   "name": "python",
   "nbconvert_exporter": "python",
   "pygments_lexer": "ipython3",
   "version": "3.7.3"
  }
 },
 "nbformat": 4,
 "nbformat_minor": 2
}
