{
 "cells": [
  {
   "cell_type": "code",
   "execution_count": 104,
   "metadata": {},
   "outputs": [],
   "source": [
    "class Solution:\n",
    "    def calcEquation(self, equations, values, queries):\n",
    "        eqc = equations.copy()\n",
    "        for i,t in enumerate(eqc):\n",
    "            equations.append([t[1],t[0]])\n",
    "            values.append(1/values[i])\n",
    "        \n",
    "        print(equations, values)\n",
    "        \n",
    "        res = []\n",
    "        while queries:\n",
    "            num,den = queries.pop(0)\n",
    "            print(num,den)\n",
    "            stack = []\n",
    "            prod = -1\n",
    "            for i,t in enumerate(equations):\n",
    "                if t[0] == num:\n",
    "                    stack.append([t[1],set([i])])\n",
    "                if t[0] == num and t[1] == den:\n",
    "                    prod = values[i]\n",
    "                    res.append(prod)\n",
    "                    stack = []\n",
    "                    break\n",
    "            while stack:\n",
    "                thisden,routeset = stack.pop()\n",
    "                print(thisden,routeset)\n",
    "                for j,t in enumerate(equations):\n",
    "                    print(j)\n",
    "                    if t[0] == thisden and j not in routeset:\n",
    "                        stack.append([t[1],routeset.union(set([j]))])\n",
    "                    if t[0] == thisden and t[1] == den and j not in routeset:\n",
    "                        prod = 1\n",
    "                        for ind in routeset.union(set([j])):\n",
    "                            prod *= values[ind]\n",
    "                        res.append(prod)\n",
    "                        break\n",
    "                if prod != -1:\n",
    "                    break\n",
    "            if prod == -1:\n",
    "                res.append(-1)\n",
    "        return res"
   ]
  },
  {
   "cell_type": "code",
   "execution_count": 105,
   "metadata": {},
   "outputs": [
    {
     "name": "stdout",
     "output_type": "stream",
     "text": [
      "[['a', 'e'], ['b', 'e'], ['e', 'a'], ['e', 'b']] [4.0, 3.0, 0.25, 0.3333333333333333]\n",
      "a b\n",
      "e {0}\n",
      "0\n",
      "1\n",
      "2\n",
      "3\n",
      "e e\n",
      "b {3}\n",
      "0\n",
      "1\n",
      "x x\n"
     ]
    },
    {
     "data": {
      "text/plain": [
       "[1.3333333333333333, 1.0, -1]"
      ]
     },
     "execution_count": 105,
     "metadata": {},
     "output_type": "execute_result"
    }
   ],
   "source": [
    "equations = [[\"a\",\"b\"],[\"b\",\"c\"]]\n",
    "values = [2.0,3.0]\n",
    "queries = [[\"a\",\"c\"],[\"b\",\"a\"],[\"a\",\"e\"],[\"a\",\"a\"],[\"x\",\"x\"]]\n",
    "\n",
    "equations = [[\"a\",\"b\"],[\"b\",\"c\"],[\"bc\",\"cd\"]]\n",
    "values = [1.5,2.5,5.0]\n",
    "queries = [[\"a\",\"c\"],[\"c\",\"b\"],[\"bc\",\"cd\"],[\"cd\",\"bc\"]]\n",
    "\n",
    "equations = [[\"a\",\"e\"],[\"b\",\"e\"]]\n",
    "values = [4.0,3.0]\n",
    "queries = [[\"a\",\"b\"],[\"e\",\"e\"],[\"x\",\"x\"]]\n",
    "\n",
    "obj = Solution()\n",
    "obj.calcEquation(equations, values, queries)"
   ]
  },
  {
   "cell_type": "code",
   "execution_count": 110,
   "metadata": {},
   "outputs": [],
   "source": [
    "equations = [[\"a\",\"b\"],[\"a\",\"c\"],[\"a\",\"d\"],[\"a\",\"e\"],[\"a\",\"f\"],[\"a\",\"g\"],[\"a\",\"h\"],[\"a\",\"i\"],[\"a\",\"j\"],[\"a\",\"k\"],\n",
    "             [\"a\",\"l\"],[\"a\",\"aa\"]]\n",
    "values = [1.0,2.0,3.0,4.0,5.0,6.0,7.0,8.0,9.0,10.0,11.0,1.0]\n",
    "queries = [[\"d\",\"f\"],[\"e\",\"g\"],[\"e\",\"k\"],[\"h\",\"a\"],[\"aaa\",\"k\"],[\"aaa\",\"i\"],[\"aa\",\"e\"],\n",
    "           [\"aaa\",\"aa\"],[\"aaa\",\"ff\"]]"
   ]
  },
  {
   "cell_type": "code",
   "execution_count": 111,
   "metadata": {},
   "outputs": [
    {
     "name": "stdout",
     "output_type": "stream",
     "text": [
      "[['a', 'b'], ['a', 'c'], ['a', 'd'], ['a', 'e'], ['a', 'f'], ['a', 'g'], ['a', 'h'], ['a', 'i'], ['a', 'j'], ['a', 'k'], ['a', 'l'], ['a', 'aa'], ['b', 'a'], ['c', 'a'], ['d', 'a'], ['e', 'a'], ['f', 'a'], ['g', 'a'], ['h', 'a'], ['i', 'a'], ['j', 'a'], ['k', 'a'], ['l', 'a'], ['aa', 'a']] [1.0, 2.0, 3.0, 4.0, 5.0, 6.0, 7.0, 8.0, 9.0, 10.0, 11.0, 1.0, 1.0, 0.5, 0.3333333333333333, 0.25, 0.2, 0.16666666666666666, 0.14285714285714285, 0.125, 0.1111111111111111, 0.1, 0.09090909090909091, 1.0]\n",
      "d f\n",
      "a {14}\n",
      "0\n",
      "1\n",
      "2\n",
      "3\n",
      "4\n",
      "e g\n",
      "a {15}\n",
      "0\n",
      "1\n",
      "2\n",
      "3\n",
      "4\n",
      "5\n",
      "e k\n",
      "a {15}\n",
      "0\n",
      "1\n",
      "2\n",
      "3\n",
      "4\n",
      "5\n",
      "6\n",
      "7\n",
      "8\n",
      "9\n",
      "h a\n",
      "aaa k\n",
      "aaa i\n",
      "aa e\n",
      "a {23}\n",
      "0\n",
      "1\n",
      "2\n",
      "3\n",
      "aaa aa\n",
      "aaa ff\n"
     ]
    },
    {
     "data": {
      "text/plain": [
       "[1.6666666666666665, 1.5, 2.5, 0.14285714285714285, -1, -1, 4.0, -1, -1]"
      ]
     },
     "execution_count": 111,
     "metadata": {},
     "output_type": "execute_result"
    }
   ],
   "source": [
    "obj = Solution()\n",
    "obj.calcEquation(equations, values, queries)"
   ]
  },
  {
   "cell_type": "code",
   "execution_count": 114,
   "metadata": {},
   "outputs": [],
   "source": [
    "class Solution:\n",
    "    def calcEquation(self, equations, values, queries):\n",
    "        \n",
    "        from collections import defaultdict\n",
    "\n",
    "        graph = defaultdict(defaultdict)\n",
    "\n",
    "        # Step 1). build the graph from the equations\n",
    "        for (dividend, divisor), value in zip(equations, values):\n",
    "            # add nodes and two edges into the graph\n",
    "            graph[dividend][divisor] = value\n",
    "            graph[divisor][dividend] = 1 / value\n",
    "            \n",
    "        return graph"
   ]
  },
  {
   "cell_type": "code",
   "execution_count": 116,
   "metadata": {},
   "outputs": [],
   "source": [
    "equations = [[\"a\",\"e\"],[\"b\",\"e\"]]\n",
    "values = [4.0,3.0]\n",
    "queries = [[\"a\",\"b\"],[\"e\",\"e\"],[\"x\",\"x\"]]\n",
    "\n",
    "obj = Solution()\n",
    "myd = obj.calcEquation(equations, values, queries)"
   ]
  },
  {
   "cell_type": "code",
   "execution_count": 119,
   "metadata": {},
   "outputs": [
    {
     "data": {
      "text/plain": [
       "defaultdict(collections.defaultdict,\n",
       "            {'a': defaultdict(None, {'e': 4.0}),\n",
       "             'e': defaultdict(None, {'a': 0.25, 'b': 0.3333333333333333}),\n",
       "             'b': defaultdict(None, {'e': 3.0})})"
      ]
     },
     "execution_count": 119,
     "metadata": {},
     "output_type": "execute_result"
    }
   ],
   "source": [
    "myd"
   ]
  },
  {
   "cell_type": "code",
   "execution_count": null,
   "metadata": {},
   "outputs": [],
   "source": []
  }
 ],
 "metadata": {
  "kernelspec": {
   "display_name": "Python 3",
   "language": "python",
   "name": "python3"
  },
  "language_info": {
   "codemirror_mode": {
    "name": "ipython",
    "version": 3
   },
   "file_extension": ".py",
   "mimetype": "text/x-python",
   "name": "python",
   "nbconvert_exporter": "python",
   "pygments_lexer": "ipython3",
   "version": "3.7.3"
  }
 },
 "nbformat": 4,
 "nbformat_minor": 2
}
