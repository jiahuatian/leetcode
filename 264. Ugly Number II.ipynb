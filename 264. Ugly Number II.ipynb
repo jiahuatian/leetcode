{
 "cells": [
  {
   "cell_type": "code",
   "execution_count": 31,
   "metadata": {},
   "outputs": [],
   "source": [
    "class Solution:\n",
    "    def nthUglyNumber(self, n: int) -> int:\n",
    "        count = 0\n",
    "        i = 1\n",
    "        prev = set()\n",
    "        while count < n:\n",
    "            if self.isUgly(i, prev):\n",
    "                prev.add(i)\n",
    "                count += 1\n",
    "            i += 1\n",
    "            print(prev)\n",
    "            \n",
    "        return i-1\n",
    "    \n",
    "    def isUgly(self, num, numset):\n",
    "        if len(numset) == 0 and num == 1:\n",
    "            return True\n",
    "        \n",
    "        if num/2 in numset or num/3 in numset or num/5 in numset:\n",
    "            return True"
   ]
  },
  {
   "cell_type": "code",
   "execution_count": 36,
   "metadata": {},
   "outputs": [
    {
     "name": "stdout",
     "output_type": "stream",
     "text": [
      "{1}\n"
     ]
    },
    {
     "data": {
      "text/plain": [
       "1"
      ]
     },
     "execution_count": 36,
     "metadata": {},
     "output_type": "execute_result"
    }
   ],
   "source": [
    "n = 1\n",
    "obj = Solution()\n",
    "obj.nthUglyNumber(n)"
   ]
  },
  {
   "cell_type": "code",
   "execution_count": 46,
   "metadata": {},
   "outputs": [],
   "source": [
    "class Solution:\n",
    "    def nthUglyNumber(self, n: int) -> int:\n",
    "        ugly = [1]        \n",
    "        i2 = i3 = i5 = 0\n",
    "        while len(ugly) < n:\n",
    "            print(i2,i3,i5)\n",
    "            print(ugly)\n",
    "            while ugly[i2]*2 <= ugly[-1]:\n",
    "                i2 += 1\n",
    "            while ugly[i3]*3 <= ugly[-1]:\n",
    "                i3 += 1\n",
    "            while ugly[i5]*5 <= ugly[-1]:\n",
    "                i5 += 1\n",
    "            print(ugly[i2]*2, ugly[i3]*3, ugly[i5]*5)\n",
    "            ugly.append(min(ugly[i2]*2, ugly[i3]*3, ugly[i5]*5))\n",
    "            \n",
    "        return ugly[-1]"
   ]
  },
  {
   "cell_type": "code",
   "execution_count": 48,
   "metadata": {},
   "outputs": [
    {
     "name": "stdout",
     "output_type": "stream",
     "text": [
      "0 0 0\n",
      "[1]\n",
      "2 3 5\n",
      "0 0 0\n",
      "[1, 2]\n",
      "4 3 5\n",
      "1 0 0\n",
      "[1, 2, 3]\n",
      "4 6 5\n",
      "1 1 0\n",
      "[1, 2, 3, 4]\n",
      "6 6 5\n",
      "2 1 0\n",
      "[1, 2, 3, 4, 5]\n",
      "6 6 10\n",
      "2 1 1\n",
      "[1, 2, 3, 4, 5, 6]\n",
      "8 9 10\n",
      "3 2 1\n",
      "[1, 2, 3, 4, 5, 6, 8]\n",
      "10 9 10\n",
      "4 2 1\n",
      "[1, 2, 3, 4, 5, 6, 8, 9]\n",
      "10 12 10\n",
      "4 3 1\n",
      "[1, 2, 3, 4, 5, 6, 8, 9, 10]\n",
      "12 12 15\n",
      "5 3 2\n",
      "[1, 2, 3, 4, 5, 6, 8, 9, 10, 12]\n",
      "16 15 15\n"
     ]
    },
    {
     "data": {
      "text/plain": [
       "15"
      ]
     },
     "execution_count": 48,
     "metadata": {},
     "output_type": "execute_result"
    }
   ],
   "source": [
    "n = 11\n",
    "\n",
    "obj = Solution()\n",
    "obj.nthUglyNumber(n)"
   ]
  },
  {
   "cell_type": "code",
   "execution_count": null,
   "metadata": {},
   "outputs": [],
   "source": []
  }
 ],
 "metadata": {
  "kernelspec": {
   "display_name": "Python 3",
   "language": "python",
   "name": "python3"
  },
  "language_info": {
   "codemirror_mode": {
    "name": "ipython",
    "version": 3
   },
   "file_extension": ".py",
   "mimetype": "text/x-python",
   "name": "python",
   "nbconvert_exporter": "python",
   "pygments_lexer": "ipython3",
   "version": "3.7.3"
  }
 },
 "nbformat": 4,
 "nbformat_minor": 2
}
