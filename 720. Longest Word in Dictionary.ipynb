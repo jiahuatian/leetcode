{
 "cells": [
  {
   "cell_type": "code",
   "execution_count": 6,
   "metadata": {},
   "outputs": [],
   "source": [
    "class Solution:\n",
    "    def longestWord(self, words) -> str:\n",
    "        from collections import defaultdict\n",
    "        worddict = defaultdict(list)\n",
    "        for s in words:\n",
    "            worddict[len(s)].append(s)\n",
    "        print(worddict)\n",
    "        preres = []\n",
    "        stack = worddict[1]\n",
    "        while stack:\n",
    "            thisword = stack.pop()\n",
    "            count = 0\n",
    "            for s in worddict[len(thisword)+1]:\n",
    "                if s[:-1] == thisword:\n",
    "                    stack.append(s)\n",
    "                    count += 1\n",
    "            if count == 0:\n",
    "                preres.append(thisword)\n",
    "        return preres      "
   ]
  },
  {
   "cell_type": "code",
   "execution_count": 9,
   "metadata": {},
   "outputs": [
    {
     "name": "stdout",
     "output_type": "stream",
     "text": [
      "defaultdict(<class 'list'>, {1: ['a'], 6: ['banana'], 3: ['app'], 4: ['appl'], 2: ['ap'], 5: ['apply', 'apple']})\n"
     ]
    },
    {
     "data": {
      "text/plain": [
       "['apple', 'apply']"
      ]
     },
     "execution_count": 9,
     "metadata": {},
     "output_type": "execute_result"
    }
   ],
   "source": [
    "words = [\"w\",\"wo\",\"wor\",\"worl\",\"world\"]\n",
    "words = [\"a\",\"banana\",\"app\",\"appl\",\"ap\",\"apply\",\"apple\"]\n",
    "\n",
    "obj = Solution()\n",
    "obj.longestWord(words)"
   ]
  },
  {
   "cell_type": "code",
   "execution_count": null,
   "metadata": {},
   "outputs": [],
   "source": []
  }
 ],
 "metadata": {
  "kernelspec": {
   "display_name": "Python 3",
   "language": "python",
   "name": "python3"
  },
  "language_info": {
   "codemirror_mode": {
    "name": "ipython",
    "version": 3
   },
   "file_extension": ".py",
   "mimetype": "text/x-python",
   "name": "python",
   "nbconvert_exporter": "python",
   "pygments_lexer": "ipython3",
   "version": "3.7.3"
  }
 },
 "nbformat": 4,
 "nbformat_minor": 2
}
