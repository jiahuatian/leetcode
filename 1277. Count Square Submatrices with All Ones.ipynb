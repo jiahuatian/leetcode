{
 "cells": [
  {
   "cell_type": "code",
   "execution_count": 12,
   "metadata": {},
   "outputs": [],
   "source": [
    "class Solution:\n",
    "    def countSquares(self, matrix) -> int:\n",
    "        m,n = len(matrix),len(matrix[0])\n",
    "        dp = [[0 for _ in range(n)]for _ in range(m)]\n",
    "        count = 0\n",
    "        for i in range(m):\n",
    "            dp[i][0] = 1 if matrix[i][0] == 1 else 0\n",
    "            if dp[i][0] == 1:\n",
    "                count += 1\n",
    "        dp[0] = matrix[0]\n",
    "        count += sum(dp[0])\n",
    "        count -= dp[0][0]\n",
    "        for i in range(1,m):\n",
    "            for j in range(1,n):\n",
    "                if matrix[i][j] == 0:\n",
    "                    dp[i][j] = 0\n",
    "                else:\n",
    "                    dp[i][j] = min(dp[i-1][j]+1,dp[i][j-1]+1,dp[i-1][j-1]+1)\n",
    "                count += dp[i][j]\n",
    "        print(dp)\n",
    "        return count"
   ]
  },
  {
   "cell_type": "code",
   "execution_count": 13,
   "metadata": {},
   "outputs": [
    {
     "name": "stdout",
     "output_type": "stream",
     "text": [
      "[[1, 0, 1], [1, 1, 0], [1, 2, 0]]\n"
     ]
    },
    {
     "data": {
      "text/plain": [
       "7"
      ]
     },
     "execution_count": 13,
     "metadata": {},
     "output_type": "execute_result"
    }
   ],
   "source": [
    "matrix = [\n",
    "  [0,1,1,1],\n",
    "  [1,1,1,1],\n",
    "  [0,1,1,1]]\n",
    "\n",
    "matrix = [\n",
    "  [1,0,1],\n",
    "  [1,1,0],\n",
    "  [1,1,0]]\n",
    "\n",
    "obj = Solution()\n",
    "obj.countSquares(matrix)"
   ]
  },
  {
   "cell_type": "code",
   "execution_count": null,
   "metadata": {},
   "outputs": [],
   "source": []
  }
 ],
 "metadata": {
  "kernelspec": {
   "display_name": "Python 3",
   "language": "python",
   "name": "python3"
  },
  "language_info": {
   "codemirror_mode": {
    "name": "ipython",
    "version": 3
   },
   "file_extension": ".py",
   "mimetype": "text/x-python",
   "name": "python",
   "nbconvert_exporter": "python",
   "pygments_lexer": "ipython3",
   "version": "3.7.3"
  }
 },
 "nbformat": 4,
 "nbformat_minor": 2
}
