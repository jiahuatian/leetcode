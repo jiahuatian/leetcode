{
 "cells": [
  {
   "cell_type": "code",
   "execution_count": 13,
   "metadata": {},
   "outputs": [],
   "source": [
    "def neighbor(s):\n",
    "    num = [int(c) for c in list(s)]\n",
    "    neighbors = []\n",
    "    for i in range(len(num)):\n",
    "        for d in (-1,1):\n",
    "            y = (num[i]+d)%10\n",
    "            neighbors.append(''.join([str(k) for k in num[:i]+[y]+num[i+1:]]))\n",
    "    return neighbors"
   ]
  },
  {
   "cell_type": "code",
   "execution_count": 14,
   "metadata": {},
   "outputs": [
    {
     "data": {
      "text/plain": [
       "['9201', '1201', '0101', '0301', '0291', '0211', '0200', '0202']"
      ]
     },
     "execution_count": 14,
     "metadata": {},
     "output_type": "execute_result"
    }
   ],
   "source": [
    "neighbor(\"0201\")"
   ]
  },
  {
   "cell_type": "code",
   "execution_count": 10,
   "metadata": {},
   "outputs": [
    {
     "data": {
      "text/plain": [
       "'9201'"
      ]
     },
     "execution_count": 10,
     "metadata": {},
     "output_type": "execute_result"
    }
   ],
   "source": [
    "''.join([str(k) for k in [9, 2, 0, 1]])"
   ]
  },
  {
   "cell_type": "code",
   "execution_count": 29,
   "metadata": {},
   "outputs": [],
   "source": [
    "class Solution:\n",
    "    def openLock(self, deadends, target: str) -> int:\n",
    "        from collections import deque\n",
    "        def neighbor(s):\n",
    "            num = [int(c) for c in list(s)]\n",
    "            neighbors = []\n",
    "            for i in range(len(num)):\n",
    "                for d in (-1,1):\n",
    "                    y = (num[i]+d)%10\n",
    "                    neighbors.append(''.join([str(k) for k in num[:i]+[y]+num[i+1:]]))\n",
    "            return neighbors\n",
    "        \n",
    "        if \"0000\" in deadends:\n",
    "            return -1\n",
    "        q = deque([[target,0],])\n",
    "        seen = set()\n",
    "        while q:\n",
    "            n = len(q)\n",
    "            for i in range(n):\n",
    "                k,step = q.popleft()\n",
    "                seen.add(k)\n",
    "                if k == \"0000\":\n",
    "                    return step\n",
    "                for sn in neighbor(k):\n",
    "                    if sn not in seen and sn not in deadends:\n",
    "                        q.append([sn,step+1])\n",
    "        return -1"
   ]
  },
  {
   "cell_type": "code",
   "execution_count": 30,
   "metadata": {},
   "outputs": [
    {
     "data": {
      "text/plain": [
       "-1"
      ]
     },
     "execution_count": 30,
     "metadata": {},
     "output_type": "execute_result"
    }
   ],
   "source": [
    "deadends = [\"0201\",\"0101\",\"0102\",\"1212\",\"2002\"]\n",
    "target = \"0202\"\n",
    "\n",
    "deadends = [\"8888\"]\n",
    "target = \"0009\"\n",
    "\n",
    "deadends = [\"8887\",\"8889\",\"8878\",\"8898\",\"8788\",\"8988\",\"7888\",\"9888\"]\n",
    "target = \"8888\"\n",
    "\n",
    "obj = Solution()\n",
    "obj.openLock(deadends,target)"
   ]
  },
  {
   "cell_type": "code",
   "execution_count": null,
   "metadata": {},
   "outputs": [],
   "source": []
  }
 ],
 "metadata": {
  "kernelspec": {
   "display_name": "Python 3",
   "language": "python",
   "name": "python3"
  },
  "language_info": {
   "codemirror_mode": {
    "name": "ipython",
    "version": 3
   },
   "file_extension": ".py",
   "mimetype": "text/x-python",
   "name": "python",
   "nbconvert_exporter": "python",
   "pygments_lexer": "ipython3",
   "version": "3.7.3"
  }
 },
 "nbformat": 4,
 "nbformat_minor": 2
}
