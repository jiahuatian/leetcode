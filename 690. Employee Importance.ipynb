{
 "cells": [
  {
   "cell_type": "code",
   "execution_count": 47,
   "metadata": {},
   "outputs": [],
   "source": [
    "class Solution:\n",
    "    def findCircleNum(self, isConnected) -> int:\n",
    "        n = len(isConnected)\n",
    "        province = 0\n",
    "        traverse = set([i for i in range(n)])\n",
    "        while traverse:\n",
    "            city = traverse.pop()\n",
    "            toexplore = [city,]\n",
    "            while toexplore:\n",
    "                thiscity = toexplore.pop(0)\n",
    "                for i in range(n):\n",
    "                    if isConnected[thiscity][i] == 1 and i in traverse:\n",
    "                        toexplore.append(i)\n",
    "                        traverse.remove(i)\n",
    "            province += 1           \n",
    "        return province"
   ]
  },
  {
   "cell_type": "code",
   "execution_count": 48,
   "metadata": {},
   "outputs": [
    {
     "name": "stdout",
     "output_type": "stream",
     "text": [
      "[0]\n",
      "0 {1, 2, 3}\n",
      "[3]\n",
      "3 {1, 2}\n",
      "[2]\n",
      "2 {1}\n",
      "[1]\n",
      "1 set()\n"
     ]
    },
    {
     "data": {
      "text/plain": [
       "1"
      ]
     },
     "execution_count": 48,
     "metadata": {},
     "output_type": "execute_result"
    }
   ],
   "source": [
    "isConnected = [[1,1,0],[1,1,0],[0,0,1]]\n",
    "isConnected = [[1,0,0,1],[0,1,1,0],[0,1,1,1],[1,0,1,1]]\n",
    "\n",
    "obj = Solution()\n",
    "obj.findCircleNum(isConnected)"
   ]
  },
  {
   "cell_type": "code",
   "execution_count": null,
   "metadata": {},
   "outputs": [],
   "source": []
  }
 ],
 "metadata": {
  "kernelspec": {
   "display_name": "Python 3",
   "language": "python",
   "name": "python3"
  },
  "language_info": {
   "codemirror_mode": {
    "name": "ipython",
    "version": 3
   },
   "file_extension": ".py",
   "mimetype": "text/x-python",
   "name": "python",
   "nbconvert_exporter": "python",
   "pygments_lexer": "ipython3",
   "version": "3.7.3"
  }
 },
 "nbformat": 4,
 "nbformat_minor": 2
}
