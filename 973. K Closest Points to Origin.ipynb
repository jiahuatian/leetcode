{
 "cells": [
  {
   "cell_type": "code",
   "execution_count": 23,
   "metadata": {},
   "outputs": [],
   "source": [
    "class Solution:\n",
    "    def kClosest(self, points, k: int):\n",
    "        from collections import defaultdict\n",
    "        ptdict = defaultdict(list)\n",
    "        \n",
    "        H = []\n",
    "        \n",
    "        for x,y in points:\n",
    "            d = x**2 + y**2\n",
    "            if len(H) < k:\n",
    "                H.append(d)\n",
    "                ptdict[d].append([x,y])\n",
    "            else:\n",
    "                H.append(d)\n",
    "                ptdict[d].append([x,y])\n",
    "                H.sort()\n",
    "                last = H.pop()\n",
    "                ptdict[last].pop()\n",
    "                \n",
    "        res = []        \n",
    "        for key in ptdict:\n",
    "            res.extend(ptdict[key])\n",
    "            \n",
    "        return res"
   ]
  },
  {
   "cell_type": "code",
   "execution_count": 24,
   "metadata": {},
   "outputs": [
    {
     "data": {
      "text/plain": [
       "[[3, 3], [-2, 4]]"
      ]
     },
     "execution_count": 24,
     "metadata": {},
     "output_type": "execute_result"
    }
   ],
   "source": [
    "points = [[3,3],[5,-1],[-2,4]]\n",
    "k = 2\n",
    "\n",
    "obj = Solution()\n",
    "obj.kClosest(points,k)"
   ]
  },
  {
   "cell_type": "code",
   "execution_count": null,
   "metadata": {},
   "outputs": [],
   "source": []
  }
 ],
 "metadata": {
  "kernelspec": {
   "display_name": "Python 3",
   "language": "python",
   "name": "python3"
  },
  "language_info": {
   "codemirror_mode": {
    "name": "ipython",
    "version": 3
   },
   "file_extension": ".py",
   "mimetype": "text/x-python",
   "name": "python",
   "nbconvert_exporter": "python",
   "pygments_lexer": "ipython3",
   "version": "3.7.3"
  }
 },
 "nbformat": 4,
 "nbformat_minor": 2
}
