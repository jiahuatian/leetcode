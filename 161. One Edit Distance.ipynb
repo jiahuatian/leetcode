{
 "cells": [
  {
   "cell_type": "code",
   "execution_count": 21,
   "metadata": {},
   "outputs": [],
   "source": [
    "class Solution:\n",
    "    def isOneEditDistance(self, s: str, t: str) -> bool:\n",
    "        if s == t or abs(len(s)-len(t)) >= 2:\n",
    "            return False\n",
    "        if len(s) == 1 and len(t) == 1:\n",
    "            return True\n",
    "        \n",
    "        if len(s) < len(t):\n",
    "            i = 0\n",
    "            while i < len(s):\n",
    "                if s[i] != t[i]:\n",
    "                    break\n",
    "                i += 1\n",
    "            if i == len(s):\n",
    "                return True\n",
    "            if s[i:] == t[i+1:]:\n",
    "                return True\n",
    "            return False\n",
    "        elif len(s) > len(t):\n",
    "            i = 0\n",
    "            while i < len(t):\n",
    "                if s[i] != t[i]:\n",
    "                    break\n",
    "                i += 1\n",
    "            if i == len(t):\n",
    "                return True\n",
    "            if t[i:] == s[i+1:]:\n",
    "                return True\n",
    "            return False\n",
    "        else:\n",
    "            for i in range(len(s)):\n",
    "                if s[i] != t[i]:\n",
    "                    break\n",
    "            if s[i+1:] == t[i+1:]:\n",
    "                return True\n",
    "            return False\n",
    "                        "
   ]
  },
  {
   "cell_type": "code",
   "execution_count": 23,
   "metadata": {},
   "outputs": [
    {
     "data": {
      "text/plain": [
       "True"
      ]
     },
     "execution_count": 23,
     "metadata": {},
     "output_type": "execute_result"
    }
   ],
   "source": [
    "s = \"ab\" \n",
    "t = \"acb\"\n",
    "\n",
    "s = \"a\"\n",
    "t = \"A\"\n",
    "\n",
    "obj = Solution()\n",
    "obj.isOneEditDistance(s,t)"
   ]
  },
  {
   "cell_type": "code",
   "execution_count": 27,
   "metadata": {},
   "outputs": [
    {
     "data": {
      "text/plain": [
       "[1, 2]"
      ]
     },
     "execution_count": 27,
     "metadata": {},
     "output_type": "execute_result"
    }
   ],
   "source": [
    "dic = {1:2, 2:4, 4:8}\n",
    "temp = list(dic.keys())\n",
    "l1 = [t for t in temp if t <= 3]\n",
    "l1"
   ]
  },
  {
   "cell_type": "code",
   "execution_count": 34,
   "metadata": {},
   "outputs": [
    {
     "data": {
      "text/plain": [
       "2"
      ]
     },
     "execution_count": 34,
     "metadata": {},
     "output_type": "execute_result"
    }
   ],
   "source": [
    "import bisect\n",
    "list1 = [1,2,3,4,5,6,7]\n",
    "bisect.bisect(list1,2.5)"
   ]
  },
  {
   "cell_type": "code",
   "execution_count": null,
   "metadata": {},
   "outputs": [],
   "source": []
  }
 ],
 "metadata": {
  "kernelspec": {
   "display_name": "Python 3",
   "language": "python",
   "name": "python3"
  },
  "language_info": {
   "codemirror_mode": {
    "name": "ipython",
    "version": 3
   },
   "file_extension": ".py",
   "mimetype": "text/x-python",
   "name": "python",
   "nbconvert_exporter": "python",
   "pygments_lexer": "ipython3",
   "version": "3.7.3"
  }
 },
 "nbformat": 4,
 "nbformat_minor": 2
}
