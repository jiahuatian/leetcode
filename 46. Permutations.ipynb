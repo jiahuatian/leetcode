{
 "cells": [
  {
   "cell_type": "code",
   "execution_count": 89,
   "metadata": {},
   "outputs": [],
   "source": [
    "class Solution:\n",
    "    def permute(self, nums):\n",
    "        \n",
    "        from collections import defaultdict\n",
    "        \n",
    "        dp = defaultdict(list)\n",
    "        dp[0] = [[nums[0]]]\n",
    "        \n",
    "        for i in range(1,len(nums)):\n",
    "            for j in range(len(dp[i-1])):\n",
    "                for k in range(len(dp[i-1][j])+1):\n",
    "                    listj = dp[i-1][j].copy()\n",
    "                    listj.insert(k,nums[i])\n",
    "                    dp[i].append(listj)\n",
    "        \n",
    "        \n",
    "        return dp[len(nums)-1]"
   ]
  },
  {
   "cell_type": "code",
   "execution_count": 91,
   "metadata": {},
   "outputs": [
    {
     "name": "stdout",
     "output_type": "stream",
     "text": [
      "1 0 2\n",
      "defaultdict(<class 'list'>, {0: [[1]]})\n",
      "1 0 2\n",
      "defaultdict(<class 'list'>, {0: [[1]], 1: [[2, 1]]})\n",
      "2 0 3\n",
      "defaultdict(<class 'list'>, {0: [[1]], 1: [[2, 1], [1, 2]]})\n",
      "2 0 3\n",
      "defaultdict(<class 'list'>, {0: [[1]], 1: [[2, 1], [1, 2]], 2: [[3, 2, 1]]})\n",
      "2 0 3\n",
      "defaultdict(<class 'list'>, {0: [[1]], 1: [[2, 1], [1, 2]], 2: [[3, 2, 1], [2, 3, 1]]})\n",
      "2 1 3\n",
      "defaultdict(<class 'list'>, {0: [[1]], 1: [[2, 1], [1, 2]], 2: [[3, 2, 1], [2, 3, 1], [2, 1, 3]]})\n",
      "2 1 3\n",
      "defaultdict(<class 'list'>, {0: [[1]], 1: [[2, 1], [1, 2]], 2: [[3, 2, 1], [2, 3, 1], [2, 1, 3], [3, 1, 2]]})\n",
      "2 1 3\n",
      "defaultdict(<class 'list'>, {0: [[1]], 1: [[2, 1], [1, 2]], 2: [[3, 2, 1], [2, 3, 1], [2, 1, 3], [3, 1, 2], [1, 3, 2]]})\n"
     ]
    },
    {
     "data": {
      "text/plain": [
       "[[3, 2, 1], [2, 3, 1], [2, 1, 3], [3, 1, 2], [1, 3, 2], [1, 2, 3]]"
      ]
     },
     "execution_count": 91,
     "metadata": {},
     "output_type": "execute_result"
    }
   ],
   "source": [
    "nums = [1,2,3]\n",
    "\n",
    "obj = Solution()\n",
    "obj.permute(nums)"
   ]
  },
  {
   "cell_type": "code",
   "execution_count": 92,
   "metadata": {},
   "outputs": [
    {
     "data": {
      "text/plain": [
       "[1, 2, 3, 4, 0]"
      ]
     },
     "execution_count": 92,
     "metadata": {},
     "output_type": "execute_result"
    }
   ],
   "source": [
    "aa = [1,2,3,4]\n",
    "aa.insert(4,0)\n",
    "aa"
   ]
  },
  {
   "cell_type": "code",
   "execution_count": null,
   "metadata": {},
   "outputs": [],
   "source": []
  }
 ],
 "metadata": {
  "kernelspec": {
   "display_name": "Python 3",
   "language": "python",
   "name": "python3"
  },
  "language_info": {
   "codemirror_mode": {
    "name": "ipython",
    "version": 3
   },
   "file_extension": ".py",
   "mimetype": "text/x-python",
   "name": "python",
   "nbconvert_exporter": "python",
   "pygments_lexer": "ipython3",
   "version": "3.7.3"
  }
 },
 "nbformat": 4,
 "nbformat_minor": 2
}
