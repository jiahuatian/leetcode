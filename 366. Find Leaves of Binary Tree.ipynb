{
 "cells": [
  {
   "cell_type": "code",
   "execution_count": 26,
   "metadata": {},
   "outputs": [],
   "source": [
    "# Definition for a binary tree node.\n",
    "class TreeNode:\n",
    "    def __init__(self, val=0, left=None, right=None):\n",
    "        self.val = val\n",
    "        self.left = left\n",
    "        self.right = right\n",
    "class Solution:\n",
    "    def findLeaves(self, root):\n",
    "        ans = []\n",
    "        done = set()\n",
    "        while root not in done:\n",
    "            stack = [root,]\n",
    "            print(stack[0].val)\n",
    "            r = []\n",
    "            while stack:\n",
    "                node = stack.pop()\n",
    "                if node.left is None and node.right is None:\n",
    "                    r.append(node.val)\n",
    "                    done.add(node)\n",
    "                elif node.left in done and node.right in done:\n",
    "                    r.append(node.val)\n",
    "                    done.add(node)\n",
    "                else:\n",
    "                    if node.right is not None:\n",
    "                        stack.append(node.right)\n",
    "                    if node.left is not None:\n",
    "                        stack.append(node.left)\n",
    "            ans.append(r)\n",
    "        return ans"
   ]
  },
  {
   "cell_type": "code",
   "execution_count": 27,
   "metadata": {},
   "outputs": [
    {
     "name": "stdout",
     "output_type": "stream",
     "text": [
      "1\n"
     ]
    },
    {
     "data": {
      "text/plain": [
       "[[1]]"
      ]
     },
     "execution_count": 27,
     "metadata": {},
     "output_type": "execute_result"
    }
   ],
   "source": [
    "root = TreeNode(1)\n",
    "\n",
    "obj = Solution()\n",
    "obj.findLeaves(root)"
   ]
  },
  {
   "cell_type": "code",
   "execution_count": null,
   "metadata": {},
   "outputs": [],
   "source": []
  }
 ],
 "metadata": {
  "kernelspec": {
   "display_name": "Python 3",
   "language": "python",
   "name": "python3"
  },
  "language_info": {
   "codemirror_mode": {
    "name": "ipython",
    "version": 3
   },
   "file_extension": ".py",
   "mimetype": "text/x-python",
   "name": "python",
   "nbconvert_exporter": "python",
   "pygments_lexer": "ipython3",
   "version": "3.7.3"
  }
 },
 "nbformat": 4,
 "nbformat_minor": 2
}
