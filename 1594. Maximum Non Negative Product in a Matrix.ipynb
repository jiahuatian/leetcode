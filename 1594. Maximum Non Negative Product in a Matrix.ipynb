{
 "cells": [
  {
   "cell_type": "code",
   "execution_count": 31,
   "metadata": {},
   "outputs": [],
   "source": [
    "class Solution:\n",
    "    def maxProductPath(self, grid) -> int:\n",
    "        m,n = len(grid),len(grid[0])\n",
    "        dp = [[[1,1] for _ in range(n)] for _ in range(m)]\n",
    "        for i in range(m):\n",
    "            for j in range(n):\n",
    "                if i == 0 and j == 0:\n",
    "                    dp[0][0] = [grid[0][0],grid[0][0]]\n",
    "                if i == 0 and j != 0:\n",
    "                    dp[0][j] = [dp[0][j-1][0]*grid[0][j],dp[0][j-1][0]*grid[0][j]]\n",
    "                if i != 0 and j == 0:\n",
    "                    dp[i][0] = [dp[i-1][0][0]*grid[i][0],dp[i-1][0][0]*grid[i][0]]\n",
    "                if i != 0 and j != 0:\n",
    "                    dp[i][j] = [min(dp[i-1][j][0]*grid[i][j],dp[i-1][j][1]*grid[i][j],dp[i][j-1][0]*grid[i][j],dp[i][j-1][1]*grid[i][j]),max(dp[i-1][j][0]*grid[i][j],dp[i-1][j][1]*grid[i][j],dp[i][j-1][0]*grid[i][j],dp[i][j-1][1]*grid[i][j])]\n",
    "        lastmin, lastmax = dp[m-1][n-1]\n",
    "        if lastmax < 0:\n",
    "            return -1\n",
    "        else:\n",
    "            return lastmax % (10**9+7)"
   ]
  },
  {
   "cell_type": "code",
   "execution_count": 32,
   "metadata": {},
   "outputs": [
    {
     "data": {
      "text/plain": [
       "19215865"
      ]
     },
     "execution_count": 32,
     "metadata": {},
     "output_type": "execute_result"
    }
   ],
   "source": [
    "grid = [[-1,-2,-3], \n",
    "        [-2,-3,-3],\n",
    "        [-3,-3,-2]]\n",
    "\n",
    "grid = [[2,1,3,0,-3,3,-4,4,0,-4],[-4,-3,2,2,3,-3,1,-1,1,-2],[-2,0,-4,2,4,-3,-4,-1,3,4],[-1,0,1,0,-3,3,-2,-3,1,0],[0,-1,-2,0,-3,-4,0,3,-2,-2],[-4,-2,0,-1,0,-3,0,4,0,-3],[-3,-4,2,1,0,-4,2,-4,-1,-3],[3,-2,0,-4,1,0,1,-3,-1,-1],[3,-4,0,2,0,-2,2,-4,-2,4],[0,4,0,-3,-4,3,3,-1,-2,-2]]\n",
    "\n",
    "obj = Solution()\n",
    "obj.maxProductPath(grid)"
   ]
  },
  {
   "cell_type": "code",
   "execution_count": null,
   "metadata": {},
   "outputs": [],
   "source": []
  }
 ],
 "metadata": {
  "kernelspec": {
   "display_name": "Python 3",
   "language": "python",
   "name": "python3"
  },
  "language_info": {
   "codemirror_mode": {
    "name": "ipython",
    "version": 3
   },
   "file_extension": ".py",
   "mimetype": "text/x-python",
   "name": "python",
   "nbconvert_exporter": "python",
   "pygments_lexer": "ipython3",
   "version": "3.7.3"
  }
 },
 "nbformat": 4,
 "nbformat_minor": 2
}
