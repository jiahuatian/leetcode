{
 "cells": [
  {
   "cell_type": "code",
   "execution_count": 21,
   "metadata": {},
   "outputs": [],
   "source": [
    "class Solution:\n",
    "    def matrixBlockSum(self, mat, k: int):\n",
    "        m, n = len(mat), len(mat[0])\n",
    "        from collections import defaultdict\n",
    "        dp = defaultdict(lambda: defaultdict(int))\n",
    "        dp[0][0] = mat[0][0]\n",
    "        for j in range(1,n+k):\n",
    "            if j < n:\n",
    "                dp[0][j] = dp[0][j-1]+mat[0][j]\n",
    "            else:\n",
    "                dp[0][j] = dp[0][j-1]\n",
    "        for i in range(1,m+k):\n",
    "            if i < m:\n",
    "                dp[i][0] = dp[i-1][0]+mat[i][0]\n",
    "            else:\n",
    "                dp[i][0] = dp[i-1][0]\n",
    "        for i in range(1,m+k):\n",
    "            for j in range(1,n+k):\n",
    "                if i < m and j < n:\n",
    "                    dp[i][j] = dp[i][j-1]+dp[i-1][j]-dp[i-1][j-1]+mat[i][j]\n",
    "                else:\n",
    "                    dp[i][j] = dp[i][j-1]+dp[i-1][j]-dp[i-1][j-1]\n",
    "                \n",
    "        return dp"
   ]
  },
  {
   "cell_type": "code",
   "execution_count": 22,
   "metadata": {},
   "outputs": [
    {
     "data": {
      "text/plain": [
       "defaultdict(<function __main__.Solution.matrixBlockSum.<locals>.<lambda>>,\n",
       "            {0: defaultdict(int, {0: 1, 1: 3, 2: 6, 3: 6}),\n",
       "             1: defaultdict(int, {0: 5, 1: 12, 2: 21, 3: 21}),\n",
       "             2: defaultdict(int, {0: 12, 1: 27, 2: 45, 3: 45}),\n",
       "             3: defaultdict(int, {0: 12, 1: 27, 2: 45, 3: 45})})"
      ]
     },
     "execution_count": 22,
     "metadata": {},
     "output_type": "execute_result"
    }
   ],
   "source": [
    "mat = [[1,2,3],[4,5,6],[7,8,9]]\n",
    "k = 1\n",
    "\n",
    "obj = Solution()\n",
    "obj.matrixBlockSum(mat,k)"
   ]
  },
  {
   "cell_type": "code",
   "execution_count": null,
   "metadata": {},
   "outputs": [],
   "source": []
  }
 ],
 "metadata": {
  "kernelspec": {
   "display_name": "Python 3",
   "language": "python",
   "name": "python3"
  },
  "language_info": {
   "codemirror_mode": {
    "name": "ipython",
    "version": 3
   },
   "file_extension": ".py",
   "mimetype": "text/x-python",
   "name": "python",
   "nbconvert_exporter": "python",
   "pygments_lexer": "ipython3",
   "version": "3.7.3"
  }
 },
 "nbformat": 4,
 "nbformat_minor": 2
}
