{
 "cells": [
  {
   "cell_type": "code",
   "execution_count": 68,
   "metadata": {},
   "outputs": [],
   "source": [
    "from collections import deque\n",
    "\n",
    "class Solution:\n",
    "    def shortestPathAllKeys(self, grid) -> int:\n",
    "        m,n = len(grid),len(grid[0])\n",
    "        target = []\n",
    "        for i in range(m):\n",
    "            for j in range(n):\n",
    "                if grid[i][j] == '@':\n",
    "                    start = (i,j)\n",
    "                elif grid[i][j].islower():\n",
    "                    target.append(grid[i][j])\n",
    "        seen = set([start])\n",
    "        q = deque([(start,[],0)])\n",
    "        while q:\n",
    "            (x,y),bag,step = q.popleft()\n",
    "            if sorted(bag) == sorted(target):\n",
    "                return step\n",
    "            for xi,yi in [(1,0),(-1,0),(0,1),(0,-1)]:\n",
    "                if 0<=x+xi<m and 0<=y+yi<n:\n",
    "                    if (x+xi,y+yi) not in seen and grid[x+xi][y+yi] == '.':\n",
    "                        seen.add((x+xi,y+yi))\n",
    "                        q.append(((x+xi,y+yi),bag,step+1))\n",
    "                    elif grid[x+xi][y+yi].islower():\n",
    "                        c = grid[x+xi][y+yi]\n",
    "                        q.append(((x+xi,y+yi),bag+[c],step+1))\n",
    "                        print(bag+[c])\n",
    "                        grid[x+xi] = grid[x+xi][:y+yi]+'.'+grid[x+xi][y+yi+1:]\n",
    "                    elif grid[x+xi][y+yi].isupper():\n",
    "                        if grid[x+xi][y+yi].lower() in bag:\n",
    "                            seen.add((x+xi,y+yi))\n",
    "                            q.append(((x+xi,y+yi),bag,step+1))\n",
    "        print(grid)\n",
    "        return -1"
   ]
  },
  {
   "cell_type": "code",
   "execution_count": 69,
   "metadata": {},
   "outputs": [
    {
     "name": "stdout",
     "output_type": "stream",
     "text": [
      "['a']\n",
      "['b']\n",
      "['@...A', '..B#.', '.....']\n"
     ]
    },
    {
     "data": {
      "text/plain": [
       "-1"
      ]
     },
     "execution_count": 69,
     "metadata": {},
     "output_type": "execute_result"
    }
   ],
   "source": [
    "grid = [\"@..aA\",\"..B#.\",\"....b\"]\n",
    "\n",
    "obj = Solution()\n",
    "obj.shortestPathAllKeys(grid)"
   ]
  },
  {
   "cell_type": "code",
   "execution_count": null,
   "metadata": {},
   "outputs": [],
   "source": []
  }
 ],
 "metadata": {
  "kernelspec": {
   "display_name": "Python 3",
   "language": "python",
   "name": "python3"
  },
  "language_info": {
   "codemirror_mode": {
    "name": "ipython",
    "version": 3
   },
   "file_extension": ".py",
   "mimetype": "text/x-python",
   "name": "python",
   "nbconvert_exporter": "python",
   "pygments_lexer": "ipython3",
   "version": "3.7.9"
  }
 },
 "nbformat": 4,
 "nbformat_minor": 4
}
