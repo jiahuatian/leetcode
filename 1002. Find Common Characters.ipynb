{
 "cells": [
  {
   "cell_type": "code",
   "execution_count": 23,
   "metadata": {},
   "outputs": [],
   "source": [
    "class Solution:\n",
    "    def commonChars(self, words):\n",
    "        from collections import defaultdict\n",
    "        prevdict = defaultdict(int)\n",
    "        \n",
    "        for l in words[0]:\n",
    "            prevdict[l] += 1\n",
    "            \n",
    "        for i in range(1,len(words)):\n",
    "            curdict = defaultdict(int)\n",
    "            for l in range(len(words[i])):\n",
    "                curdict[words[i][l]] += 1\n",
    "            overlap = set(curdict.items())&set(prevdict.items())\n",
    "            prevdict = curdict\n",
    "        \n",
    "        res = []\n",
    "        for item in overlap:\n",
    "            for i in range(item[1]):\n",
    "                res.append(item[0])\n",
    "            \n",
    "        return res"
   ]
  },
  {
   "cell_type": "code",
   "execution_count": 24,
   "metadata": {},
   "outputs": [
    {
     "data": {
      "text/plain": [
       "['c', 'k']"
      ]
     },
     "execution_count": 24,
     "metadata": {},
     "output_type": "execute_result"
    }
   ],
   "source": [
    "words = [\"bella\",\"label\",\"roller\"]\n",
    "words = [\"cool\",\"lock\",\"cook\"]\n",
    "\n",
    "obj = Solution()\n",
    "obj.commonChars(words)"
   ]
  },
  {
   "cell_type": "code",
   "execution_count": 35,
   "metadata": {},
   "outputs": [],
   "source": [
    "class Solution:\n",
    "    def commonChars(self, words):\n",
    "        overlap = list(words[0])\n",
    "        \n",
    "        for i in range(1,len(words)):\n",
    "            cur = list(words[i])\n",
    "            this = cur.copy()\n",
    "            temp = []\n",
    "            for s in overlap:\n",
    "                if s in this:\n",
    "                    sr = this.pop(this.index(s))\n",
    "                    temp.append(sr)\n",
    "            overlap = temp\n",
    "        \n",
    "        return overlap"
   ]
  },
  {
   "cell_type": "code",
   "execution_count": 36,
   "metadata": {},
   "outputs": [
    {
     "data": {
      "text/plain": [
       "['c', 'o']"
      ]
     },
     "execution_count": 36,
     "metadata": {},
     "output_type": "execute_result"
    }
   ],
   "source": [
    "words = [\"bella\",\"label\",\"roller\"]\n",
    "words = [\"cool\",\"lock\",\"cook\"]\n",
    "\n",
    "obj = Solution()\n",
    "obj.commonChars(words)"
   ]
  },
  {
   "cell_type": "code",
   "execution_count": null,
   "metadata": {},
   "outputs": [],
   "source": []
  }
 ],
 "metadata": {
  "kernelspec": {
   "display_name": "Python 3",
   "language": "python",
   "name": "python3"
  },
  "language_info": {
   "codemirror_mode": {
    "name": "ipython",
    "version": 3
   },
   "file_extension": ".py",
   "mimetype": "text/x-python",
   "name": "python",
   "nbconvert_exporter": "python",
   "pygments_lexer": "ipython3",
   "version": "3.7.3"
  }
 },
 "nbformat": 4,
 "nbformat_minor": 2
}
