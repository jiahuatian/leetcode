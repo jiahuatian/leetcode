{
 "cells": [
  {
   "cell_type": "code",
   "execution_count": 1,
   "metadata": {},
   "outputs": [
    {
     "data": {
      "text/plain": [
       "['xb', 'xbc', 'cxbc', 'pcxbc', 'pcxbcf']"
      ]
     },
     "execution_count": 1,
     "metadata": {},
     "output_type": "execute_result"
    }
   ],
   "source": [
    "words = [\"xbc\",\"pcxbcf\",\"xb\",\"cxbc\",\"pcxbc\"]\n",
    "words.sort(key=len)\n",
    "words"
   ]
  },
  {
   "cell_type": "code",
   "execution_count": 26,
   "metadata": {},
   "outputs": [],
   "source": [
    "from collections import deque\n",
    "\n",
    "class Solution:\n",
    "    def longestStrChain(self, words) -> int:\n",
    "        words.sort(key=len,reverse=True)\n",
    "        from collections import defaultdict\n",
    "        wdict = defaultdict(list)\n",
    "        for w in words:\n",
    "            wdict[len(w)].append(w)\n",
    "        seen = set()\n",
    "        tot_len = 1\n",
    "        while words:\n",
    "            c = words.pop()\n",
    "            if c not in seen:\n",
    "                q = deque()\n",
    "                q.append([c,1])\n",
    "                while q:\n",
    "                    thisc,cur_len = q.popleft()\n",
    "                    seen.add(thisc)\n",
    "                    tot_len = max(tot_len,cur_len)\n",
    "                    for s in wdict[len(thisc)+1]:\n",
    "                        if self.diff_One(s,thisc):\n",
    "                            q.append([s,cur_len+1])\n",
    "        return tot_len\n",
    "    \n",
    "    def diff_One(self,sl,ss):\n",
    "        for i in range(len(sl)):\n",
    "            if sl[:i]+sl[i+1:] == ss:\n",
    "                return True\n",
    "        return False"
   ]
  },
  {
   "cell_type": "code",
   "execution_count": 27,
   "metadata": {},
   "outputs": [
    {
     "data": {
      "text/plain": [
       "4"
      ]
     },
     "execution_count": 27,
     "metadata": {},
     "output_type": "execute_result"
    }
   ],
   "source": [
    "words = [\"a\",\"b\",\"ba\",\"bca\",\"bda\",\"bdca\"]\n",
    "\n",
    "obj = Solution()\n",
    "obj.longestStrChain(words)"
   ]
  },
  {
   "cell_type": "code",
   "execution_count": null,
   "metadata": {},
   "outputs": [],
   "source": []
  }
 ],
 "metadata": {
  "kernelspec": {
   "display_name": "Python 3",
   "language": "python",
   "name": "python3"
  },
  "language_info": {
   "codemirror_mode": {
    "name": "ipython",
    "version": 3
   },
   "file_extension": ".py",
   "mimetype": "text/x-python",
   "name": "python",
   "nbconvert_exporter": "python",
   "pygments_lexer": "ipython3",
   "version": "3.7.3"
  }
 },
 "nbformat": 4,
 "nbformat_minor": 2
}
