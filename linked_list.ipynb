{
 "cells": [
  {
   "cell_type": "code",
   "execution_count": 1,
   "metadata": {},
   "outputs": [],
   "source": [
    "# Definition for singly-linked list.\n",
    "\n",
    "class Node:\n",
    "    def __init__(self, val):\n",
    "        self.val = val\n",
    "        self.next = None\n",
    "\n",
    "class LinkedList:\n",
    "    def __init__(self):\n",
    "        self.head = None\n",
    "    \n",
    "    def listprint(self):\n",
    "        printval = self.head\n",
    "        while printval is not None:\n",
    "            print(printval.val)\n",
    "            printval = printval.next\n",
    "            \n",
    "    def insert_begining(self, data):\n",
    "        newnode = Node(data)\n",
    "        newnode.next = self.head\n",
    "        self.head = newnode\n",
    "        \n",
    "        return self\n",
    "    \n",
    "    def lenLS(self):\n",
    "        currentnode = self.head\n",
    "        length = 0\n",
    "        while currentnode is not None:\n",
    "            currentnode = currentnode.next\n",
    "            length += 1\n",
    "        \n",
    "        return length\n",
    "    \n",
    "    def insert_at(self, pos, data):\n",
    "        newnode = Node(data)\n",
    "        if pos > self.lenLS() - 1:\n",
    "            self.appendLS(newnode)\n",
    "        else:\n",
    "            currentnode = self.head\n",
    "            for i in range(0, pos - 1):\n",
    "                currentnode = currentnode.next\n",
    "                \n",
    "            newnode.next = currentnode.next\n",
    "            currentnode.next = newnode\n",
    "                \n",
    "        return self\n",
    "    \n",
    "    def appendLS(self, node):  \n",
    "        if self.head == None:\n",
    "            self.head = node\n",
    "            return self\n",
    "        else:\n",
    "            currentnode = self.head\n",
    "            while currentnode.next is not None:\n",
    "                currentnode = currentnode.next\n",
    "            \n",
    "            currentnode.next = node\n",
    "        \n",
    "        return self\n",
    "    \n",
    "    def list_to_LS(self, mylist = []):\n",
    "        if mylist == []:\n",
    "            return self\n",
    "        else:\n",
    "            for item in mylist:\n",
    "                self.appendLS(Node(item))\n",
    "            \n",
    "            return self"
   ]
  },
  {
   "cell_type": "code",
   "execution_count": 2,
   "metadata": {},
   "outputs": [],
   "source": [
    "vallist = ['Mon', 'Tue', 'Wed']"
   ]
  },
  {
   "cell_type": "code",
   "execution_count": 3,
   "metadata": {},
   "outputs": [
    {
     "name": "stdout",
     "output_type": "stream",
     "text": [
      "Mon\n",
      "Tue\n",
      "Wed\n"
     ]
    }
   ],
   "source": [
    "list1 = LinkedList().list_to_LS(vallist)\n",
    "list1.listprint()"
   ]
  },
  {
   "cell_type": "code",
   "execution_count": 4,
   "metadata": {},
   "outputs": [
    {
     "name": "stdout",
     "output_type": "stream",
     "text": [
      "Sun\n",
      "Mon\n",
      "Tue\n",
      "Wed\n"
     ]
    }
   ],
   "source": [
    "list2 = list1.insert_begining('Sun')\n",
    "list2.listprint()"
   ]
  },
  {
   "cell_type": "code",
   "execution_count": 5,
   "metadata": {},
   "outputs": [
    {
     "name": "stdout",
     "output_type": "stream",
     "text": [
      "Sun\n",
      "Mon\n",
      "Tue\n",
      "Wed\n",
      "Fri\n"
     ]
    }
   ],
   "source": [
    "list3 = list2.appendLS(Node('Fri'))\n",
    "list3.listprint()"
   ]
  },
  {
   "cell_type": "code",
   "execution_count": 6,
   "metadata": {},
   "outputs": [
    {
     "data": {
      "text/plain": [
       "5"
      ]
     },
     "execution_count": 6,
     "metadata": {},
     "output_type": "execute_result"
    }
   ],
   "source": [
    "list3.lenLS()"
   ]
  },
  {
   "cell_type": "code",
   "execution_count": 7,
   "metadata": {},
   "outputs": [
    {
     "name": "stdout",
     "output_type": "stream",
     "text": [
      "Sun\n",
      "Mon\n",
      "Tue\n",
      "Wed\n",
      "Thu\n",
      "Fri\n"
     ]
    }
   ],
   "source": [
    "list4 = list3.insert_at(4,'Thu')\n",
    "list4.listprint()"
   ]
  },
  {
   "cell_type": "code",
   "execution_count": 1,
   "metadata": {},
   "outputs": [
    {
     "name": "stdout",
     "output_type": "stream",
     "text": [
      "[1, 2, 3, 4, 5, 1]\n"
     ]
    }
   ],
   "source": [
    "list_1 = [1,2,3,4,5]\n",
    "list_2 = list_1.append(1)\n",
    "print(list_1)"
   ]
  },
  {
   "cell_type": "code",
   "execution_count": 1,
   "metadata": {},
   "outputs": [
    {
     "name": "stdout",
     "output_type": "stream",
     "text": [
      "1 -> 2 -> 3 -> 4 -> 5 -> 6 -> 7 -> 8 -> 9 -> 10 -> 4\n"
     ]
    }
   ],
   "source": [
    "# Definition for singly-linked list.\n",
    "class Node(object):\n",
    "    def __init__(self, x):\n",
    "        self.val = x\n",
    "        self.next = None\n",
    "\n",
    "class LinkedList(object):\n",
    "    def __init__(self):\n",
    "        self.head = None\n",
    "        \n",
    "    def appendLS(self, data):\n",
    "        if self.head is None:\n",
    "            self.head = Node(data)\n",
    "        else:\n",
    "            currnode = self.head\n",
    "            while currnode.next is not None:\n",
    "                currnode = currnode.next\n",
    "            currnode.next = Node(data)\n",
    "        return self\n",
    "    \n",
    "    def lenLS(self):\n",
    "        i = 0\n",
    "        currnode = self.head\n",
    "        while currnode is not None:\n",
    "            currnode = currnode.next\n",
    "            i += 1\n",
    "        return i\n",
    "    \n",
    "    def list_to_LS(self, mylist):\n",
    "        for i in range(len(mylist)):\n",
    "            self.appendLS(mylist[i])\n",
    "        return self\n",
    "    \n",
    "    def printLS(self):\n",
    "        currnode = self.head\n",
    "        if currnode is None:\n",
    "            return 'This is an empty linked list.'\n",
    "        \n",
    "        while currnode.next is not None:\n",
    "            print(currnode.val, '-> ', end = '')\n",
    "            currnode = currnode.next\n",
    "        print(currnode.val)\n",
    "        \n",
    "    \n",
    "myList = [1,2,3,4,5,6,7,8,9,10,4]\n",
    "list1 = LinkedList().list_to_LS(myList)\n",
    "list1.printLS()"
   ]
  },
  {
   "cell_type": "code",
   "execution_count": 26,
   "metadata": {},
   "outputs": [],
   "source": [
    "class Solution:\n",
    "    def hasCycle(self, head):\n",
    "        \"\"\"\n",
    "        :type head: ListNode\n",
    "        :rtype: bool\n",
    "        \"\"\"\n",
    "        headnode = head.head\n",
    "        seen = []\n",
    "        \n",
    "        i = 0\n",
    "        while headnode is not None:\n",
    "            if headnode not in seen:\n",
    "                seen.append(headnode)\n",
    "                #print(seen)\n",
    "                i += 1\n",
    "                headnode = headnode.next\n",
    "            else:\n",
    "                #print('There is a cycle between the %dth node and the %dth node.' % (i, seen.index(headnode)))\n",
    "                #print(seen, headnode)\n",
    "                #print(i)\n",
    "                return True\n",
    "        #print('There is no cycle.')\n",
    "        return False"
   ]
  },
  {
   "cell_type": "code",
   "execution_count": 27,
   "metadata": {},
   "outputs": [
    {
     "name": "stdout",
     "output_type": "stream",
     "text": [
      "-21 -> 10 -> 17 -> 8 -> 4 -> 26 -> 5 -> 35 -> 33 -> -7 -> -16 -> 27 -> -12 -> 6 -> 29 -> -12 -> 5 -> 9 -> 20 -> 14 -> 14 -> 2 -> 13 -> -24 -> 21 -> 23 -> -21 -> 5\n"
     ]
    }
   ],
   "source": [
    "myList = [-21,10,17,8,4,26,5,35,33,-7,-16,27,-12,6,29,-12,5,9,20,14,14,2,13,-24,21,23,-21,5]\n",
    "list1 = LinkedList().list_to_LS(myList)\n",
    "list1.printLS()"
   ]
  },
  {
   "cell_type": "code",
   "execution_count": 28,
   "metadata": {},
   "outputs": [
    {
     "data": {
      "text/plain": [
       "False"
      ]
     },
     "execution_count": 28,
     "metadata": {},
     "output_type": "execute_result"
    }
   ],
   "source": [
    "obj = Solution()\n",
    "obj.hasCycle(list1)"
   ]
  },
  {
   "cell_type": "code",
   "execution_count": 1,
   "metadata": {},
   "outputs": [],
   "source": [
    "class ListNode:\n",
    "    def __init__(self, x):\n",
    "        self.val = x\n",
    "        self.next = None"
   ]
  },
  {
   "cell_type": "code",
   "execution_count": 15,
   "metadata": {},
   "outputs": [
    {
     "data": {
      "text/plain": [
       "2"
      ]
     },
     "execution_count": 15,
     "metadata": {},
     "output_type": "execute_result"
    }
   ],
   "source": [
    "n1 = ListNode(1)\n",
    "n1.next = ListNode(2)\n",
    "n1.next.next = ListNode(3)\n",
    "n1.next.next.next = ListNode(4)\n",
    "n1.next.next.next.next = ListNode(5)\n",
    "\n",
    "n1 = n1.next\n",
    "n1.val"
   ]
  },
  {
   "cell_type": "code",
   "execution_count": 25,
   "metadata": {},
   "outputs": [],
   "source": [
    "def deleteNode(node):\n",
    "        \"\"\"\n",
    "        :type node: ListNode\n",
    "        :rtype: void Do not return anything, modify node in-place instead.\n",
    "        \"\"\"\n",
    "        curr = node\n",
    "        temp = node.next\n",
    "        curr = temp\n",
    "        return curr.val"
   ]
  },
  {
   "cell_type": "code",
   "execution_count": 27,
   "metadata": {},
   "outputs": [
    {
     "name": "stdout",
     "output_type": "stream",
     "text": [
      "2\n"
     ]
    },
    {
     "data": {
      "text/plain": [
       "3"
      ]
     },
     "execution_count": 27,
     "metadata": {},
     "output_type": "execute_result"
    }
   ],
   "source": [
    "head = n1\n",
    "\n",
    "while head.val != 2:\n",
    "    head = head.next\n",
    "print(head.val)\n",
    "    \n",
    "deleteNode(head)"
   ]
  },
  {
   "cell_type": "code",
   "execution_count": 24,
   "metadata": {},
   "outputs": [
    {
     "data": {
      "text/plain": [
       "2"
      ]
     },
     "execution_count": 24,
     "metadata": {},
     "output_type": "execute_result"
    }
   ],
   "source": [
    "head.val"
   ]
  },
  {
   "cell_type": "code",
   "execution_count": 17,
   "metadata": {},
   "outputs": [
    {
     "name": "stdout",
     "output_type": "stream",
     "text": [
      "2\n",
      "3\n",
      "3\n",
      "4\n",
      "3\n"
     ]
    }
   ],
   "source": [
    "curr = n1\n",
    "print(curr.val)\n",
    "temp = n1.next\n",
    "print(temp.val)\n",
    "curr = temp\n",
    "print(curr.val)\n",
    "print(curr.next.val)\n",
    "print(n1.next.val)"
   ]
  },
  {
   "cell_type": "code",
   "execution_count": null,
   "metadata": {},
   "outputs": [],
   "source": []
  }
 ],
 "metadata": {
  "kernelspec": {
   "display_name": "Python 3",
   "language": "python",
   "name": "python3"
  },
  "language_info": {
   "codemirror_mode": {
    "name": "ipython",
    "version": 3
   },
   "file_extension": ".py",
   "mimetype": "text/x-python",
   "name": "python",
   "nbconvert_exporter": "python",
   "pygments_lexer": "ipython3",
   "version": "3.7.3"
  }
 },
 "nbformat": 4,
 "nbformat_minor": 2
}
